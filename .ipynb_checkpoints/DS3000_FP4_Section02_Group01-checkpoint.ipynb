{
 "cells": [
  {
   "cell_type": "markdown",
   "metadata": {},
   "source": [
    "<center> <h2> DS 3000 - Fall 2020</h2> </center>\n",
    "<center> <h3> DS Report </h3> </center>\n"
   ]
  },
  {
   "cell_type": "markdown",
   "metadata": {},
   "source": [
    "<center> <h3> Measuring the success of MA public school districts</h3> </center>\n",
    "<center><h4>Ysabelle Kempe, Reshan Fernando, Abby Carr</h4></center>\n"
   ]
  },
  {
   "cell_type": "markdown",
   "metadata": {},
   "source": [
    "  "
   ]
  },
  {
   "cell_type": "markdown",
   "metadata": {},
   "source": [
    "<hr style=\"height:2px; border:none; color:black; background-color:black;\">"
   ]
  },
  {
   "cell_type": "markdown",
   "metadata": {},
   "source": [
    "#### Executive Summary:\n",
    "\n",
    "Add your summary here (100-150 words)\n",
    "\n",
    "Provide a brief summary of your project. After reading this executive summary, your readers should have a rough understanding of what you did in this project. You can think of this summary in terms of the four sections of the report and write 1-2 sentences describing each section.\n",
    "\n",
    "This project explores how qualities of Massachusetts' school districts impact students' access to higher education. Using data from the state's Department of Elementary and Secondary Education, we will examine district-level data concerning teacher salaries, how students are disciplined, demographics, AP testing, and financial expenditures. Along with visualizing and analyzing the correlations between variables, we tested and tuned multiple machine learning regression models on the data. This led to the following conclusions, which will be explained in further detail throughout this report:\n",
    "INSERT CONCLUSIONS"
   ]
  },
  {
   "cell_type": "markdown",
   "metadata": {},
   "source": [
    "<hr style=\"height:2px; border:none; color:black; background-color:black;\">"
   ]
  },
  {
   "cell_type": "markdown",
   "metadata": {},
   "source": [
    "## Outline\n",
    "1. <a href='#1'>INTRODUCTION</a>\n",
    "2. <a href='#2'>METHOD</a>\n",
    "3. <a href='#3'>RESULTS</a>\n",
    "4. <a href='#4'>DISCUSSION</a>"
   ]
  },
  {
   "cell_type": "markdown",
   "metadata": {},
   "source": [
    "<a id=\"1\"></a>\n",
    "<hr style=\"height:2px; border:none; color:black; background-color:black;\">"
   ]
  },
  {
   "cell_type": "markdown",
   "metadata": {},
   "source": [
    "## 1. INTRODUCTION"
   ]
  },
  {
   "cell_type": "markdown",
   "metadata": {},
   "source": [
    "In this section, orient your readers to your project. You've already written some of these in previous deliverables. Based on your final analysis, revise your problem statement and write a concise introduction section. This section should touch upon the following points, but should be written in full paragraphs. Your writing should incorporate all of these points (and more if you like) in a coherent way. Remember that you are trying to convince your readers that this is an important problem to tackle. \n",
    "\n",
    "Problem Statement\n",
    "* Describe the problem you would like to tackle. \n",
    "* What is the topic of your project? \n",
    "* What do you want to learn about it?\n",
    "\n",
    "Significance of the Problem\n",
    "* Why is it important to tackle this problem in your project?\n",
    "* In what ways could the insights from this project be useful?\n",
    "* **(optional)** Has there been previous work on your topic in terms of applying ML techniques to analyze similar datasets? Do some research into your topic. What algorithms were used? What was the performance of those algorithms? Cite your sources appropriately. You can use the numbered reference format or APA (if you are more comfortable with it).\n",
    "\n",
    "Questions/Hypothesis\n",
    "* End this section with a list of questions and hypotheses\n",
    "* You should tie these questions/hypotheses to the problem statement and its significance\n",
    "    * e.g. Given the aforementioned problem and its importance, we set out to tackle the following questions:\n",
    "    \n",
    "**Requirement:**\n",
    "* You should have at least one question tapping into the comparison of various machine learning algorithms (at least three) in predicting/classifying your target variable from your features variables.\n",
    "* You should have at least one hypothesis regarding the relationship between two variables, which may be different from your ML problem.\n",
    "\n",
    "\n",
    "\n",
    "While this section provides bullet points as prompts, your Introduction should consist of coherent paragraphs. As noted in the rubric, you are required delete all the prompts from this template, except for headings. Failing to do so will result in substantial point deductions.\n",
    "\n",
    "\n",
    "**Problem Statement:**\n",
    "\n",
    "Our project explores access to higher education for students in Massachusetts public schools. Specifically, we want to better understand what qualities make a school district more likely to have higher rates of students who go on to attend college or university. \n",
    "\n",
    "Our first objective is to better understand the correlation between school district characteristics and access to higher education within that district. Another objective is to run several regression models on the data and determine how altering school district qualities impacts students' access to higher ed.\n",
    "\n",
    "**Significance of the Problem**\n",
    "\n",
    "Access to higher education is foundational in creating a more equitable society, something our group is quite passionate about. Having a college degree means you have access to a larger number of high-paying jobs and potentially will have a higher quality of life. At the same time, not every public school district is created equal. For example, some may have more funding, better teachers or different disciplinary policies, which could affect students’ likelihood to go to college. \n",
    "\n",
    "The insights from this project can be useful for decision makers who are trying to better equip school districts to send students on to higher education. If these decision makers understand the characteristics that most impact access to higher education, they can form regulations and distribute resources in a way most likely to create more equitable public education systems across the state.\n",
    "\n",
    "**Research Questions**\n",
    "\n",
    "Given the aforementioned problem and its importance, we set out to tackle the following questions:\n",
    "   \n",
    "**Hypotheses:**\n",
    "    \n",
    "   * **Hypothesis about features:**\n",
    "       * Null: \n",
    "       * Alternative: \n",
    "   * **Hypothesis about machine learning algorithms**:\n",
    "       * Null: \n",
    "       * Alternative: "
   ]
  },
  {
   "cell_type": "markdown",
   "metadata": {},
   "source": [
    "<a id=\"2\"></a>\n",
    "<hr style=\"height:2px; border:none; color:black; background-color:black;\">"
   ]
  },
  {
   "cell_type": "markdown",
   "metadata": {},
   "source": [
    "## 2. METHOD"
   ]
  },
  {
   "cell_type": "markdown",
   "metadata": {},
   "source": [
    "### 2.1. Data Acquisition\n",
    "\n",
    "* Describe where you obtained your data. Provide a link to the original source. \n",
    "* If you scraped your data, include your code as a **separate** script file.\n",
    "* Your data should be stored in an online repository (e.g., GitHub) and your code should retrieve your data from that online resource. You can read csv files from the Web in the same way that you read files from local drive.\n",
    "* Describe the dataset (i.e., what it is about) and the number of variables/rows included.\n"
   ]
  },
  {
   "cell_type": "markdown",
   "metadata": {},
   "source": [
    "   We obtained our data from the website for the Massachusetts Department of Education. Mass DoE creates state reports for multiple different aspects of school district data, such as student enrollment and educator data. The link to the original source is here: \n",
    "    https://profiles.doe.mass.edu/state_report/\n",
    "    \n",
    "   We chose to use data over five school years (Fall 2013 - Spring 2018) in order to give our machine learning model as much data as possible. We chose to use eight different state reports for each year. Each school district has a unique district code, which is used as the identifier in each report, allowing us to merge these excel files together on these codes. \n",
    "   \n",
    "   Each state report contained many different columns, so we picked columns that we felt would be the most relevant. We also did have to drop some columns due to the availability of what was recorded each year.\n",
    "   \n",
    "   The resulting dataset has 1,174 rows and eight columns.\n",
    "\n",
    "   #### Reports Chosen and Columns Used\n",
    "   - <a href = https://profiles.doe.mass.edu/statereport/gradsattendingcollege.aspx>Grads Attending Higher Ed</a>: \n",
    "       - Attending College/University (%) (this is the **outcome**): The percentage of high school graduates attending an institution of higher education. The types include private two-year, private four-year, public two-year, and public four year institutions.\n",
    "   - <a href= https://profiles.doe.mass.edu/statereport/enrollmentbyracegender.aspx>Enrollment by Race/Gender</a>: \n",
    "       - Races/Ethnicity (%) (including African-American, Asian, Hispanic, White, Native American, Native American/Pacific Islander, Multi-Race/Non-Hispanic) \n",
    "       - Gender (%) (only Males and Females) *DOE only added non-binary 2018-19 :(((* \n",
    "   - <a href = https://profiles.doe.mass.edu/statereport/selectedpopulations.aspx>Selected Populations</a>: \n",
    "       - First Language Not English (%): The percent of students in the district this year whose first language is a language other than English \n",
    "       - English Language Learner (%): The percent of students in the district this year who are English learners, defined as \"a student whose first language is a language other than English who is unable to perform ordinary classroom work in English.”\n",
    "       - Students With Disabilities (%): The percent of students in the district this year who have an Individualized Education Program (IEP)\n",
    "       - High Needs (%): The percent of students in the district this year who are designated as either low income (prior to School Year 2015), economically disadvantaged (starting in School Year 2015), or ELL, or former ELL, or a student with disabilities\n",
    "   - <a href= https://profiles.doe.mass.edu/statereport/teachersalaries.aspx>Teacher Salaries</a>: \n",
    "       - Salary Totals (\\$): The total of teacher salaries for the district this year\n",
    "       - Average Salary (\\$): The average of teacher salaries for the district this year determined as the Salary Totals divided by the number of full-time equivalent teachers\n",
    "       - Full Time Equivalent (FTE) count (#): The count of full-time equivalent teachers for the district this year\n",
    "   - <a href= https://profiles.doe.mass.edu/statereport/ppx.aspx>Per Pupil Expenditures</a>:  \n",
    "       - In-District Expenditures (\\$): All of the district’s operating expenditures for in-district programs this year\n",
    "       - In-District Expenditures per Pupil (\\$): The total in-district expenditures divided by in-district FTE average membership for this year \n",
    "       - Total Expenditures (\\$): All of the district’s operating expenditures for in-district programs and out-of-district placements\n",
    "       - Total Expenditures per Pupil (\\$): The total expenditures divided by total FTE average membership for the district in this year\n",
    "       - Total In-district FTEs (#): The average count of enrollment across this school year, for pupils enrolled at local schools in the district \n",
    "       - Total Pupil FTEs (#): The average count of enrollment across this school year for students enrolled at local schools in the district and those publicly-funded students enrolled at other districts, including charter schools, special education collaboratives, and private special education schools\n",
    "   - <a href= https://profiles.doe.mass.edu/statereport/ssdr.aspx>Student Discipline Data</a>: \n",
    "       - Students (#): The count of students in the district this year\n",
    "       - Students Diciplined (#): The count of students disciplined in the district this year\n",
    "       - In-School Suspension (%): The percent of students disciplined with an in-school suspension \n",
    "       - Out-of-School Suspension (%): The percent of students disciplined with an out-of-school suspension\n",
    "       - Expulsion (%): The percent of students disciplined with an expulsion\n",
    "       - Removed to Alternate Setting (%): The percent of students disciplined with a removal to an alternate setting\n",
    "   - <a href=https://profiles.doe.mass.edu/statereport/ap_part.aspx>Advanced Placement Participation</a>: \n",
    "       - Tests Takers (#): Number of students who took at least one AP test\n",
    "   - <a href=https://profiles.doe.mass.edu/statereport/ap.aspx>Advanced Placement Performance</a>: \n",
    "       - %Score 3-5 (%): Percent of students with passing AP scores"
   ]
  },
  {
   "cell_type": "code",
   "execution_count": 1,
   "metadata": {},
   "outputs": [],
   "source": [
    "import pandas as pd\n",
    "\n",
    "# read in the CSV file from github\n",
    "df = pd.read_csv(\"https://raw.githubusercontent.com/abbycarr/MA-education-machine-learning/main/Database%20Compliling%20Files/education_dataset_new.csv\")"
   ]
  },
  {
   "cell_type": "code",
   "execution_count": 2,
   "metadata": {},
   "outputs": [
    {
     "data": {
      "text/html": [
       "<div>\n",
       "<style scoped>\n",
       "    .dataframe tbody tr th:only-of-type {\n",
       "        vertical-align: middle;\n",
       "    }\n",
       "\n",
       "    .dataframe tbody tr th {\n",
       "        vertical-align: top;\n",
       "    }\n",
       "\n",
       "    .dataframe thead th {\n",
       "        text-align: right;\n",
       "    }\n",
       "</style>\n",
       "<table border=\"1\" class=\"dataframe\">\n",
       "  <thead>\n",
       "    <tr style=\"text-align: right;\">\n",
       "      <th></th>\n",
       "      <th>Attending Coll./Univ. (%)</th>\n",
       "      <th>African American</th>\n",
       "      <th>Asian</th>\n",
       "      <th>Hispanic</th>\n",
       "      <th>White</th>\n",
       "      <th>Native American</th>\n",
       "      <th>Native Hawaiian, Pacific Islander</th>\n",
       "      <th>Multi-Race, Non-Hispanic</th>\n",
       "      <th>Males</th>\n",
       "      <th>Females</th>\n",
       "      <th>...</th>\n",
       "      <th>Total Pupil FTEs</th>\n",
       "      <th>Total Expenditures per Pupil</th>\n",
       "      <th>Students</th>\n",
       "      <th>Students Disciplined</th>\n",
       "      <th>% In-School Suspension</th>\n",
       "      <th>% Out-of-School Suspension</th>\n",
       "      <th>% Expulsion</th>\n",
       "      <th>% Removed to Alternate Setting</th>\n",
       "      <th>Tests Takers</th>\n",
       "      <th>% Score 3-5</th>\n",
       "    </tr>\n",
       "  </thead>\n",
       "  <tbody>\n",
       "    <tr>\n",
       "      <th>0</th>\n",
       "      <td>74.0</td>\n",
       "      <td>3.1</td>\n",
       "      <td>2.0</td>\n",
       "      <td>7.9</td>\n",
       "      <td>85.9</td>\n",
       "      <td>0.3</td>\n",
       "      <td>0.1</td>\n",
       "      <td>0.7</td>\n",
       "      <td>50.5</td>\n",
       "      <td>49.5</td>\n",
       "      <td>...</td>\n",
       "      <td>2,139.6</td>\n",
       "      <td>$14,527.10</td>\n",
       "      <td>2,122</td>\n",
       "      <td>75</td>\n",
       "      <td>2.3</td>\n",
       "      <td>1.7</td>\n",
       "      <td>0.0</td>\n",
       "      <td>0.0</td>\n",
       "      <td>79</td>\n",
       "      <td>69.2</td>\n",
       "    </tr>\n",
       "    <tr>\n",
       "      <th>1</th>\n",
       "      <td>91.8</td>\n",
       "      <td>2.3</td>\n",
       "      <td>32.6</td>\n",
       "      <td>4.5</td>\n",
       "      <td>56.1</td>\n",
       "      <td>0.2</td>\n",
       "      <td>0.1</td>\n",
       "      <td>4.2</td>\n",
       "      <td>51.7</td>\n",
       "      <td>48.3</td>\n",
       "      <td>...</td>\n",
       "      <td>5,761.7</td>\n",
       "      <td>$15,697.78</td>\n",
       "      <td>5,726</td>\n",
       "      <td>43</td>\n",
       "      <td>0.3</td>\n",
       "      <td>0.5</td>\n",
       "      <td>0.0</td>\n",
       "      <td>0.0</td>\n",
       "      <td>518</td>\n",
       "      <td>95.3</td>\n",
       "    </tr>\n",
       "    <tr>\n",
       "      <th>2</th>\n",
       "      <td>66.3</td>\n",
       "      <td>4.4</td>\n",
       "      <td>0.9</td>\n",
       "      <td>2.5</td>\n",
       "      <td>90.3</td>\n",
       "      <td>0.2</td>\n",
       "      <td>0.1</td>\n",
       "      <td>1.6</td>\n",
       "      <td>50.5</td>\n",
       "      <td>49.5</td>\n",
       "      <td>...</td>\n",
       "      <td>1,418.1</td>\n",
       "      <td>$14,871.43</td>\n",
       "      <td>1,282</td>\n",
       "      <td>75</td>\n",
       "      <td>4.1</td>\n",
       "      <td>2.7</td>\n",
       "      <td>0.0</td>\n",
       "      <td>0.0</td>\n",
       "      <td>98</td>\n",
       "      <td>33.3</td>\n",
       "    </tr>\n",
       "    <tr>\n",
       "      <th>3</th>\n",
       "      <td>79.3</td>\n",
       "      <td>2.3</td>\n",
       "      <td>3.0</td>\n",
       "      <td>7.8</td>\n",
       "      <td>84.3</td>\n",
       "      <td>0.0</td>\n",
       "      <td>0.1</td>\n",
       "      <td>2.6</td>\n",
       "      <td>52.1</td>\n",
       "      <td>47.9</td>\n",
       "      <td>...</td>\n",
       "      <td>3,955.6</td>\n",
       "      <td>$16,747.21</td>\n",
       "      <td>4,002</td>\n",
       "      <td>104</td>\n",
       "      <td>1.5</td>\n",
       "      <td>1.3</td>\n",
       "      <td>0.0</td>\n",
       "      <td>0.0</td>\n",
       "      <td>231</td>\n",
       "      <td>58.4</td>\n",
       "    </tr>\n",
       "    <tr>\n",
       "      <th>4</th>\n",
       "      <td>83.2</td>\n",
       "      <td>1.6</td>\n",
       "      <td>1.1</td>\n",
       "      <td>7.2</td>\n",
       "      <td>86.2</td>\n",
       "      <td>0.2</td>\n",
       "      <td>0.1</td>\n",
       "      <td>3.5</td>\n",
       "      <td>53.5</td>\n",
       "      <td>46.5</td>\n",
       "      <td>...</td>\n",
       "      <td>2,268.4</td>\n",
       "      <td>$16,455.64</td>\n",
       "      <td>2,227</td>\n",
       "      <td>45</td>\n",
       "      <td>1.4</td>\n",
       "      <td>0.9</td>\n",
       "      <td>0.0</td>\n",
       "      <td>0.0</td>\n",
       "      <td>84</td>\n",
       "      <td>70.1</td>\n",
       "    </tr>\n",
       "  </tbody>\n",
       "</table>\n",
       "<p>5 rows × 31 columns</p>\n",
       "</div>"
      ],
      "text/plain": [
       "   Attending Coll./Univ. (%)  African American  Asian  Hispanic  White  \\\n",
       "0                       74.0               3.1    2.0       7.9   85.9   \n",
       "1                       91.8               2.3   32.6       4.5   56.1   \n",
       "2                       66.3               4.4    0.9       2.5   90.3   \n",
       "3                       79.3               2.3    3.0       7.8   84.3   \n",
       "4                       83.2               1.6    1.1       7.2   86.2   \n",
       "\n",
       "   Native American  Native Hawaiian, Pacific Islander  \\\n",
       "0              0.3                                0.1   \n",
       "1              0.2                                0.1   \n",
       "2              0.2                                0.1   \n",
       "3              0.0                                0.1   \n",
       "4              0.2                                0.1   \n",
       "\n",
       "   Multi-Race, Non-Hispanic  Males  Females  ...    Total Pupil FTEs  \\\n",
       "0                       0.7   50.5     49.5  ...             2,139.6   \n",
       "1                       4.2   51.7     48.3  ...             5,761.7   \n",
       "2                       1.6   50.5     49.5  ...             1,418.1   \n",
       "3                       2.6   52.1     47.9  ...             3,955.6   \n",
       "4                       3.5   53.5     46.5  ...             2,268.4   \n",
       "\n",
       "   Total Expenditures per Pupil  Students  Students Disciplined  \\\n",
       "0                    $14,527.10     2,122                    75   \n",
       "1                    $15,697.78     5,726                    43   \n",
       "2                    $14,871.43     1,282                    75   \n",
       "3                    $16,747.21     4,002                   104   \n",
       "4                    $16,455.64     2,227                    45   \n",
       "\n",
       "  % In-School Suspension % Out-of-School Suspension % Expulsion  \\\n",
       "0                    2.3                        1.7         0.0   \n",
       "1                    0.3                        0.5         0.0   \n",
       "2                    4.1                        2.7         0.0   \n",
       "3                    1.5                        1.3         0.0   \n",
       "4                    1.4                        0.9         0.0   \n",
       "\n",
       "  % Removed to Alternate Setting Tests Takers % Score 3-5  \n",
       "0                            0.0           79        69.2  \n",
       "1                            0.0          518        95.3  \n",
       "2                            0.0           98        33.3  \n",
       "3                            0.0          231        58.4  \n",
       "4                            0.0           84        70.1  \n",
       "\n",
       "[5 rows x 31 columns]"
      ]
     },
     "execution_count": 2,
     "metadata": {},
     "output_type": "execute_result"
    }
   ],
   "source": [
    "df.head()"
   ]
  },
  {
   "cell_type": "markdown",
   "metadata": {},
   "source": [
    "We will also create a copy of the df for analysis purposes. This copy will allow us to analyze some of the columns we drop and change during the data wrangling process"
   ]
  },
  {
   "cell_type": "code",
   "execution_count": 3,
   "metadata": {},
   "outputs": [],
   "source": [
    "df_for_analysis = df"
   ]
  },
  {
   "cell_type": "markdown",
   "metadata": {},
   "source": [
    "### 2.2. Data Analysis\n",
    "* For your hypotheses, what are your IVs and DVs?\n",
    "* Specifically describe your predictive model. What outcome variable are you going to predict from what feature variables? Why do you think those are important predictors?\n",
    "* Describe why this is a supervised ML problem and identify the sub-category of the learning task (e.g. classification).\n",
    "* What machine learning algorithms are you going to use? **Why?** You should compare at least three algorithms.\n",
    "\n",
    "Our IVs are "
   ]
  },
  {
   "cell_type": "markdown",
   "metadata": {},
   "source": [
    "<a id=\"3\"></a>\n",
    "<hr style=\"height:2px; border:none; color:black; background-color:black;\">"
   ]
  },
  {
   "cell_type": "markdown",
   "metadata": {},
   "source": [
    "## 3. RESULTS"
   ]
  },
  {
   "cell_type": "markdown",
   "metadata": {},
   "source": [
    "### 3.1. Data Wrangling\n",
    "In this section, you should do the following and explain why you are doing what you are doing. For each, you should include your code in a cell, followed by a sample output. For instance, if you are one-hot encoding one of your variables, you should first describe what it is and why you are doing it. You should then include your code in a cell, and the sample output should be available as well.\n",
    "\n",
    "* Perform simple data cleaning (delete extra columns, deal with NA values, etc.)\n",
    "* Perform data wrangling to get your features and target values (e.g., grouping your dataframe by columns, applying functions to format dataframes, etc.)\n",
    "* Preprocess your variables (e.g., scaling/transforming feature variables to normalize them)\n",
    "* Perform feature extraction (dummy variables, new features from existing features, etc.)\n",
    "* Use one feature selection technique to select a subset of your original features\n"
   ]
  },
  {
   "cell_type": "markdown",
   "metadata": {},
   "source": [
    "#### Cleaning the Data:\n",
    "We first drop Na values, should any of them have remained in the original process of creating the dataframe, and then begin the process of dropping redundant and directly correlated columns."
   ]
  },
  {
   "cell_type": "code",
   "execution_count": 4,
   "metadata": {},
   "outputs": [],
   "source": [
    "# Drop NA values\n",
    "df.dropna(inplace=True);"
   ]
  },
  {
   "cell_type": "markdown",
   "metadata": {},
   "source": [
    "Note: We chose to drop the race columns because we did not want to build racial bias into our machine learning model. However, we did think it would be interesting to use the race data in our data exploration section, as you will see later in the report. We dropped data about gender as well because most schools had a pretty even distribution of males to females, and we didn't think it would be as relevant to or useful for our ML models. "
   ]
  },
  {
   "cell_type": "code",
   "execution_count": 5,
   "metadata": {},
   "outputs": [],
   "source": [
    "# Drop the Gender columns \n",
    "df = df.drop(\"Males\", axis=1)\n",
    "df = df.drop(\"Females\", axis=1)\n",
    "\n",
    "# Drop the Race columns \n",
    "df = df.drop(\"African American\", axis=1)\n",
    "df = df.drop(\"Asian\", axis=1)\n",
    "df = df.drop(\"White\", axis=1)\n",
    "df = df.drop(\"Hispanic\", axis=1)\n",
    "df = df.drop(\"Native American\", axis=1)\n",
    "df = df.drop(\"Native Hawaiian, Pacific Islander\", axis=1)\n",
    "df = df.drop(\"Multi-Race, Non-Hispanic\", axis=1)\n",
    "\n",
    "# Drop columns directly related to High Needs (%)\n",
    "df = df.drop(\"First Language Not English %\", axis=1)\n",
    "df = df.drop(\"English Language Learner %\", axis=1)\n",
    "df = df.drop(\"Students With Disabilities %\", axis=1)\n",
    "\n",
    "# Drop columns directly related to Average Salary\n",
    "df = df.drop(\"Salary Totals\", axis=1)\n",
    "df = df.drop(\"FTE Count\", axis=1)\n",
    "\n",
    "# Drop columns directly related to Expenditures, In-District and Total, per Pupil\n",
    "df = df.drop(\"In-District Expenditures\", axis=1)\n",
    "df = df.drop(\"Total In-district FTEs\", axis=1)\n",
    "df = df.drop(\"Total Expenditures\", axis=1)\n",
    "df = df.drop(\"Total Pupil FTEs\", axis=1)\n",
    "\n",
    "# Drop columns directly related to Students Disciplined (%)\n",
    "df = df.drop(\"% In-School Suspension\", axis=1)\n",
    "df = df.drop(\"% Out-of-School Suspension\", axis=1)\n",
    "df = df.drop(\"% Expulsion\", axis=1)\n",
    "df = df.drop(\"% Removed to Alternate Setting\", axis=1)"
   ]
  },
  {
   "cell_type": "markdown",
   "metadata": {},
   "source": [
    "#### Wrangling the Data:\n",
    "Here we are going to make our data numerical by applying a function that gets rid of excess characters and then applies the pandas function to make the data a numerical value."
   ]
  },
  {
   "cell_type": "code",
   "execution_count": 6,
   "metadata": {},
   "outputs": [],
   "source": [
    "# makes the dataframe numeric\n",
    "def clean_to_numeric(data):\n",
    "    cleaned = data.replace(\",\",\"\",regex=True)\n",
    "    cleaned = cleaned.replace(\"\\$\",\"\",regex=True)\n",
    "    cleaned = cleaned.replace(\" \",\"\",regex=True)\n",
    "    cleaned = pd.to_numeric(cleaned)\n",
    "    return cleaned\n",
    "\n",
    "# clean the dataframe of non-numeric characters\n",
    "df = df.apply(clean_to_numeric)"
   ]
  },
  {
   "cell_type": "markdown",
   "metadata": {},
   "source": [
    "We are going to clean our analysis-only dataset as well"
   ]
  },
  {
   "cell_type": "code",
   "execution_count": 7,
   "metadata": {},
   "outputs": [],
   "source": [
    "# clean and save the dataframe without dropped columns so we can use it for data exploration later\n",
    "df_for_analysis = df_for_analysis.apply(clean_to_numeric)"
   ]
  },
  {
   "cell_type": "markdown",
   "metadata": {},
   "source": [
    "#### Feature Extraction:\n",
    "Our dataframe currently contains three columns that contain a count of students: Students, Tests Takes, and Students Disciplined. These counts will not have significance when comparing the school districts so instead we will use these three values to create two new columns: Students Disciplined (%) and Tests Takers (%)."
   ]
  },
  {
   "cell_type": "code",
   "execution_count": 8,
   "metadata": {},
   "outputs": [],
   "source": [
    "# Transform 'Students' and 'Students Disciplined' to 'Students Disciplined (%)'\n",
    "df[\"Students Disciplined (%)\"] = df[\"Students Disciplined\"] / df[\"Students\"]\n",
    "\n",
    "# Transform 'Students' and 'Tests Takers' to 'Tests Takers (%)'\n",
    "df[\"Tests Takers (%)\"] = df[\"Tests Takers\"] / df[\"Students\"]\n",
    "\n",
    "# Drop 'Students', 'Students Disciplined', and 'Tests Takers'\n",
    "df = df.drop(\"Students\",axis = 1)\n",
    "df = df.drop(\"Students Disciplined\",axis = 1)\n",
    "df = df.drop(\"Tests Takers\",axis = 1)"
   ]
  },
  {
   "cell_type": "markdown",
   "metadata": {},
   "source": [
    "We are transforming our target value, currently a percentage from 0 to 100, into the range from 0 to 1. "
   ]
  },
  {
   "cell_type": "code",
   "execution_count": 9,
   "metadata": {},
   "outputs": [],
   "source": [
    "# Transform 'Attending Coll./Univ. (%)' into the range 0 to 1\n",
    "df[\"Attending Coll./Univ. (%)\"] = df[\"Attending Coll./Univ. (%)\"] / 100"
   ]
  },
  {
   "cell_type": "markdown",
   "metadata": {},
   "source": [
    "#### Splitting the dataframe into Features and Target:"
   ]
  },
  {
   "cell_type": "code",
   "execution_count": 10,
   "metadata": {},
   "outputs": [
    {
     "data": {
      "text/html": [
       "<div>\n",
       "<style scoped>\n",
       "    .dataframe tbody tr th:only-of-type {\n",
       "        vertical-align: middle;\n",
       "    }\n",
       "\n",
       "    .dataframe tbody tr th {\n",
       "        vertical-align: top;\n",
       "    }\n",
       "\n",
       "    .dataframe thead th {\n",
       "        text-align: right;\n",
       "    }\n",
       "</style>\n",
       "<table border=\"1\" class=\"dataframe\">\n",
       "  <thead>\n",
       "    <tr style=\"text-align: right;\">\n",
       "      <th></th>\n",
       "      <th>High Needs %</th>\n",
       "      <th>Average Salary</th>\n",
       "      <th>In-District Expenditures per Pupil</th>\n",
       "      <th>Total Expenditures per Pupil</th>\n",
       "      <th>% Score 3-5</th>\n",
       "      <th>Students Disciplined (%)</th>\n",
       "      <th>Tests Takers (%)</th>\n",
       "    </tr>\n",
       "  </thead>\n",
       "  <tbody>\n",
       "    <tr>\n",
       "      <th>0</th>\n",
       "      <td>35.5</td>\n",
       "      <td>85917</td>\n",
       "      <td>13461.03</td>\n",
       "      <td>14527.10</td>\n",
       "      <td>69.2</td>\n",
       "      <td>0.035344</td>\n",
       "      <td>0.037229</td>\n",
       "    </tr>\n",
       "    <tr>\n",
       "      <th>1</th>\n",
       "      <td>24.9</td>\n",
       "      <td>84822</td>\n",
       "      <td>14382.42</td>\n",
       "      <td>15697.78</td>\n",
       "      <td>95.3</td>\n",
       "      <td>0.007510</td>\n",
       "      <td>0.090465</td>\n",
       "    </tr>\n",
       "    <tr>\n",
       "      <th>2</th>\n",
       "      <td>57.9</td>\n",
       "      <td>82426</td>\n",
       "      <td>15721.64</td>\n",
       "      <td>14871.43</td>\n",
       "      <td>33.3</td>\n",
       "      <td>0.058502</td>\n",
       "      <td>0.076443</td>\n",
       "    </tr>\n",
       "    <tr>\n",
       "      <th>3</th>\n",
       "      <td>41.9</td>\n",
       "      <td>74116</td>\n",
       "      <td>15902.26</td>\n",
       "      <td>16747.21</td>\n",
       "      <td>58.4</td>\n",
       "      <td>0.025987</td>\n",
       "      <td>0.057721</td>\n",
       "    </tr>\n",
       "    <tr>\n",
       "      <th>4</th>\n",
       "      <td>36.7</td>\n",
       "      <td>76770</td>\n",
       "      <td>15644.74</td>\n",
       "      <td>16455.64</td>\n",
       "      <td>70.1</td>\n",
       "      <td>0.020207</td>\n",
       "      <td>0.037719</td>\n",
       "    </tr>\n",
       "  </tbody>\n",
       "</table>\n",
       "</div>"
      ],
      "text/plain": [
       "   High Needs %  Average Salary  In-District Expenditures per Pupil  \\\n",
       "0          35.5           85917                            13461.03   \n",
       "1          24.9           84822                            14382.42   \n",
       "2          57.9           82426                            15721.64   \n",
       "3          41.9           74116                            15902.26   \n",
       "4          36.7           76770                            15644.74   \n",
       "\n",
       "   Total Expenditures per Pupil  % Score 3-5  Students Disciplined (%)  \\\n",
       "0                      14527.10         69.2                  0.035344   \n",
       "1                      15697.78         95.3                  0.007510   \n",
       "2                      14871.43         33.3                  0.058502   \n",
       "3                      16747.21         58.4                  0.025987   \n",
       "4                      16455.64         70.1                  0.020207   \n",
       "\n",
       "   Tests Takers (%)  \n",
       "0          0.037229  \n",
       "1          0.090465  \n",
       "2          0.076443  \n",
       "3          0.057721  \n",
       "4          0.037719  "
      ]
     },
     "execution_count": 10,
     "metadata": {},
     "output_type": "execute_result"
    }
   ],
   "source": [
    "# Drop the target column\n",
    "features = df.drop(\"Attending Coll./Univ. (%)\",axis=1)\n",
    "features.head()"
   ]
  },
  {
   "cell_type": "code",
   "execution_count": 11,
   "metadata": {},
   "outputs": [
    {
     "data": {
      "text/plain": [
       "0    0.740\n",
       "1    0.918\n",
       "2    0.663\n",
       "3    0.793\n",
       "4    0.832\n",
       "Name: Attending Coll./Univ. (%), dtype: float64"
      ]
     },
     "execution_count": 11,
     "metadata": {},
     "output_type": "execute_result"
    }
   ],
   "source": [
    "target = df[\"Attending Coll./Univ. (%)\"]\n",
    "target.head()"
   ]
  },
  {
   "cell_type": "markdown",
   "metadata": {},
   "source": [
    "#### Test and Training Splitting:"
   ]
  },
  {
   "cell_type": "code",
   "execution_count": 12,
   "metadata": {},
   "outputs": [],
   "source": [
    "# Splitting into testing and training sets\n",
    "from sklearn.model_selection import train_test_split\n",
    "X_train, X_test, y_train, y_test = train_test_split(features, target, random_state=3000)"
   ]
  },
  {
   "cell_type": "markdown",
   "metadata": {},
   "source": [
    "#### Preprocessing the data:\n",
    "We are going to use MinMaxScalar to scale our data."
   ]
  },
  {
   "cell_type": "code",
   "execution_count": 13,
   "metadata": {},
   "outputs": [],
   "source": [
    "#create the scaler\n",
    "from sklearn.preprocessing import MinMaxScaler\n",
    "scaler = MinMaxScaler()\n",
    "\n",
    "#fit the scaler to the training data(features only)\n",
    "scaler.fit(X_train) \n",
    "\n",
    "#transform X_train and X_test based on the (same) scaler\n",
    "X_train_scaled = scaler.transform(X_train) \n",
    "X_test_scaled = scaler.transform(X_test) "
   ]
  },
  {
   "cell_type": "markdown",
   "metadata": {},
   "source": [
    "#### Feature Selection:\n",
    "We are running the RFE on our scaled data to select the most important features. Fine tuning by hand allowed us to choose 5 features as the amount to reduce our features to."
   ]
  },
  {
   "cell_type": "code",
   "execution_count": 14,
   "metadata": {},
   "outputs": [
    {
     "name": "stdout",
     "output_type": "stream",
     "text": [
      "Original results:\n",
      "\tR-squared value for training set: 0.7081390349902907\n",
      "\tR-squared value for testing set: 0.6857109660139478\n",
      "\tMean squared error value for training set: 0.004055502827567484\n",
      "\tMean squared error value for testing set: 0.004198984022377555 \n",
      "\n",
      "With selected features:\n",
      "\tR-squared value for training set: 0.6943575222712596\n",
      "\tR-squared value for testing set: 0.6838932866203189\n",
      "\tMean squared error value for training set: 0.004247001419365564\n",
      "\tMean squared error value for testing set: 0.004223268696376047\n"
     ]
    }
   ],
   "source": [
    "from sklearn.feature_selection import RFE\n",
    "from sklearn.tree import DecisionTreeRegressor\n",
    "from sklearn.linear_model import LinearRegression\n",
    "from sklearn.metrics import r2_score, mean_squared_error\n",
    "\n",
    "# create the RFE selector\n",
    "select = RFE(DecisionTreeRegressor(random_state = 3000),n_features_to_select = 5)\n",
    "\n",
    "#fit the RFE selector to the training data\n",
    "select.fit(X_train_scaled, y_train)\n",
    "\n",
    "#transform training and testing sets so only the selected features are retained\n",
    "X_train_selected = select.transform(X_train_scaled)\n",
    "X_test_selected = select.transform(X_test_scaled)\n",
    "\n",
    "model = LinearRegression().fit(X=X_train_scaled, y=y_train)\n",
    "\n",
    "# Original Results\n",
    "print(\"Original results:\")\n",
    "# R2 values\n",
    "print(\"\\tR-squared value for training set:\", r2_score(y_train, model.predict(X_train_scaled)))\n",
    "print(\"\\tR-squared value for testing set:\", r2_score(y_test, model.predict(X_test_scaled)))\n",
    "# MSE values\n",
    "print(\"\\tMean squared error value for training set:\", mean_squared_error(y_train, model.predict(X_train_scaled)))\n",
    "print(\"\\tMean squared error value for testing set:\", mean_squared_error(y_test, model.predict(X_test_scaled)),\"\\n\")\n",
    "\n",
    "\n",
    "model = LinearRegression().fit(X=X_train_selected, y=y_train)\n",
    "\n",
    "# Selected Results\n",
    "print(\"With selected features:\")\n",
    "# R2 values\n",
    "print(\"\\tR-squared value for training set:\", r2_score(y_train, model.predict(X_train_selected)))\n",
    "print(\"\\tR-squared value for testing set:\", r2_score(y_test, model.predict(X_test_selected)))\n",
    "# MSE values\n",
    "print(\"\\tMean squared error value for training set:\", mean_squared_error(y_train, model.predict(X_train_selected)))\n",
    "print(\"\\tMean squared error value for testing set:\", mean_squared_error(y_test, model.predict(X_test_selected)))"
   ]
  },
  {
   "cell_type": "code",
   "execution_count": 15,
   "metadata": {},
   "outputs": [
    {
     "name": "stdout",
     "output_type": "stream",
     "text": [
      "Selected Features:\n",
      "\tHigh Needs %\n",
      "\tTotal Expenditures per Pupil\n",
      "\t% Score 3-5\n",
      "\tStudents Disciplined (%)\n",
      "\tTests Takers (%)\n"
     ]
    }
   ],
   "source": [
    "# Output the chosen features\n",
    "print(\"Selected Features:\")\n",
    "\n",
    "bool_chosen = select.get_support()\n",
    "for i in range(0,len(features.columns)):\n",
    "    if bool_chosen[i]:\n",
    "        print(\"\\t\" + features.columns[i])"
   ]
  },
  {
   "cell_type": "markdown",
   "metadata": {},
   "source": [
    "### 3.2. Data Exploration\n",
    "* Generate appropriate data visualizations for your key variables identified in the previous section\n",
    "* You should have at least three visualizations (and at least two different visualization types)\n",
    "* For each visualization provide an explanation regarding the variables involved and an interpretation of the graph.\n",
    "* If you are using Plotly, insert your visualizations as images as well (upload the graph images to an online source, e.g. github, and embed those into the cells in Jupyter Notebook). This is a requirement.\n"
   ]
  },
  {
   "cell_type": "markdown",
   "metadata": {},
   "source": [
    "### Visualization 1"
   ]
  },
  {
   "cell_type": "markdown",
   "metadata": {},
   "source": [
    "For our first visualization, we wanted to see how the variables we saved to use for ML correlated with one another. To do so, we chose to create a heatmap."
   ]
  },
  {
   "cell_type": "code",
   "execution_count": 16,
   "metadata": {
    "scrolled": true
   },
   "outputs": [
    {
     "data": {
      "image/png": "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\n",
      "text/plain": [
       "<Figure size 576x576 with 2 Axes>"
      ]
     },
     "metadata": {
      "needs_background": "light"
     },
     "output_type": "display_data"
    }
   ],
   "source": [
    "# Display a heatmap showing the correlation between variables\n",
    "import matplotlib.pyplot as plt\n",
    "import seaborn as sns\n",
    "\n",
    "# create a new figure\n",
    "plt.figure(figsize=(8, 8))\n",
    "# create a heatmap with our df\n",
    "ax = sns.heatmap(df.corr(), square=True, annot=True, cmap=\"Blues\")\n",
    "# add a title and format\n",
    "ax.set_title('Correlations for each variable', fontsize = 29, pad = 20)\n",
    "plt.subplots_adjust(bottom=0.28)\n",
    "plt.show()"
   ]
  },
  {
   "cell_type": "markdown",
   "metadata": {},
   "source": [
    "In this heatmap, we can see a variety of important correlations. First, our target variable (Attending Coll/Univ (%)) has a relatively high positive correlation with the percentage of AP test takers who earned a score between 3 and 5. There is a relatively high negative correlation between our target variable and the % of High Needs students in a district, as well as between the target variable and percent of students disciplined in a district. Our target value had moderate correlation with the rest of our feature variables, with the lowest correlation found with Average Salary. We did not expect this last conclusion, given our assumption that better paid teachers would be more likely to prepare and encourage their students to attend higher education.\n",
    "\n",
    "Another interesting observation is the high positive correlation between the percentage of High Needs students in a district and percentage of Students Disciplined. There is an extremely high positive correlation between Total Expenditures per Student and In-District Expenditures per Pupil. We suspected this may be the case, as the variables reflect similar funding data, and it solidified our decision not to use both in a machine learning model, as they would be repetitive."
   ]
  },
  {
   "cell_type": "markdown",
   "metadata": {},
   "source": [
    "### Visualization 2"
   ]
  },
  {
   "cell_type": "markdown",
   "metadata": {},
   "source": [
    "Given that the following three variables (% Score 3-5, High Needs %, and Students Disciplined (%)) were the most correlated with our target variable, we wanted to dive deeper into the distribution of this data one by one, in descending order of how high the variable's correlation with the target is. "
   ]
  },
  {
   "cell_type": "code",
   "execution_count": 17,
   "metadata": {},
   "outputs": [
    {
     "data": {
      "text/plain": [
       "<matplotlib.axes._subplots.AxesSubplot at 0x11ceb8c1b20>"
      ]
     },
     "execution_count": 17,
     "metadata": {},
     "output_type": "execute_result"
    },
    {
     "data": {
      "image/png": "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\n",
      "text/plain": [
       "<Figure size 432x288 with 1 Axes>"
      ]
     },
     "metadata": {
      "needs_background": "light"
     },
     "output_type": "display_data"
    }
   ],
   "source": [
    "sns.scatterplot(data=df, x=\"% Score 3-5\", y=\"Attending Coll./Univ. (%)\")"
   ]
  },
  {
   "cell_type": "markdown",
   "metadata": {},
   "source": [
    "By looking at the above scatterplot, it can be discerned that districts where larger portions of students got higher AP test scores had higher rates of students attending higher education. Given that AP courses are typically taught at the same level as college courses, they are often used by universities as a metric of a student's preparedness for college-level material. This correlation was in line with our expectations."
   ]
  },
  {
   "cell_type": "code",
   "execution_count": 18,
   "metadata": {
    "scrolled": true
   },
   "outputs": [
    {
     "data": {
      "text/plain": [
       "<matplotlib.axes._subplots.AxesSubplot at 0x11cebadd670>"
      ]
     },
     "execution_count": 18,
     "metadata": {},
     "output_type": "execute_result"
    },
    {
     "data": {
      "image/png": "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\n",
      "text/plain": [
       "<Figure size 432x288 with 1 Axes>"
      ]
     },
     "metadata": {
      "needs_background": "light"
     },
     "output_type": "display_data"
    }
   ],
   "source": [
    "sns.scatterplot(data=df, x=\"High Needs %\", y=\"Attending Coll./Univ. (%)\")"
   ]
  },
  {
   "cell_type": "markdown",
   "metadata": {},
   "source": [
    "In the above scatterplot, it is clear that higher proportions of High Needs students in a district are correlated with lower higher education attendance rates. This could be for various reasons, one of them being that high needs students often struggle in school and are less likely to have the ability or desire to attend higher ed. Given that, this correlation didn't surprise us much either. "
   ]
  },
  {
   "cell_type": "code",
   "execution_count": 19,
   "metadata": {
    "scrolled": true
   },
   "outputs": [
    {
     "data": {
      "text/plain": [
       "<matplotlib.axes._subplots.AxesSubplot at 0x11cebb3d430>"
      ]
     },
     "execution_count": 19,
     "metadata": {},
     "output_type": "execute_result"
    },
    {
     "data": {
      "image/png": "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\n",
      "text/plain": [
       "<Figure size 432x288 with 1 Axes>"
      ]
     },
     "metadata": {
      "needs_background": "light"
     },
     "output_type": "display_data"
    }
   ],
   "source": [
    "sns.scatterplot(data=df, x=\"Students Disciplined (%)\", y=\"Attending Coll./Univ. (%)\")"
   ]
  },
  {
   "cell_type": "markdown",
   "metadata": {},
   "source": [
    "In our last correlation plot above, we see that there is an (admittedly less stark) negative correlation between the portion of students disciplined and higher education rate. Students in districts where more disciplinary action is taken seem to be less likely to attend higher education. Perhaps this is because their disciplinary record makes it more difficult for them to get into college, or maybe it is because they have had poor experiences with education and do not have a desire to attend more school. "
   ]
  },
  {
   "cell_type": "markdown",
   "metadata": {},
   "source": [
    "### Visualization 3"
   ]
  },
  {
   "cell_type": "markdown",
   "metadata": {},
   "source": [
    "In addition to analyzing access to higher education, we wanted to better understand the relationship between race and the rate of students disciplined. There is a lot of discussion in the educational community about how Black and Brown students are disciplined more often and harshly than White students, and we wanted to see if our data reflected that. \n",
    "\n",
    "As written by the <a href='https://ra.nea.org/business-item/2016-pol-e01-2/#:~:text=School%2Dto%2DPrison%20Pipeline%20means,and%20surveillance%20that%20create%20prison%2D'>National Education Association</a>: \"The school-to-prison pipeline disproportionately places students of color, including those who identify as LGBTQ, have disabilities, and/or are English Language Learners, into the criminal justice system for minor school infractions and disciplinary matters, subjecting them to harsher punishments than their white peers for the same behaviors. The school-to-prison pipeline diminishes their educational opportunities and life trajectories.\"\n",
    "\n",
    "Below is a heatmap that represents the correlation between racial makeup of a school, percentage of students disciplined, and percentage of students who attend college or university. "
   ]
  },
  {
   "cell_type": "code",
   "execution_count": 20,
   "metadata": {},
   "outputs": [
    {
     "data": {
      "image/png": "iVBORw0KGgoAAAANSUhEUgAAAl0AAAITCAYAAAA90Kk3AAAABHNCSVQICAgIfAhkiAAAAAlwSFlzAAALEgAACxIB0t1+/AAAADh0RVh0U29mdHdhcmUAbWF0cGxvdGxpYiB2ZXJzaW9uMy4yLjIsIGh0dHA6Ly9tYXRwbG90bGliLm9yZy+WH4yJAAAgAElEQVR4nOzdd3gVVfrA8e+bQELoJKGDgIKKdFQ6UlREfyq2XRHXui6u4rruoig2sGDvoutiQ7CgLvZVEOm9g4ACIgQILUACJEAgJOf3x5mbTG5uS7u53H0/z3Of5M6cOXOmv/ecMzNijEEppZRSSpWvmIougFJKKaXU/wINupRSSimlwkCDLqWUUkqpMNCgSymllFIqDDToUkoppZQKAw26lFJKKaXCQIOuCCYi40XEiEjEPNdDRG72lElE+lZ0ecqKa5nGV3RZlFLlT0Sau4770WGY32jX/JoXd3xFEpG+rrLdXM7zCnjdi+T1FIpKFTFTETkbuALoBzQDkpxRGcB6YBHwmTFmdUWUTymllFKqrIW1pktEzhCRH4BlwMNAT6AJkOB8GgH9gQeBVSIyT0S6hbOM/4tEJMX51TCrosuiLBGZ5WyTlIoui1JKqbIRtpouEbkI+BSo5QxKBT4D5gG7gRNAfaALMAhojw3KHsDWiqkIYIwZD4yv4GIopVRUMcaMBkZXcDF8MsbMAqSiywGRvZ5CEZagS0Q6Al9ia7MAngCeMsZk+0j+HfCoiFwMvBCO8imllFJKlbdyD7pEpBK2RssTcN1jjHk12HTGmB9EZDa21ksppZRS6qQWjj5dfwJaOf/PCCXg8jDGHDHGfOJvvIi0FpGxIvKLiBwSkaNO/6SPRWRAoLx93YUnIoNF5HsR2SEiJ9z9abz7PYnIKSLyvIisE5GD/u7qEJGOIvKGk+6AiGSLyHYR+Y+IlDqgFJFOzt0c05x8s531sF1EvhSRa0Uk1s+0s5w7RJo5g/q41on70zzQegtQtoucbZHilOmQs63GisiZQaYtdAeLiFQWkbtEZKGIpDv5rXe2QXIxVllIRKSDiLwrIlucdbpXRKaKyB+LkUext71nuYE+zqBmfrZJXyf9J873gwG28wrXdE/6SXOeK82NAZapr4i8JyIbRSTT2Q6bReRDEenjbzqvPGJF5AZn//Tss4dEZI2IvCIipwWYtsgdZyLS3ilTipPXPhGZIiKXhlKeIGUtdKeUiFQSkdtFZKaI7BaRXPHqCykip4vI/SLyX2f/OSIix0Rkp4j8ICJDRSS+GGXo7+yL653tfFREfheRn0RkuIi0CDL9IOc49JQlS0Q2iMg4sa0QpSJWLxF5RkRmi8guZ3kPO/vGJyIyMIR8Ct1BLCItROQ1EfnNWeYMJ/8bRSRoU5eIJIrI02LPOUdEZL+ILBKRv4tI5dIut4/59RCRT53tfMzZtz8vxnER9K48EUkWkUfFngf3i0iO2HPL72LP56NEpFOQ+TQWkcdFZL6I7HHKuktEljnru6+IxHhNE/DuRV/jReRyEfnOtT5SReQjETk3lPURoPzFugvU2T9vcI7ZvWLPEZtF5C0RaVZ0Dj7nWUtERjjreLeIHBd7npkvIiNFpFbwXBzGmHL9APMB43wGlmG+D2P7gZkAn/8ACX6mv9mVbgDwrY/pU1zpU5xhs4CLgYM+0t/sSl8Z+BeQF6SMPwC1/JRxvCedn/FXBMnb85kNJPqYflaI0zf3s976+ilXVWxzcqA8TwAPBti+411pk4HFAfLaBrQo5f7kyWs8cANwLMD8JgNxAfIq8bb3Wu5An75O+r+4hnX1UZZEINeVZqGfMo92pWniY3wN4IsQyjUeiA+wbs4A1gXJIwe4y8/0zV3pRgO3BdlWT5Ryv3Cvl07YO6u95zHLlb5jiNtvDa7jys+8k4GpIeS1ys/0DYC5QabNA54GpBTr6J4Ql/lzoEqIx+D/AYcC5DUhSJk6AXsCTL/Ya1uNLuV+8jD+j/c84CGvfanItg9hfDdgfwjreVaAct4HZIeQR0ev6fq6xt3sI99C44E3A+SdC9wfoIzjPWlDOCaDrcczgf8GKEsGcHaQbXs5kB5kfe0Beoe0r5RmRwthR6yGPYEa4AhQqYzyHela2IPAo0AvbCf824FNrvHf+cnjZleaVc7facC1wNnOTnSPK32Kk2azM88MZ+P2Ac4BhgDdnbRC4aBjOfBX4AKgM3CV1/ifgNgS7HzXAJnYGxT+in0ERyfgfOzFeIlrHt/7mL4F0BbY4aRZ6nz3/lT2s976+shTsMGEJ81GYKizbXo768x9Mr0v2IGHvXDkAOOwAW8n4DJnvXnSzCjlPuXJZyX2Ir7f2c96AF2Bu7DBXf6FwU8+pdr2QGNnnS91xu/ws02qOelPdeVVJIgFrnaNN9hgt6aPdHM828vHuHgKB70zgFuxx8jZ2H1/lmv8+37WzWkUXDRygPeB67AXk+7A3yh87N7kI4/mrvHzsSfw9c467up8HvDax/qUYr8Y7crHc574HPuDpzNwIXCbK/052IvaN8DfXdu9D3Aj9hzjzs9n8I694Wi9K+0G4J/Aedj9/wJgBPZGpJU+pk8Efqfgov8lttXBc578M3Zf9+Q/qhTr6F5gn7M9b3WVcYCzTX91zefNEI7B5cBh7M1Ww7E3VJ0DDMPedOVJd6OffBo45fGk+wp74eyM7a7ytTPcvU+PLsXy3+bKJxN4DHuu6wLcQcG1w30+bh5kX2vuNS4O2E7BMfy2sw92xR6Dl2Dv+p+Dn3Mh8Iwr/yPA68Clznrpjj23f+gsQ2mCLs96XefsD+c6+8QYZ75+83HyGu9JE8IxGWw9en50fErBMTvA+e6+RvmMTbDnT8+P1nRnGa5w1nk/bP90TwVMJtAm6P5S0h0txJ2xu2vBFpRRnq0oCOTSgNN9pKlBwUXL58FJ4eDBAC8GmW+KK+0e4LQAae9wpf1bgHR/d6X7Uwl2vgb4uIB6pXncNQ+fkbhr2WaFsP7d662vj/G3uLc5TnDgleYsCi6+x32tSwoHXSfwUUsKxGIDAE+6dqXYr9z7wi581JxhL2S/uNL1K8dtP8sZlxJC2bc4aX/yMe4NZ9w056RggMu80lSloLboXz7yeJaCQOmqAOV4ybVMvXyM95yMU4HWfvKohg0kPCe5Gl7jm3ttq2n4qM3GPnrGk2ZyKfaL0V7z87tNnfS1gXpB0tzqyu8GP2kmuNJMxPXDx0faU3wM81xUDgE9/Uzn6W/r2bYlqi0GTiFwDVaM63g+4W8+Xut5NZDkI01rCmpqlvvJ50NXPqP9pHnSa34+04Ww7IkUBPgHgfY+0tTB1my659c8yL7W3Guce3/+e5Ay+Vpv57um3wqcEWQf9j7u+rqmv9nHNO7xBnv+KrJPYIPnLCfNAaC2jzSefcX4KZ/f9eRjvMH1oyjAMXaZj/H1KQioZuK/RaoVNhbxeQ4ukr4kO1oxdsjLXAv1ZRnl+aorz5sCpDuTggjV1y/Bm135bCJILRyFg65bAqSrREGNSNBlpiA4nF3cnS/E9RXr2iFeCbJss0LIz73e+voYv5qCk2ugwNTdLPZyoGUHXg2QzyWudAEviEGWy32QDgmQrqe/fbqMt/0sQg+63nXSHsXrREdBbclwCqrZX/FKc5Frmf7gNS6RgpNkke3klbYysNNJ+4HXuAGueQwKkk9bf8cahYOubKBhgHw8NQv7SrFfjHbNr8h2KkW+K5w8v/Ix7lQKuk6sJUBTtp+8z6SgqSvoBZqCgPuxslo+H/NJdC3TPX7SuI/BzgHy8gSKeXj96ATqYX/IGWygE+Mnj1gKN3OPLuFyuZtWfdbaO+m6ey1f8yD7WnOvcUNc44oEdiGUc6Zr+h4lmL6va/qbg4zPAZoFyOshV9oi+ydlG3R9HaAcZ7nSFal0AZ6i4LxaP8j6ucuVV8AfL+Xdkb6m6/+sMsrT00H+EOC3k70xZj22FgSgo4jUC5DnJGPMiRDnn4P9FenPOUBT5/+PQ8hvtvO3m/jpCB0qEYkTkSZibzBoKyJtsb8MdzhJAnawLC0RqY99vhrYiP/3AMknUrBPBLzpwUnrzxLX/6cGyScUB7HNRz4ZY+Zjm0sAzvfqcFpR296zn1fBNocCICKNsH2oAKa70p3vNX1/56/BnpzdBmBrnyDIMhljcrC1m2CDU7ernL9Z2P6TgfJZi60J9ZWP20/GmF0Bxnv2jaRidXT1L9B+6JPYmwYai8iZnmPSOS53Okl8HZOXYoMCsAHy8WLO9goKnqkUbJvtxwYnEHhdh0xEEsTeaHSWa3kbUbBNg52H1hljVgQY79mugu0i4dYPG/yD7QKQ5ysDY0wuZfO8wYs8WQbKzxizEFtLXlKprv9vDeVGAg8RqY1t3gOYb4xZECh9GZhmjNkaYPw7rv+DnftLy+8xa4z5hYJrkK9rh+ecNcMYsyfIfGa5/g94HJX3IyMOuf6vXtrMxN7x47mIrAjhZLQA2/cBbDDwk590q4pRjI3GmCMBxndx/f9ZMY6NOOyvwb3FKAsiUhO4G9u/qw2Bt2mZ3+Xnpb3r/4WBEhpjskVkBfZk0FpEKjsXbV9+9TMcbBOUR02/qUK3IkA5PBZjg9ka2IN1kzM8rNveZbrr//4UDa72YWsgPdqKSH3XicQTdK0xxuzzytu9TEuKsUwN/eRTHcgtRT5ugfYLKLpvHAx1pn6EdJ5wzlO3Y2snOmL7xPnj65g82/W/dxAcCvc2SyujdR2QiDTA1vpcgW1uCfSDPth5qLjb1c19DlpCYIuDjA+FZ35bjDHBjt/F2NqVkvD82GuN7ZpwsYhMxv5wW+YEz/50omB7lGR/Kq5FgUYaY/aIfTJAc6BDOZcl2L6UgT0nFdqPnB9pnljjEine+48DHkflXdPlPoHXL4P86lDwC253COndv4KT/KayKz5UwdIGqlELpmpxEju/IH/FdubrQPAgulj5l4B7HRdn+wg26PDJGHM4wDj3L9lS1RQ6gv2igcLL5l7msG17N2PMbly1b65Rnv9nGlsHvpqC2ob+kP8ruLMzzB28eZR0mbyXp6zycfO7XzjKet8Iep4QkcbYDuqvYjs5B3s0hK/lq+v6f4eP8cGUx7r2S+zjSzYA92MvVMGuK8HmU5rt6j4egx3LoRzrwXjmF0peJZ6fUzN3KQWB5OnYG32mAHtFZK2IPOHsf95Kuz8VV3HOoYGuy2Uh1H3Jez+q652wGALu3+Vd07UG245fCdvEV6kYzXjBFCfyDJY+txj5BEvrXqeDsf0GQrUzeBLLec7Mf7DV9mCrUSc580sDjnkCEhGZg72bJpyvcSjL7RNOoZTD33oMy7b3Yzr2V/C5IlLTGHOIghqs6WA7SIjITGyt6PnY5vm+FFwkZ1CUe5nOo3g/UHzl8zvFe61XsJNmOIVynpiA3Q5g+9C9iw129wBHXcfkBOyjSXwp7XHqWdfZ2DvHQlXcZkxEpA62Ob4m9lz/L+zdgRuwP7qPOQE/IrIN2/weEa+TIfzlKNX8jDGbga4i0g97DJ0HtMMGDG2cz3AR+asxZoKf+YbjPFuac2ikcJ/3JmHvWgxVWqgZlzljTJaILMV2IkzA3l79Qymy9DwrQwitKtydJt1vqrLlrmIWp39KeehHQfXnM8aYkQHS1imnMnhzV3EXZ/sYSn4xL2sNQkjjrrV1L3O4tr0vM7CdOWOB80RkAwX9y37ySucJuqAgMMvF3m7uzb1MOaVYpr3Y9dYA+NX55R5VROR0CtbnJGPMdQGSBzom3eu8EfYxNcXhmb4K9iaCUGqdS+oPFDQX3mWM+XeAtOE4D7mPx/rYxwH4U5qaaff8GhFaS05ZzA9jzEycZkIRqYENvoZgf+glAO+LyEpjjKevnnt/8lUTVtaKcw4N1CxakdzrrE5ZnsvD8UT6t13/31uajJw+XBucr50l+FOde7j+/7k08y6G5a7/gz6FuRTauf4P9NT+Gti7mQIpq18/7nXcPVBCEalCQYfaX0PoRxUunSX406q7On8zKXxBLMttX9xtMpOCqvLzKQiqtnrd0OBpQmwuIqe60i1zase8ldUyefKphq11jUahHpNC4X5b3pa5/u9XgnKE6xwEoS/zmZRBv94QuM9BXfymsroGGV+c+bWQ4G/GKIv5FWKMyTTG/NcYcz32+XRgr+vuN2esoODcUJL9qbi6BRrp3HDV3Pm6OkDSCuP0kUtxvvYWkWoBkhdLOIKuiRR0NO4vIn8PdUIRqSoig70GT3H+1sRG9v6mdf/qXGGMCVjlV4bmU9CmfZ1zYSsP7lrKQG3IQwleo3nU+Rvyq0l8cTpmezobXyABXucCXI/tiA4F2zQS1ML+evdJRHpS0Hw03atPWVlu+2JtE2PMAWxfIigcdE33SreRgjuhrqegY6+v/lwA32ObqQDudJqTSmKy6/+HinP31Ukk1GPyKgLXBH9LQVPmPSISV8xyfOH6/74STF8coS7zsHIsg9tM7B3mADd53V2cz7lb+OYymN9UT5bYZxT6JCLdKXkn+uKWBVx9kpxzwyznay8RcVdGlIcLg7xe5zbX/z+Wc1lKw3McVQX+UVaZlnvQ5fTh+iMFF5GXReSxYLVUYt+duISigdUb2L4DAM87wZX3tNWxfSs8y/dyCYtfbE6NzRPO1zjgaxFpEmgaETlXRC4p5qzc1ea3+sm3t6ssgXj6E7Usg4uh592ascAEESlyInZ+9T7rfM3BbtNI8qL4eJ+diCRSuOb2Nff4Mt72nm1SrxiPO/AETm0puBXbVzDl6bs13MewQpwfK2Odr3WBL4IFXiJyvhOcun2HfS4Z2DuKX/B3QXTyqCwitzi/ik8W7mPyFl/Hkoi0xr4ixS9jzBbsAz7Bbst3A9W+isgpXtP/jO3vCfZCP8GpWfY3fYyIXCUiJQkKQjkP/QG4swR5F5uzv37mfG2HfVuJL49RNkHQBGyNN8DDItLeO4Fzs8q40sxERHpLkPfVUrhW07tJ2v3O1U98XTdd86rttJCUVCXgA1/7nIicjb0BAOzdxB+UYj7l7XkKtu0oZz/2S0SSROSuoLkGeohXWX6wzzM5QMEDxLYDL2A7BHbDPuPo/4BR2OpxTzpfDw98wDX+APAI9vUW52Jrdn5zjQ/lNUB9Qyh/ipN2VghpBVvV7sn/IDbw87xyoSv2dRSPU/BqkSd95DPek4ePcQkUPIjSYE+yl2ObLQZiT+zHsZ36PA/ITPFT3lGufN7CNsue6fqU5jVAG5xtcq6zjR6l8Hsr7/VTJr/L7iOtJ6/xpdg/PXm4XwP0ALaZtAv2l3qorwEqi21/kyuPydjXyLR2bZOqfo4x4/VpECRvg63JCvRE8Tjsreme9HuwJ/EB2EcidMfWDj6HvQgbfDwFGtuk4H6NyxrsYwbOc/Lpja0teJuC17i09JGHZ/rRQbbpaFfa5iXcL0LOw9n27lfrePrPnYOtdX8WexI/gm1CDPQASF+vAfqHs446Ovn909kuvh7+XJvCr9/Zgn1NTH9n+p7Yms7XsDWfBrigBOunEQWvdvG8nuZi7L5+OfARtmlrAwUPafZ5DnWVNeBxTPBzkPdrgL7EPqi7s/P3K2d4eb0GaDQF16O/UvDGiNK8Bmi0sx4XYq93lzn5n4u9hr5PwcPADwCNfOT/tCv/w862/z9sN49u2Bs7xlP61wB53k+6Fns8n+Pst0868/Wbj5PXeE+akhyTwcZ7pU0Jsk9eSuF3PH/v7H/dKHjl3t+cfSwbSA26v5R0RyvhznkGtinJ+8Lg7zMTPy+jdHa8YC+8nkxoL7wucuAWd+P4SB+LveMhJ0gZPZ8iTzMOYefrS8GrXXx9dmMviLMIHHTVp/DF0PvT3JU26HqjjF94HcK6DulkHWoe2HfUBXqJ8hcEfuF1WWz7BAq/csj7U2TdU/h1PgZY66d8TbzymhnC+knAPtQw2Eu8jZPmj37yOQXbDBvKeskGmnpN39w1fnSQMo/2tQ8Xc78oVh7Y2pNAL1o+hA26g+7f2JrF6SGsJ38vvE7EvgMylHV9AufdsSVYR9dR8BR4X5/fsI84SCHAOdSVPuBxTGjnoM5BtsMi7GN2QtqXQlgHjwQ4NvKwAW/AfSnQeK9xgT5pwHkByvlAkG3l+ZT2hddvBMg7nC+8DnjMBtsnXcuW6mM5fH3WBdtXwtGnK58xZoMxZiA2Oh+DPfnuwJ5cs7E1NzOwEXFbY0w/Y8xyP3k9ga0+fgP7izALe8HZhr3Fc6Ax5mpjzFFf05c3Y0yuMeYhoCX2dQILsXdEnMA2taZgA9CHsMv6fAnmMQv7q/VtJ78c7K+c1dh12N7YJyEHy2cP9tfI69gLvefXSIkYY44YY67E1rhNwm6TY9ht9Ct2m7UzxjxV0nmUJ2PMh9jarfex7ynz1Hz9BAw2xlxlAjyYtyy2vbPf9sT+Ol1FwfvdApX7CIUfTOizn5YxJpXCzUI+mxa9y2OMuQ17zL2M7Zy7H3sCPYztt/kNtvblNGPMZ37y2WaM6YmtDRmPrQE55ORzEFv79SH2xN3AGLM9WNkiibFPue6AXUcbsftOJna/fxnoYIz5OsS89hpjzseuqw+xTUZHKFjfP2FrCv/Pz/TpxpjLsfvRW9iahwPYdZ2JPW9+jn1faJNQzhV+5vMJtgb3Y+w5PAe7byzBXuQ7GduXMGyMfaJ9a+xLntdjj7sMp0z3YGteSvuwXPf8nsDWbv0H+wP2OPbaNhn7jtbSnuuew55Pn8O+xHkzdj/IwQZaM7E3qrUyxvi6C9lTzmewD699BtuilOHksRPb/P8Kdn8pVQd3Y8ww7I+L/1KwPnZiWwG6GWOeDTB5RHGus6dhazS/wl7PjmLX215sjelYbO1jx2D5iRPJKaWUUkoVm/OA3JnO11uMMeMrrjSRLaw1XUoppZRS/6s06FJKKaWUCgMNupRSSimlwkCDLqWUUkqpMNCgSymllFIqDPTuRaWUUkqpMNCaLqWUUkqpMNCgSymllFIqDDToUkoppZQKAw26lFJKKaXCQIMupZRSSqkw0KBLKaWUUioMNOhSSimllAoDDbqUUkoppcJAgy6llFJKqTDQoEsppZRSpSIi74lImois9TNeROQ1EdkkIj+LSGfXuIEissEZ90D4Sh1+GnQppZRSqrTGAwMDjL8YaOV8hgL/AhCRWOANZ/xZwHUicla5lrQCadCllFJKqVIxxswB0gMkGQRMMNYioLaINAS6AJuMMZuNMceBSU7aqFSpogugIp9c2CTq34q+5ONJFV2EsGhavVlFFyEsasclVXQRyt2yvQsrughhMWbhhxVdhLD44cr3pTzyLZPz9087bsfWTnmMM8aMK2YujYHtru+pzjBfw7uWpJgnAw26lFJKKeWXE2AVN8jy5iuoNAGGRyUNupRSSqloJeVSgVYSqUBT1/cmwE4gzs/wqKR9upRSSqloFVMGn7LxDXCjcxdjN+CgMWYXsBRoJSItRCQOGOykjUpa06WUUkqpUhGRT4C+QLKIpAKjgMoAxpi3gO+BS4BNwBHgFmfcCRG5C5gKxALvGWPWhX0BwkSDLqWUUipahal50RhzXZDxBhjmZ9z32KAs6mnQpZRSSkWriOnSpUCDLqWUUip6RU5HeoV2pFdKKaWUCgut6VJKKaWilVatRBQNupRSSqlopc2LEUWDLqWUUipaacwVUbTiUSmllFIqDLSmSymllIpWMVrVFUk06FJKKaWilcZcEUWbF5VSSimlwkBrupRSSqlopXcvRhQNupRSSqlopTFXRNGgSymllIpW2pE+omifLqWUUkqpMNCaLqWUUipaaUVXRNGgSymllIpW2pE+omjQpZRSSkUr7dMVUbRPl1JKKaVUGGhNl1JKKRWttKIromjQpSLKu8Nf4NKuF5B2YB/thl5Q0cUpE8YYJr76CasWriG+ShxDH7yVFmc085v+g5c/Ys7383l32pthLGXJGGN47bk3WDxvCfFV4hn5+AhOb93KZ7p3xr7PrGmziYmNZdAfLuOaIVcyb+Z83n1zPDESQ2ylWO667w7ad2pXAUvinzGGZ596jnlz5lMloQpPPPUYrc9qXSTd4oWLeemFVzB5eSRUq8oTYx7jlGan5I9fu2YdN1x3I8+9+AwXXnRhOBchJMYYPnntc9YsXkdcfGVuHXkjzU4/pUi695+dSMqGbWAM9ZvW59YHbqBK1SqsX7mRsQ+9RXLDZAA69+7I5TdfEu7FCOjsem35a/shxEgMU7bO4fON3xca369JN/5wui3z0RPHGLtqAlsObQfgitMGMLD5eRgMKQdTeWnFu+TknQj7MhSb9umKKBp0RSAReRnYaox5xfk+FdhujLnN+f4isAPob4y51Mf07wAvGWN+EZEHjTFPhbH4pTL+x88Z+/V4Jox4paKLUmZWL1rD7u17eHHSU/y+bjPjX5jIY28/7DPt5vUpHMk6EuYSltzieUtI3baDj775gF/W/MpLY17lrQ/HFkn3w9dTSduTxsSv3icmJoaM9AwAOnftTM++PRARft+4mdEjnmDiV++HezECmjdnHtu2buPbKV+z5uc1PPnYU3z06cQi6Z58/CleHfsyp552Kp9+8hlv//sdnnjqcQByc3N55aVX6dGze7iLH7I1i9exJzWNpz4azeZfUpj40iQefmtEkXSD77qGhGoJAEwa+x9mfDmbS66/CIBW7Vvy92fuDGu5QxWDMKzDDTw4/wX2HU3n1X6PsnjXKrZl7sxPs/vIPkbMfYasnCOcU78dd3e6iX/MfpKkKrUZdNoF3P7TQxzPy2HkuXfQp0lXfto2vwKXKEQac0UU7dMVmRYAPQBEJAZIBtq4xvcAKvub2BhzmzHmF+frg+VVyPIwd81i0jMPVHQxytTyuavoNdAGFi3bnsbhrCNk7Cu6jHm5eXzyxmcMvuMPFVDKkpk3awEXXXohIkKb9meRlZnF/r37i6T7+vNvuWnoDcTE2FNOncQ6AFStmoA4v8SPHs2OyF/lM2fM5rJBlyIitO/QnszMTPbu3VsknYiQlXUYgKzMTOrWrZs/7pOPJnHBheeTmJQYtnIX16p5P9Pjoq6ICKe1acGRrCMc2H+wSDpPwGWMIedYTkRuM19OTzyVnYfT2H1kLydMLrNTl9CtYeFU/0gAACAASURBVKdCaX5N30RWjv3Rsz79d5ITCrZXrMQSFxtHjMQQXymO9OzoOk+p8NCarsg0H3jZ+b8NsBZoKCJ1gCNAa2AUcLGI/AdoCywH/mSMMSIyC7gXuAZIEJFVwDpjzPUi8ifgbiAOWAzcaYzJDd+i/e/J2JdBUr2Ck3divTpk7DtAneTahdL9OHk6nXt1LDI8ku1L20e9BgXBRd36ddmbto+kukmF0u1M3cnMqbOYO3M+terU4u8jhtGkWRMA5syYx9uvvUtG+gGeeX1MWMsfirS0NOo3aJD/vX79+qTtSSsUVAGMfvxR7vrr34ivEk/1atWYOGkCAHv2pDHjpxm8/f441q1dF9ayF0fGvgMk1quT/71O3Toc2HuA2km1iqR97+kJrFm8jobNGvDHYVfnD/993RZG3TqG2km1+OOdV9G4RaOwlD0UyVXqsPdoev73fUfTOaPOaX7TX9TsPJbtWQPA/uwDTN40hQkDX+B4bg4r0tayIi1yt2UhevdiRNGarghkjNkJnBCRU7C1WguxAVJ34BzgZ+A40Am4BzgLOBXo6ZXPA8BRY0xHJ+BqDVwL9DTGdARyget9lUFEhorIMhFZRurh8ljM/xnGmCLDvE+DGfsyWDJzGQOuPj88hSojPpfNR81HzvEc4uLjGPfxm1x21SU8M/qF/HHn9e/FxK/eZ8zLj/Hem5HVtAhAiMs4ccJHjH3rdabNnMqgKwfxwrMvAvD8089zz/C/ExsbW+5FLQ1f29JfLdatI2/kxclP07BZA5bOWA5As9Ob8tynT/DYew9x/tV9GfvQv8uzuGXExzID7ZPPZEDz3ry37jMAqleuSreGnbhl6giu/+EfxMfG069p5DYVFyJl8FFlRmu6Itd8bMDVA3gJaOz8fxDb/AiwxBiTCuDUZjUH5gXI83zgbGCpc9FIANJ8JTTGjAPGAciFTXyfmZRf0ybPYOa3cwA4tXVz9qcV/MJOT8ugtldtVsrGbezZkcbwwSMBOJ59nH9eO5KXPn06fIUO0ZeTvua7L2wH5DPanE7a7oKmtr179pLsVcsFtgbsvPN7A9C7fy+eGfV8kTQdzm7Pju27OJBxkNp1itauhNOkjz/li8+/AKBNuzbs2b07f9yePXuoW69wLVd6ejobN2ykfQd7E8BFFw/gzqHDAFi37hfuH/4AABkZB5g7Zx6xsZXof0G/cCxKQDO+nM2c72y/pOZnNCM9LSN/XMbeDGon+98OMbExdOl/NlMm/USvS7rnNzsCtO/Wlg9fnkTmgSxq1K5efgtQDPuyM6jrai5MTkhkv48mwuY1m3BPp1t4ZOFLZB63Pzg71j2LPYf3cvB4JgALdi7nrMSWzNy+MDyFL42TpPn3f4UGXZHL06+rHbZ5cTswHDgEvOekOeZKn0vw7SnAB8aYkWVbVOXtwqv7c+HV/QFYuWA10ybPoPsFXfh93WaqVq9apAmxU48OvPHNy/nf/3zhnREZcAFcOXgQVw4eBMDCOYv44tOvOX9gP35Z8yvVqlcr0rQI0KtfD1YsXcn/Nb6YVctW0+QU27SYum0HjZs2QkTY+OtvnMjJoVbtmmFdHl8GD7mWwUOuBWDO7LlM+mgSAy8ZyJqf11C9RvUiTYs1a9YkKzOLlJStNG/ejIULF9HitBYA/DDtv/npHnnwUc7r0zsiAi6A/lf2of+VfQBYvXANM76YTZfzz2HzLylUrZZQpGnRGEPajr3Ub1IPYwyrFqyhwSn1ATi4/yA1E2siImz+NQWTZ6heq1rYl8mfjRlbaFS9HvWrJrP/aAZ9mnTh2aWFa+PqJiTySNe7eH752+zI2pM/fO/RdM5MPI342DiO5R6nY72z+C1jS7gXQUUBDboi13xskLXZ6XOVLiK1sX28/oLtxxWKHBGpbIzJAaYDX4vIy8aYNBFJBGoYY7aWxwKUxMcPjqVv++4k10pk+8dLGTXhRd6bMqmii1UqHbu3Z/XCNQy/diRxziMjPJ6/9xVue+Am6iTXCZBD5OrWuyuL5i1hyGU3El8lngceuy9/3IhhDzJi1D9JrpfMkFuu48kHn+LzDyeTUDWBEaOGAzBn+lymfjuNSpUqEVcljlHPPeyz6a4i9T6vF/PmzOPSgZdTpUoVHh8zOn/csNvvYtQTj1KvXj0effwRhv/9XmJihJo1a/LYk6P9ZRmR2ndry5pF6xg5ZBRx8XHc+sAN+eNeGfEGN424nlqJNXnv6QkcPZyNwdD0tCbc8M/BACybvZJZX88lJjaGuPjK3D7q1ojalnkmj3+t/ognew4nlhh+3DqXbZk7uaR5XwC+T5nFkDMHUSOuOsM62GXPNbn8fdbjbMjYzLwdy3i932hyTS6/H9jGDymzK3BpikE7EUUU8dmOryqciMQCGcBrxpiHnWHjge7GmDNEpC9wr+eRESIyFlhmjBnv6UhvjFkmIs8ClwMrnH5d1wIjsYdiDjDMGLMoYFn+B5oXl3x8cgd2oWpa3f/zwaJJ7biitW3RZtnek6BpqwyMWfhhRRchLH648v1yiVDlttalPn+bd36NnOj5JKc1XRHKqd2q6TXsZtf/s4BZru93uf7v6/r/fuB+1/dPgU/LvsRKKaUijoZLEUUrHpVSSimlwkBrupRSSqloFUH96pQGXUoppVT00vasiKJBl1JKKRWttKYromgMrJRSSikVBlrTpZRSSkUrreiKKBp0KaWUUtFKX3gdUbR5USmllFIqDLSmSymllIpW2pE+omhNl1JKKRWtpAw+ocxGZKCIbBCRTSLygI/x94nIKuezVkRynff/IiIpIrLGGbesdAsc2bSmSymllIpS4XjpuPOu4DeAC4FUYKmIfGOM+cWTxhjzPPC8k/4y4B/GmHRXNv2MMfvKvbAVTGu6lFJKKVUaXYBNxpjNxpjjwCRgUID01wGfhKVkEUaDLqWUUipKiUhZfIaKyDLXZ6jXbBoD213fU51hvspTFRgITHYNNsCPIrLcR95RRZsXlVJKqShVFq2LxphxwLhAs/E1mZ+0lwHzvZoWexpjdopIPWCaiKw3xswpYXEjmtZ0KaWUUlEqRqTUnxCkAk1d35sAO/2kHYxX06IxZqfzNw34EttcGZU06FJKKaVUaSwFWolICxGJwwZW33gnEpFaQB/ga9ewaiJSw/M/MABYG5ZSVwBtXlRKKaWiVDjuXjTGnBCRu4CpQCzwnjFmnYj81Rn/lpP0SuBHY8xh1+T1gS+dclYCPjbGTCn3QlcQDbqUUkqpKBWOoAvAGPM98L3XsLe8vo8HxnsN2wx0KOfiRQwNupRSSqkoFa6gS4VG+3QppZRSSoWB1nQppZRSUUoruiKLBl1KKaVUlNLmxciiQZcKasnHkyq6COWuy5DBFV2EsLjxvisqughhcWZSo4ouQrlrVad5RRchLI7n5lZ0EU5qGnRFFu3TpZRSSikVBlrTpZRSSkUp8fmGHlVRNOhSSimlopQ2L0YWDbqUUkqpKKUxV2TRPl1KKaWUUmGgNV1KKaVUlIrRqq6IokGXUkopFaW0T1dk0aBLKaWUilIadEUW7dOllFJKKRUGWtOllFJKRSmt6IosGnQppZRSUUqbFyOLNi8qpZRSSoWB1nQppZRSUUpruiKLBl1KKaVUlNKgK7Jo0KWUUkpFKQ26Iov26VJKKaWUCgOt6VJKKaWilFZ0RRYNupRSSqkopc2LkUWDLqWUUipKadAVWbRPl1JKKaVUGGhNl1JKKRWlYrSmK6Jo0KWUUkpFKY25IosGXUoppVSU0j5dkUX7dCmllFJKhYHWdCmllFJRStCarkiiQZeqUMYYJr76CasWriG+ShxDH7yVFmc085v+g5c/Ys7383l32pthLGXZe3f4C1za9QLSDuyj3dALKro4JdYuqTXXn3kNMRLD7NQF/DdlWqHxDavW57a2f6JZzSZM/u07ftg6PX/cRaf0o0+THhgMqZk7eWfdh+TknQj3IuQzxrBkwhJSV+2gUlwlev21J0ktkoqky0zLZPbrcziWdYykFkn0vrMXsZVi/U5/cOdBZr0+O3/6rLQsOl7TkTYXn8XSj5axfcV2YivFUqN+dXre3ov4anHhXGyfjDH8960pbFj6G5XjK3P18Cto3LJhkXSfPfsFO37bSUylGJqc3pgr7r6U2EqxFVDi0Jxbvx3DOv6JGInh+y2zmbThu0LjezTszC1triIPQ25eHm+u/oi1+zcCcO/Zt9GtYUcOHDvEbdMerIjil4g2L0YWbV48CYjIlSJiROTMIOm+F5Ha4SpXWVi9aA27t+/hxUlP8ef7bmT8CxP9pt28PoUjWUfCWLryM/7Hzxn44J8quhilIgg3tv4jL654k5Hzn6Rbw7NpVK1BoTRZJw7z4frP+SFlRqHhdeJrcWGzPoxa9BwPLXiKGImha4Ozw1n8Inas2sGh3Zlc9dKVdL+tOwvfW+Qz3fJPlnPWxWdx9ctXEVctjt9m/hZw+lqNajHo6csZ9PTlXDbmUmLjYml2zikANGrXkCueG8SgZy+nZsNarPlmTXgWNoiNSzexb2c6/3z3b1xx92V8M/a/PtN16NeOe94ext3/uoMTx0+wbMqKMJc0dDEId3e6kZHzXuDWqQ/Qv2k3mtVoVCjNirR1/OWnh7n9p0d4Yfk7DD/71vxxU7fOZeS858Nd7FITkVJ/VNnRoOvkcB0wDxgcKJEx5hJjzIHwFKlsLJ+7il4DeyAitGx7GoezjpCxr+gi5OXm8ckbnzH4jj9UQCnL3tw1i0nPPKk2VRGn1mrOniP72Ht0P7kml8W7V9C5XvtCaTKPZ7Hl0DZyTW6R6WMklriYysRIDHGxcRw4djBcRfdp2/LtnNb7VESEeq3qcvzIcY5kFA7yjTHsWreb5l1tbWzL3qexbdn2kKfftXYXNevXoHrd6gA0bt+YmFh7Gq7bMpkj+w+X92KG5NdF6+l0fntEhFNaNyE7K5tD6ZlF0p3RpVX+hbnJGY04uO9QBZQ2NGcmnsaOrDR2Hd7LCZPLzO2L6NGoc6E02bnH8v+vEhuPcY1bs28Dh45HxvZRJy8NuiKciFQHegJ/xgm6RKShiMwRkVUislZEejvDU0Qk2fn/KxFZLiLrRGSoK78sERkjIqtFZJGI1K+AxcqXsS+DpHqJ+d8T69XxGXT9OHk6nXt1pE7ySVWRF9XqVKlFenZG/vf07AzqxNcKadqMYwf5IWU6L533BK/2GcORE0dZu399eRU1JEcyjlAtsVr+92qJVYsETccyjxFXLS4/UKqWVC0/TSjTb1mYQovuLXzO/7dZm2jcsXFZLEqpHdqfSa3kgm1ZM7kmh/YVDbo8ck/ksnL6z5x+TstwFK9EkhPqsPfo/vzve4+mk5xQp0i6no3O5v0BzzCm1z95Ydk74SxiuRAp/UeVHQ26It8VwBRjzEYgXUQ6A0OAqcaYjkAHYJWP6W41xpwNnAPcLSKezinVgEXGmA7AHOAvvmYqIkNFZJmILPtywjdlvEgFjDFFhnkf4xn7MlgycxkDrj6/3Mqhis9XB92iW9O3qpUS6FyvHffOHcU9sx8iPjaOHg3PLdsCFpePfbHo3hggSZDpc0/ksn35dpp3a14k1eqvfiYmVji156mhlLTc+VqUQBffb974Ly3aNqN5W//9MSORry02f+dybvnxAR5d8Co3t7k67GUqa9q8GFm0I33kuw54xfl/kvP9W+A9EakMfGWM8RV03S0iVzr/NwVaAfuB44Cn9+hy4EJfMzXGjAPGASzdOy/Ua2lIpk2ewcxv5wBwauvm7E9Lzx+XnpZBba/arJSN29izI43hg0cCcDz7OP+8diQvffp0WRZLFVN69gESqxTUFCRWqRNyE2GbpDPZe2Q/mTlZACzfs5qWtVuwYNfScimrP7/+uJ6NM21H6eRTkzmcXtB8dDj9CFXrJBRKH18jnuOHj5OXm0dMbAyH9x+mau2qAFRNrBZw+h2rdpDUIpGEWoXz3DRnE6krUrnooQEVeoFb9O0Sljp9spqc3oiD+wq25aF9h6iRVMPndNM/msXhg0cY9PBlYSlnSe07mkHdhIIbI+omJLL/aIbf9Gv2baBR9XrUjKvOoeNZ4ShiudCgKbJo0BXBnNqp/kBbETFALPbH2QjgPOD/gIki8rwxZoJrur7ABUB3Y8wREZkFVHFG55iC6qVcKmAfuPDq/lx4dX8AVi5YzbTJM+h+QRd+X7eZqtWrFmlC7NSjA29883L+9z9feKcGXBFgy6Gt1K9al+SEJDKyD9C1QWfe+nl8SNPuz06nZe0WxMVU5nheDmclncGWg9vKt8A+tB5wJq0H2PtTtq9MZf2P62nRvQV7N+0jLqEyVetULZReRGhwVgNSFm/l1B4t2DT3d045pykATc9uGnD6zQu2FGlaTF29gzXfruXiRwZSKb5iT8fdLutCt8u6ALB+yUYWfbuU9n3asn39DuKrxVMzsWjQtXTKCjYt/51bn76RmJjIvrivz9hM4+r1aVA1mX1HM+jXtBtjlvyrUJpG1eqx83AaAK1qN6NyTOxJHXCpyKNBV2S7BphgjLndM0BEZmMDrvnGmLdFpBrQGZjgmq4WkOEEXGcC3cJZ6OLo2L09qxeuYfi1I4lzHhnh8fy9r3DbAzdRJ7lov4uT3ccPjqVv++4k10pk+8dLGTXhRd6bMqmii1UseSaPies/477Ow4gRYc6ORew4vJt+TXoBMDN1HrXiajC62wgSKlUhzxgGNOvLyPlj2HxwK0v3rOSx7veTZ/LYeiiVWanzK3R5mnRszI5VqXzxjy+Ija9Er9t75o+b9uxP9Bzag6p1qnLOdWcz+/XZrPx8JYnNEmnVt1XQ6U8cO8GutbvocVv3QvNcPH4xuTm5TH36RwDqtqxLjz8XTlMRzji3FRuX/sZLt75O5SqVueofg/LHffDIR1x5z+XUTKrBN69/R+16tXnrn+8C0KZHa/pf36eiih1Qnsnj9VUTeLb3CGJE+CFlDlsP7eDSU/sB8N3mmZzX5FwuPKUnJ0wux3NzeGJRwaNpHupyBx3qtqZWfHUmXfIKH/zyBT+kzKmoxQmZ1nRFFvHVp0ZFBqeG6hljzBTXsLuBfwCHgRwgC7jRGLNFRFKwfbgyga+AxsAGoC4w2hgzS0SyjDHVnbyuAS41xtwcqBxl3bwYiboMCXhjaNS48b4rKroIYXFmUqPgiU5yreo0r+gihMW/VkwJnigKTL9mQrlER2e8PLDU5+8N/5gStGwiMhB4Fdsi844x5hmv8X2Br4EtzqAvjDGPhzJtNNGarghmjOnrY9hrwGt+0jd3fb3YT5rqrv//A/ynVIVUSikVscJR0yUiscAb2D7CqcBSEfnGGPOLV9K5xphLSzhtVNC7F5VSSilVGl2ATcaYzcaY49ibvgYFmaYspj3paNCllFJKRamyeGSE+xFCzmeo12waA9td31OdYd66O8+I/EFE2hRz2qigzYtKKaVUlCqL5kX3I4T8zcbXZF7fVwDNjDFZInIJtt9xqxCnjRpa06WUUkqp0kjFPg/Sowmw053AGHPIGJPl/P89UNl5g0rQaaOJBl1KKaVUlArTa4CWAq1EpIWIxGFfWVfoVSYi0kCcajcR6YKNP/aHMm000eZFpZRSKkqF4+5FY8wJEbkLmIp97MN7xph1IvJXZ/xb2OdO3iEiJ4CjwGDnQd0+py33QlcQDbqUUkqpKBWuh6M6TYbfew17y/X/WGBsqNNGK21eVEoppZQKA63pUkoppaKUvgYosmjQpZRSSkUpjbkiiwZdSimlVJTSmq7Ion26lFJKKaXCQGu6lFJKqWilNV0RRYMupZRSKkpp82Jk0aBLKaWUilIac0UW7dOllFJKKRUGWtOllFJKRSltXowsGnQppZRSUUqDrsiiQZdSSikVpTToiizap0sppZRSKgy0pksppZSKUlrRFVk06FJKKaWilDYvRhYNulRQTas3q+gilLsb77uioosQFhOe/6qiixAWl999cUUXodwt25VS0UUIi1s69K3oIpzUNOiKLNqnSymllFIqDLSmSymllIpSWtMVWTToUkoppaKUBl2RRYMupZRSKkppzBVZtE+XUkoppVQYaE2XUkopFaW0eTGyaNCllFJKRSkNuiKLNi8qpZRSSoWB1nQppZRSUUpruiKLBl1KKaVUlNKYK7Jo0KWUUkpFKa3piizap0sppZRSKgy0pksppZSKVlrTFVE06FJKKaWilDYvRhYNupRSSqkoFaMxV0TRPl1KKaWUUmGgNV1KKaVUlNLmxciiQZdSSikVpWI06IooGnQppZRSUUpruiKL9ulSSimllAoDrelSSimlopTWrEQWDbqUUkqpKKV9uiKLBsFKKaVUlBKRUn9CnM9AEdkgIptE5AEf468XkZ+dzwIR6eAalyIia0RklYgsK8PFjzha06WUUkqpEhORWOAN4EIgFVgqIt8YY35xJdsC9DHGZIjIxcA4oKtrfD9jzL6wFbqCaNClwsoYw2vPvcHieUuIrxLPyMdHcHrrVj7TvTP2fWZNm01MbCyD/nAZ1wy5knkz5/Pum+OJkRhiK8Vy13130L5TuwpYksDaJbXm+jOvIUZimJ26gP+mTCs0vmHV+tzW9k80q9mEyb99xw9bp+ePu+iUfvRp0gODITVzJ++s+5CcvBPhXoRSe3f4C1za9QLSDuyj3dALKro4Jdapbhv+0nYwMRLDtG1zmbxpSqHxfRp35aqWAwHIPpHNv9Z8RMqhVADGnf80R09kk2cMeSaX4XPHhL38oepYtw23trmWGIlh+rZ5fPl74eXs3bgLV55ml/PoiWOMW/MRWzNTqRxTiSd63EflmErESiwLdy3n043fVsQiBGWMYeq46Wxa9juV4ytz+T2X0LBlgyLpln67nMXfLCNj1wGGf/Q3qtaqmj8u5edt/Pj2dHJzc6lasyo3PTMknItQbGFqXuwCbDLGbAYQkUnAICA/6DLGLHClXwQ0CUfBIs1JG3SJyJXAF0BrY8x6Z1hd4DsgDrjbGDPXa5p3gJe8ou+yLlddYCdwlzHm3+U4nwXGmB7llX95WTxvCanbdvDRNx/wy5pfeWnMq7z14dgi6X74eippe9KY+NX7xMTEkJGeAUDnrp3p2bcHIsLvGzczesQTTPzq/XAvRkCCcGPrP/Lc8rGkZx9gdLf7WLl3DTsP785Pk3XiMB+u/5zO9ToUmrZOfC0ubNaHkfPHkJOXw7D2t9K1wdnM27k43ItRauN//JyxX49nwohXKrooJRaDcHu7IYxa9DL7j2bwQu+HWLJ7NduzduWn2XNkHw8ueJ7DOUfoXK8tw9rfwH3zns4f//DCF8k8nlURxQ9ZDMJf2g7h8cV2OZ/t/SBL96wm1bWcaUf28cjCFzicc4ROddvy1/Y3MHL+0+TknWD0wpfIzj1GrMTyZI8RrEhby28HtlTgEvm2adlm0nemM2zcUHZs2Mn3b/7In1+6sUi6Jmc1oVWXlkwY+XGh4dlZ2fzwrx8Z8tgfqVWvJocPHA5X0UusLB4ZISJDgaGuQeOMMeNc3xsD213fUylci+Xtz8APru8G+FFEDPBvr7yjysncp+s6YB4w2DXsfGC9MaaTj4Ar1hhzW3kGXI4/YKP468ojc6cal5Mx4AKYN2sBF116ISJCm/ZnkZWZxf69+4uk+/rzb7lp6A3ExNhdtE5iHQCqVk3IP4kcPZoNEdhJ9NRazdlzZB97j+4n1+SyePcKOtdrXyhN5vEsthzaRq7JLTJ9jMQSF1OZGIkhLjaOA8cOhqvoZWrumsWkZx6o6GKUSqs6Ldh9eC97juzjhMll7s6ldGnQsVCa9Rm/czjnCAAbMjaTVKVORRS1VFrWbsHuw2n5yzlvx1LOrV/4B8GGjM35y7nxwGaSEmrnj8vOPQZArMRSKSY2fAUvpo2Lf6N9/7aICE3ObEz24WNkphcNiBueVp/a9WsVGb529i+c2eN0atWrCUC12tXKvcylFVMGH2PMOGPMOa6Pd1Dk60RsfJVHRPphg677XYN7GmM6AxcDw0TkvJIs68ngpAy6RKQ60BO74QY7wzoCzwGXOJ3xEkQkS0QeF5HFQHcRmSUi5zjpB4rIChFZLSLTnWFdnA5+K52/ZzjDbxaRL0Rkioj8JiLPBSjedcBwoImINHaVOUtEnhWR5SLykzOvWSKyWUQud9LEisjzIrLU6Wx4uzO8r4jMFJGPgTWe/Fx5j3A6Ia4WkWecYX9x8lktIpNFpKozfLyIvOYs32YRuab0WyR0+9L2Ua9B3fzvdevXZW9a0Wb8nak7mTl1FkOH3Ml9w0aSujU1f9ycGfO44YpbeOBvD3H/6HvDUu7iqFOlFunZGfnf07MzqBNf9ATuS8axg/yQMp2XznuCV/uM4ciJo6zdv768iqqCSKpSm31H0/O/78/OIKlKbb/pL2zaixVpawsNe6zbPbzY+2EGnNK73MpZWokJtdmXXbCc6dkHSErwHzye37QnK13LGYPwQu9HeG/AC6ze+0tE1nIBZO7PomZyzfzvNZNqkLk/M+Tp9+9IJzsrmwkPfMzbfx/P6ulrg0/0vyEVaOr63gTb4lOIiLQH3gEGGWPyf20bY3Y6f9OAL7HNlVHppAy6gCuAKcaYjUC6iHQ2xqwCHgU+NcZ0NMYcBaoBa40xXY0x8zwTO02AbwNXG2M6YGunANYD5xljOjl5PeWaZ0fgWqAdcK2IuHcwT75NgQbGmCXAZ056j2rALGPM2UAm8CS20+GVwONOmj8DB40x5wLnAn8RkRbOuC7AQ8aYs7zmebGzPro6y+IJCL8wxpzrDPvVydujIdALuBR4psjatfkOFZFlIrJs4rsf+UpSIsYU/fHjq/o753gOcfFxjPv4TS676hKeGf1C/rjz+vdi4lfvM+blx3jvzchqWgTbvOjN508+H6pWSqBzvXbcO3cU98x+iPjYOHo0PLdsC6iKIfRt2S7pDC44KpP38QAAIABJREFUpRcf/Do5f9gD857hn3Oe5PHFr3JJ836clVi0/2Ik8LnP+jhWAdomncH5TXsx8dcv8oflYbh37hMM/el+WtVuQdMajcqtrKUR6vnHn7xcw65Nuxk8+hquf/yPzJu0gP070oNPWIFiREr9CcFSoJWItBCROGxlyDfuBCJyCrZL0A3OtdszvJqI1PD8DwwAojaaPVn7dF0HeDqKTHK+r/CRLheY7GN4N2COMWYLgDHGc9TUAj4QkVbYc2tl1zTTjTEHAUTkF6AZhduwwe5on7nK9S7wkvP9OODpmboGOGaMyRGRNUBzZ/gAoL2r9qkW0MqZdomnvF4uAN43xhzxWpa2IvIkUBuoDkx1TfOVMSYP+EVE6vvIE6f6eBzA7qPbQ40ZfPpy0td898X3AJzR5nTSdu/NH7d3z16S6yYVmaZu/bqcd76tGejdvxfPjHq+SJoOZ7dnx/ZdHMg4SO06odUkhUN69gESXU1MiVXqhNxE2CbpTPYe2U9mjq3IXL5nNS1rt2DBrqXlUlYV2P7sDJITEvO/J1WpQ3p20SbTZjUaM6zDjTy++DUycwr6+aQ72/3g8UwW7V7J6bVb8Ev6b+Vf8GLafzSD5CoFy5lYpbbf5byj/Y08ueRVsnKK9meyNbMb6FS3Ddszi1R0VIil361g5dTVADRq1YBD+w7ljzu0P5PqidVDzqtmcg2q1kwgrkoccVXiOKVtE/ZsSSOpcWLwiStIWfTpCsYYc0JE7sJeZ2KB94wx60Tkr874t7AVGUnAm06ZThhjzgHqA186wyoBHxtjpviYTVQ46Wq6RCQJ6A+8IyIpwH3Ymidfe1a2MT46zdifr74CiSeAmcaYtsBlQBXXuGOu/3PxHbBeB9zslOsboIMTwAHkmIKfWXme/Jzgx5OXAH9zauo6GmNaGGN+dMb567Hpb1nGYzvztwMeC7As5X5EXjl4EO9+9m/e/ezf9O7Xk6nfTcMYw7qff6Fa9Wok+Qi6evXrwYqlKwFYtWw1TU6xN7qkbtuR/2t146+/cSInh1q1axaZviJtObSV+lXrkpyQRKzE0rVBZ1am/RzStPuz02lZuwVxMTbePyvpDHZm7SnP4qoAfjuQQsNq9aiXkEwliaV3o3NZsnt1oTTJCYmMPPdOXln5HjsPF2yr+Ng4EmLj8//vVPcstmbuCGv5Q7XpoGc5k6gksfRqfC7L9ngtZ5VE7jvnDl5b9S67DqflD68ZV52qlRIAiIupTPvk1uzI2k2kOPfSzgx9/RaGvn4LZ3Q/nZ9nrMUYQ+r6HVSpGk+NYgRdp3drybZ1qeTl5pGTncOODbtIblL0/BVJwlTThTHme2PM6caY04wxY5xhbzkBF06f6jqu69s5zvDNxpgOzqeNZ9podTLWdF0DTDDG3O4ZICKzsc1loVoIvCEiLYwxW0Qk0akhqgV4zoo3F6dQTv+vasYYdz+ux7C1X0+EmM1U4A4RmeHUgp3uKo8/PwKPisjHxpgjrmWpAewSkcrA9SHkExbdendl0bwlDLnsRuKrxPPAY/fljxsx7EFGjPonyfWSGXLLdTz54FN8/uFkEqomMGLUcADmTJ/L1G+nUalSJeKqxDHquYcj7oWueSaPies/477Ow4gRYc6ORew4vJt+TewuOjN1HrXiajC62wgSKlUhzxgGNOvLyPlj2HxwK0v3rOSx7veTZ/LYeiiVWanzK3iJSubjB8fSt313kmslsv3jpYya8CLvTZlU0cUqljyTx7i1HzO62z3EiDB9+3y2Z+1kYLM+AEzZOpvBrS6lRuVq3N7uemca+2iI2vE1GXnOnQDExsQyZ8diVu5dV2HLEkieyeOddZ/wSNd7iJEYZmyfz/asXQw4xfZn/nHbHP5w+v9Ro3I1/tLWLmeuyeX+eU9RJ74Wd3W8hViJQRAW7FrG8rQ1Fbk4frU851Q2LfudN/4yjkrxlbj8nkvyx30y6nMuvXsgNZJqsOSbZSyYvJisjMP8+2/v0/KcU7ns7oup2zSZ085uwb/veg8RodNF7anXvG6AOSpVmPhrt49UIjILeMZd/SgidwOtgcX8P3v3HV9Flf5x/PMkGHonQRAERFQEEaxUFUXFyiquveKKrn3FVcSKXVdd264uKou6KhbwJzZEEEEU6U1sIL1IgIASOsnz+2Mm4aYAAZJ7L+P3zeu+cmfmzMxzksu9zz3nzBk4wt2vD9dnu3uVQvve6u4Tw7FQDxO09mW6+4lm1g54FVgOfEHQ99zYzC4vdNyPgCfc/cuYY98HVHD33jHrWgED3f3g2FjCstnu/kRsnGaWQjDW6wyCFqjlBOO12oRxnx5z7Njj9QYuJeiG/MTd+5jZX4HbgPkE3ZlV3f1yMxsAfOTu7xX3OyrO7nYv7glu/+qxRIcQF6/94/8SHUJcnHnjKYkOocyVS7IvG2XlrAPbJjqEuLi4WY8y+YOe98k1u/3+/fapL/4xXmxxsMclXRJ/SrqiQ0lXdCjpipaySrou+PSvu/3+/dYpL/wxXmxxsMeN6RIRERHZE+2JY7pERESkBOJ0GyApISVdIiIiEZVsFxr90SnpEhERiSi1dCUXjekSERERiQO1dImIiESU2rmSi5IuERGRiFL3YnJR0iUiIhJRSrqSi8Z0iYiIiMSBWrpEREQiSlNGJBclXSIiIhGl7sXkoqRLREQkopRyJReN6RIRERGJA7V0iYiIRJS6F5OLki4REZGIUtKVXJR0iYiIRJSuXkwuGtMlIiIiEgdq6RIREYkotawkFyVdIiIiEaXuxeSipEtERCSiNJA+uajlUURERCQO1NIlIiISUWrpSi5KukRERCJKY7qSi5Iu2aEaabUTHUKZO6h2/USHEBdn3nhKokOIiyHPfproEMpcm3OPTHQIcXFQ24MSHcIeLUV3X0wqGtMlIiIiEgdq6RIREYkodS8mFyVdIiIiEaWB9MlF3YsiIiIicaCWLhERkYgyDaRPKkq6REREIkpjupKLki4REZGI0piu5KIxXSIiIiJxoJYuERGRiDK1rSQVJV0iIiIRpe7F5KKkS0REJKI0kD65qN1RREREJA6UdImIiESUlcK/Ep3HrKuZ/WRms82sdzHbzcyeDbdPN7PDSrpvlKh7UUREJKLiMabLzFKBfwEnAouACWY2xN2/jyl2CtAsfBwNvAAcXcJ9I0MtXSIiIhFlZrv9KIGjgNnuPsfdNwEDgW6FynQDXvPAt0ANM6tXwn0jQ0mXiIiIbJOZ9TSziTGPnoWK7AMsjFleFK4rSZmS7BsZ6l4UERGJqJRSaFtx935Av+0UKa45zEtYpiT7RoaSLhERkYiK05QRi4CGMcsNgCUlLJNWgn0jQ92LIiIiERWnMV0TgGZm1sTM0oDzgSGFygwBLg2vYmwL/ObuS0u4b2SopUtERER2mbtvMbPrgc+AVKC/u880s2vC7S8CnwCnArOBdcAV29s3AdWICyVdIiIiEZVSwnm2dpe7f0KQWMWuezHmuQPXlXTfqFLSJSIiElG6DVByUdIlIiISUbrhdXLRQHoRERGROFBLl8SVu/PYw48zZvTXVKhYgQce7kvzg5sXKTdu7DieeuJpPDeXipUr8cBDfdm30b7527+bMZNLLriUx598lBNPPjGeVSjA3Rn/2ngWTV1MubRydLymA7Wb1C5Sbk3mGkY9N5qN2Rup3aQ2na7tSGq51G3u/9uS3/jyuVH5+2dnZtP6nNa0OOVgJrwxkYWTF5JaLpWqdavQ4eqOlK+cFs9q52uT3oKrWp5PiqXw+YKvGDR7aIHtx+5zNGfv3xWADVs28MKMN5j3+yIA+p3wCOu3bCDXnVzPoddXD8U9/tLwSq8nOP3oLmSuXsEhPbskOpxd1r5BG25tdyWplsL7Pw1nwLTBxZY7uM7+vNrtUXp/8SQj5o4lLXUvXj79IdJSy5GaksqIOWN5cfLAOEdfMu7Oa0+/ybSx00mrkMbVd15JkwMbb7P8q0/9j1GfjKH/8GBo0pL5S/nPQ68w7+f5nNvzbE678JQ4Rb7rSnrvRIkPtXSVMTPLLrR8uZk9Hz6/xswujVMc95tZwj8Rxowew4L5C/hw6Afc0/cuHuz7cLHlHrz/YR55/CHeef9tTj3tFF76z8v523Jycnj6qWdo36FdvMLepsVTF/P7r2s4+6mzaPeXdozt/22x5Sa9NYmDTzmY7v88m7TKacwaOWu7+1evX51uj5xJt0fO5IyHTic1LZVGRwRJZ/1D6vGnx7vR7bEzqVavOjOGzIhPZQtJwbj6kAvpO+4Zrh95D53qH0XDKvUKlFm2bgV9vvkHN43qy9uzPua6VpcU2H7X2Cf52+j799iEC2DAsHfp2ufiRIexW1Ishds79OSGoQ/Q/b0b6dq0I01qNCi23E1HX8rYRVPz123K2czVH9/D+YNv4YJBt9CuYRsOyTggnuGX2LSx0/l10TKefPtRrrztcv77xOvbLDvnh7mszV5XYF3lapW59G8XctoFXcs61FKTYim7/ZDSo99mArn7i+7+WpzOdY+7D4/HubZn5BejOKPb6ZgZrQ5txZo1a1i+fHmRcmZGdvZaALLXrCE9PT1/21tvDKTLiSdQq3atuMW9LQsmLaRpp/0wMzKapbNp3SbWrSr4Ru3uLJ35K42PbgTA/p2asmDiwhLvv/S7pVSrW5Uq6VUA2KfVPqSkBv910/evw7qVa8u6msVqVrMJv65dzrJ1K9jiOXy1ZAJH7d26QJkfV/3C2s1BfX5aNYfaFWomItQy9dWMcWStWZ3oMHZLy/RmLPp9KYvXLGNL7hY++2UMxzU6qki581ucyoi5Y8na8FuB9eu3bACgXEoq5VKCFtxkNGnMFDp1bY+Z0axlU9atWceqFUX/drk5ubz5r3e44NpzC6yvXrMaTZvvR2q51HiFvNviNE+XlJCSrgQys/vM7Nbw+Y1m9r2ZTTezgTHbXzezL8xslpldFa6vYmYjzGyymc0ws27h+sZm9oOZvWRmM81smJlVDLcNMLNzwudHmtk3ZjbNzMabWdV41TkzM5O6e++dv1y3bl0yl2UWKXff/fdw/TU3cGLnk/loyMf0uOoKAJYty+SL4V/w5/POiVfI27Vu1Toq16qcv1y5VqUiSdPGNRtJq5yWnyhVrl05v0xJ9p87dh5N2jUp9vyzvpzNPq0Tc5uy2hVqsGJ9Vv7yyg2rqF2hxjbLn9iwI5Mzvyuwrm/bm3my012ctG+nMotTdiy9ci1+zV6Rv5y5diUZlQt2k6dXqkXnxm1574fPiuyfYim8dfZTDL9kAOMWT+O75bPKPOZdkbV8NbUztn5Zq5VRk1XLVxUpN2zQcA7v2Jqadbb9ehbZFUq6yl5FM5ua9wDu30a53kAbd28FXBOzvhVwGtAOuMfM6gMbgLPc/TCgM/Ckbf060gz4l7u3AFYD3WNPEs74+zZwk7sfCnQB1hcOJvYGp6+81H/Xal6cYr4BF/dN6vXX3uD5F5/j85Gf0e2sbjzx2JMA/OORf3Bzr5tITU2Sb5rFfqMvwTfDvCI72D9nSw4LJy2kcdvGRUpN+7/ppKQa+3XYrySRloGi9dxW+8YhtQ+ky74defWHQfnreo95lFtGP8j9457h1MadObhWszKKU3akuHE/XuiveWu7K3l2/Gvkem6RsrmeywWDb6Hrm3+hRXozmtbct0iZpFCC959Vy1cxbuRETjon4aMxSoWVwj8pPRpIX/bWu3t+n4uZXQ4cUUy56cAbZvZ/wP/FrP/A3dcD681sJHAU8DHwsJkdA+QS3JG9blh+rrvnDbiYBDQudJ4DgaXuPgHA3X8vLujYG5xuyFm3W30FA998m8HvBoNyWxzSgmW//pq/bdmyZaRnpBcon5WVxc8//UyrQw8B4ORTTuLansGcejNnfs/tvXoDsGrVar4aPYbU1HIc36Xz7oS4U34Y9iM/j/wZgDr71WFt1tbuvbVZ66hUs2KB8uWrlmfT2k3k5uSSkprC2pVrqVSjEgCValXe7v6Lpy6mdpNaVKxe8JizR89m0eRFnHznSQlr/l+5YRV1Km5tNahdoSZZG4p21TSqug/XHXop9497ljWbt9Y1a2PQRfXbpjV8++sUDqjRhO+zkrOFJOoy165k7yp18pczKtdm+dqsAmUOTm/KI8f3AqBGhap0bHg4Obk5fDl/fH6Z7E3rmLT0O9o3aMMvqxbEJ/gdGDZoBCOHBBel7Ne8CSszt9YrK3MVNQq1Zs2btYBli5Zxy3m3A7BpwyZuOfd2nnrnsfgFXYo0ZURyUdKVPE4DjgHOBO42sxbh+sIJjwMXAenA4e6+2czmARXC7RtjyuYABT+tg+aJuA64OP/C8zj/wvMAGD3qKwa+MZCup3ZlxvQZVKlapcB4LYBq1aqRvSabefPm07hxI8aO/ZYmTYPutU8//zi/3N197uGYYzvFNeECaH7SQTQ/6SAAFk5ZxI/DfqRJuyYsn72CtIp7UalmpQLlzYy9D96beePms1/7Jsz+6hf2PSK4v2vDwxtud/8538wt0rW4aNpiZnz4Hafc3ZVy5RP3X3jW6nnUq5xBRsU6ZG1YRaf6R/Lk5JcLlKlTsRZ3HHktT0/pz5K1y/LXl09NIwVjfc5Gyqem0Sb9YAb+/FG8qyChmctn0bBaPepXzSBzbRYnN+1In5H/LFDmjIFbG+DvO/YGvlowkS/nj6dGhWpsyd1C9qZ1lE9N4+h9DmXAtPfjXYVtOqn7CZzU/QQApnwzjWGDRtCuy9HMnjmHilUqFulCbNP+UP794TP5yz26XLPHJlySfJR0JQEzSwEauvtIMxsDXAhUCTd3M7NHgMrAcQTdkH8GMsOEqzPQaCdO9yNQ38yOdPcJ4Xiu9e6+pbTqsz2djunImNFjOL3rmVSoUIH7H7ovf9t1V1/PvQ/cQ0ZGBvfcfze9brqVlBSjWrVq9H3wvm0dMqEatN6HxVMXMfhvg0ktX46OV3fI3/b5Y8Pp0LM9lWpW4ogLDmfUc6OY8u4UajWqRbPjmu1w/y0bt7D0u6W0/0vBqzTHDRhHzuYcPntkGADp+6fT/sr4X8mZ67n0++5N7mt7MylmjFj4NQuzl9C10bEADJ0/ivObnU7VvSpz9SEXhfsEU0PUKF+NO464FoDUlFRGLx7HlOV75u3W3uzzPMe1aked6rVY+OYE7n3tSfoPTc4pE7Ylx3N57JuX+Ncp95JiKQz5aQRzVi2ke/OTARhUzDiuPOmVatL32BtJtRTMUvh8ztd8tWBivELfKa3btWLq2Onccu7twZQRfa7M3/Z4r6e4qvcV1Ezf9sUeq1f+xl1X9mX92vWkpBifvvM5j7/xEJUqF/5umzzUPZhcLFmvMokKM8t29yoxy5cDR7j79WZ2H5ANPAOMBKoTtET9z90fDbfXB5oC+wKPu/tLZlYH+BDYC5gKdADyJoz5yN1bhue6Faji7veZ2YBw23tmdiTwHEEr2Hqgi7sXmNoi1u52L+4J/jn16USHEBffLpmb6BDiYsiznyY6hDLX5twjEx1CXPQ76++JDiEujqjTvkyyoxdnPrfb79/XtLhBmVspUUtXGYtNuMLlAcCA8Pl9MZs6buMQP7t7z0LHWEEwsL44LWPKPRHz/PKY5xOAtjuKXURE9mymebaSiv4aIiIiInGglq4kVqglTEREZKdoTFdyUdIlIiISUZoyIrko6RIREYko3cYnuWhMl4iIiEgcqKVLREQkolI0piupKOkSERGJKHUvJhclXSIiIhGlebqSi/4aIiIiInGgli4REZGI0piu5KKkS0REJKI0piu5KOkSERGJKM1In1w0pktEREQkDtTSJSIiElHqXkwuSrpEREQiSgPpk4uSLhERkYjSPF3JRX8NERERkThQS5eIiEhE6erF5KKkS0REJKI0kD65KOkSERGJKLV0JReN6RIRERGJA7V0iYiIRJS6F5OLki7ZoYnLxyY6hDLXrGbjRIcQFxOXzkt0CHHR5twjEx1CmZvyzoREhxAXjS/ZL9Eh7NE0T1dyUfeiiIiISByopUtERCSi1L2YXNTSJSIiElFGym4/djsGs1pm9rmZzQp/1iymTEMzG2lmP5jZTDO7KWbbfWa22Mymho9TdzuoBFHSJSIiElFmttuPUtAbGOHuzYAR4XJhW4Be7t4caAtcZ2YHx2z/p7u3Dh+flEZQiaCkS0RERMpSN+DV8PmrwJ8KF3D3pe4+OXy+BvgB2CduEcaJki4REZGIstL4Z9bTzCbGPHruZBh13X0pBMkVkLHdmM0aA22AcTGrrzez6WbWv7juyT2FBtKLiIhEVEopdA+6ez+g3/bKmNlwYO9iNt25M+cysyrAIOBmd/89XP0C8ADg4c8ngR47c9xkoaRLREQkouJ1GyB377LNGMyWmVk9d19qZvWAzG2U24sg4XrD3QfHHHtZTJmXgI9KL/L4UveiiIiIlKUhwGXh88uADwoXsGDE/ivAD+7+VKFt9WIWzwK+K6M4y5ySLhERkYhKkqsXHwVONLNZwInhMmZW38zyrkTsAFwCHF/M1BCPm9kMM5sOdAb+VhpBJYK6F0VERCKqNObZ2l3uvhI4oZj1S4BTw+djoPi+UHe/pEwDjCMlXSIiIhGlGemTS+JTYBEREZE/ALV0iYiIRFRKnK5elJJR0iUiIhJR6l5MLkq6REREIipe83RJyWhMl4iIiEgcqKVLREQkotS9mFyUdImIiERUMszTJVsp6RIREYmo0rjhtZQepcAiIiIicaCWLhERkYjS1YvJRUmXiIhIRGkgfXJR0iUiIhJRaulKLkq6JK7cnbeefZcZ42aSVn4vetxxKY0O2LdIuf8+9jrzfloA7tRtWJcevS+hQqUK/DjlZ56/80Xq1KsDwGGdWnPm5afGuxo7xd35+MWh/DRhFnuV34vuvf7EPvvXK1LunccGs3jWElLKpdDggH34042nk1ouNQERl1zr9Bb0aHEeKZbCiAVjeP+XoQW2d9rnKM5q2hWA9Vs20m/GG8xfs4i9UsrxQPu/s1dKOVItlbFLJ/H2zx8mogo71L5BG25tdyWplsL7Pw1nwLTBxZY7uM7+vNrtUXp/8SQj5o4lLXUvXj79IdJSy5GaksqIOWN5cfLAOEdfOl7p9QSnH92FzNUrOKRnl0SHs8vcnacfe5axY8ZRoUJ57nzgDg5sfkCx5fo9/zIjh31JSmoKZ/25G3++6Byy12Rzf58HWfZrJlu25HDhZedx2p+S+/1HkssOB9Kb2Z1mNtPMppvZVDM7Olx/s5lV2tkTmln2rgQa7nu5mdXfyfLLzWyKmc0ys8/MrH3M9vvNbKffQczsmxKUmWdmdUpavoTnbWxm321jWz0z+yh83iH8e00ws/3DdTXC+lvMPsPNrGZpxFZSM8bNZNmiTB5+4z4uvfUiXn+q+A+h868/h77976Tvf++iVkZNvnh/VP62Zq32575X+nDfK32SPuEC+HnCbFYsyeKWV27gTzeewZDnPy623KGdD+Hml67jxhf+ypZNW5g4dHKcI905KRhXtbyQh8Y/y81f3kvHfY6kQZWCyWTmuhXcPfYJbhl9P+/N+phrWl0CwObcLdw39il6jX6AXqMfoHV6S5rVaJKIamxXiqVwe4ee3DD0Abq/dyNdm3akSY0GxZa76ehLGbtoav66TTmbufrjezh/8C1cMOgW2jVswyEZRT/g9wQDhr1L1z4XJzqM3TZ2zDgWLVjE2x++wW333MoTDz5VbLlPPviUzF8zefOD13nz/16nS9cTABj09vs03q8xr77bn+dfeYbnnvw3mzdvjmcVdpqZ7fZDSs92ky4zawecDhzm7q2ALsDCcPPNwE4nXbvpcqDESVfobXdv4+7NgEeBwWbWHMDd73H34TsbhLu333GpXS+/i24BXgqf9wK6A32Av4br7gYedneP2ed14No4xJZv6pjptD/5aMyMpi2asC57HatX/lakXMXKFYHgG+fmjZthD/6P/8O3P9LmhFaYGfs2b8CG7A38nrWmSLkDj2qW/ybX4MD6/Lbi9wREW3L712jCr2szWbZuBVs8hzGLJ3Bk3UMLlPlp1RzWbl4HwM+r51C7Yo38bRtyNgKQaqmUS0nOFr2W6c1Y9PtSFq9ZxpbcLXz2yxiOa3RUkXLntziVEXPHkrWh4Gt5/ZYNAJRLCepY8L/fnuOrGePIWrM60WHstjEjx9D1jJMxM1q2asGaNdmsWL6ySLn33/mAK66+jJSU4COyZu3gu6mZsW7dOtyd9evWU616NVJTk/O1myelFP5J6dnRb7MesMLdNwK4+wp3X2JmNxIkPyPNbCQUbMEys3PMbED4vImZjQ1bXR6IPbiZ/T1cP93M+obrGpvZD2b2UtjCNszMKprZOcARwBthi1tFM3vUzL4P939iR5V195FAP6BneK4B4XEp7lhmVtfM3jezaeGjfWxdzew4MxsdlvnezF40syK/00LlvzSz98zsRzN7I6/lycwON7NRZjYpbJGqF7N+mpmNBa7bTvW6A3l9O5uBigRJ8WYzawrs4+6jCu0zBLhgR7+30rRqxWpqZWxtXKuZXpPVy4t/M+//yGvcclZvli74lRPOPi5//S8z53Jvj4f459+fZ/HcJWUd8m77feUaqtepnr9crU41fl9RNOnKk7MlhykjpnPAEfvHI7xdVqtiDVZsyMpfztqwmtoVt91wekLDDkzJ3NpQm4LxRKe76X/SE0xb/j2zVs8t03h3RXrlWvyavSJ/OXPtSjIq1y5YplItOjduy3s/fFZk/xRL4a2zn2L4JQMYt3ga3y2fVeYxy7Ytz1xBRt2M/OWMuuksz1xepNziRUsY8dlIelzQk17X/p2F8xcB0P38s5k3Zz7dupzNpedcwc233ZCfmImUxI5eLcOAhmb2s5n928yOBXD3Z4ElQGd377yDYzwDvODuRwK/5q00s5OAZsBRQGvgcDM7JtzcDPiXu7cAVgPk8SQzAAAgAElEQVTd3f09YCJwkbu3JkgqzgJahK1wD5awzpOBg2JXmFmtbRzrWWCUux8KHAbMLOZ4RxG0LB0CNAXO3sH52xC0Eh4M7Ad0MLO9gOeAc9z9cKA/8FBY/r/Aje7eblsHNLMmwKq85Bh4hCC5vBl4PjzW3YX3c/dVQHkzq114m5n1NLOJZjZxyOsf7aBKJVfsN/1ttGL1uONSnhz0CPUa7c2ELyYB0OiAhjz+9gP07X8nJ3Q/jufv/E+pxVZWdqLKAAz518c0admIxi0blV1QpaC4AbrbaslpWftATmjYkdd/2DoeKhfn1q8eoOfw22lWowkNq+5sI3bZK7aOFKzjre2u5Nnxr5HruUXK5nouFwy+ha5v/oUW6c1oWrPo+EWJn8J/Oyj+6r7NmzaTlpZG/7f6ccbZZ/DwvY8CMP6b8TQ7qBkfDB/MgHde5qlHnmZt9toyj3t3qHsxuWx3IL27Z5vZ4UAnoDPwtpn1dvcBO3GODgStMBB0Zz0WPj8pfEwJl6sQJFsLgLnunjc4YhLQuJjj/g5sAF42s4+BkmYGxb2CtnWs44FLAdw9ByjaDwbj3X0OgJm9BXQE3tvO+ce7+6Kw/FSCuq0GWgKfhy/wVGCpmVUHasS0UL0OnFLMMesB+V/Xwt9d2/AcxxAkyGZmbxO0gvVy92Vh8UyCVssCbezu3o8gcWPMryN2q0/ki/dHMfqjrwFofGAjsjJX5W9btXwVNWJagQpLSU3hqOMPZ+jA4XQ8tV1+tyNAq7Yt+d8/B7JmdTZVa1TZnRBL3bcfjmdCOCarwQH1+W3F1pfO7yt+p2rtqsXuN+KNL1n72zq63XVGXOLcHSvXr6JOhVr5y7Uq1CBrQ9FWy0ZV9+GvrS7lwfHPkL256AfUui3r+W7lT7RJb8HCNcnVcpm5diV7V6mTv5xRuTbL12YVKHNwelMeOb4XADUqVKVjw8PJyc3hy/nj88tkb1rHpKXf0b5BG35ZtSA+wQsAgwa+z5DBwVt68xYHkrksM39b5rLl1EmvU2Sf9LrpHNclaAM49oRO+UnXxx98ysU9LgyGAOzbgHr71GP+3AUcfEjzONRk1+jqxeSyw6sXw2TjS+BLM5sBXAYMKK5ozPMK29mWx4BH3L1AU4WZNQY2xqzKIWjVKhzXFjM7CjgBOB+4niBJ2pE2wA+ldCwoWrcdJSiF61aO4Hcxs3BrlpnVKMHxANZT9HdO2HV5F3AeQYvXvQRJ3o3AnWGxCuH+Zeb4s47l+LOOBWDa2Bl8MXgUR51wBHO+n0elyhWpUbtg0uXuZC5eTt0GGbg7U7+Zwd771gXgt5W/Ua1WNcyMOT/Mw3OdKtUrl2X4u6TtGUfR9oxg7M+P43/m2w8n0OrYliz8cTHlK5enWq2iSdeEoZOZPekXejxyKSkpyf9GOfu3edSrnEFGxdpkbVhNx32O5OnJLxcoU6dCLf5+xF95duorLF279cOuWloVtuTmsG7LetJS9qJVneb8X6ErH5PBzOWzaFitHvWrZpC5NouTm3akz8h/FihzxsBr8p/fd+wNfLVgIl/OH0+NCtXYkruF7E3rKJ+axtH7HMqAae/Huwp/eN3PP4vu558FwDejxzJo4GC6dD2BmTO+p0qVytRJL9LQzzGdOzJp/GROP+s0pkycSsNGwcUTdffOYNK4ybQ+7FCyVmaxYN5C6jcoeiVyMlFLVXLZbtJlZgcCue6eNxChNTA/fL4GqArkDXhYFg5Q/4mgqy5v0MrXBInM/4CLYg7/GfCAmb0RtqjtQ9AKsz1558TMqgCV3P0TM/sWmL2DfQm7R3sStNrFrt/WsUYQDER/2sxSgcruXnh081Fh9958guSm347iKMZPQLqZtXP3sWF34wHuPtPMfjOzju4+hoK/v1g/U3xr4GXAx+6+yoIrTXPDR6Ww3gbsDczbhZh3Sau2LZnx7UzuuPBe0sqn0aP3Jfnbnr7tX1x220VUr1WN/o+8xvq1G3Cchk0bcMkt5wMwcdQUvvzgK1JSU0grvxdX39sj6d9UDjyyGT9PmMVTPZ5jrwp7cfbfuuVve/XuNzjr5jOpVrsqQ577iBoZNXjxllcAaNG+OcdfdGyiwt6hXM/l5ZlvcffRN5NiKXyx8GsWZi/lpH2DFoJhC0bz5wNOo+pelbmqZfDSzfEcbh/zMDXLV+f61leQaikYxjdLJzIpc0Yiq1OsHM/lsW9e4l+n3EuKpTDkpxHMWbWQ7s1PBmBQMeO48qRXqknfY28M6mgpfD7na75aMDFeoZeqN/s8z3Gt2lGnei0WvjmBe197kv5D97zpL9p1asvYMd9y7ukXUqFCefrc3zt/W6/rbqP3vbeRnlGHi3tcSN8+D/L2/96lYqWK9L73NgAu73kZD939CJd0vxx3uPbmq6lRs8a2TidShG3vapqwa/E5oAawhSAZ6enuK8zsBoKB3UvdvXM4IP0xgqsbvwOquPvlYULyJkGCNwi4y92rhMe/CfhLeLps4GKC1p+P3L1lWObW8Fj3mVl34GGClplTgA8IWmoMeMLdXy0U/+XAP4DFBInGXOB+d/863D6AoCvx6+KOZWZ1CZKo/cK4/homRdnuXsXMjgPuIejaOwQYDVzr7rlmNg84IvxdxZa/1d1PD8//PDDR3QeYWWuCMWTVw9/V0+7+Uvg36A+sI0hUz8n73RSq6wjganefHS5XAj4GTnL3zWbWCfg3sAm4wN1/NrMjgDvcvXvh48Xa3e7FPcGv65btuFAEvPX9l4kOIS7mLi06ODpqprwzIdEhxMXyD/fMRHVn1amwd5l8e5ywfMxuv38fmd4xub/Z7kG2m3TJ9hVOohIcy1nA4e5+107s8wwwxN1HbK+ckq7oUNIVHUq6oqWskq6Jy7/e7ffvI9I7KOkqJZqRPiLc/f3irkLcge92lHCJiMgeLMmHX/zRKOnaDe7+JcFFBknB3V/ecakC5V/acSkREREpDUq6REREIkpTRiQXJV0iIiIRlexXd//RKOkSERGJKLV0JRfdNEpEREQkDtTSJSIiElFq6UouSrpEREQiSmO6kouSLhERkYhSS1dy0ZguERERkThQS5eIiEhEqaUruSjpEhERiSiN6UouSrpEREQiSi1dyUVjukRERETiQC1dIiIiEaXuxeSipEtERCSikqF70cxqAW8DjYF5wLnuvqqYcvOANUAOsMXdj9iZ/fcE6l4UERGJKCuFf6WgNzDC3ZsBI8Llbens7q3zEq5d2D+pKekSERGRstQNeDV8/irwpzjvnzSUdImIiESUmZXGo6eZTYx59NzJMOq6+1KA8GfGNso5MMzMJhU6R0n3T3oa0yUiIhJRpdE96O79gH7bPY/ZcGDvYjbduROn6uDuS8wsA/jczH5099E7sX/SU9IlIiIiu8Xdu2xrm5ktM7N67r7UzOoBmds4xpLwZ6aZvQ8cBYwGSrT/nkDdiyIiIhGVJAPphwCXhc8vAz4oEqdZZTOrmvccOAn4rqT77ymUdImIiERUaYzpKgWPAiea2SzgxHAZM6tvZp+EZeoCY8xsGjAe+Njdh25v/z2RuXuiY5Akd8r7V0T+RbIpJyfRIcTFFYcel+gQ4uKgmgclOoQy17jKfokOIS7Szzhix4UiwD9fVCYTas3+/Yfdfv/ev1rzxE/2FRFq6RIRERGJAw2kFxERiSjdBii5KOkSERGJqGS4DZBspaRLREQkopR0JReN6RIRERGJA7V0iYiIRJTGdCUXJV0iIiIRpe7F5KKkS0REJKKUdCUXjekSERERiQO1dImIiESUxnQlFyVdIiIiEaXuxeSipEtERCSi1NKVXDSmS0RERCQO1NIlIiISUepeTC5KukRERCJLSVcyUdIlIiISUUq5kovGdImIiIjEgVq6REREIkpXLyYXJV0iIiKRpaQrmSjpEhERiSilXMlFY7pERERE4kAtXSIiIpGltq5koqRLREQkojSQPrmoe1FEREQkDtTSJXF1eEZLrml1ISmWwtD5o3n3508KbO/coC1/PuBUANZv2cjzU19j7u8LAfhT05Po2vgYHGfeb4t4avIrbM7dEvc6lMSRdQ/hutYXk2IpfDJ3FAN/+qjA9vb1DuOKFmeTi5OTm8u/p73Bdyt/BuDWw/9C23qtWb3xd/7yeZ9EhF9i7s5n/UYwe+Iv7FV+L868+VTq7b93kXITPpzEuCETWbV0Nb3euIFK1Svlb5s3fQHDXhpBTk4OlapV4rJHL4xnFXbI3Xnt6TeZNnY6aRXSuPrOK2lyYONtln/1qf8x6pMx9B/+IgBL5i/lPw+9wryf53Nuz7M57cJT4hT5znF3nn7sWcaOGUeFCuW584E7OLD5AcWW6/f8y4wc9iUpqSmc9edu/Pmic8hek839fR5k2a+ZbNmSw4WXncdpfzo1ATXZda/0eoLTj+5C5uoVHNKzS6LDkQgqcUuXmZ1lZm5mB8Wsa21mp8YsH2dm7UsrODO7z8xuDZ/fb2al8r/AzKqY2X/M7Bczm2lmo83s6B3skx3+bGxm322n3H/MrIOZfWlmR8Ss3+5+MeU+MbMaO1OfmH1vNrNLw+ePmdl0M3stZvslZnZTzPIhZjZgV861K1Iwrjv0Eu7+5p9cPfxOjmtwNPtWrV+gzK/rVnDbV49y7Rf38NZPQ7ixzWUA1K5Qg25Nu3DjyL78dcTdpFgKxzbY7p8sYVIwbmxzKXeMeYIen/Xm+IZtaVSonpMzZ3LV8Lu4evjdPDHpZXod3iN/22fzv+KOMf+Id9i7ZPbEOWQtyeK6fj057fqT+eTfw4ot1+DgBlz84PlUz6hWYP2G7A18+sIwzru7O3/99184p3e3eIS9U6aNnc6vi5bx5NuPcuVtl/PfJ17fZtk5P8xlbfa6AusqV6vMpX+7kNMu6FrWoe6WsWPGsWjBIt7+8A1uu+dWnnjwqWLLffLBp2T+msmbH7zOm//3Ol26ngDAoLffp/F+jXn13f48/8ozPPfkv9m8eXM8q7DbBgx7l659Lk50GKXKSuGflJ6d6V68ABgDnB+zrjUQ+1XmOKDUkq5Y7n6Puw8vpcO9DGQBzdy9BXA5UKeUjn008O2u7uzup7r76p3dz8zKAT2AN82sOtDe3VsBqWFyVZGgnv+OOdcMoIGZ7bur8e6MA2rtx5K1mfy6bjlbPIdRi8bTtl6bAmV+yJpN9ubgQ+vHrF+oU7FW/rZUSyUtNY0US6F8uTSyNuz0rykuDqrVlMXZmSxdG9Rz5MJvaV//sAJlNuRszH9eIbU8HrNtxoqf+H3T2jhFu3t+HjeLVse3xMxocNA+bFi7kTVZ2UXK1Wtalxp1qxdZ/92o7zmo/QH5yVjlGpXLPOadNWnMFDp1bY+Z0axlU9atWceqFUVfe7k5ubz5r3e44NpzC6yvXrMaTZvvR2q51HiFvEvGjBxD1zNOxsxo2aoFa9Zks2L5yiLl3n/nA664+jJSUoKPj5q1awLB2KF169bh7qxft55q1auRmprcdS7sqxnjyFqTnO8ru0pJV3IpUdJlZlWADsCVhEmXmaUB9wPnmdlUM7sduAb4W7jcyczSzWyQmU0IHx3Cfe8zs/5ha9AcM7sx5lx3mtlPZjYcODBm/QAzOyd8Ps/M+prZZDObkdf6Fp7v83D9f8xsvpkVSKbMrClBYnSXu+cCuPscd/843H6LmX0XPm7emV+mmTUHfnb3nB2Uu9zMBpvZUDObZWaPx2ybZ2Z1wpaqa2PW32dmvbZz2OOBye6+BcgF0iwYQVkR2Az8HXjW3Qt/9fyQgol0malToSbL12flL69Yn0XtCjW3Wf7kRscwcdkMAFZuWM2g2UN5resTvHnK06zbvJ7JmTPLPOZdUadiTZav3/phtXx9FnUqFq1nh/qH89+THuWhjrfwxMSX4xliqVmzMptqdba2XlWrXZU1K9eUeP+Vi7PYkL2B13q/yUs3DWDaiB02Bsdd1vLV1M7YmvzXyqjJquWripQbNmg4h3dsTc06u9RQnXDLM1eQUTcjfzmjbjrLM5cXKbd40RJGfDaSHhf0pNe1f2fh/EUAdD//bObNmU+3Lmdz6TlXcPNtN+QnZiISKOn/iD8BQ939ZyDLzA5z903APcDb7t7a3R8DXgT+GS5/BTwTLh8JdCdoYcpzEHAycBRwr5ntZWaHEyQAbYCzgSO3E9MKdz8MeAG4NVx3L/BFuP59oLgWnBbA1OISo/D8VxAkZW2Bq8ysTeFy23EKMLSEZVsD5wGHECSuDQttHxhuz3Mu8O52jtcBmATg7muAQcAUYC7wG3Cku39QzH4TgU6FV5pZTzObaGYTFw77qWQ12iVe7NpWdQ7ipMad6D/zHQCq7FWJtvXacMVnt3HRp3+jfGp5OjdsV4Zxla7iavn1kklcMaw393zzDJe36B73mEqDe9Ga7czVUrk5ztLZv3L+fedw0f3nMmbgN6xcnLXjHeOpBHVctXwV40ZO5KRz9txxQF7Mq7S4v+XmTZtJS0uj/1v9OOPsM3j43kcBGP/NeJod1IwPhg9mwDsv89QjT7M2e89osRWJl5IOpL8AeDp8PjBcnlyC/boAB8f8x61mZlXD5x+7+0Zgo5llAnUJPvzfd/d1AGY2ZDvHHhz+nESQoAF0BM4CcPehZlb06+j2dQzPvzY8/+Awpikl3P9kgqQNiv+cjV03wt1/C8/zPdAIWJhf0H2KmWWYWX0gHVjl7gu2c+56wA8x+z8OPB4e/2XgHjP7C3ASMN3dHwyLZgL1Cx0Ld+8H9AM45f0ris+MdtKKDatIj+kurFOxFiuL6SJsXK0BN7e5grvHPsWasJutdfrBLFu7nN82Ba0o3yyZxMG19mfkwrGlEVqpWrF+FekVa+cvp1esxcr1234pzljxE/WrZFAtrQq/byraNZdsJnw0mSmfTQOgfrO9+X3F7/nbfl+5hiq1qpT4WNXqVKVStYqkVUgjrUIa+7ZswLK5mdTep9aOdy5DwwaNYOSQUQDs17wJKzO3JoJZmauoUag1a96sBSxbtIxbzrsdgE0bNnHLubfz1DuPxS/oXTBo4PsMGRxc5NG8xYFkLsvM35a5bDl10ouOukivm85xXY4B4NgTOuUnXR9/8CkX97gw6GretwH19qnH/LkLOPiQ5nGoiWyLpoxILjtMusysNkHXVUszcyAVcDO7rQTHTwHaufv6QscE2BizKicmlpJ+wOftH7tvSV5dM4FDzSwlr3sxNrQSnrsIM6sE1HD3JeGqlUBsn1ItYEXM8rbqH+s94Bxgb4Jkd3vWAxWKiSuvpe5n4Bl3P8bMBppZM3efFe6zvvB+ZeHnVXOpXyWDupXqsHL9Ko5tcBSPTfhPgTLpFWtx99HX849JL7E4e1n++uXrszioVlPKp6axMWcTrTMOZtaqufEIe6f9uGoO+1Spy96V6rBi/So6N2zLQ+NfKFCmfuUMlqwNPuCa1WjEXimpe0TCBXDk6Ydx5OnBGLVZE35hwkeTaHFMcxb/tIQKlcpTdSeSrgPa7s/QF4aTm5NLzuYcFv+0lKO7ba+BOz5O6n4CJ3UPBohP+WYawwaNoF2Xo5k9cw4Vq1Qs0oXYpv2h/PvDZ/KXe3S5JukTLoDu559F9/PPAuCb0WMZNHAwXbqewMwZ31OlSmXqpNcuss8xnTsyafxkTj/rNKZMnErDRg0AqLt3BpPGTab1YYeStTKLBfMWUr9BvbjWRyTZlaSl6xzgNXe/Om+FmY0iaBVaA1SNKbsGiL08aRhwPfCPcL/W7j51O+caDQwws0fD2M4A/rOd8oWNIeiGe8zMTqJg0gOAu/9iZhOBvmZ2j7u7mTUDDi50fiNoNbukhOfuDIyMWf4SuNjMhnvQB3NZoe0lMRB4iWCQ/7E7KPsDsH8x6x8AegJ7ESTMEIz5yrtm/wAgLgNpcj2XF6a9wYMdepFKCsPmf8WCNUs4tfFxAHwy70suPKgbVdOqcN2hwa89x3O46cv7+WnVHMYsnshzne8jx3P4ZfUCPp03Kh5h77Rcz+W5qa/xWKfbSDHj03mjmf/7Yk7frzMAH80ZyTENjuTEfTuwxXPYlLOZB77Nv76BO4/6K4emN6d6+SoMPPVpXv1+MJ/OG52o6mzX/kfsx+yJv/Cvq/pRrnw5zrx563U1b937Lqff2JWqtasyfshEvhk0juxVa/nPDf9l/yP244wbTyG9YR2aHt6E/1zfHzOjzcmtyGicnsAaFdW6XSumjp3OLefeHkwZ0efK/G2P93qKq3pfQc30bY9NXL3yN+66si/r164nJcX49J3PefyNh6hUuWI8wi+xdp3aMnbMt5x7+oVUqFCePvf3zt/W67rb6H3vbaRn1OHiHhfSt8+DvP2/d6lYqSK97w2+f1/e8zIeuvsRLul+Oe5w7c1XU6PmnjW+7c0+z3Ncq3bUqV6LhW9O4N7XnqT/0B193xUpOStuTEaBAmZfAo+6+9CYdTcCzYE7gc8IPtAfIeiGe4/gQ/0GgkTgX2HZcsBod7/GzO4Dst39ifB43wGnu/s8M7sTuBSYDywCvnf3J8KpDT5y9/fMbB5whLuvCKdleMLdjzOzDOAtgmRrFMGYqCZhN2ZsnaoBTxK04K0jaJX6u7tPMLNbCK4CBHjZ3Z8O98l29ypm1jiMo2XY9feyu59qZs8D77n7l2H5NOAp4BiC1ruJwA3uvs7MLg/jvz4s+1FYhy9j6xZum0Ewfq1zuPwy8KK7TyxUp0bA6+5+TMy6PwGHunvfcPkJgi7Q6e5+UbjueeAzd/+QbSit7sVktilnu9c+RMYVhx6X6BDi4qCaB+240B6ucZX9Eh1CXKSfccSOC0WAf76oTPoBszZm7vb7d63yGeqjLCU7TLr2JGZWHshx9y1m1g54wd1bx+nck4Gji7k6MG7M7H3gtrDbsCTlyxMkpx3Dqx6LpaQrOpR0RYeSrmgpu6RreSkkXelKukpJ1Gak3xd4x8xSgE3AVfE6cXjFZKL1JhhQX6Kki+D31Xt7CZeIiOy5lC0ll0glXWELz85M8RAp7v4TUOL5HcLfV0kTNBEREdkNkUq6REREZCtNGZFclHSJiIhElpKuZKJ7NIiIiESUlcJjt2MwqxXeom9W+LPIHCtmdqAFtxDMe/yedyu+8DZ4i2O2nVr0LHsGJV0iIiJSlnoT3IWlGTAiXC7A3X8KbyHYGjicYDqn92OK5N1isLW7fxKXqMuAki4REZHISoa2LroBr4bPXyW4n/P2nAD84u7zS+PkyURJl4iISESZWWk8eprZxJhHz50Mo667LwUIf2bsoPz5BBOdx7rezKabWf/iuif3FBpILyIiItvk7v2AftsrY2bDCe4TXNidO3Ou8G4uZwJ3xKx+geCWdh7+fJKtd47ZoyjpEhERkd3i7l22tc3MlplZPXdfamb1gMztHOoUYLK7L4s5dv5zM3sJ+Kg0Yk4EdS+KiIhElJXCv1IwBLgsfH4Z8MF2yl5Aoa7FMFHLcxbwXWkElQhKukRERCIrKQbSPwqcaGazgBPDZcysvpnlX4loZpXC7YML7f+4mc0ws+lAZ+BvpRFUIqh7UUREJKKSYWpUd19JcEVi4fVLgFNjltcBtYspd0mZBhhHaukSERERiQO1dImIiESU7r2YXJR0iYiIRJaSrmSi7kURERGROFBLl4iISESpnSu5KOkSERGJLKVdyURJl4iISERpIH1y0ZguERERkThQ0iUiIiISB+peFBERiahSuneilBJz90THIFKEmfV0936JjqOs/RHq+UeoI/wx6vlHqCP8ceop8afuRUlWPRMdQJz8Eer5R6gj/DHq+UeoI/xx6ilxpqRLREREJA6UdImIiIjEgZIuSVZ/lPEUf4R6/hHqCH+Mev4R6gh/nHpKnGkgvYiIiEgcqKVLREREJA6UdImIiIjEgZIuERERkTjQjPQiIrJNZlYTqA+sB+a5e26CQypVZtYAOB/oxNZ6fgd8DHwatfpKYmkgvSQFMzPgImA/d7/fzPYF9nb38QkOrVSZWTpwFdCYmC897t4jUTGVNjM7G3gMyAAsfLi7V0toYGXAzCoD6/M+mM0sBajg7usSG9nuMbPqwHXABUAasByoANQFvgX+7e4jExdh6TCz/wL7AB8BE4FMgnoeAHQGDgd6u/vohAUpkaKkS5KCmb0A5ALHu3vz8Nv1MHc/MsGhlSoz+wb4CpgE5OStd/dBCQuqlJnZbOAMd/8h0bGUNTP7Fuji7tnhchWC1237xEa2e8zsc+A14EN3X11o2+HAJcAMd38lEfGVFjNr6e7fbWd7GrCvu8+OY1gSYepelGRxtLsfZmZTANx9VfiGFzWV3P32RAdRxpb9ERKuUIW8hAvA3bPNrFIiAyoN7n7idrZNIvjSsMcrLuEys6YE/09nuPsmQAmXlBolXZIsNptZKuCQ3w0XxbEUH5nZqe7+SaIDKUMTzext4P+AjXkr3X1w4kIqM2vN7DB3nwz5rUDrExxTqQv/P94EVAReiGrLj5n1AQ4Bcs0s190vSXRMEi1KuiRZPAu8D2SY2UPAOcDdiQ2pTNwE9DGzjcBmojneqRqwDjgpZp0DUUy6bgbeNbMl4XI94LwExlNWngT+R/B3fAuIRLe/md1AMD4tr6v/UHc/L9w2PXGRSVQp6ZKk4O5vmNkk4ASCRORPUeyicveqiY6hrLn7FYmOIV7cfYKZHQQcSPC6/dHdNyc4rN1mZkOBh9z9q3BVGjCPIOkqn6i4ysAqYKiZPevuHwLDzGwUwXRKnyU2NIkiDaSXpGBmrxduyi9uXRSEFwk0I7hKCoAoXR1lZhWAK4EWFKxjlK7QPN7dvwiv1CxiT+9KDa9evJtgCoW7CZKQewm6F//p7mMSGF6pCl+vfweOAO4BZgF7uftvCQ1MIkktXZIsWsQuhOO7Dk9QLGXGzP5C0MXYAJgKtAXGAscnMq5S9jrwI3AycD/BVCBRa7U8FvgCOKOYbXt8V2qYcNxqZsolI5MAABZQSURBVPsBDwGLgesimog0Bd4GXgIeIPj73QNEsa6SYGrpkoQyszuAPgTfoNcRdNEAbAL6ufsdiYqtLJjZDILxMN+6e+uwa6pv3jiSKDCzKe7exsymu3srM9sL+Mzdo5RYRlqYbP2VYNzh8wSJyV0E81nFjoHao5nZAILGh4rAL+5+m5m1IfiyMN7dH0hkfBI9aumShHL3R4BHzOyRqCVY27DB3TeYGWZW3t1/NLMDEx1UKcsb07TazFoCvxJMBhs5ZlYe6E7RyW7vT1RMpeQtgi9DlYHX3f0E4GQzuwwYRjD2MgrauPuhEHxZAHD3KcAZZtYtoZFJJCnpkoQys4Pc/UeCK8AOK7w971L8CFlkZjUIplP43MxWAUt2sM+epl84bu0uYAhQhaC7Joo+IOiGmkTM9BgRUAGYS5B05c875u6vmtk7CYuq9A0NB86nAW/GbnD3DxITkkSZuhclocysn7v3NLPibiniUe6SMrNjgerA0HASRtnDmNl37t4y0XGUNjPrANxC0M3/qLtPS3BIZcbMqgG5sZPcipQVJV0icWBm1dz9dzOrVdx2d8+Kd0xlxcweBh7Pu31M2OrVy93vSmxkpc/M+gHPufuMRMciO8/MLgbe3NZNrcPZ6etF6WpNSSwlXZI0zKw9RcfGvJawgEqRmX3k7qeb2VyCq6MsZrO7+34JCq3U5Q2kL7RusrsX6T7e05nZ98D+BF1xG9k62W2rhAa2m8zsQ+A/BBdAbC60bT/gcmCeu/dPQHilxsxuAnoQdA9PYuuNvfcnuEJ1BcENr2clLEiJFCVdkhTM7HWCK6SmsvVG0O7uNyYuKtkV4UzeR7r7xnC5IjDR3Vtsf889j5k1Km69u8+Pdyylycz2Juhe7A5ksTUZaQz8AjwflTFP4fQ0xwMdCO4osJ5gipNP3X1BImOT6FHSJUnBzH4ADvaIvyDDsTJT3X1t2LVxGPB0lN7czew24EzgvwStej2AIe7+eEIDK0NmlkHBiWCj9PdszNZk5Gd3X5fQgET2YEq6JCmY2bvAje6+NNGxlKWwFehQoBXBJKKvAGe7+7EJDayUmdkpbL2l0zB3j+QtVczsTIL7EtYHMoFGwA9RbNUTkd2npEsSKhw74kBVoDUwnphL7939zASFVibyxjaZ2T3AYnd/Jarjnf4IzGwaQdfU8HBC2M7ABe7eM8GhiUgS0jxdkmhfELwOp7B1Us0oWxPOwn8J0CkcTxKJ/4dmNsbdO5rZGoJEOn8Twfi8agkKrSxtdveVZpZiZinuPtLMHkt0UCKSnCLxZi97tH2A9gSzX08DvgG+BsZGaRqFGOcBFwJXuPuvZnYMwQSUezx37xj+rJroWOJotZlVAb4C3jCzTGBLgmOSUmBmh0VwcmZJMHUvSlIwszTgCIIErF34WO3uByc0sDJgZq0JEq9zCaYaGOzuzyU2qtJhZinA9ChOGFocM6sMbCBozbuIYLLbN9x9ZUID203hPUK3+eGwp0+JURJm9pK7X5XoOCRa1NIlyaIiUI3gQ6s6wa1xIjPhpJkdAJwPXACsBN4m+NLTOaGBlTJ3zzWzaWa2b5Su4NuW8CrUvYGjCKZW+GxPT7hCp4c/rwt/vh7+vIjgxvSRYmZ/A95190V565RwSVlQS5ckVDijdwtgDTAO+Bb41t1XJTSwUmZmuQRdUFe6++xw3ZwoTYqax8y+AI4kuChibd76qF0UAWBmfyG4r+QXBK1dxwL37+mThuYxs6/dvcOO1u3pzOxegpbnLGAg8J67L0tsVBJFaumSRNsXKA/MAhYDi4DVCY2obHQnaOkaaWZDCd7Ybfu77LH6JjqAOPo70CavdcvMahOMS4xE0gVUNrOOebfBCe8aEYkxiLHcvS/Q18xaEYy7HGVmi9y9S4JDk4hR0iUJ5f/f3r0H21nVZxz/PoQg18gduYhyC1QRkEK5pTIGpOCgchED6ngt2GqJgjfG2gle2iJ16IhOwSClKgqiEEEqGOUSlFI6IUFREKQogopWYiGm3PP0j/c9Zue4T8jl3XvlrPN8Zvbs8643zDx7ErJ/WWu9v2UfKUk0s10HA+8F9pS0iGYz/ayiATtiew4wp90DdAxwGrCNpPOAObbnFg3YIdvz2k7tu9n+jqQNgUmlcw3IgzSztCMWAw8UyjIIbwf+VdJzafZ4PULT7LZWvwEeotkCsHXhLFGhLC/GWkPSDjRHcRxMs6dkC9ublk01OO3h1ycAM2xPL52nK5JOBk4BNre9i6TdgPNtH1Y4WuckfQF4CXAlTVHyGppl1XsAbJ9TLl13JE2h+b54pHSWQZD01zQzXFsBXwO+YvvOsqmiRim6oihJM2mKrENo+nTdDNzSvt9he2nBeLEaJN1Os7H81pGDryXdYfslZZN1r90LNKZ22WrckrQN8A/AdraPkvQi4CDbFxaO1ilJZwGX2r69dJaoW4quKErSObS9uWo/AmiikHSr7QMkLWy7tK8LLKi9zUDbLmNj24+WztIVSdfQnKH5t7b3bn8vF9ZSQEuaYvvRdtb5j1TaKzAKWqd0gJjYbJ9u+2spuKoyT9KHgA0kvQL4KvCNwpkGQtKXJU1p9+rdCdwt6f2lc3VoS9uXAUsBbD8NPFM2Uqe+3L7fBsxv32/ruY7oVIquiOjaGcD/0PRZewfwTeDDRRMNzovama1jaD7njjRHPNViSftEpgEkHUizmb4Kto9u33eyvXP7PvKqrp1LlJenFyOiU+0+vAvaV+0mS5pMU3R9xvZTkmras3E6cBWwi6SbaTaav7ZspMGQtD3wAnq+F23fVC5R1ChFV0R0StLRwMdY9gVW84HXnwV+RnNu6E1tq4xq9nTZXiDpUGB3mt/Hu21XdzB9e0j5DJol4pHlUwMpuqJT2UgfEZ2SdC9wHM3TpxPuLxhJ67Z7n6rQNkR9IcvPAH2hWKABkHQ3sJftJ0pnibplpisiuvYA8MOaCy5Jb7R9saTTx/gltfTn+iKwC3A7y88AVVV0AfcBk4EUXTFQKboiomsfAL4paR49X2K1NAptjRyFs0nRFIO3H83DAtUW0K3/A26XdB3L/5mdWS5S1ChFV0R07e+B3wPrA+sVzjIQtj/bvo/r5qcr4YfA84DaW7pc1b4iBip7uiKiU5Lm296vdI5BknTuiu7XMkMi6QZgH5qjjXpngF5dLFTEOJaZrojo2nckHVHTId593Nbz80eAKg5m7+PM0gEGSdIdtD3IWgZ+C9wAfNL240WCRbUy0xURnZK0mGbP0xM052nW3DKCkeOOSueIVde2+Bhtc+DNwEa2Tx5ypKhcZroiolO2a99cPlp1/3KV9D3b09oCuvfzVVVA276/z/D9wEJJC4edJ+qXoisiBkbSLsCJwEm29yydJ1aO7Wnt+0QroHvlmLzoXIquiOiUpG1pCy1gL+Af25+rMWoGaENJI13oq5gJkrT5iu7bXjSsLIMkad8+w5sBbyTd6GMAsqcrIjoh6WSa4moH4LL2daXtnYoGi1Um6ac0RaX63HYth0G3T2f2MvAwcCMwu8Yjj6KsFF0R0QlJTwK3AO+1Pb8du6+WL+ioT3vE0S0ToPlrrCWyvBgRXdkOOAE4R9I2NDNdk8tGijUl6ThgGs0s0Hdtf71wpC69CfiMpHuAa4FrbT9UOFNULDNdEdE5STuwbF/XhsAc2x8qmypWlaR/AXYFLmmHZgD/bftd5VJ1T9IewFHAXwDPpenTdS1ws+1nVvTfRqyKFF0RMVCSdgdOnABH5lRH0o+APUeW3yStA9xh+8Vlkw2OpA2Al9MUYQfVfrpCDFeKroiI6EvSFcBpI/2s2maiZ9mu6mnUiGFJH5KIiBjLFsBdkm6UdCNwJ7CVpKskVX1AtKSrS2eI+mSmKyIi+pJ06Iru2543rCzDJmlb278qnSPqkqIrIjonaXvgBfQ8IW07zSYjYkJLy4iI6JSkT9A85XYnMPLkl0mH73Fjopy9KOkO+p+dOfI59xpypKhcZroiolOS7gb2sv1E6SwRK9I+GDCmMQ7EjlhtmemKiK7dR9MUNUXXOCfpQOBHthe31xsDL7Z9a9lk3UhRFcOWma6I6JSky4G9gevoKbxszywWKlaLpIXAvqP6dM233e+g6HFnrOVTKltGjbVHZroiomtXta8Y/9R7LqHtpZKq+d6wvUnpDDGxVPM/T0SsHWx/vnSG6Mx9kmYC57XX76RZPq6OpL2BP28vb7L9g5J5ok5pjhoRnZK0m6SvSbpT0n0jr9K5YrX8FXAw8AvgQeAA4JSiiQZA0ruBLwFbt68vSTq1bKqoUfZ0RUSnJH0PmAX8M/Aq4K00f9fMKhosYgySfkBzzuKS9noj4Ja0jIiuZaYrIrq2ge3raAqt+22fCUwvnClWg6SzJU2RNFnSdZJ+K+mNpXMNgFjWU472ZxXKEhXLnq6I6Nrj7VNuP5H0NzRLU1sXzhSr5wjbH5B0LM3y4gnADcDFZWN17iLgVklz2utjgAsL5olKpeiKiK69B9gQmAl8DHg58OaiiWJ1TW7fXwlcYnuRVN8EkO1z2gO9p9HMcL3V9sKyqaJG2dMVERF9STqLZtbnMeDPgE2Bq20fUDRYRyTtD2xp+5pR468GfmH7tjLJolbZ0xURnZL0bUmb9lxvJulbJTPF6rF9BnAQsJ/tp4AlwGvKpurUPwF39Rm/s70X0aksL0ZE17a0/b8jF7Z/Jyl7usYRSdNtXy/puJ6x3l9yxfBTDcQWtn82etD2vZK2KJAnKpeiKyK6tlTSjrZ/Dn84VDj7GMaXQ4HraVp+jGbqKbo2WMG9jYaWIiaM7OmKiE5JOhKYDcxrh14GnGI7S4yxVpF0PvAw8OHe444kfQTY1nZ1jWCjrBRdEdE5SVsCB9I8CXaL7d8WjhSrSNLuNN3n92iH7gJm276nXKputU1QP0fzkMDt7fDewHzgL23/vlS2qFOKrojohKQ9bP9Y0r797tteMOxMsXokHUSzhDgbWEBTPL8UOBk4zvZ/FozXOUk7Ay9uL39kO8dWxUCk6IqITkiabfsUSTf0uW3b6Uo/Tki6BviE7RtHjR8KnGH7qCLBIsa5FF0R0Zm2E/1Btm8unSVWn6R7bE8d497dtncfdqaIGqRPV0R0xvZS4JOlc8QaW7yCe0uGliKiMmkZERFdmyvpeOAKZyp9vHq+pHP7jAvYfthhBk3S5n2GF7cNYSM6k+XFiOiUpMU0PY6eBh6n+aK27SlFg8VKk7TCszJtf35YWYZB0s+A5wO/o/nzuinwK+A3wMk5Dii6kqIrIjoh6RDbN0ta3/bjpfNErKy2X9eckV5yko4AjgQuAz5Vy1mTUV72dEVEV0aWo/6jaIqIVbdfb/Ne23OBl7WtMZ5TLlbUJnu6IqIrT0m6CNih334g2zMLZIpYGYskfRC4tL2eAfxO0iRgablYUZsUXRHRlaOBw4HpwOg9MNnHEGuz1wOzgK/T7On6Xjs2CXhdwVxRmezpiohOSdrb9vd7rqcBJ9l+V8FYsRoknQ18HHgMuJbmiJz32L64aLCIcSp7uiKiU7a/L2kfSWe3T4V9jObcvhh/jrD9KM0s5oPAVOD9ZSN1T9JUSbMlzZV0/cirdK6oT5YXI6ITkqYCJwInAQ8DX6GZTX950WCxJia3768ELrG9SFLJPIPyVeB8msOvnymcJSqWoisiuvJj4LvAq2zfCyDptLKRYg19Q9KPaZYX3ylpK5rea7V52vZ5pUNE/bKnKyI6IelYmpmug2n2/1wKfM72TkWDxWqT9BxgQ+BR289I2gjY2PavC0frlKQzaRqhzgGeGBm3vahUpqhTiq6I6FT7xXwMzTLjdODzNI0n5xYNFqtM0gLb+z7b2Hgn6ad9hm1756GHiaql6IqIgWnPtDsBmGF7euk8sXIkPY/mjMWLaVonjGzkmgKcb3uPUtkixrMUXRERsZz27MW3APsB83tuLQb+zfYVJXJ1TdJ029dLOq7f/Vo+Z6w9UnRFRERfko63fXnpHIMi6SO2Z7UnKYxm228beqioWoquiIjoq91IfzzwQnqedrf90VKZIsaztIyIiIixXAk8QnOs0xPP8mvHHUmnr+i+7XOGlSUmhhRdERExlh1sH1k6xABt0r7vDuwPXNVevwq4qUiiqFqWFyMioi9Js4FP276jdJZBkjQXON724vZ6E+CrlRecUUBmuiIiYizTgLe0fayeoGkdYdt7lY3VuR2BJ3uun6TZxxbRqRRdERExlqNKBxiSLwL/JWkOYOBY4AtlI0WNsrwYERFjkjQN2M32Re3Zixvb7tfBfVyT9Kc0M3sAN9leWDJP1ClFV0RE9CVpFk2D1N1tT5W0Hc1ep0MKR+ucpEnANizfGuPn5RJFjbK8GBERYzkWeCmwAMD2L9tN5lWRdCowC/g18Azt3jWgtr1rUViKroiIGMuTti3J8IfDzGv0bprZvIdLB4m6rVM6QERErLUuk/RZYFNJJwPfAS4onGkQHqBpAhsxUNnTFRERY5L0CuAImiW3b9n+duFInZN0IU2D1H+np/N+OtJH17K8GBERY2qLrOoKrVF+3r7Wa18RA5GZroiIWI6kxTQbyfuyPWWIcYZG0ka2l5TOEfXKTFdERCzH9iYAkj4KPETTPFTAG1h2XmE1JB0EXAhsDOwoaW/gHbbfWTZZ1CYzXRER0ZekW20f8Gxj452kW4HXAlfZfmk79kPbe5ZNFrXJ04sRETGWZyS9QdIkSetIegNNH6vq2H5g1FCVnzPKStEVERFjeT3wOpqmob8GTmjHavOApIMBS1pP0vuAu0qHivpkeTEiIiY0SVsCnwIOp9m7NheYaXtR0WBRnRRdERHRl6SL6PMUo+23FYgzMJIOsX3zs41FrKk8vRgREWO5uufn9WnOYvxloSyD9Glg35UYi1gjKboiIqIv25f3Xku6hOYooCq0rSIOBraSdHrPrSnApDKpomYpuiIiYmXtBuxYOkSH1qPpzbUuy/cfe5SmhUREp1J0RUREX3060z8EfLBQnM7ZngfMk/SY7bN770k6AfhJmWRRq2ykj4iICU3SAtv7PttYxJrKTFdERPQl6Trbhz3b2Hgl6SjglcD2ks7tuTUFeLpMqqhZiq6IiFiOpPWBDYEtJW1G07sKmmJku2LBuvdLYD7wauC2nvHFwHuKJIqqZXkxIiKWI+ndNEXHdsAvWFZ0PQpcYPszpbINgqTJtp/quZ4GnGT7XQVjRYVSdEVERF+STrX96dI5hkHSPiw79uinwBUT5bPH8KToioiI5UjaH3jA9kPt9ZuA44H7gTNrOR5H0lTgROAk4GHgK8D7bL+gaLCoVoquiIhYjqQFwOG2F0l6GXApcCqwD/AntqvoYSVpKfBd4O22723H7rO9c9lkUat1SgeIiIi1zqSe2awZwGzbl9v+O2DXgrm6djxN77EbJF0g6TCW7V+L6FyKroiIGG2SpJGn2w8Dru+5V81T77bn2J4B7AHcCJwGbCPpPElHFA0XVUrRFRERo11C06n9SuAxmiU4JO0KPFIy2CDYXmL7S7aPBnYAbgfOKBwrKpQ9XRER8UckHQhsC8y1vaQdmwpsbHtB0XAR41SKroiIiIghyPJiRERExBCk6IqIiIgYghRdEREREUOQoisiIiJiCP4fnmNyDkAXkSUAAAAASUVORK5CYII=\n",
      "text/plain": [
       "<Figure size 576x576 with 2 Axes>"
      ]
     },
     "metadata": {
      "needs_background": "light"
     },
     "output_type": "display_data"
    }
   ],
   "source": [
    "df_for_analysis[\"Students Disciplined (%)\"] = df_for_analysis[\"Students Disciplined\"] / df_for_analysis[\"Students\"]\n",
    "df_for_analysis[\"Tests Takers (%)\"] = df_for_analysis[\"Tests Takers\"] / df_for_analysis[\"Students\"]\n",
    "\n",
    "# make a smaller df to base this heatmap off of\n",
    "race_disc_df = df_for_analysis[[\"White\", \"Asian\", \"African American\", \"Hispanic\", \"Students Disciplined (%)\", \"Attending Coll./Univ. (%)\"]]\n",
    "\n",
    "# create figure\n",
    "plt.figure(figsize=(8, 8))\n",
    "# make heatmap\n",
    "ax = sns.heatmap(race_disc_df.corr(), square=True, annot=True, cmap=\"Greens\")\n",
    "#add title and format\n",
    "ax.set_title('Correlation between race and discipline', fontsize = 29, pad = 20)\n",
    "plt.subplots_adjust(bottom=0.28)\n",
    "plt.show()\n"
   ]
  },
  {
   "cell_type": "markdown",
   "metadata": {},
   "source": [
    "While this heatmap doesn't show a drastically high positive correlation between percentage of students disciplined and percentage of Black and Brown students in a district, it certainly shows some positive correlation. Districts with higher proportions of White and Asian students are shown here to be likely to have lower percentages of students disciplined and higher percentages of students who attend college or university. Conversely, districts with higher proportions of African American and Hispanic students were likely to see higher disciplinary rates and lower rates of students attending college or university. "
   ]
  },
  {
   "cell_type": "markdown",
   "metadata": {},
   "source": [
    "## 3.3. Model Construction\n",
    "* Conduct your hypothesis test(s) here.\n",
    "* For your machine learning question(s), use the Training, Validation, and Testing approach through GridSearch\n",
    "* Apply machine learning algorithms (apply at least three different algorithms)\n",
    "* Train your algorithms"
   ]
  },
  {
   "cell_type": "markdown",
   "metadata": {},
   "source": [
    "#### Defining the Estimators\n",
    "\n",
    "We will be applying the Multiple Linear Regression, Ridge, Lasso, k-Nearest Neighbor, and Support Vector Machine algorithms. Below we are building a dictionary of them for later use."
   ]
  },
  {
   "cell_type": "code",
   "execution_count": 21,
   "metadata": {},
   "outputs": [],
   "source": [
    "from sklearn.linear_model import Ridge\n",
    "from sklearn.linear_model import Lasso\n",
    "from sklearn.neighbors import KNeighborsRegressor\n",
    "from sklearn.svm import LinearSVR\n",
    "\n",
    "estimators = {'Multiple Linear Regression': LinearRegression(), 'Ridge': Ridge(), 'Lasso': Lasso(), \n",
    "              'k-Nearest Neighbor': KNeighborsRegressor(), 'Support Vector Machine': LinearSVR(max_iter = 1000000)}"
   ]
  },
  {
   "cell_type": "markdown",
   "metadata": {},
   "source": [
    "#### Training the Models\n",
    "The training_models function fits the selected data from 3.1 to every model in a dictionary to train the models."
   ]
  },
  {
   "cell_type": "code",
   "execution_count": 22,
   "metadata": {},
   "outputs": [],
   "source": [
    "def training_models(models_dict):\n",
    "    \"\"\"Takes in a dictionary of models and fits the selected data to each of them. Returns\n",
    "    a dictionary of the fitted models.\"\"\"\n",
    "    trained_models = {}\n",
    "\n",
    "    # for each model in the given dictionary of models\n",
    "    for name in models_dict:\n",
    "        # fit the selected data to the model\n",
    "        model = models_dict[name].fit(X=X_train_selected, y=y_train)\n",
    "        # store the fitted model\n",
    "        trained_models[name] = model\n",
    "        \n",
    "    return trained_models"
   ]
  },
  {
   "cell_type": "code",
   "execution_count": 23,
   "metadata": {},
   "outputs": [],
   "source": [
    "trained_models = training_models(estimators)"
   ]
  },
  {
   "cell_type": "markdown",
   "metadata": {},
   "source": [
    "## 3.4. Model Evaluation\n",
    "* Evaluate the performance of your algorithms on appropriate evaluation metrics, using your **validation set**\n",
    "    * Use at least two different metrics \n",
    "* Evaluate your results from multiple ML models and hypothesis tests\n",
    "    * What was the performance of each algorithm in plain English? Is there any indication of overfitting/underfitting?\n",
    "    * Was there a significant difference? Use the template from lecture slides when reporting the results of your hypothesis testing."
   ]
  },
  {
   "cell_type": "markdown",
   "metadata": {},
   "source": [
    "#### Evaluation Metrics\n",
    "In the below section, we are going to find the performance of the trained models on two appropriate evaluation metrics.\n",
    "\n",
    "The two metrics:\n",
    "1. **R-squared value**: This metric is the coefficient determination. It ranges from 1.0, meaning the model perfectly predicts the DV's value given IV values, to 0.0, meaning the model cannot make predictions with any accuracy.\n",
    "2. **Mean squared error value**: This metric is the average of the square of errors where the error is the difference between the observed and predicted values. This value ranges from 1.0 to 0.0 and the closer the value is to 0.0, the closer the fit is to the data."
   ]
  },
  {
   "cell_type": "code",
   "execution_count": 24,
   "metadata": {},
   "outputs": [],
   "source": [
    "def evaluating_models(models_dict):\n",
    "    \"\"\"Takes in a dictionary of fitted models and outputs a textual overview of each model's\n",
    "    R-squared and MSE value for the training and testing sets.\"\"\"\n",
    "    \n",
    "    # for each model in the given dictionary of fitted models\n",
    "    for name in models_dict:\n",
    "        model = models_dict[name]\n",
    "        print(name + \":\")\n",
    "        # R-squared values\n",
    "        print(\"\\tR-squared value for training set: \", r2_score(y_train, model.predict(X_train_selected)))\n",
    "        print(\"\\tR-squared value for testing set: \", r2_score(y_test, model.predict(X_test_selected)))\n",
    "        # MSE values\n",
    "        print(\"\\tMean squared error value for training set: \", mean_squared_error(y_train, model.predict(X_train_selected)))\n",
    "        print(\"\\tMean squared error value for testing set: \", mean_squared_error(y_test, model.predict(X_test_selected)),\"\\n\")"
   ]
  },
  {
   "cell_type": "markdown",
   "metadata": {},
   "source": [
    "#### Results of the Evaluation Metrics"
   ]
  },
  {
   "cell_type": "code",
   "execution_count": 25,
   "metadata": {},
   "outputs": [
    {
     "name": "stdout",
     "output_type": "stream",
     "text": [
      "Multiple Linear Regression:\n",
      "\tR-squared value for training set:  0.6943575222712596\n",
      "\tR-squared value for testing set:  0.6838932866203189\n",
      "\tMean squared error value for training set:  0.004247001419365564\n",
      "\tMean squared error value for testing set:  0.004223268696376047 \n",
      "\n",
      "Ridge:\n",
      "\tR-squared value for training set:  0.6939838825918878\n",
      "\tR-squared value for testing set:  0.6849990805613055\n",
      "\tMean squared error value for training set:  0.004252193263969151\n",
      "\tMean squared error value for testing set:  0.0042084949989569685 \n",
      "\n",
      "Lasso:\n",
      "\tR-squared value for training set:  0.0\n",
      "\tR-squared value for testing set:  -8.518972626347932e-05\n",
      "\tMean squared error value for training set:  0.013895324533832642\n",
      "\tMean squared error value for testing set:  0.013361400744460489 \n",
      "\n",
      "k-Nearest Neighbor:\n",
      "\tR-squared value for training set:  0.8341981215709361\n",
      "\tR-squared value for testing set:  0.7188797259247823\n",
      "\tMean squared error value for training set:  0.0023038709090909093\n",
      "\tMean squared error value for testing set:  0.0037558406802721076 \n",
      "\n",
      "Support Vector Machine:\n",
      "\tR-squared value for training set:  0.6793252212818849\n",
      "\tR-squared value for testing set:  0.6795369870828545\n",
      "\tMean squared error value for training set:  0.004455880120103178\n",
      "\tMean squared error value for testing set:  0.004281470002105714 \n",
      "\n"
     ]
    }
   ],
   "source": [
    "evaluating_models(trained_models)"
   ]
  },
  {
   "cell_type": "markdown",
   "metadata": {},
   "source": [
    "**Interpretation:**\n",
    "Three of our five models had similar, positive performances on the testing sets. Below we will discuss our findings with a focus on ranking performance based on the training set values.\n",
    "\n",
    "The k-Nearest Neighbor algorithm scored the best, with a R-squared value of 0.7189 and a Mean Squared Error value of 0.00376. This means that the k-Nearest Neighbors algorithm can account for about 71.89% of the variation in the regression model and has an average squared error of 0.00376. The MSE value specifically indicates that there is a smaller, or often lower, amount of error in the model since this estimator is sensitive to larger error values.\n",
    "\n",
    "Following behind k-Nearest Neighbors, the Multiple Linear Regression and Ridge algorithms have R-squared values of 0.6839 and 0.6849 and Mean Squared Error values of 0.00422 and 0.00421 respectively. Both algorithms had extremely close values and scored close to the top performing algorithm- only about 3% below the R-squared and about .001 above the Mean Squared Error. \n",
    "\n",
    "Just slightly below in performance lies the Support Vector Machine algorithm with an R-squared value of 0.6799 and a Mean Squared Error value of .00427. These scores are still close to our top performing algorithms but, due to the very close values between our second two algorithms, we will not continue with this algorithm.\n",
    "\n",
    "The Lasso Regression had a performance resulting in little to no viable results. While poor performance values can sometimes still be valuable, on our model the Lasso Regression algorithm resulted in an approximately 0 R-squared value with the R-squared value on the training set being actually 0. The Mean Squared Error value follows with the poor score of 0.01336. These results were very significant and showed Lasso Regression was a very poor algorithm for our model."
   ]
  },
  {
   "cell_type": "markdown",
   "metadata": {},
   "source": [
    "We chose to continue with the three top performing algorithms: Multiple Linear Regression, Ridge, and k-Nearest Neighbor. We hope to see how tuning might affect the closeness of scores for the second two performing algorithms and how it might reduce any potential overfitting to the training set by the k-Nearest Neighbors algorithm."
   ]
  },
  {
   "cell_type": "code",
   "execution_count": 26,
   "metadata": {},
   "outputs": [],
   "source": [
    "chosen_estimators = {'Multiple Linear Regression': LinearRegression(), 'Ridge': Ridge(), 'k-Nearest Neighbor': KNeighborsRegressor()}"
   ]
  },
  {
   "cell_type": "markdown",
   "metadata": {},
   "source": [
    "### 3.5. Model Optimization\n",
    "* Tune your models using appropriate hyperparameters\n",
    "* Explain why you are doing this (e.g., to avoid overfitting, etc.)"
   ]
  },
  {
   "cell_type": "markdown",
   "metadata": {},
   "source": [
    "#### Grid Search Function\n",
    "This function will be used to tune models using the appropriate hyperparameters."
   ]
  },
  {
   "cell_type": "code",
   "execution_count": 27,
   "metadata": {},
   "outputs": [],
   "source": [
    "from sklearn.model_selection import GridSearchCV\n",
    "\n",
    "def grid_search_params(params, model):\n",
    "    \"\"\"Takes in a single model and parameters to test in order to tune the\n",
    "    given model, using the selected training data from 3.1.\"\"\"\n",
    "        \n",
    "    # Grid search with the given parameters and a cross validation amount of 5\n",
    "    grid_search = GridSearchCV(model,params,cv=5)\n",
    "    # fits to the training data selected in 3.1\n",
    "    grid_search.fit(X=X_train_selected, y=y_train)\n",
    "    \n",
    "    # outputs results\n",
    "    print(\"\\tBest parameters: \", grid_search.best_params_)\n",
    "    \n",
    "    return grid_search.best_params_"
   ]
  },
  {
   "cell_type": "markdown",
   "metadata": {},
   "source": [
    "#### Creating Params\n",
    "Below is an overview of which parameters we will be tuning and an overview of our motive\n",
    "\n",
    ">**Multiple Linear Regression**:\n",
    ">We are not going to be creating parameters or hypertuning the Multiple Linear Regression model. This tuning for this model mostly depends on needing our data to be normalized, something that was covered when we preprocessed and feature selected our data.\n",
    "\n",
    ">**Ridge**:\n",
    ">We are going to tune the alpha value for our ridge model in order to determine if the model would benefit from reducing either under or overfitting to the data. The alpha value was originally 1 and we are testing values between 0 and 2. An alpha value lower than 1 would avoid overfitting and reduce the model's complexity while an alpha value over 1 would avoid underfitting and increase the model's complexity.\n",
    "\n",
    ">**k-Nearest Neighbor**:\n",
    ">One of the two parameters we are going to hypertune for the model is the metric of the model. The metric of the model is the distance metric used for the tree. The default is minkowski but we will also be trying out euclidean, manhattan, and chebyshev. If one of these other metrics is selected, we will discuss the difference in how the new distance metric works.\n",
    ">\n",
    ">The other parameter we will hypertune is the n_neighbors value. The default for this value is 5. A higher n_neighbors value would avoid overfitting and reduce the model's complexity while a lower n_neighbors value would avoid underfitting and increase the model's complexity."
   ]
  },
  {
   "cell_type": "code",
<<<<<<< HEAD
   "execution_count": 28,
=======
   "execution_count": 205,
>>>>>>> d140ba9c89ece83ddb9879e221af5af7f708a860
   "metadata": {},
   "outputs": [],
   "source": [
    "from scipy.stats import uniform\n",
    "# creating 100 alpha values to test from 0 to 2\n",
    "alphas = uniform.rvs(0,2,size=100,random_state=3000)\n",
    "\n",
    "# creating the Ridge parameters\n",
    "ridge_params = {\"alpha\":alphas}\n",
    "\n",
    "# creating the k-Nearest Neighbors parameters\n",
    "kn_params = {\"n_neighbors\":[1,2,3,4,5,6,7,8,9],\n",
    "             \"metric\":[\"euclidean\", \"manhattan\", \"chebyshev\", \"minkowski\"]}"
   ]
  },
  {
   "cell_type": "markdown",
   "metadata": {},
   "source": [
    "#### Model Optimization Results"
   ]
  },
  {
   "cell_type": "code",
<<<<<<< HEAD
   "execution_count": 29,
=======
   "execution_count": 206,
>>>>>>> d140ba9c89ece83ddb9879e221af5af7f708a860
   "metadata": {},
   "outputs": [
    {
     "name": "stdout",
     "output_type": "stream",
     "text": [
      "Ridge:\n",
<<<<<<< HEAD
      "\tBest parameters:  {'alpha': 0.8487596669727013}\n",
=======
      "\tBest parameters:  {'alpha': 0.8605828615776183}\n",
>>>>>>> d140ba9c89ece83ddb9879e221af5af7f708a860
      "\n",
      "k-Nearest Neighbor:\n",
      "\tBest parameters:  {'metric': 'manhattan', 'n_neighbors': 5}\n"
     ]
    }
   ],
   "source": [
    "print(\"Ridge:\")\n",
    "ridge_grid_results = grid_search_params(ridge_params,chosen_estimators[\"Ridge\"])\n",
    "print(\"\\nk-Nearest Neighbor:\")\n",
    "kn_grid_results = grid_search_params(kn_params,chosen_estimators[\"k-Nearest Neighbor\"])"
   ]
  },
  {
   "cell_type": "markdown",
   "metadata": {},
   "source": [
    "**Ridge**: Our tuned alpha ended up being slightly lowered from the original value of 1, meaning that hypertuning our Ridge model is for the goal of avoiding overfitting our model.\n",
    "\n",
    "**k-Nearest Neighbor**: Our n_neighbors value stayed optimal at 5 so there was no change to that in the model. Our improved metric ended up being manhattan instead of minkowski. The original minkowski distance metric follows the distance function sum(|x - y|^p)^(1/p) while the manhattan distance metric follows the distance function sum(|x - y|). The manhattan distance metric being chosen means that our hypertuning of the k-Nearest Neighbor model has simplified the model."
   ]
  },
  {
   "cell_type": "markdown",
   "metadata": {},
   "source": [
    "### 3.6. Model Testing\n",
    "* Test your tuned algorithms using your **testing set**"
   ]
  },
  {
   "cell_type": "markdown",
   "metadata": {},
   "source": [
    "#### Recreating the Models\n",
    "Using the optimized parameters found in section 3.5, we have created a dictionary of our three top performing models."
   ]
  },
  {
   "cell_type": "code",
<<<<<<< HEAD
   "execution_count": 30,
=======
   "execution_count": 207,
>>>>>>> d140ba9c89ece83ddb9879e221af5af7f708a860
   "metadata": {},
   "outputs": [],
   "source": [
    "tuned_models = {'Multiple Linear Regression': LinearRegression(), 'Ridge': Ridge(alpha=ridge_grid_results[\"alpha\"]), 'k-Nearest Neighbor': KNeighborsRegressor(metric=kn_grid_results[\"metric\"],n_neighbors=kn_grid_results[\"n_neighbors\"])}"
   ]
  },
  {
   "cell_type": "markdown",
   "metadata": {},
   "source": [
    "#### Testing the Models\n",
    "To create our final results, we are going to take our tuned models, train them using the function in 3.3, and test them using the function in 3.4. "
   ]
  },
  {
   "cell_type": "code",
<<<<<<< HEAD
   "execution_count": 31,
=======
   "execution_count": 208,
>>>>>>> d140ba9c89ece83ddb9879e221af5af7f708a860
   "metadata": {},
   "outputs": [
    {
     "name": "stdout",
     "output_type": "stream",
     "text": [
      "Multiple Linear Regression:\n",
      "\tR-squared value for training set:  0.6943575222712596\n",
      "\tR-squared value for testing set:  0.6838932866203189\n",
      "\tMean squared error value for training set:  0.004247001419365564\n",
      "\tMean squared error value for testing set:  0.004223268696376047 \n",
      "\n",
      "Ridge:\n",
<<<<<<< HEAD
      "\tR-squared value for training set:  0.694081261567906\n",
      "\tR-squared value for testing set:  0.684880369278023\n",
      "\tMean squared error value for training set:  0.004250840151494608\n",
      "\tMean squared error value for testing set:  0.004210081012873703 \n",
=======
      "\tR-squared value for training set:  0.6940740953251743\n",
      "\tR-squared value for testing set:  0.6848901862897812\n",
      "\tMean squared error value for training set:  0.004250939728763052\n",
      "\tMean squared error value for testing set:  0.004209949855018792 \n",
>>>>>>> d140ba9c89ece83ddb9879e221af5af7f708a860
      "\n",
      "k-Nearest Neighbor:\n",
      "\tR-squared value for training set:  0.8369968294709039\n",
      "\tR-squared value for testing set:  0.7334431388170126\n",
      "\tMean squared error value for training set:  0.0022649819545454545\n",
      "\tMean squared error value for testing set:  0.003561269659863945 \n",
      "\n"
     ]
    }
   ],
   "source": [
    "fitted_tuned = training_models(tuned_models)\n",
    "evaluating_models(fitted_tuned)"
   ]
  },
  {
   "cell_type": "markdown",
   "metadata": {},
   "source": [
    "<a id=\"4\"></a>\n",
    "<hr style=\"height:2px; border:none; color:black; background-color:black;\">"
   ]
  },
  {
   "cell_type": "markdown",
   "metadata": {},
   "source": [
    "## 4. DISCUSSION\n",
    "* Interpret your findings from 3.4., 3.5, and 3.6\n",
    "    * Which algorithms did you compare?\n",
    "    * Which algorithm(s) revealed best performance?\n",
    "    * Which algorithm(s) should be used for your predictive model?\n",
    "    * Based on your findings, can we use the features in your dataset to predict the outcome variable you identified using the algorithms you've applied? (It is okay if the answer is no. We're interested in the process, not the performance of the model.)\n",
    "* For your hypotheses, interpret the results. What does it mean to have significant/non-significant differences with regards to your data?\n",
    "\n",
    "\n",
    "* End this section with a conclusion paragraph containing some pointers for future work\n",
    "    * (e.g., get more data/features, perform another analysis, etc.)"
   ]
  },
  {
   "cell_type": "markdown",
   "metadata": {},
   "source": [
    "#### Summary of our Work\n",
    "\n",
    "We began by taking time to clean and alter our large dataset in 3.1. Our dataframe was changed by dropping columns that would negatively impact the ability of our machine learning algorithms- most notably many directly correlated columns- and was then cleaned and transformed into numerical values for use.\n",
    "\n",
    "We analyzed both the original dataset and our dataframe for machine learning with 3 visualizations in 3.2.\n",
    "\n",
    "We analyzed feature and target correlations in 3.3 and trained our models.\n",
    "\n",
    "3.4 covered model evaluations and ended with us selecting the top 3 models to continue with in sections 3.5 and 3.6.\n",
    "\n",
    "In 3.5 we tuned the 3 models we had chosen and subsequently tested the tuned models in section 3.6. Performance after hypertuning resulted in almost no change in the Ridge algorithm but had a small but noticeable improvement on the k-Nearest Neighbors algorithm."
   ]
  },
  {
   "cell_type": "markdown",
   "metadata": {},
   "source": [
    "#### Algorithms Compared:\n",
    "We compared Multiple Linear, Ridge, Lasso, k-Nearest Neighbors, and Support Vector Machine regression algorithms\n",
    "\n",
    "#### Best Algorithm Performance:\n",
    "k-Nearest Neighbor Algorithm  \n",
    "R-squared testing value: 0.7334431388170126  \n",
    "Mean Squared Error testing value: 0.003561269659863945  \n",
    "\n",
    "#### Final Performance of the Second Best Algorithms:\n",
    "Multiple Linear Regression Algorithm  \n",
    "R-squared testing value: 0.6838932866203189  \n",
    "Mean Squared Error testing value: 0.004247001419365564  \n",
    "\n",
    "Ridge Algorithm  \n",
    "R-squared testing value: 0.6848901862897812  \n",
    "Mean Squared Error testing value: 0.004250939728763052  \n",
    "\n",
    "#### The Algorithm for our Predictive Model:\n",
    "Although we continued with Multiple Linear, Ridge, and k-Nearest Neighbors models, the algorithm we recommend to be used for our predictive model is the k-Nearest Neighbors algorithm.  \n",
    "\n",
    "Originally, we continued with more than 1 model to account for their closeness in value and the potential for them to change in ranking after hyperparameter tuning. We wanted to continue with more than 1 top model to see how tuning might change their testing results and that along with the incredible closeness of our Multiple Linear Regression and Ridge algorithms led us to the decision to continue with all 3.  \n",
    "\n",
    "In the end, hyperparameter tuning ended up most positively affecting the k-Nearest Neighbor algorithm- already our top algorithm- and therefore ended up cementing k-Nearest Neighbors as the top algorithm. With the most potential for accurate results and the changes it went under during hyperparameter tuning, our algorithm to use for our predictive model is k-Nearest Neighbors.  \n",
    "\n",
    "#### Does the Model Work:\n",
    "We can not use the features in our dataset to predict the outcome variable we identified using the algorithms we've applied. There is not enough security in the algorithm we have fine tuned to actually use our predictive model as intended. Although our model would make a good tool to explore and understand the factors that result in attendance of higher education by MA students, it is not accurate enough to be used as a predictive tool.  \n",
    "\n",
    "#### Hypotheses Results:\n",
    " - Hypothesis 1: ? feature relation\n",
    "     - H0:\n",
    "     - H1:\n",
    "     - Evaluation:\n",
    " - Hypothesis 2: ? feature relation\n",
    "     - H0:\n",
    "     - H1:\n",
    "     - Evaluation:\n",
    " - Hypothesis 3: Lasso Regression\n",
    "     - H0:\n",
    "     - H1:\n",
    "     - Evaluation:\n"
   ]
  },
  {
   "cell_type": "markdown",
   "metadata": {},
   "source": [
    "#### Conclusion:\n",
    "\n",
    "paragraph\n",
    "\n",
    "#### Future Work:\n",
    "\n",
    "We would love to continue exploring the issue of access to higher education in Massachusetts. One of our ideas is to collect data about the communities school districts are in and compare that with rates of students attending higher education. For example, can you better predict access to higher education based on a community's average income, average property value, or average number of people living in a home? For data exploration purposes, it would be interesting to break down the Attending Coll./Univ. variable even further, looking at what percentage of students went to community colleges, public colleges, and private institutions. "
   ]
  },
  {
   "cell_type": "markdown",
   "metadata": {},
   "source": [
    "<a id=\"5\"></a>\n",
    "<hr style=\"height:2px; border:none; color:black; background-color:black;\">"
   ]
  },
  {
   "cell_type": "markdown",
   "metadata": {},
   "source": [
    "### CONTRIBUTIONS\n",
    "* Describe each team member's contributions to the report (who did what in each section)\n",
    "* Remember this is a team effort!\n",
    "* Each member of your team will provide peer evaluation of other team members. Your final grade on the project will be based on those peer evaluations. A survey will be shared after the deadline for this deliverable."
   ]
  },
  {
   "cell_type": "markdown",
   "metadata": {},
   "source": [
    "Much of our work was done collaboratively over Zoom, with one person sharing their screen and all of us working through the code together. While each of us played some role in every portion of the report, below is a more detailed breakdown of who spearheaded which sections:\n",
    "\n",
    "Ysabelle wrote much of the written portions of the project, especially in the introduction. She also completed the Data Exploration section, creating visualizations and drawing insights from them. \n",
    "\n",
    "Abby led us through the Data Wrangling and Model Construction portions of the report, taking the initiative to share her screen as we worked through those sections. She also helped draft up much of the written discussion about the performance of our ML models. \n",
    "\n",
    "Reshan completed a large part of the Method section and worked on our hypotheses tests, as well as spent a significant amount of time working with Abby on model construction."
   ]
  }
 ],
 "metadata": {
  "kernelspec": {
   "display_name": "Python 3",
   "language": "python",
   "name": "python3"
  },
  "language_info": {
   "codemirror_mode": {
    "name": "ipython",
    "version": 3
   },
   "file_extension": ".py",
   "mimetype": "text/x-python",
   "name": "python",
   "nbconvert_exporter": "python",
   "pygments_lexer": "ipython3",
   "version": "3.8.3"
  }
 },
 "nbformat": 4,
 "nbformat_minor": 2
}
