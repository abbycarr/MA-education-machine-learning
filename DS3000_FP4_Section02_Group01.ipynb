{
 "cells": [
  {
   "cell_type": "markdown",
   "metadata": {},
   "source": [
    "<center> <h2> DS 3000 - Fall 2020</h2> </center>\n",
    "<center> <h3> DS Report </h3> </center>\n"
   ]
  },
  {
   "cell_type": "markdown",
   "metadata": {},
   "source": [
    "<center> <h3> Measuring the success of MA public school districts</h3> </center>\n",
    "<center><h4>Ysabelle Kempe, Reshan Fernando, Abby Carr</h4></center>\n"
   ]
  },
  {
   "cell_type": "markdown",
   "metadata": {},
   "source": [
    "  "
   ]
  },
  {
   "cell_type": "markdown",
   "metadata": {},
   "source": [
    "<hr style=\"height:2px; border:none; color:black; background-color:black;\">"
   ]
  },
  {
   "cell_type": "markdown",
   "metadata": {},
   "source": [
    "#### Executive Summary:\n",
    "\n",
    "This project explores how qualities of Massachusetts' school districts impact students' access to higher education. Using data from the state's Department of Elementary and Secondary Education, we will examine district-level data concerning teacher salaries, how students are disciplined, demographics, AP testing, and financial expenditures. Along with visualizing and analyzing the correlations between variables, we tested and tuned multiple machine learning regression models on the data. This led to the following conclusions, which will be explained in further detail throughout this report:\n",
    "INSERT CONCLUSIONS"
   ]
  },
  {
   "cell_type": "markdown",
   "metadata": {},
   "source": [
    "<hr style=\"height:2px; border:none; color:black; background-color:black;\">"
   ]
  },
  {
   "cell_type": "markdown",
   "metadata": {},
   "source": [
    "## Outline\n",
    "1. <a href='#1'>INTRODUCTION</a>\n",
    "2. <a href='#2'>METHOD</a>\n",
    "3. <a href='#3'>RESULTS</a>\n",
    "4. <a href='#4'>DISCUSSION</a>"
   ]
  },
  {
   "cell_type": "markdown",
   "metadata": {},
   "source": [
    "<a id=\"1\"></a>\n",
    "<hr style=\"height:2px; border:none; color:black; background-color:black;\">"
   ]
  },
  {
   "cell_type": "markdown",
   "metadata": {},
   "source": [
    "## 1. INTRODUCTION"
   ]
  },
  {
   "cell_type": "markdown",
   "metadata": {},
   "source": [
    "**Problem Statement:**\n",
    "\n",
    "Our project explores access to higher education for students in Massachusetts public schools. Specifically, we want to better understand what qualities make a school district more likely to have higher rates of students who go on to attend college or university. \n",
    "\n",
    "Our first objective is to better understand the correlation between school district characteristics and access to higher education within that district. We also sought to compare several supervised machine learning regression models on the data to predict the percentage of students in a district who will attend higher education.\n",
    "\n",
    "**Significance of the Problem**\n",
    "\n",
    "Access to higher education is foundational in creating a more equitable society, something our group is quite passionate about. Having a college degree means you have access to a larger number of high-paying jobs and potentially will have a higher quality of life. At the same time, not every public school district is created equal. For example, some may have more funding, better teachers or different disciplinary policies, which could affect students’ likelihood to go to college. \n",
    "\n",
    "The insights from this project can be useful for decision makers who are trying to better equip school districts to send students on to higher education. If these decision makers understand the characteristics that most impact access to higher education, they can form regulations and distribute resources in a way most likely to create more equitable public education systems across the state.\n",
    "\n",
    "**Research Questions**\n",
    "\n",
    "Given the aforementioned problem and its importance, we set out to tackle the following questions:\n",
    "\n",
    "Question about relationship between features: Are features with similar fields correlated? Will these features skew the machine learning data, or have an impact on the accuracy predictions for the regression models we use?\n",
    "   * **Hypotheses between features:**\n",
    "   \n",
    "   * Hypothesis 1: \n",
    "       Is there a correlation between Students who took at least one AP Test and High Needs students? (includes low income and economically disadvantaged students among others) \n",
    "       * Null (H0): There is no correlation between the 'Tests Taken %' and 'High Needs %' features.\n",
    "       * Alternative (Ha): There is a correlation between the 'Tests Taken %' and 'High Needs %' features.\n",
    "   \n",
    "    We thought about the idea that there might be some correlation between the ability to afford AP testing and the high needs population of a school district and wanted to test to see if there might be significant correlation. \n",
    "\n",
    "\n",
    "   * Hypothesis 2:\n",
    "       Is there a correlation between In-District and Total Expenditures Per Pupil?\n",
    "       * Null(H0): There is no correlation between the 'In-District Expenditures Per Pupil' and 'Total Expenditures Per Pupil' features on the target variable (percent of students attending college or university). \n",
    "       * Alternative(Ha): There is a correlation between the 'In-District Expenditures Per Pupil' and 'Total Expenditures Per Pupil' features on the target variable (percent of students attending college or university). \n",
    "       \n",
    "    We did expect there to be some correlation between In-District and Total Expenditures Per Pupil but were interested to see how much. If there was some extra amount some schools were spending out of district, we wanted to be able to see this.\n",
    "   \n",
    "Question about machine learning algorithms: Which machine learning algorithms will be the most useful and accurate for predicting the percent of students that end up attending college or university? We expect the Ridge or Lasso regression model to produce a higher accuracy than the other machine learning algorithms, due to the ability to modify the alpha value used in these models while hypertuning. \n",
    "   * **Hypothesis about machine learning algorithms**:\n",
    "   * Hypothesis 3:\n",
    "       * Null: There will be no significant difference between the accuracy predictions of any of the regression models that we use.\n",
    "       * Alternative: Out of all of the regressions that we use, the Ridge regression model will have the highest accuracy."
   ]
  },
  {
   "cell_type": "markdown",
   "metadata": {},
   "source": [
    "<a id=\"2\"></a>\n",
    "<hr style=\"height:2px; border:none; color:black; background-color:black;\">"
   ]
  },
  {
   "cell_type": "markdown",
   "metadata": {},
   "source": [
    "## 2. METHOD"
   ]
  },
  {
   "cell_type": "markdown",
   "metadata": {},
   "source": [
    "### 2.1. Data Acquisition"
   ]
  },
  {
   "cell_type": "markdown",
   "metadata": {},
   "source": [
    "   We obtained our data from the website for the Massachusetts Department of Education. Mass DoE creates detailed state reports of school district data, concerning topics such as student enrollment and educator data. The link to the original source is here: \n",
    "    https://profiles.doe.mass.edu/state_report/\n",
    "    \n",
    "   We chose to use data over five school years (Fall 2013 - Spring 2018) in order to give our machine learning model as much data as possible. We chose to use eight different state reports for each year. Each school district has a unique district code, which is used as the identifier in each report, allowing us to merge these Excel files together on these unique codes. \n",
    "   \n",
    "   Each state report contained many different columns, so we picked columns that we felt would be the most relevant. We also did have to drop some columns due to the availability of what was recorded each year.\n",
    "   \n",
    "   The resulting dataset has 1,174 rows and 31 columns. We later selected eight columns (seven features plus our target) that we wanted to work with for the machine learning portion of the project. This is because we removed the variables that were directly correlated with other variables, in order to reduce repetition in our data. We discuss dropped columns later on in more detail. \n",
    "\n",
    "   #### Reports Chosen and Columns Used\n",
    "   - <a href = https://profiles.doe.mass.edu/statereport/gradsattendingcollege.aspx>Grads Attending Higher Ed</a>: \n",
    "       - Attending College/University (%) (this is the **outcome**): The percentage of high school graduates attending an institution of higher education. The types include private two-year, private four-year, public two-year, and public four year institutions.\n",
    "   - <a href= https://profiles.doe.mass.edu/statereport/enrollmentbyracegender.aspx>Enrollment by Race/Gender</a>: \n",
    "       - Races/Ethnicity (%) (including African-American, Asian, Hispanic, White, Native American, Native American/Pacific Islander, Multi-Race/Non-Hispanic) \n",
    "       - Gender (%) (only Males and Females) *DOE only added non-binary 2018-19 :(((* \n",
    "   - <a href = https://profiles.doe.mass.edu/statereport/selectedpopulations.aspx>Selected Populations</a>: \n",
    "       - First Language Not English (%): The percent of students in the district this year whose first language is a language other than English \n",
    "       - English Language Learner (%): The percent of students in the district this year who are English learners, defined as \"a student whose first language is a language other than English who is unable to perform ordinary classroom work in English.”\n",
    "       - Students With Disabilities (%): The percent of students in the district this year who have an Individualized Education Program (IEP)\n",
    "       - High Needs (%): The percent of students in the district this year who are designated as either low income (prior to School Year 2015), economically disadvantaged (starting in School Year 2015), or ELL, or former ELL, or a student with disabilities\n",
    "   - <a href= https://profiles.doe.mass.edu/statereport/teachersalaries.aspx>Teacher Salaries</a>: \n",
    "       - Salary Totals (\\$): The total of teacher salaries for the district this year\n",
    "       - Average Salary (\\$): The average of teacher salaries for the district this year determined as the Salary Totals divided by the number of full-time equivalent teachers\n",
    "       - Full Time Equivalent (FTE) count (#): The count of full-time equivalent teachers for the district this year\n",
    "   - <a href= https://profiles.doe.mass.edu/statereport/ppx.aspx>Per Pupil Expenditures</a>:  \n",
    "       - In-District Expenditures (\\$): All of the district’s operating expenditures for in-district programs this year\n",
    "       - In-District Expenditures per Pupil (\\$): The total in-district expenditures divided by in-district FTE average membership for this year \n",
    "       - Total Expenditures (\\$): All of the district’s operating expenditures for in-district programs and out-of-district placements\n",
    "       - Total Expenditures per Pupil (\\$): The total expenditures divided by total FTE average membership for the district in this year\n",
    "       - Total In-district FTEs (#): The average count of enrollment across this school year, for pupils enrolled at local schools in the district \n",
    "       - Total Pupil FTEs (#): The average count of enrollment across this school year for students enrolled at local schools in the district and those publicly-funded students enrolled at other districts, including charter schools, special education collaboratives, and private special education schools\n",
    "   - <a href= https://profiles.doe.mass.edu/statereport/ssdr.aspx>Student Discipline Data</a>: \n",
    "       - Students (#): The count of students in the district this year\n",
    "       - Students Diciplined (#): The count of students disciplined in the district this year\n",
    "       - In-School Suspension (%): The percent of students disciplined with an in-school suspension \n",
    "       - Out-of-School Suspension (%): The percent of students disciplined with an out-of-school suspension\n",
    "       - Expulsion (%): The percent of students disciplined with an expulsion\n",
    "       - Removed to Alternate Setting (%): The percent of students disciplined with a removal to an alternate setting\n",
    "   - <a href=https://profiles.doe.mass.edu/statereport/ap_part.aspx>Advanced Placement Participation</a>: \n",
    "       - Tests Takers (#): Number of students who took at least one AP test\n",
    "   - <a href=https://profiles.doe.mass.edu/statereport/ap.aspx>Advanced Placement Performance</a>: \n",
    "       - %Score 3-5 (%): Percent of students with passing AP scores"
   ]
  },
  {
   "cell_type": "code",
   "execution_count": 107,
   "metadata": {},
   "outputs": [],
   "source": [
    "import pandas as pd\n",
    "\n",
    "# read in the CSV file from github\n",
    "df = pd.read_csv(\"https://raw.githubusercontent.com/abbycarr/MA-education-machine-learning/main/Database%20Compliling%20Files/education_dataset_new.csv\")"
   ]
  },
  {
   "cell_type": "code",
   "execution_count": 108,
   "metadata": {},
   "outputs": [
    {
     "data": {
      "text/html": [
       "<div>\n",
       "<style scoped>\n",
       "    .dataframe tbody tr th:only-of-type {\n",
       "        vertical-align: middle;\n",
       "    }\n",
       "\n",
       "    .dataframe tbody tr th {\n",
       "        vertical-align: top;\n",
       "    }\n",
       "\n",
       "    .dataframe thead th {\n",
       "        text-align: right;\n",
       "    }\n",
       "</style>\n",
       "<table border=\"1\" class=\"dataframe\">\n",
       "  <thead>\n",
       "    <tr style=\"text-align: right;\">\n",
       "      <th></th>\n",
       "      <th>Attending Coll./Univ. (%)</th>\n",
       "      <th>African American</th>\n",
       "      <th>Asian</th>\n",
       "      <th>Hispanic</th>\n",
       "      <th>White</th>\n",
       "      <th>Native American</th>\n",
       "      <th>Native Hawaiian, Pacific Islander</th>\n",
       "      <th>Multi-Race, Non-Hispanic</th>\n",
       "      <th>Males</th>\n",
       "      <th>Females</th>\n",
       "      <th>...</th>\n",
       "      <th>Total Pupil FTEs</th>\n",
       "      <th>Total Expenditures per Pupil</th>\n",
       "      <th>Students</th>\n",
       "      <th>Students Disciplined</th>\n",
       "      <th>% In-School Suspension</th>\n",
       "      <th>% Out-of-School Suspension</th>\n",
       "      <th>% Expulsion</th>\n",
       "      <th>% Removed to Alternate Setting</th>\n",
       "      <th>Tests Takers</th>\n",
       "      <th>% Score 3-5</th>\n",
       "    </tr>\n",
       "  </thead>\n",
       "  <tbody>\n",
       "    <tr>\n",
       "      <th>0</th>\n",
       "      <td>74.0</td>\n",
       "      <td>3.1</td>\n",
       "      <td>2.0</td>\n",
       "      <td>7.9</td>\n",
       "      <td>85.9</td>\n",
       "      <td>0.3</td>\n",
       "      <td>0.1</td>\n",
       "      <td>0.7</td>\n",
       "      <td>50.5</td>\n",
       "      <td>49.5</td>\n",
       "      <td>...</td>\n",
       "      <td>2,139.6</td>\n",
       "      <td>$14,527.10</td>\n",
       "      <td>2,122</td>\n",
       "      <td>75</td>\n",
       "      <td>2.3</td>\n",
       "      <td>1.7</td>\n",
       "      <td>0.0</td>\n",
       "      <td>0.0</td>\n",
       "      <td>79</td>\n",
       "      <td>69.2</td>\n",
       "    </tr>\n",
       "    <tr>\n",
       "      <th>1</th>\n",
       "      <td>91.8</td>\n",
       "      <td>2.3</td>\n",
       "      <td>32.6</td>\n",
       "      <td>4.5</td>\n",
       "      <td>56.1</td>\n",
       "      <td>0.2</td>\n",
       "      <td>0.1</td>\n",
       "      <td>4.2</td>\n",
       "      <td>51.7</td>\n",
       "      <td>48.3</td>\n",
       "      <td>...</td>\n",
       "      <td>5,761.7</td>\n",
       "      <td>$15,697.78</td>\n",
       "      <td>5,726</td>\n",
       "      <td>43</td>\n",
       "      <td>0.3</td>\n",
       "      <td>0.5</td>\n",
       "      <td>0.0</td>\n",
       "      <td>0.0</td>\n",
       "      <td>518</td>\n",
       "      <td>95.3</td>\n",
       "    </tr>\n",
       "    <tr>\n",
       "      <th>2</th>\n",
       "      <td>66.3</td>\n",
       "      <td>4.4</td>\n",
       "      <td>0.9</td>\n",
       "      <td>2.5</td>\n",
       "      <td>90.3</td>\n",
       "      <td>0.2</td>\n",
       "      <td>0.1</td>\n",
       "      <td>1.6</td>\n",
       "      <td>50.5</td>\n",
       "      <td>49.5</td>\n",
       "      <td>...</td>\n",
       "      <td>1,418.1</td>\n",
       "      <td>$14,871.43</td>\n",
       "      <td>1,282</td>\n",
       "      <td>75</td>\n",
       "      <td>4.1</td>\n",
       "      <td>2.7</td>\n",
       "      <td>0.0</td>\n",
       "      <td>0.0</td>\n",
       "      <td>98</td>\n",
       "      <td>33.3</td>\n",
       "    </tr>\n",
       "    <tr>\n",
       "      <th>3</th>\n",
       "      <td>79.3</td>\n",
       "      <td>2.3</td>\n",
       "      <td>3.0</td>\n",
       "      <td>7.8</td>\n",
       "      <td>84.3</td>\n",
       "      <td>0.0</td>\n",
       "      <td>0.1</td>\n",
       "      <td>2.6</td>\n",
       "      <td>52.1</td>\n",
       "      <td>47.9</td>\n",
       "      <td>...</td>\n",
       "      <td>3,955.6</td>\n",
       "      <td>$16,747.21</td>\n",
       "      <td>4,002</td>\n",
       "      <td>104</td>\n",
       "      <td>1.5</td>\n",
       "      <td>1.3</td>\n",
       "      <td>0.0</td>\n",
       "      <td>0.0</td>\n",
       "      <td>231</td>\n",
       "      <td>58.4</td>\n",
       "    </tr>\n",
       "    <tr>\n",
       "      <th>4</th>\n",
       "      <td>83.2</td>\n",
       "      <td>1.6</td>\n",
       "      <td>1.1</td>\n",
       "      <td>7.2</td>\n",
       "      <td>86.2</td>\n",
       "      <td>0.2</td>\n",
       "      <td>0.1</td>\n",
       "      <td>3.5</td>\n",
       "      <td>53.5</td>\n",
       "      <td>46.5</td>\n",
       "      <td>...</td>\n",
       "      <td>2,268.4</td>\n",
       "      <td>$16,455.64</td>\n",
       "      <td>2,227</td>\n",
       "      <td>45</td>\n",
       "      <td>1.4</td>\n",
       "      <td>0.9</td>\n",
       "      <td>0.0</td>\n",
       "      <td>0.0</td>\n",
       "      <td>84</td>\n",
       "      <td>70.1</td>\n",
       "    </tr>\n",
       "  </tbody>\n",
       "</table>\n",
       "<p>5 rows × 31 columns</p>\n",
       "</div>"
      ],
      "text/plain": [
       "   Attending Coll./Univ. (%)  African American  Asian  Hispanic  White  \\\n",
       "0                       74.0               3.1    2.0       7.9   85.9   \n",
       "1                       91.8               2.3   32.6       4.5   56.1   \n",
       "2                       66.3               4.4    0.9       2.5   90.3   \n",
       "3                       79.3               2.3    3.0       7.8   84.3   \n",
       "4                       83.2               1.6    1.1       7.2   86.2   \n",
       "\n",
       "   Native American  Native Hawaiian, Pacific Islander  \\\n",
       "0              0.3                                0.1   \n",
       "1              0.2                                0.1   \n",
       "2              0.2                                0.1   \n",
       "3              0.0                                0.1   \n",
       "4              0.2                                0.1   \n",
       "\n",
       "   Multi-Race, Non-Hispanic  Males  Females  ...    Total Pupil FTEs  \\\n",
       "0                       0.7   50.5     49.5  ...             2,139.6   \n",
       "1                       4.2   51.7     48.3  ...             5,761.7   \n",
       "2                       1.6   50.5     49.5  ...             1,418.1   \n",
       "3                       2.6   52.1     47.9  ...             3,955.6   \n",
       "4                       3.5   53.5     46.5  ...             2,268.4   \n",
       "\n",
       "   Total Expenditures per Pupil  Students  Students Disciplined  \\\n",
       "0                    $14,527.10     2,122                    75   \n",
       "1                    $15,697.78     5,726                    43   \n",
       "2                    $14,871.43     1,282                    75   \n",
       "3                    $16,747.21     4,002                   104   \n",
       "4                    $16,455.64     2,227                    45   \n",
       "\n",
       "  % In-School Suspension % Out-of-School Suspension % Expulsion  \\\n",
       "0                    2.3                        1.7         0.0   \n",
       "1                    0.3                        0.5         0.0   \n",
       "2                    4.1                        2.7         0.0   \n",
       "3                    1.5                        1.3         0.0   \n",
       "4                    1.4                        0.9         0.0   \n",
       "\n",
       "  % Removed to Alternate Setting Tests Takers % Score 3-5  \n",
       "0                            0.0           79        69.2  \n",
       "1                            0.0          518        95.3  \n",
       "2                            0.0           98        33.3  \n",
       "3                            0.0          231        58.4  \n",
       "4                            0.0           84        70.1  \n",
       "\n",
       "[5 rows x 31 columns]"
      ]
     },
     "execution_count": 108,
     "metadata": {},
     "output_type": "execute_result"
    }
   ],
   "source": [
    "df.head()"
   ]
  },
  {
   "cell_type": "markdown",
   "metadata": {},
   "source": [
    "We will also create a copy of the df for analysis purposes. This copy will allow us to analyze some of the columns we drop and change during the data wrangling process"
   ]
  },
  {
   "cell_type": "code",
   "execution_count": 109,
   "metadata": {},
   "outputs": [],
   "source": [
    "df_for_analysis = df"
   ]
  },
  {
   "cell_type": "markdown",
   "metadata": {},
   "source": [
    "### 2.2. Data Analysis\n",
    "\n",
    "Independent (Feature) Variables we chose to use for predictive machine learning models:\n",
    "\n",
    "   * High Needs (%): Percent of students who are low income, economically disadvantaged, ELL, former ELL, or with disabilities. \n",
    "   * Average Salary: Total teaching salaries / # of full time equivalent teachers\n",
    "   * In-District Expenditures per Pupil: Total In-District Expenditures / District's Average Pupil Membership \t\n",
    "   * Total Expenditures per Pupil: Total In-District + Out-of-District Expenditures / District's Average Pupil Membership\n",
    "   * % Score 3-5: Percent of students who received at least one passing grade on an AP test they took\n",
    "   * Students Disciplined (%): Proportion of students who have been disciplined in some way above detention (for example, suspension or expulsion)\n",
    "   * Tests Takers (%): Percent of Students that took an AP test in District / Total Students in District\n",
    "\n",
    "Dependent (Target) Variable\n",
    "\n",
    "   * Attending Coll./Univ. (%): Percent of students who attend higher education after high school\n",
    "    \n",
    "We believe all seven of these feature variables may be important predictors for determining students' available resources and likelihood for attending higher education.    \n",
    "    \n",
    "The predictive model we are creating is a multiple regression model. All values in our target and feature variables are continuous, and we are using our feature variables to predict outputs for our target variable. This Machine Learning problem is considered supervised, as we are testing if given inputs will correctly map to provided outputs, based off of a pre-determined training set. \n",
    "\n",
    "We also intend to use multiple different machine learning algorithms in order to have many different regressions to compare. \n",
    "\n",
    "Machine Learning Algorithms Used \n",
    "    - Multiple Linear Regression: Little tuning required\n",
    "    - Lasso: adds constraints to account for potentially related features\n",
    "    - Ridge: Similar to Lasso, adds constraints to account for potentially related features\n",
    "    - K-nearest neighbor: Simplistic form of machine learning\n",
    "    - Support Vector Machine: Fits potential errors within a certain threshold, so it may be more accurate if many outliers exist within these districts."
   ]
  },
  {
   "cell_type": "markdown",
   "metadata": {},
   "source": [
    "<a id=\"3\"></a>\n",
    "<hr style=\"height:2px; border:none; color:black; background-color:black;\">"
   ]
  },
  {
   "cell_type": "markdown",
   "metadata": {},
   "source": [
    "## 3. RESULTS"
   ]
  },
  {
   "cell_type": "markdown",
   "metadata": {},
   "source": [
    "### 3.1. Data Wrangling"
   ]
  },
  {
   "cell_type": "markdown",
   "metadata": {},
   "source": [
    "#### Cleaning the Data:\n",
    "We first drop Na values, should any of them have remained in the original process of creating the dataframe, and then begin the process of dropping redundant and directly correlated columns."
   ]
  },
  {
   "cell_type": "code",
   "execution_count": 111,
=======
   "execution_count": 110,
>>>>>>> df82d8792dbce5ecdc4768768f0d0062f1e5091c
   "metadata": {},
   "outputs": [],
   "source": [
    "# Drop NA values\n",
    "df.dropna(inplace=True)"
   ]
  },
  {
   "cell_type": "markdown",
   "metadata": {},
   "source": [
    "Note: We chose to drop the race columns because we did not want to build racial bias into our machine learning model. However, we did think it would be interesting to use the race data in our data exploration section, as you will see later in the report. We dropped data about gender as well because most schools had a pretty even distribution of males to females, and we didn't think it would be as relevant to or useful for our ML models. "
   ]
  },
  {
   "cell_type": "code",
   "execution_count": 112,
=======
   "execution_count": 111,
>>>>>>> df82d8792dbce5ecdc4768768f0d0062f1e5091c
   "metadata": {},
   "outputs": [],
   "source": [
    "# Drop the Gender columns \n",
    "df = df.drop(\"Males\", axis=1)\n",
    "df = df.drop(\"Females\", axis=1)\n",
    "\n",
    "# Drop the Race columns \n",
    "df = df.drop(\"African American\", axis=1)\n",
    "df = df.drop(\"Asian\", axis=1)\n",
    "df = df.drop(\"White\", axis=1)\n",
    "df = df.drop(\"Hispanic\", axis=1)\n",
    "df = df.drop(\"Native American\", axis=1)\n",
    "df = df.drop(\"Native Hawaiian, Pacific Islander\", axis=1)\n",
    "df = df.drop(\"Multi-Race, Non-Hispanic\", axis=1)\n",
    "\n",
    "# Drop columns directly related to High Needs (%)\n",
    "df = df.drop(\"First Language Not English %\", axis=1)\n",
    "df = df.drop(\"English Language Learner %\", axis=1)\n",
    "df = df.drop(\"Students With Disabilities %\", axis=1)\n",
    "\n",
    "# Drop columns directly related to Average Salary\n",
    "df = df.drop(\"Salary Totals\", axis=1)\n",
    "df = df.drop(\"FTE Count\", axis=1)\n",
    "\n",
    "# Drop columns directly related to Expenditures, In-District and Total, per Pupil\n",
    "df = df.drop(\"In-District Expenditures\", axis=1)\n",
    "df = df.drop(\"Total In-district FTEs\", axis=1)\n",
    "df = df.drop(\"Total Expenditures\", axis=1)\n",
    "df = df.drop(\"Total Pupil FTEs\", axis=1)\n",
    "\n",
    "# Drop columns directly related to Students Disciplined (%)\n",
    "df = df.drop(\"% In-School Suspension\", axis=1)\n",
    "df = df.drop(\"% Out-of-School Suspension\", axis=1)\n",
    "df = df.drop(\"% Expulsion\", axis=1)\n",
    "df = df.drop(\"% Removed to Alternate Setting\", axis=1)"
   ]
  },
  {
   "cell_type": "markdown",
   "metadata": {},
   "source": [
    "#### Wrangling the Data:\n",
    "Here we are going to make our data numerical by applying a function that gets rid of excess characters and then applies the pandas function to make the data a numerical value."
   ]
  },
  {
   "cell_type": "code",
   "execution_count": 113,
=======
   "execution_count": 112,
>>>>>>> df82d8792dbce5ecdc4768768f0d0062f1e5091c
   "metadata": {},
   "outputs": [],
   "source": [
    "# makes the dataframe numeric\n",
    "def clean_to_numeric(data):\n",
    "    cleaned = data.replace(\",\",\"\",regex=True)\n",
    "    cleaned = cleaned.replace(\"\\$\",\"\",regex=True)\n",
    "    cleaned = cleaned.replace(\" \",\"\",regex=True)\n",
    "    cleaned = pd.to_numeric(cleaned)\n",
    "    return cleaned\n",
    "\n",
    "# clean the dataframe of non-numeric characters\n",
    "df = df.apply(clean_to_numeric)"
   ]
  },
  {
   "cell_type": "markdown",
   "metadata": {},
   "source": [
    "We are going to clean our analysis-only dataset as well"
   ]
  },
  {
   "cell_type": "code",

   "execution_count": 114,
=======
   "execution_count": 113,
>>>>>>> df82d8792dbce5ecdc4768768f0d0062f1e5091c
   "metadata": {},
   "outputs": [],
   "source": [
    "# clean and save the dataframe without dropped columns so we can use it for data exploration later\n",
    "df_for_analysis = df_for_analysis.apply(clean_to_numeric)"
   ]
  },
  {
   "cell_type": "markdown",
   "metadata": {},
   "source": [
    "#### Feature Extraction:\n",
    "Our dataframe currently contains three columns that contain a count of students: Students, Tests Takers, and Students Disciplined. These counts will not have significance when comparing the school districts so instead we will use these three values to create two new columns: Students Disciplined (%) and Tests Takers (%)."
   ]
  },
  {
   "cell_type": "code",
<<<<<<< HEAD
<<<<<<< HEAD
   "execution_count": 8,
=======
   "execution_count": 115,
>>>>>>> 7b02e4a0c88e85531da13c0ee89747d06b52cfa0
=======
   "execution_count": 114,
>>>>>>> df82d8792dbce5ecdc4768768f0d0062f1e5091c
   "metadata": {},
   "outputs": [],
   "source": [
    "# Transform 'Students' and 'Students Disciplined' to 'Students Disciplined (%)'\n",
    "df[\"Students Disciplined (%)\"] = df[\"Students Disciplined\"] / df[\"Students\"]\n",
    "\n",
    "# Transform 'Students' and 'Tests Takers' to 'Tests Takers (%)'\n",
    "df[\"Tests Takers (%)\"] = df[\"Tests Takers\"] / df[\"Students\"]\n",
    "\n",
    "# Drop 'Students', 'Students Disciplined', and 'Tests Takers'\n",
    "df = df.drop(\"Students\",axis = 1)\n",
    "df = df.drop(\"Students Disciplined\",axis = 1)\n",
    "df = df.drop(\"Tests Takers\",axis = 1)"
   ]
  },
  {
   "cell_type": "markdown",
   "metadata": {},
   "source": [
    "We are transforming our target value, currently a percentage from 0 to 100, using a logrithmic function. The percent of graduating students that are attending college or university is skewed positively and it is because of this skew that we are transforming the target column."
   ]
  },
  {
   "cell_type": "code",
<<<<<<< HEAD
<<<<<<< HEAD
   "execution_count": 9,
=======
   "execution_count": 116,
>>>>>>> 7b02e4a0c88e85531da13c0ee89747d06b52cfa0
=======
   "execution_count": 115,
>>>>>>> df82d8792dbce5ecdc4768768f0d0062f1e5091c
   "metadata": {},
   "outputs": [],
   "source": [
    "import numpy as np\n",
    "\n",
    "# Transform 'Attending Coll./Univ. (%)' using logarithmic function \n",
    "df[\"Attending Coll./Univ. (%)\"] = np.log(df[\"Attending Coll./Univ. (%)\"])"
   ]
  },
  {
   "cell_type": "markdown",
   "metadata": {},
   "source": [
    "#### Splitting the dataframe into Features and Target:"
   ]
  },
  {
   "cell_type": "code",
<<<<<<< HEAD
<<<<<<< HEAD
   "execution_count": 10,
=======
   "execution_count": 117,
>>>>>>> 7b02e4a0c88e85531da13c0ee89747d06b52cfa0
=======
   "execution_count": 141,
>>>>>>> df82d8792dbce5ecdc4768768f0d0062f1e5091c
   "metadata": {},
   "outputs": [
    {
     "data": {
      "text/html": [
       "<div>\n",
       "<style scoped>\n",
       "    .dataframe tbody tr th:only-of-type {\n",
       "        vertical-align: middle;\n",
       "    }\n",
       "\n",
       "    .dataframe tbody tr th {\n",
       "        vertical-align: top;\n",
       "    }\n",
       "\n",
       "    .dataframe thead th {\n",
       "        text-align: right;\n",
       "    }\n",
       "</style>\n",
       "<table border=\"1\" class=\"dataframe\">\n",
       "  <thead>\n",
       "    <tr style=\"text-align: right;\">\n",
       "      <th></th>\n",
       "      <th>High Needs %</th>\n",
       "      <th>Average Salary</th>\n",
       "      <th>In-District Expenditures per Pupil</th>\n",
       "      <th>Total Expenditures per Pupil</th>\n",
       "      <th>% Score 3-5</th>\n",
       "      <th>Students Disciplined (%)</th>\n",
       "      <th>Tests Takers (%)</th>\n",
       "    </tr>\n",
       "  </thead>\n",
       "  <tbody>\n",
       "    <tr>\n",
       "      <th>0</th>\n",
       "      <td>35.5</td>\n",
       "      <td>85917</td>\n",
       "      <td>13461.03</td>\n",
       "      <td>14527.10</td>\n",
       "      <td>69.2</td>\n",
       "      <td>0.035344</td>\n",
       "      <td>0.037229</td>\n",
       "    </tr>\n",
       "    <tr>\n",
       "      <th>1</th>\n",
       "      <td>24.9</td>\n",
       "      <td>84822</td>\n",
       "      <td>14382.42</td>\n",
       "      <td>15697.78</td>\n",
       "      <td>95.3</td>\n",
       "      <td>0.007510</td>\n",
       "      <td>0.090465</td>\n",
       "    </tr>\n",
       "    <tr>\n",
       "      <th>2</th>\n",
       "      <td>57.9</td>\n",
       "      <td>82426</td>\n",
       "      <td>15721.64</td>\n",
       "      <td>14871.43</td>\n",
       "      <td>33.3</td>\n",
       "      <td>0.058502</td>\n",
       "      <td>0.076443</td>\n",
       "    </tr>\n",
       "    <tr>\n",
       "      <th>3</th>\n",
       "      <td>41.9</td>\n",
       "      <td>74116</td>\n",
       "      <td>15902.26</td>\n",
       "      <td>16747.21</td>\n",
       "      <td>58.4</td>\n",
       "      <td>0.025987</td>\n",
       "      <td>0.057721</td>\n",
       "    </tr>\n",
       "    <tr>\n",
       "      <th>4</th>\n",
       "      <td>36.7</td>\n",
       "      <td>76770</td>\n",
       "      <td>15644.74</td>\n",
       "      <td>16455.64</td>\n",
       "      <td>70.1</td>\n",
       "      <td>0.020207</td>\n",
       "      <td>0.037719</td>\n",
       "    </tr>\n",
       "  </tbody>\n",
       "</table>\n",
       "</div>"
      ],
      "text/plain": [
       "   High Needs %  Average Salary  In-District Expenditures per Pupil  \\\n",
       "0          35.5           85917                            13461.03   \n",
       "1          24.9           84822                            14382.42   \n",
       "2          57.9           82426                            15721.64   \n",
       "3          41.9           74116                            15902.26   \n",
       "4          36.7           76770                            15644.74   \n",
       "\n",
       "   Total Expenditures per Pupil  % Score 3-5  Students Disciplined (%)  \\\n",
       "0                      14527.10         69.2                  0.035344   \n",
       "1                      15697.78         95.3                  0.007510   \n",
       "2                      14871.43         33.3                  0.058502   \n",
       "3                      16747.21         58.4                  0.025987   \n",
       "4                      16455.64         70.1                  0.020207   \n",
       "\n",
       "   Tests Takers (%)  \n",
       "0          0.037229  \n",
       "1          0.090465  \n",
       "2          0.076443  \n",
       "3          0.057721  \n",
       "4          0.037719  "
      ]
     },
<<<<<<< HEAD
<<<<<<< HEAD
     "execution_count": 10,
=======
     "execution_count": 117,
>>>>>>> 7b02e4a0c88e85531da13c0ee89747d06b52cfa0
=======
     "execution_count": 141,
>>>>>>> df82d8792dbce5ecdc4768768f0d0062f1e5091c
     "metadata": {},
     "output_type": "execute_result"
    }
   ],
   "source": [
    "# Drop the target column\n",
    "features = df.drop(\"Attending Coll./Univ. (%)\",axis=1)\n",
    "features.head()"
   ]
  },
  {
   "cell_type": "code",
<<<<<<< HEAD
<<<<<<< HEAD
   "execution_count": 11,
=======
   "execution_count": 118,
>>>>>>> 7b02e4a0c88e85531da13c0ee89747d06b52cfa0
=======
   "execution_count": 117,
>>>>>>> df82d8792dbce5ecdc4768768f0d0062f1e5091c
   "metadata": {},
   "outputs": [
    {
     "data": {
      "text/plain": [
       "0    4.304065\n",
       "1    4.519612\n",
       "2    4.194190\n",
       "3    4.373238\n",
       "4    4.421247\n",
       "Name: Attending Coll./Univ. (%), dtype: float64"
      ]
     },
<<<<<<< HEAD
<<<<<<< HEAD
     "execution_count": 11,
=======
     "execution_count": 118,
>>>>>>> 7b02e4a0c88e85531da13c0ee89747d06b52cfa0
=======
     "execution_count": 117,
>>>>>>> df82d8792dbce5ecdc4768768f0d0062f1e5091c
     "metadata": {},
     "output_type": "execute_result"
    }
   ],
   "source": [
    "target = df[\"Attending Coll./Univ. (%)\"]\n",
    "target.head()"
   ]
  },
  {
   "cell_type": "markdown",
   "metadata": {},
   "source": [
    "#### Test and Training Splitting:"
   ]
  },
  {
   "cell_type": "code",
<<<<<<< HEAD
<<<<<<< HEAD
   "execution_count": 12,
=======
   "execution_count": 119,
>>>>>>> 7b02e4a0c88e85531da13c0ee89747d06b52cfa0
=======
   "execution_count": 118,
>>>>>>> df82d8792dbce5ecdc4768768f0d0062f1e5091c
   "metadata": {},
   "outputs": [],
   "source": [
    "# Splitting into testing and training sets\n",
    "from sklearn.model_selection import train_test_split\n",
    "X_train, X_test, y_train, y_test = train_test_split(features, target, random_state=3000)"
   ]
  },
  {
   "cell_type": "markdown",
   "metadata": {},
   "source": [
    "#### Preprocessing the data:\n",
    "We are going to use MinMaxScalar to scale our data."
   ]
  },
  {
   "cell_type": "code",
<<<<<<< HEAD
<<<<<<< HEAD
   "execution_count": 13,
=======
   "execution_count": 120,
>>>>>>> 7b02e4a0c88e85531da13c0ee89747d06b52cfa0
=======
   "execution_count": 119,
>>>>>>> df82d8792dbce5ecdc4768768f0d0062f1e5091c
   "metadata": {},
   "outputs": [],
   "source": [
    "#create the scaler\n",
    "from sklearn.preprocessing import MinMaxScaler\n",
    "scaler = MinMaxScaler()\n",
    "\n",
    "#fit the scaler to the training data(features only)\n",
    "scaler.fit(X_train) \n",
    "\n",
    "#transform X_train and X_test based on the (same) scaler\n",
    "X_train_scaled = scaler.transform(X_train) \n",
    "X_test_scaled = scaler.transform(X_test) "
   ]
  },
  {
   "cell_type": "markdown",
   "metadata": {},
   "source": [
    "#### Feature Selection:\n",
    "We are running the RFE on our scaled data to select the most important features. Fine tuning by hand allowed us to choose 5 features as the amount to reduce our features to."
   ]
  },
  {
   "cell_type": "code",
<<<<<<< HEAD
<<<<<<< HEAD
   "execution_count": 14,
=======
   "execution_count": 121,
>>>>>>> 7b02e4a0c88e85531da13c0ee89747d06b52cfa0
=======
   "execution_count": 120,
>>>>>>> df82d8792dbce5ecdc4768768f0d0062f1e5091c
   "metadata": {},
   "outputs": [
    {
     "name": "stdout",
     "output_type": "stream",
     "text": [
      "Original results:\n",
<<<<<<< HEAD
      "\tR-squared value for training set: 0.7081390349902907\n",
      "\tR-squared value for testing set: 0.6857109660139478\n",
      "\tMean squared error value for training set: 0.004055502827567484\n",
      "\tMean squared error value for testing set: 0.004198984022377555 \n",
=======
      "\tR-squared value for training set: 0.6793262060830396\n",
      "\tR-squared value for testing set: 0.6648946555789741\n",
      "\tMean squared error value for training set: 0.009629273463945199\n",
      "\tMean squared error value for testing set: 0.00885761965545433 \n",
>>>>>>> 7b02e4a0c88e85531da13c0ee89747d06b52cfa0
      "\n",
      "With selected features:\n",
      "\tR-squared value for training set: 0.6666464074889842\n",
      "\tR-squared value for testing set: 0.6620303285211429\n",
      "\tMean squared error value for training set: 0.010010025650266745\n",
      "\tMean squared error value for testing set: 0.008933330532852987\n"
     ]
    }
   ],
   "source": [
    "from sklearn.feature_selection import RFE\n",
    "from sklearn.tree import DecisionTreeRegressor\n",
    "from sklearn.linear_model import LinearRegression\n",
    "from sklearn.metrics import r2_score, mean_squared_error\n",
    "\n",
    "# create the RFE selector\n",
    "select = RFE(DecisionTreeRegressor(random_state = 3000),n_features_to_select = 5)\n",
    "\n",
    "#fit the RFE selector to the training data\n",
    "select.fit(X_train_scaled, y_train)\n",
    "\n",
    "#transform training and testing sets so only the selected features are retained\n",
    "X_train_selected = select.transform(X_train_scaled)\n",
    "X_test_selected = select.transform(X_test_scaled)\n",
    "\n",
    "model = LinearRegression().fit(X=X_train_scaled, y=y_train)\n",
    "\n",
    "# Original Results\n",
    "print(\"Original results:\")\n",
    "# R2 values\n",
    "print(\"\\tR-squared value for training set:\", r2_score(y_train, model.predict(X_train_scaled)))\n",
    "print(\"\\tR-squared value for testing set:\", r2_score(y_test, model.predict(X_test_scaled)))\n",
    "# MSE values\n",
    "print(\"\\tMean squared error value for training set:\", mean_squared_error(y_train, model.predict(X_train_scaled)))\n",
    "print(\"\\tMean squared error value for testing set:\", mean_squared_error(y_test, model.predict(X_test_scaled)),\"\\n\")\n",
    "\n",
    "\n",
    "model = LinearRegression().fit(X=X_train_selected, y=y_train)\n",
    "\n",
    "# Selected Results\n",
    "print(\"With selected features:\")\n",
    "# R2 values\n",
    "print(\"\\tR-squared value for training set:\", r2_score(y_train, model.predict(X_train_selected)))\n",
    "print(\"\\tR-squared value for testing set:\", r2_score(y_test, model.predict(X_test_selected)))\n",
    "# MSE values\n",
    "print(\"\\tMean squared error value for training set:\", mean_squared_error(y_train, model.predict(X_train_selected)))\n",
    "print(\"\\tMean squared error value for testing set:\", mean_squared_error(y_test, model.predict(X_test_selected)))"
   ]
  },
  {
   "cell_type": "code",
<<<<<<< HEAD
<<<<<<< HEAD
   "execution_count": 15,
=======
   "execution_count": 122,
>>>>>>> 7b02e4a0c88e85531da13c0ee89747d06b52cfa0
=======
   "execution_count": 121,
>>>>>>> df82d8792dbce5ecdc4768768f0d0062f1e5091c
   "metadata": {},
   "outputs": [
    {
     "name": "stdout",
     "output_type": "stream",
     "text": [
      "Selected Features:\n",
      "\tHigh Needs %\n",
      "\tTotal Expenditures per Pupil\n",
      "\t% Score 3-5\n",
      "\tStudents Disciplined (%)\n",
      "\tTests Takers (%)\n"
     ]
    }
   ],
   "source": [
    "# Output the chosen features\n",
    "print(\"Selected Features:\")\n",
    "\n",
    "bool_chosen = select.get_support()\n",
    "for i in range(0,len(features.columns)):\n",
    "    if bool_chosen[i]:\n",
    "        print(\"\\t\" + features.columns[i])"
   ]
  },
  {
   "cell_type": "markdown",
   "metadata": {},
   "source": [
    "### 3.2. Data Exploration"
   ]
  },
  {
   "cell_type": "markdown",
   "metadata": {},
   "source": [
    "### Visualization 1"
   ]
  },
  {
   "cell_type": "markdown",
   "metadata": {},
   "source": [
    "For our first visualization, we wanted to see how the variables we saved to use for ML correlated with one another. To do so, we chose to create a heatmap."
   ]
  },
  {
   "cell_type": "code",
<<<<<<< HEAD
<<<<<<< HEAD
   "execution_count": 37,
=======
   "execution_count": 123,
>>>>>>> 7b02e4a0c88e85531da13c0ee89747d06b52cfa0
=======
   "execution_count": 122,
>>>>>>> df82d8792dbce5ecdc4768768f0d0062f1e5091c
   "metadata": {
    "scrolled": true
   },
   "outputs": [
    {
     "data": {
<<<<<<< HEAD
      "image/png": "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\n",
=======
      "image/png": "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\n",
>>>>>>> 7b02e4a0c88e85531da13c0ee89747d06b52cfa0
      "text/plain": [
       "<Figure size 504x504 with 2 Axes>"
      ]
     },
     "metadata": {
      "needs_background": "light"
     },
     "output_type": "display_data"
    }
   ],
   "source": [
    "# Display a heatmap showing the correlation between variables\n",
    "import matplotlib.pyplot as plt\n",
    "import seaborn as sns\n",
    "\n",
    "# create a new figure\n",
    "plt.figure(figsize=(7, 7))\n",
    "# create a heatmap with our df\n",
    "ax = sns.heatmap(df.corr(), square=True, annot=True, cmap=\"Blues\")\n",
    "# add a title and format\n",
    "ax.set_title('Correlations for each variable', fontsize = 29, pad = 20)\n",
    "plt.subplots_adjust(bottom=0.28)\n",
    "plt.savefig('all_correlations.png')\n",
    "plt.show()"
   ]
  },
  {
   "cell_type": "markdown",
   "metadata": {},
   "source": [
    "<img src=\"https://github.com/abbycarr/MA-education-machine-learning/raw/main/V1.png\" />"
   ]
  },
  {
   "cell_type": "markdown",
   "metadata": {},
   "source": [
    "In this heatmap, we can see a variety of important correlations. First, our target variable (Attending Coll/Univ (%)) has a relatively high positive correlation with the percentage of AP test takers who earned a score between 3 and 5. There is a relatively high negative correlation between our target variable and the % of High Needs students in a district, as well as between the target variable and percent of students disciplined in a district. Our target value had moderate correlation with the rest of our feature variables, with the lowest correlation found with Average Salary. We did not expect this last conclusion, given our assumption that better paid teachers would be more likely to prepare and encourage their students to attend higher education.\n",
    "\n",
    "Another interesting observation is the high positive correlation between the percentage of High Needs students in a district and percentage of Students Disciplined. There is an extremely high positive correlation between Total Expenditures per Student and In-District Expenditures per Pupil. We suspected this may be the case, as the variables reflect similar funding data, and it solidified our decision not to use both in a machine learning model, as they would be repetitive."
   ]
  },
  {
   "cell_type": "markdown",
   "metadata": {},
   "source": [
    "### Visualization 2"
   ]
  },
  {
   "cell_type": "markdown",
   "metadata": {},
   "source": [
    "Given that the following three variables (% Score 3-5, High Needs %, and Students Disciplined (%)) were the most correlated with our target variable, we wanted to dive deeper into the distribution of this data one by one, in descending order of how high the variable's correlation with the target is. "
   ]
  },
  {
   "cell_type": "code",
<<<<<<< HEAD
<<<<<<< HEAD
   "execution_count": 17,
=======
   "execution_count": 124,
>>>>>>> 7b02e4a0c88e85531da13c0ee89747d06b52cfa0
=======
   "execution_count": 123,
>>>>>>> df82d8792dbce5ecdc4768768f0d0062f1e5091c
   "metadata": {},
   "outputs": [
    {
     "data": {
      "text/plain": [
<<<<<<< HEAD
<<<<<<< HEAD
       "<matplotlib.axes._subplots.AxesSubplot at 0x1f4bd4bc490>"
      ]
     },
     "execution_count": 17,
=======
       "<matplotlib.axes._subplots.AxesSubplot at 0x7fd28b939f10>"
      ]
     },
     "execution_count": 124,
>>>>>>> 7b02e4a0c88e85531da13c0ee89747d06b52cfa0
=======
       "<matplotlib.axes._subplots.AxesSubplot at 0x7f8c4d88d3d0>"
      ]
     },
     "execution_count": 123,
>>>>>>> df82d8792dbce5ecdc4768768f0d0062f1e5091c
     "metadata": {},
     "output_type": "execute_result"
    },
    {
     "data": {
      "image/png": "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\n",
      "text/plain": [
       "<Figure size 432x288 with 1 Axes>"
      ]
     },
     "metadata": {
      "needs_background": "light"
     },
     "output_type": "display_data"
    }
   ],
   "source": [
    "sns.scatterplot(data=df, x=\"% Score 3-5\", y=\"Attending Coll./Univ. (%)\")"
   ]
  },
  {
   "cell_type": "markdown",
   "metadata": {},
   "source": [
    "<img src=\"https://github.com/abbycarr/MA-education-machine-learning/raw/main/V2-1.png\"/>"
   ]
  },
  {
   "cell_type": "markdown",
   "metadata": {},
   "source": [
    "By looking at the above scatterplot, it can be discerned that districts where larger portions of students got higher AP test scores had higher rates of students attending higher education. Given that AP courses are typically taught at the same level as college courses, they are often used by universities as a metric of a student's preparedness for college-level material. This correlation was in line with our expectations."
   ]
  },
  {
   "cell_type": "code",
<<<<<<< HEAD
<<<<<<< HEAD
   "execution_count": 18,
=======
   "execution_count": 125,
>>>>>>> 7b02e4a0c88e85531da13c0ee89747d06b52cfa0
=======
   "execution_count": 124,
>>>>>>> df82d8792dbce5ecdc4768768f0d0062f1e5091c
   "metadata": {
    "scrolled": true
   },
   "outputs": [
    {
     "data": {
      "text/plain": [
<<<<<<< HEAD
<<<<<<< HEAD
       "<matplotlib.axes._subplots.AxesSubplot at 0x1f4bd6a9d60>"
      ]
     },
     "execution_count": 18,
=======
       "<matplotlib.axes._subplots.AxesSubplot at 0x7fd289857a30>"
      ]
     },
     "execution_count": 125,
>>>>>>> 7b02e4a0c88e85531da13c0ee89747d06b52cfa0
=======
       "<matplotlib.axes._subplots.AxesSubplot at 0x7f8c4ecb70a0>"
      ]
     },
     "execution_count": 124,
>>>>>>> df82d8792dbce5ecdc4768768f0d0062f1e5091c
     "metadata": {},
     "output_type": "execute_result"
    },
    {
     "data": {
      "image/png": "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\n",
      "text/plain": [
       "<Figure size 432x288 with 1 Axes>"
      ]
     },
     "metadata": {
      "needs_background": "light"
     },
     "output_type": "display_data"
    }
   ],
   "source": [
    "sns.scatterplot(data=df, x=\"High Needs %\", y=\"Attending Coll./Univ. (%)\")"
   ]
  },
  {
   "cell_type": "markdown",
   "metadata": {},
   "source": [
    "<img src=\"https://github.com/abbycarr/MA-education-machine-learning/raw/main/V2-2.png\"/>"
   ]
  },
  {
   "cell_type": "markdown",
   "metadata": {},
   "source": [
    "In the above scatterplot, it is clear that higher proportions of High Needs students in a district are correlated with lower higher education attendance rates. This could be for various reasons, one of them being that high needs students often struggle in school and are less likely to have the ability or desire to attend higher ed. Given that, this correlation didn't surprise us much either. "
   ]
  },
  {
   "cell_type": "code",
<<<<<<< HEAD
<<<<<<< HEAD
   "execution_count": 19,
=======
   "execution_count": 126,
>>>>>>> 7b02e4a0c88e85531da13c0ee89747d06b52cfa0
=======
   "execution_count": 125,
>>>>>>> df82d8792dbce5ecdc4768768f0d0062f1e5091c
   "metadata": {
    "scrolled": true
   },
   "outputs": [
    {
     "data": {
      "text/plain": [
<<<<<<< HEAD
<<<<<<< HEAD
       "<matplotlib.axes._subplots.AxesSubplot at 0x1f4bd709250>"
      ]
     },
     "execution_count": 19,
=======
       "<matplotlib.axes._subplots.AxesSubplot at 0x7fd28b7db1f0>"
      ]
     },
     "execution_count": 126,
>>>>>>> 7b02e4a0c88e85531da13c0ee89747d06b52cfa0
=======
       "<matplotlib.axes._subplots.AxesSubplot at 0x7f8c4f3a2d00>"
      ]
     },
     "execution_count": 125,
>>>>>>> df82d8792dbce5ecdc4768768f0d0062f1e5091c
     "metadata": {},
     "output_type": "execute_result"
    },
    {
     "data": {
      "image/png": "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\n",
      "text/plain": [
       "<Figure size 432x288 with 1 Axes>"
      ]
     },
     "metadata": {
      "needs_background": "light"
     },
     "output_type": "display_data"
    }
   ],
   "source": [
    "sns.scatterplot(data=df, x=\"Students Disciplined (%)\", y=\"Attending Coll./Univ. (%)\")"
   ]
  },
  {
   "cell_type": "markdown",
   "metadata": {},
   "source": [
    "<img src=\"https://github.com/abbycarr/MA-education-machine-learning/raw/main/V2-3.png\"/>"
   ]
  },
  {
   "cell_type": "markdown",
   "metadata": {},
   "source": [
    "In our last correlation plot above, we see that there is an (admittedly less stark) negative correlation between the portion of students disciplined and higher education rate. Students in districts where more disciplinary action is taken seem to be less likely to attend higher education. Perhaps this is because their disciplinary record makes it more difficult for them to get into college, or maybe it is because they have had poor experiences with education and do not have a desire to attend more school. "
   ]
  },
  {
   "cell_type": "markdown",
   "metadata": {},
   "source": [
    "### Visualization 3"
   ]
  },
  {
   "cell_type": "markdown",
   "metadata": {},
   "source": [
    "In addition to analyzing access to higher education, we wanted to better understand the relationship between race and the rate of students disciplined. There is a lot of discussion in the educational community about how Black and Brown students are disciplined more often and harshly than White students, and we wanted to see if our data reflected that. \n",
    "\n",
    "As written by the <a href='https://ra.nea.org/business-item/2016-pol-e01-2/#:~:text=School%2Dto%2DPrison%20Pipeline%20means,and%20surveillance%20that%20create%20prison%2D'>National Education Association</a>: \"The school-to-prison pipeline disproportionately places students of color, including those who identify as LGBTQ, have disabilities, and/or are English Language Learners, into the criminal justice system for minor school infractions and disciplinary matters, subjecting them to harsher punishments than their white peers for the same behaviors. The school-to-prison pipeline diminishes their educational opportunities and life trajectories.\"\n",
    "\n",
    "Below is a heatmap that represents the correlation between racial makeup of a school, percentage of students disciplined, and percentage of students who attend college or university. "
   ]
  },
  {
   "cell_type": "code",
<<<<<<< HEAD
<<<<<<< HEAD
   "execution_count": 38,
=======
   "execution_count": 127,
>>>>>>> 7b02e4a0c88e85531da13c0ee89747d06b52cfa0
=======
   "execution_count": 126,
>>>>>>> df82d8792dbce5ecdc4768768f0d0062f1e5091c
   "metadata": {},
   "outputs": [
    {
     "data": {
      "image/png": "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\n",
      "text/plain": [
       "<Figure size 504x504 with 2 Axes>"
      ]
     },
     "metadata": {
      "needs_background": "light"
     },
     "output_type": "display_data"
    }
   ],
   "source": [
    "df_for_analysis[\"Students Disciplined (%)\"] = df_for_analysis[\"Students Disciplined\"] / df_for_analysis[\"Students\"]\n",
    "df_for_analysis[\"Tests Takers (%)\"] = df_for_analysis[\"Tests Takers\"] / df_for_analysis[\"Students\"]\n",
    "\n",
    "# make a smaller df to base this heatmap off of\n",
    "race_disc_df = df_for_analysis[[\"White\", \"Asian\", \"African American\", \"Hispanic\", \"Students Disciplined (%)\", \"Attending Coll./Univ. (%)\"]]\n",
    "\n",
    "# create figure\n",
    "plt.figure(figsize=(7, 7))\n",
    "# make heatmap\n",
    "ax = sns.heatmap(race_disc_df.corr(), square=True, annot=True, cmap=\"Greens\")\n",
    "#add title and format\n",
    "ax.set_title('Correlation between race and discipline', fontsize = 29, pad = 20)\n",
    "plt.subplots_adjust(bottom=0.28)\n",
<<<<<<< HEAD
    "plt.savefig('race_disc_correlations.png')\n",
    "plt.show()\n"
=======
    "plt.savefig(\"V3\", bbox_inches = 'tight')\n",
    "plt.show()"
   ]
  },
  {
   "cell_type": "markdown",
   "metadata": {},
   "source": [
    "<img src=\"https://github.com/abbycarr/MA-education-machine-learning/raw/main/V3.png\" />"
>>>>>>> df82d8792dbce5ecdc4768768f0d0062f1e5091c
   ]
  },
  {
   "cell_type": "markdown",
   "metadata": {},
   "source": [
    "While this heatmap doesn't show a drastically high positive correlation between percentage of students disciplined and percentage of Black and Brown students in a district, it certainly shows some positive correlation. Districts with higher proportions of White and Asian students are shown here to be likely to have lower percentages of students disciplined and higher percentages of students who attend college or university. Conversely, districts with higher proportions of African American and Hispanic students were likely to see higher disciplinary rates and lower rates of students attending college or university. "
   ]
  },
  {
   "cell_type": "markdown",
   "metadata": {},
   "source": [
    "## 3.3. Model Construction"
   ]
  },
  {
   "cell_type": "markdown",
   "metadata": {},
   "source": [
    "#### Hypothesis Testing"
   ]
  },
  {
   "cell_type": "code",
<<<<<<< HEAD
<<<<<<< HEAD
   "execution_count": 21,
=======
   "execution_count": 128,
>>>>>>> 7b02e4a0c88e85531da13c0ee89747d06b52cfa0
=======
   "execution_count": 130,
>>>>>>> df82d8792dbce5ecdc4768768f0d0062f1e5091c
   "metadata": {},
   "outputs": [],
   "source": [
    "#Pearson function to tests hypotheses 1 and 2\n",
    "from scipy.stats import pearsonr \n",
    "need = df['High Needs %']\n",
    "test = df['Tests Takers (%)']\n",
    "total = df['Total Expenditures per Pupil']\n",
    "ind = df['In-District Expenditures per Pupil']\n",
    "\n",
    "def get_pearson(f1, f2):\n",
    "        \n",
    "    f_results = pearsonr(f1, f2)\n",
    "\n",
    "    coeff = format(f_results[0],\".04f\") #pulls/formats pearson correlation coefficient\n",
    "    r2 = format(f_results[0] * f_results[0], \".04f\")\n",
    "    p_val = format(f_results[1], \".04f\") #pulls/formats p val \n",
    "    \n",
    "    print(\"Pearson Correlation Coefficient = %s, R Squared Value = %s,  p = %s\" % (coeff, r2, p_val)) #ftest report"
   ]
  },
  {
   "cell_type": "markdown",
   "metadata": {},
   "source": [
    "#### Testing hypothesis 1: \n",
    "Running a Pearson Correlation between Total Expenditures per Pupil and In-District Expenditures per Pupil"
   ]
  },
  {
   "cell_type": "code",
<<<<<<< HEAD
<<<<<<< HEAD
   "execution_count": 22,
=======
   "execution_count": 129,
>>>>>>> 7b02e4a0c88e85531da13c0ee89747d06b52cfa0
=======
   "execution_count": 131,
>>>>>>> df82d8792dbce5ecdc4768768f0d0062f1e5091c
   "metadata": {},
   "outputs": [
    {
     "name": "stdout",
     "output_type": "stream",
     "text": [
      "Pearson Correlation Coefficient = 0.9822, R Squared Value = 0.9648,  p = 0.0000\n"
     ]
    }
   ],
   "source": [
    "get_pearson(total, ind)"
   ]
  },
  {
<<<<<<< HEAD
   "cell_type": "code",
<<<<<<< HEAD
   "execution_count": 23,
=======
   "execution_count": 130,
>>>>>>> 7b02e4a0c88e85531da13c0ee89747d06b52cfa0
=======
   "cell_type": "markdown",
>>>>>>> df82d8792dbce5ecdc4768768f0d0062f1e5091c
   "metadata": {},
   "source": [
    "- Null(H0): There is no correlation between the 'Total Expenditures per Pupil' and 'In-District Expenditures per Pupil' features. \n",
    "- Alternative(Ha): There is a correlation between the 'Total Expenditures per Pupil' and 'In-District Expenditures per Pupil' features.\n",
    "- Evaluation: Results revealed a Pearson Correlation Coefficient of 0.9822 and a p value of less than 0.0001 between these two features variables. Further examination of the two feature variables reveals that the coefficient of determination (r^2) is 0.9648, indicating a strong positive correlation between these two variables. Since the p value is less than 0.05, we can reject the null hypothesis, and claim that there is a statistically significant correlation between the 'Total Expenditures per Pupil' and 'In-District Expenditures per Pupil' features in our dataset. "
   ]
  },
  {
   "cell_type": "markdown",
   "metadata": {},
   "source": [
    "#### Testing hypothesis 2:\n",
    "Running a Pearson Correlation between High Needs (%) and Tests Takers (%)"
   ]
  },
  {
   "cell_type": "code",
<<<<<<< HEAD
<<<<<<< HEAD
   "execution_count": 24,
=======
   "execution_count": 131,
>>>>>>> 7b02e4a0c88e85531da13c0ee89747d06b52cfa0
=======
   "execution_count": 142,
>>>>>>> df82d8792dbce5ecdc4768768f0d0062f1e5091c
   "metadata": {},
   "outputs": [
    {
     "name": "stdout",
     "output_type": "stream",
     "text": [
      "Pearson Correlation Coefficient = -0.4792, R Squared Value = 0.2296,  p = 0.0000\n"
     ]
    }
   ],
   "source": [
    "get_pearson(need, test)"
   ]
  },
  {
<<<<<<< HEAD
   "cell_type": "code",
<<<<<<< HEAD
   "execution_count": 25,
=======
   "execution_count": 132,
>>>>>>> 7b02e4a0c88e85531da13c0ee89747d06b52cfa0
=======
   "cell_type": "markdown",
>>>>>>> df82d8792dbce5ecdc4768768f0d0062f1e5091c
   "metadata": {},
   "source": [
    "- Null(H0): There is no correlation between the 'High Needs (%)' and 'Tests Takers (%)' features.\n",
    "- Alternative(Ha): There is a correlation between the 'High Needs (%)' and 'Tests Takers %' features.\n",
    "- Evaluation: Results revealed a Pearson Correlation Coefficient of 0.4792 and a p value of less than 0.0001. Further examination of the two feature variables reveals that the coefficient of determination (r^2) is 0.2296. Since the p value is less than 0.05, we can reject the null hypothesis, and claim that there is a statistically significant correlation between the 'Tests Takers %' and 'High Needs (%)' features in our dataset. \n"
   ]
  },
  {
   "cell_type": "markdown",
   "metadata": {},
   "source": [
    "#### Testing hypothesis 3:"
   ]
  },
  {
   "cell_type": "markdown",
   "metadata": {},
   "source": [
    "#### Defining the Estimators\n",
    "\n",
    "We will be applying the Multiple Linear Regression, Ridge, Lasso, k-Nearest Neighbor, and Support Vector Machine algorithms. Below we are building a dictionary of them for later use."
   ]
  },
  {
   "cell_type": "code",
<<<<<<< HEAD
<<<<<<< HEAD
   "execution_count": 26,
=======
   "execution_count": 133,
>>>>>>> 7b02e4a0c88e85531da13c0ee89747d06b52cfa0
=======
   "execution_count": 127,
>>>>>>> df82d8792dbce5ecdc4768768f0d0062f1e5091c
   "metadata": {},
   "outputs": [],
   "source": [
    "from sklearn.linear_model import Ridge\n",
    "from sklearn.linear_model import Lasso\n",
    "from sklearn.neighbors import KNeighborsRegressor\n",
    "from sklearn.svm import LinearSVR\n",
    "\n",
    "\n",
    "estimators = {'Multiple Linear Regression': LinearRegression(), 'Ridge': Ridge(), 'Lasso': Lasso(), \n",
    "              'k-Nearest Neighbor': KNeighborsRegressor(), 'Support Vector Machine': LinearSVR(max_iter = 1000000)}"
   ]
  },
  {
   "cell_type": "markdown",
   "metadata": {},
   "source": [
    "#### Training the Models\n",
    "The training_models function fits the selected data from 3.1 to every model in a dictionary to train the models."
   ]
  },
  {
   "cell_type": "code",
<<<<<<< HEAD
<<<<<<< HEAD
   "execution_count": 27,
=======
   "execution_count": 134,
>>>>>>> 7b02e4a0c88e85531da13c0ee89747d06b52cfa0
=======
   "execution_count": 128,
>>>>>>> df82d8792dbce5ecdc4768768f0d0062f1e5091c
   "metadata": {},
   "outputs": [],
   "source": [
    "def training_models(models_dict):\n",
    "    \"\"\"Takes in a dictionary of models and fits the selected data to each of them. Returns\n",
    "    a dictionary of the fitted models.\"\"\"\n",
    "    trained_models = {}\n",
    "\n",
    "    # for each model in the given dictionary of models\n",
    "    for name in models_dict:\n",
    "        # fit the selected data to the model\n",
    "        model = models_dict[name].fit(X=X_train_selected, y=y_train)\n",
    "        # store the fitted model\n",
    "        trained_models[name] = model\n",
    "        \n",
    "    return trained_models"
   ]
  },
  {
   "cell_type": "code",
   "execution_count": 129,
   "metadata": {},
   "outputs": [],
   "source": [
    "trained_models = training_models(estimators)"
   ]
  },
  {
   "cell_type": "markdown",
   "metadata": {},
   "source": [
    "## 3.4. Model Evaluation"
   ]
  },
  {
   "cell_type": "markdown",
   "metadata": {},
   "source": [
    "#### Evaluation Metrics\n",
    "In the below section, we are going to find the performance of the trained models on two appropriate evaluation metrics.\n",
    "\n",
    "The two metrics:\n",
    "1. **R-squared value**: This metric is the coefficient determination. It ranges from 1.0, meaning the model perfectly predicts the DV's value given IV values, to 0.0, meaning the model cannot make predictions with any accuracy.\n",
    "2. **Mean squared error value**: This metric is the average of the square of errors where the error is the difference between the observed and predicted values. This value ranges from 1.0 to 0.0 and the closer the value is to 0.0, the closer the fit is to the data."
   ]
  },
  {
   "cell_type": "code",
<<<<<<< HEAD
<<<<<<< HEAD
   "execution_count": 28,
=======
   "execution_count": 135,
>>>>>>> 7b02e4a0c88e85531da13c0ee89747d06b52cfa0
=======
   "execution_count": 133,
>>>>>>> df82d8792dbce5ecdc4768768f0d0062f1e5091c
   "metadata": {},
   "outputs": [],
   "source": [
    "def evaluating_models(models_dict):\n",
    "    \"\"\"Takes in a dictionary of fitted models and outputs a textual overview of each model's\n",
    "    R-squared and MSE value for the training and testing sets.\"\"\"\n",
    "    \n",
    "    # for each model in the given dictionary of fitted models\n",
    "    for name in models_dict:\n",
    "        model = models_dict[name]\n",
    "        print(name + \":\")\n",
    "        # R-squared values\n",
    "        print(\"\\tR-squared value for training set: \", r2_score(y_train, model.predict(X_train_selected)))\n",
    "        print(\"\\tR-squared value for testing set: \", r2_score(y_test, model.predict(X_test_selected)))\n",
    "        # MSE values\n",
    "        print(\"\\tMean squared error value for training set: \", mean_squared_error(y_train, model.predict(X_train_selected)))\n",
    "        print(\"\\tMean squared error value for testing set: \", mean_squared_error(y_test, model.predict(X_test_selected)),\"\\n\")"
   ]
  },
  {
   "cell_type": "markdown",
   "metadata": {},
   "source": [
    "#### Results of the Evaluation Metrics"
   ]
  },
  {
   "cell_type": "code",
<<<<<<< HEAD
<<<<<<< HEAD
   "execution_count": 29,
=======
   "execution_count": 136,
>>>>>>> 7b02e4a0c88e85531da13c0ee89747d06b52cfa0
=======
   "execution_count": 134,
>>>>>>> df82d8792dbce5ecdc4768768f0d0062f1e5091c
   "metadata": {},
   "outputs": [
    {
     "name": "stdout",
     "output_type": "stream",
     "text": [
      "Multiple Linear Regression:\n",
      "\tR-squared value for training set:  0.6666464074889842\n",
      "\tR-squared value for testing set:  0.6620303285211429\n",
      "\tMean squared error value for training set:  0.010010025650266745\n",
      "\tMean squared error value for testing set:  0.008933330532852987 \n",
      "\n",
      "Ridge:\n",
      "\tR-squared value for training set:  0.6661290013808893\n",
      "\tR-squared value for testing set:  0.6646419822798739\n",
      "\tMean squared error value for training set:  0.010025562451219215\n",
      "\tMean squared error value for testing set:  0.008864298402952029 \n",
      "\n",
      "Lasso:\n",
      "\tR-squared value for training set:  0.0\n",
      "\tR-squared value for testing set:  -0.0002592681257347351\n",
      "\tMean squared error value for training set:  0.03002825190772755\n",
      "\tMean squared error value for testing set:  0.02643919681200095 \n",
      "\n",
      "k-Nearest Neighbor:\n",
      "\tR-squared value for training set:  0.8202295177564348\n",
      "\tR-squared value for testing set:  0.6923886464064757\n",
      "\tMean squared error value for training set:  0.005398193326383438\n",
      "\tMean squared error value for testing set:  0.00813088903890353 \n",
      "\n",
      "Support Vector Machine:\n",
<<<<<<< HEAD
<<<<<<< HEAD
      "\tR-squared value for training set:  0.67865714718841\n",
      "\tR-squared value for testing set:  0.6791500979491913\n",
      "\tMean squared error value for training set:  0.0044651632264446585\n",
      "\tMean squared error value for testing set:  0.004286638942523646 \n",
=======
      "\tR-squared value for training set:  0.6292771795923846\n",
      "\tR-squared value for testing set:  0.6551357536569575\n",
      "\tMean squared error value for training set:  0.011132158239143115\n",
      "\tMean squared error value for testing set:  0.009115570305657928 \n",
>>>>>>> 7b02e4a0c88e85531da13c0ee89747d06b52cfa0
=======
      "\tR-squared value for training set:  0.6297401558872345\n",
      "\tR-squared value for testing set:  0.6553863755301477\n",
      "\tMean squared error value for training set:  0.011118255870334055\n",
      "\tMean squared error value for testing set:  0.009108945782155055 \n",
>>>>>>> df82d8792dbce5ecdc4768768f0d0062f1e5091c
      "\n"
     ]
    }
   ],
   "source": [
    "evaluating_models(trained_models)"
   ]
  },
  {
   "cell_type": "markdown",
   "metadata": {},
   "source": [
    "**Interpretation:**\n",
    "Three of our five models had similar, positive performances on the testing sets. Below we will discuss our findings with a focus on ranking performance based on the training set values.\n",
    "\n",
    "The k-Nearest Neighbor algorithm scored the best, with a R-squared value of 0.6924 and a Mean Squared Error value of 0.00813. This means that the k-Nearest Neighbors algorithm can account for about 69.24% of the variation in the regression model and has an average squared error of 0.00813. The MSE value specifically indicates that there is a smaller, or often lower, amount of error in the model since this estimator is sensitive to larger error values.\n",
    "\n",
    "Following behind k-Nearest Neighbors, the Multiple Linear Regression and Ridge algorithms have R-squared values of 0.6620 and 0.6646 and Mean Squared Error values of 0.00893 and 0.00886 respectively. Both algorithms had extremely close values and scored close to the top performing algorithm- only about 3% below the R-squared and about .0005 above the Mean Squared Error. \n",
    "\n",
    "Just slightly below in performance lies the Support Vector Machine algorithm with an R-squared value of 0.6558 and a Mean Squared Error value of .00909. These scores are still close to our top performing algorithms but, due to the very close values already between our second two algorithms, we will not continuing with this algorithm.\n",
    "\n",
    "The Lasso Regression had a performance resulting in little to no viable results. While poor performance values can sometimes still be valuable, on our model the Lasso Regression algorithm resulted in an approximately 0 R-squared value with the R-squared value on the training set being actually 0. The Mean Squared Error value follows with the poor score of 0.02644. These results were very significant and showed Lasso Regression was a very poor algorithm for our model."
   ]
  },
  {
   "cell_type": "markdown",
   "metadata": {},
   "source": [
    "We chose to continue with the three top performing algorithms: Multiple Linear Regression, Ridge, and k-Nearest Neighbor. We hope to see how tuning might affect the closeness of scores for the second two performing algorithms and how it might reduce the noticable overfitting to the training set by the k-Nearest Neighbors algorithm."
   ]
  },
  {
   "cell_type": "code",
<<<<<<< HEAD
<<<<<<< HEAD
   "execution_count": 30,
=======
   "execution_count": 137,
>>>>>>> 7b02e4a0c88e85531da13c0ee89747d06b52cfa0
=======
   "execution_count": 135,
>>>>>>> df82d8792dbce5ecdc4768768f0d0062f1e5091c
   "metadata": {},
   "outputs": [],
   "source": [
    "chosen_estimators = {'Multiple Linear Regression': LinearRegression(), 'Ridge': Ridge(), 'k-Nearest Neighbor': KNeighborsRegressor()}"
   ]
  },
  {
   "cell_type": "markdown",
   "metadata": {},
   "source": [
    "### 3.5. Model Optimization"
   ]
  },
  {
   "cell_type": "markdown",
   "metadata": {},
   "source": [
    "#### Grid Search Function\n",
    "This function will be used to tune models using the appropriate hyperparameters."
   ]
  },
  {
   "cell_type": "code",
<<<<<<< HEAD
<<<<<<< HEAD
   "execution_count": 31,
=======
   "execution_count": 138,
>>>>>>> 7b02e4a0c88e85531da13c0ee89747d06b52cfa0
=======
   "execution_count": 136,
>>>>>>> df82d8792dbce5ecdc4768768f0d0062f1e5091c
   "metadata": {},
   "outputs": [],
   "source": [
    "from sklearn.model_selection import GridSearchCV\n",
    "\n",
    "def grid_search_params(params, model):\n",
    "    \"\"\"Takes in a single model and parameters to test in order to tune the\n",
    "    given model, using the selected training data from 3.1. Returns the\n",
    "    grid_search model for later use in testing.\"\"\"\n",
    "        \n",
    "    # Grid search with the given parameters and a cross validation amount of 5\n",
    "    grid_search = GridSearchCV(model,params,cv=5)\n",
    "    # fits to the training data selected in 3.1\n",
    "    grid_search.fit(X=X_train_selected, y=y_train)\n",
    "    \n",
    "    # outputs results\n",
    "    print(\"\\tBest parameters:\", grid_search.best_params_)\n",
    "    print(\"\\tBest cross-validation score:\", grid_search.best_score_)\n",
    "    \n",
    "    return grid_search.best_estimator_"
   ]
  },
  {
   "cell_type": "markdown",
   "metadata": {},
   "source": [
    "#### Creating Params\n",
    "Below is an overview of which parameters we will be tuning and an overview of our motive\n",
    "\n",
    ">**Multiple Linear Regression**:\n",
    ">We are not going to be creating parameters or hypertuning the Multiple Linear Regression model. This tuning for this model mostly depends on needing our data to be normalized, something that was covered when we preprocessed and feature selected our data.\n",
    "\n",
    ">**Ridge**:\n",
    ">We are going to tune the alpha value for our ridge model in order to determine if the model would benefit from reducing either under or overfitting to the data. The alpha value was originally 1 and we are testing values between 0 and 2. An alpha value lower than 1 would avoid overfitting and reduce the model's complexity while an alpha value over 1 would avoid underfitting and increase the model's complexity.\n",
    "\n",
    ">**k-Nearest Neighbor**:\n",
    ">One of the two parameters we are going to hypertune for the model is the metric of the model. The metric of the model is the distance metric used for the tree. The default is minkowski but we will also be trying out euclidean, manhattan, and chebyshev. If one of these other metrics is selected, we will discuss the difference in how the new distance metric works.\n",
    ">\n",
    ">The other parameter we will hypertune is the n_neighbors value. The default for this value is 5. A higher n_neighbors value would avoid overfitting and reduce the model's complexity while a lower n_neighbors value would avoid underfitting and increase the model's complexity."
   ]
  },
  {
   "cell_type": "code",
<<<<<<< HEAD
<<<<<<< HEAD
   "execution_count": 32,
=======
   "execution_count": 139,
>>>>>>> 7b02e4a0c88e85531da13c0ee89747d06b52cfa0
=======
   "execution_count": 137,
>>>>>>> df82d8792dbce5ecdc4768768f0d0062f1e5091c
   "metadata": {},
   "outputs": [],
   "source": [
    "from scipy.stats import uniform\n",
    "# creating 100 alpha values to test from 0 to 2\n",
    "alphas = uniform.rvs(0,2,size=100,random_state=3000)\n",
    "\n",
    "# creating the Ridge parameters\n",
    "ridge_params = {\"alpha\":alphas}\n",
    "\n",
    "# creating the k-Nearest Neighbors parameters\n",
    "kn_params = {\"n_neighbors\":[1,2,3,4,5,6,7,8,9],\n",
    "             \"metric\":[\"euclidean\", \"manhattan\", \"chebyshev\", \"minkowski\"]}"
   ]
  },
  {
   "cell_type": "markdown",
   "metadata": {},
   "source": [
    "#### Model Optimization Results"
   ]
  },
  {
   "cell_type": "code",
<<<<<<< HEAD
<<<<<<< HEAD
   "execution_count": 33,
=======
   "execution_count": 140,
>>>>>>> 7b02e4a0c88e85531da13c0ee89747d06b52cfa0
=======
   "execution_count": 138,
>>>>>>> df82d8792dbce5ecdc4768768f0d0062f1e5091c
   "metadata": {},
   "outputs": [
    {
     "name": "stdout",
     "output_type": "stream",
     "text": [
      "Ridge:\n",
      "\tBest parameters: {'alpha': 0.9267214360227443}\n",
      "\tBest cross-validation score: 0.6540130424566305\n",
      "\n",
      "k-Nearest Neighbor:\n",
      "\tBest parameters: {'metric': 'manhattan', 'n_neighbors': 5}\n",
      "\tBest cross-validation score: 0.7250319495111042\n",
      "\n",
      "Multiple Linear Regression (not tuned):\n",
      "\tBest parameters: {}\n",
      "\tBest cross-validation score: 0.6532230496919171\n"
     ]
    }
   ],
   "source": [
    "print(\"Ridge:\")\n",
    "ridge_grid = grid_search_params(ridge_params,chosen_estimators[\"Ridge\"])\n",
    "print(\"\\nk-Nearest Neighbor:\")\n",
    "kn_grid = grid_search_params(kn_params,chosen_estimators[\"k-Nearest Neighbor\"])\n",
    "print(\"\\nMultiple Linear Regression (not tuned):\")\n",
    "ml_grid = grid_search_params({},chosen_estimators[\"Multiple Linear Regression\"])"
   ]
  },
  {
   "cell_type": "markdown",
   "metadata": {},
   "source": [
    "**Ridge**: Our tuned alpha ended up being slightly lowered from the original value of 1, meaning that hypertuning our Ridge model is for the goal of avoiding overfitting our model, though with very little affect.\n",
    "\n",
    "**k-Nearest Neighbor**: Our n_neighbors value stayed optimal at 5 so there was no change to that in the model. Our improved metric ended up being manhattan instead of minkowski. The original minkowski distance metric follows the distance function sum(|x - y|^p)^(1/p) while the manhattan distance metric follows the distance function sum(|x - y|). The manhattan distance metric being chosen means that our hypertuning of the k-Nearest Neighbor model has simplified the model, though it is unlikely this alone will have solved the overfitting by the algorithm."
   ]
  },
  {
   "cell_type": "markdown",
   "metadata": {},
   "source": [
    "### 3.6. Model Testing"
   ]
  },
  {
   "cell_type": "markdown",
   "metadata": {},
   "source": [
    "#### Recreating the Models\n",
    "Using the grid search best estimator models in section 3.5, we have created a dictionary of our three top performing models."
   ]
  },
  {
   "cell_type": "code",
<<<<<<< HEAD
<<<<<<< HEAD
   "execution_count": 34,
=======
   "execution_count": 141,
>>>>>>> 7b02e4a0c88e85531da13c0ee89747d06b52cfa0
=======
   "execution_count": 139,
>>>>>>> df82d8792dbce5ecdc4768768f0d0062f1e5091c
   "metadata": {},
   "outputs": [],
   "source": [
    "tuned_models = {'Multiple Linear Regression': ml_grid, 'Ridge': ridge_grid, 'k-Nearest Neighbor': kn_grid}"
   ]
  },
  {
   "cell_type": "markdown",
   "metadata": {},
   "source": [
    "#### Testing the Models\n",
    "To create our final results, we are going to take our tuned models, train them using the function in 3.3, and test them using the function in 3.4. "
   ]
  },
  {
   "cell_type": "code",
<<<<<<< HEAD
<<<<<<< HEAD
   "execution_count": 35,
=======
   "execution_count": 142,
>>>>>>> 7b02e4a0c88e85531da13c0ee89747d06b52cfa0
   "metadata": {},
   "outputs": [],
   "source": [
    "def testing_models(tuned_models):\n",
    "    \n",
    "    for model_name in tuned_models:\n",
    "        \n",
    "        print(model_name + \":\")\n",
    "        print(\"\\tTraining R-squared Score:\",tuned_models[model_name].score(X_train_selected,y_train))\n",
    "        print(\"\\tTesting R-squared Score:\",tuned_models[model_name].score(X_test_selected,y_test))\n",
    "        # print(\"\\tTraining Mean squared error Score:\",tuned_models[model_name].score(X_train_selected,y_train))\n",
    "        # print(\"\\tTesting Mean squared error Score:\",tuned_models[model_name].score(X_test_selected,y_test))"
   ]
  },
  {
   "cell_type": "code",
<<<<<<< HEAD
   "execution_count": 36,
=======
   "execution_count": 143,
>>>>>>> 7b02e4a0c88e85531da13c0ee89747d06b52cfa0
=======
   "execution_count": 140,
>>>>>>> df82d8792dbce5ecdc4768768f0d0062f1e5091c
   "metadata": {},
   "outputs": [
    {
     "name": "stdout",
     "output_type": "stream",
     "text": [
      "Multiple Linear Regression:\n",
      "\tR-squared value for training set:  0.6666464074889842\n",
      "\tR-squared value for testing set:  0.6620303285211429\n",
      "\tMean squared error value for training set:  0.010010025650266745\n",
      "\tMean squared error value for testing set:  0.008933330532852987 \n",
      "\n",
      "Ridge:\n",
      "\tR-squared value for training set:  0.6661958576949683\n",
      "\tR-squared value for testing set:  0.6644948030956868\n",
      "\tMean squared error value for training set:  0.010023554872978428\n",
      "\tMean squared error value for testing set:  0.008868188693740984 \n",
      "\n",
      "k-Nearest Neighbor:\n",
      "\tR-squared value for training set:  0.8264267002746902\n",
      "\tR-squared value for testing set:  0.7107515461181713\n",
      "\tMean squared error value for training set:  0.0052121027686070995\n",
      "\tMean squared error value for testing set:  0.007645514561518008 \n",
      "\n"
     ]
    }
   ],
   "source": [
    "fitted_tuned_models = training_models(tuned_models)\n",
    "evaluating_models(fitted_tuned_models)"
   ]
  },
  {
   "cell_type": "markdown",
   "metadata": {},
   "source": [
    "<a id=\"4\"></a>\n",
    "<hr style=\"height:2px; border:none; color:black; background-color:black;\">"
   ]
  },
  {
   "cell_type": "markdown",
   "metadata": {},
   "source": [
    "## 4. DISCUSSION"
   ]
  },
  {
   "cell_type": "markdown",
   "metadata": {},
   "source": [
    "#### Summary of our Work\n",
    "\n",
    "We began by taking time to clean and alter our large dataset in 3.1. Our dataframe was changed by dropping columns that would negatively impact the ability of our machine learning algorithms- most notably many directly correlated columns- and was then cleaned and transformed into numerical values for use.\n",
    "\n",
    "We analyzed both the original dataset and our dataframe for machine learning with 3 visualizations in 3.2.\n",
    "\n",
    "We analyzed feature and target correlations in 3.3 and trained our models.\n",
    "\n",
    "3.4 covered model evaluations and ended with us selecting the top 3 models to continue with in sections 3.5 and 3.6.\n",
    "\n",
    "In 3.5 we tuned the 3 models we had chosen and subsequently tested the tuned models in section 3.6. Performance after hypertuning resulted in almost no change in the Ridge algorithm but had a small but noticeable improvement on the k-Nearest Neighbors algorithm."
   ]
  },
  {
   "cell_type": "markdown",
   "metadata": {},
   "source": [
    "#### Algorithms Compared:\n",
    "We compared Multiple Linear, Ridge, Lasso, k-Nearest Neighbors, and Support Vector Machine regression algorithms\n",
    "\n",
    "#### Best Algorithm Performances:\n",
    "Multiple Linear Regression Algorithm  \n",
    "R-squared testing value: 0.6620303285211429\n",
    "Mean Squared Error testing value: 0.008933330532852987\n",
    "\n",
    "Ridge Algorithm  \n",
    "R-squared testing value: 0.6644948030956868\n",
    "Mean Squared Error testing value: 0.008868188693740984\n",
    "\n",
    "#### Final Performance of the Second Best Algorithm:\n",
    "k-Nearest Neighbor Algorithm  \n",
    "R-squared testing value: 0.7107515461181713\n",
    "Mean Squared Error testing value: 0.007645514561518008\n",
    "\n",
    "#### The Algorithm for our Predictive Model:\n",
    "Although we continued with Multiple Linear, Ridge, and k-Nearest Neighbors models, the algorithm we recommend to be used for our predictive model is the Ridge Algorithm.  \n",
    "\n",
    "Originally, we continued with more than 1 model to account for their closeness in value and the potential for them to change in ranking after hyperparameter tuning. We wanted to continue with more than 1 top model to see how tuning might change their testing results and that- along with the incredible closeness of our Multiple Linear Regression and Ridge algorithms- led us to the decision to continue with all 3.  \n",
    "\n",
    "In the end, hyperparameter tuning ended up most positively affecting the k-Nearest Neighbor algorithm but still could not reduce the overfitting to the training data enough for us to consider it as the algorithm to use for our predictive model.\n",
    "\n",
    "Although incredibly close in value, we decided that the Ridge algorithm was the best model to use for our predictive model. Its slight lead over the Multiple Linear Regression performance and our use of hypertuning on the model were two factors that helped us decide on this algorithm.\n",
    "\n",
    "#### Does the Model Work:\n",
    "We can not use the features in our dataset to predict the outcome variable we identified using the algorithms we've applied. There is not enough security in the algorithm we have fine tuned to actually use our predictive model as intended. Although our model would make a good tool to explore and understand the factors that result in attendance of higher education by MA students, it is not accurate enough to be used as a predictive tool.  \n",
    "\n",
    "#### Hypotheses Results:\n",
    "   - Hypothesis 1: Relation between 'Total Expenditures per Pupil' and 'In-District Expenditures per Pupil'\n",
    "      - Significance: claim that there is a statistically significant correlation between the 'Total Expenditures per Pupil' and 'In-District Expenditures per Pupil' features in our dataset. \n",
    "   - Hypothesis 2: Relation between 'High Needs (%)' and 'Tests Takers'\n",
    "       - Significance: claim that there is a statistically significant correlation between the 'Tests Takers %' and 'High Needs (%)' features in our dataset. \n",
    "   - Hypothesis 3: "
   ]
  },
  {
   "cell_type": "markdown",
   "metadata": {},
   "source": [
    "#### Conclusion:\n",
    "\n",
    "paragraph\n",
    "\n",
    "#### Future Work:\n",
    "\n",
    "We would love to continue exploring the issue of access to higher education in Massachusetts. One of our ideas is to collect data about the communities school districts are in and compare that with rates of students attending higher education. For example, can you better predict access to higher education based on a community's average income, average property value, or average number of people living in a home? For data exploration purposes, it would be interesting to break down the Attending Coll./Univ. variable even further, looking at what percentage of students went to community colleges, public colleges, and private institutions. "
   ]
  },
  {
   "cell_type": "markdown",
   "metadata": {},
   "source": [
    "<a id=\"5\"></a>\n",
    "<hr style=\"height:2px; border:none; color:black; background-color:black;\">"
   ]
  },
  {
   "cell_type": "markdown",
   "metadata": {},
   "source": [
    "### CONTRIBUTIONS"
   ]
  },
  {
   "cell_type": "markdown",
   "metadata": {},
   "source": [
    "Much of our work was done collaboratively over Zoom, with one person sharing their screen and all of us working through the code together. While each of us played some role in every portion of the report, below is a more detailed breakdown of who spearheaded which sections:\n",
    "\n",
    "Ysabelle wrote much of the written portions of the project, especially in the introduction. She also completed the Data Exploration section, creating visualizations and drawing insights from them. \n",
    "\n",
    "Abby led us through the Data Wrangling and Model Construction portions of the report, taking the initiative to share her screen as we worked through those sections. She also helped draft up much of the written discussion about the performance of our ML models. \n",
    "\n",
    "Reshan completed a large part of the Method section and worked on our hypotheses tests, as well as spent a significant amount of time working with Abby on model construction."
   ]
  }
 ],
 "metadata": {
  "kernelspec": {
   "display_name": "Python 3",
   "language": "python",
   "name": "python3"
  },
  "language_info": {
   "codemirror_mode": {
    "name": "ipython",
    "version": 3
   },
   "file_extension": ".py",
   "mimetype": "text/x-python",
   "name": "python",
   "nbconvert_exporter": "python",
   "pygments_lexer": "ipython3",
   "version": "3.8.3"
  }
 },
 "nbformat": 4,
 "nbformat_minor": 2
}
