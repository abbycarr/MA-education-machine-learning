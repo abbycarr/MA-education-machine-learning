{
 "cells": [
  {
   "cell_type": "markdown",
   "metadata": {},
   "source": [
    "<center> <h2> DS 3000 - Fall 2020</h2> </center>\n",
    "<center> <h3> DS Report </h3> </center>\n"
   ]
  },
  {
   "cell_type": "markdown",
   "metadata": {},
   "source": [
    "<center> <h3> Measuring the success of MA public school districts</h3> </center>\n",
    "<center><h4>Ysabelle Kempe, Reshan Fernando, Abby Carr</h4></center>\n"
   ]
  },
  {
   "cell_type": "markdown",
   "metadata": {},
   "source": [
    "  "
   ]
  },
  {
   "cell_type": "markdown",
   "metadata": {},
   "source": [
    "<hr style=\"height:2px; border:none; color:black; background-color:black;\">"
   ]
  },
  {
   "cell_type": "markdown",
   "metadata": {},
   "source": [
    "#### Executive Summary:\n",
    "\n",
    "This project explores how qualities of Massachusetts' school districts impact students' access to higher education. Using data from the state's Department of Elementary and Secondary Education, we will examine district-level data concerning teacher salaries, how students are disciplined, demographics, AP testing, and financial expenditures. Along with visualizing and analyzing the correlations between variables, we tested and tuned multiple machine learning regression models on the data. This led to the conclusions that the best predictive model for this regression machine learning task is the Ridge regression."
   ]
  },
  {
   "cell_type": "markdown",
   "metadata": {},
   "source": [
    "<hr style=\"height:2px; border:none; color:black; background-color:black;\">"
   ]
  },
  {
   "cell_type": "markdown",
   "metadata": {},
   "source": [
    "## Outline\n",
    "1. <a href='#1'>INTRODUCTION</a>\n",
    "2. <a href='#2'>METHOD</a>\n",
    "3. <a href='#3'>RESULTS</a>\n",
    "4. <a href='#4'>DISCUSSION</a>"
   ]
  },
  {
   "cell_type": "markdown",
   "metadata": {},
   "source": [
    "<a id=\"1\"></a>\n",
    "<hr style=\"height:2px; border:none; color:black; background-color:black;\">"
   ]
  },
  {
   "cell_type": "markdown",
   "metadata": {},
   "source": [
    "## 1. INTRODUCTION"
   ]
  },
  {
   "cell_type": "markdown",
   "metadata": {},
   "source": [
    "**Problem Statement:**\n",
    "\n",
    "Our project explores access to higher education for students in Massachusetts public schools. Specifically, we want to better understand what qualities make a school district more likely to have higher rates of students who go on to attend college or university. \n",
    "\n",
    "Our first objective is to better understand the correlation between school district characteristics and access to higher education within that district. We also sought to compare several supervised machine learning regression models on the data to predict the percentage of students in a district who will attend higher education.\n",
    "\n",
    "**Significance of the Problem**\n",
    "\n",
    "Access to higher education is foundational in creating a more equitable society, something our group is quite passionate about. Having a college degree means you have access to a larger number of high-paying jobs and potentially will have a higher quality of life. At the same time, not every public school district is created equal. For example, some may have more funding, better teachers or different disciplinary policies, which could affect students’ likelihood to go to college. \n",
    "\n",
    "The insights from this project can be useful for decision makers who are trying to better equip school districts to send students on to higher education. If these decision makers understand the characteristics that most impact access to higher education, they can form regulations and distribute resources in a way most likely to create more equitable public education systems across the state.\n",
    "\n",
    "**Research Questions**\n",
    "\n",
    "Given the aforementioned problem and its importance, we set out to tackle the following questions:\n",
    "\n",
    "Question about relationship between features: Are features concerning similar district characteristics correlated? \n",
    "\n",
    "**Hypotheses between features:**\n",
    "   \n",
    "   * Hypothesis 1: \n",
    "       Is there a correlation between students who took at least one AP Test and High Needs students? \n",
    "       * Null (H0): There is no correlation between the 'Tests Taken %' and 'High Needs %' features.\n",
    "       * Alternative (Ha): There is a correlation between the 'Tests Taken %' and 'High Needs %' features.\n",
    "   \n",
    "    We considered that there might be some correlation between the ability to afford AP testing and the high needs population of a school district and wanted to test to see if there might be significant correlation. \n",
    "\n",
    "\n",
    "   * Hypothesis 2:\n",
    "       Is there a correlation between In-District and Total Expenditures Per Pupil?\n",
    "       * Null(H0): There is no correlation between the 'In-District Expenditures Per Pupil' and 'Total Expenditures Per Pupil' features on the target variable (percent of students attending college or university). \n",
    "       * Alternative(Ha): There is a correlation between the 'In-District Expenditures Per Pupil' and 'Total Expenditures Per Pupil' features on the target variable (percent of students attending college or university). \n",
    "       \n",
    "    We expected there to be some correlation between In-District and Total Expenditures Per Pupil, but were interested to see how much. If there was an extra amount of money some schools were spending out of district, we wanted to be able to see this.\n",
    "   \n",
    "Question about machine learning algorithms: Which machine learning algorithms will be the most useful and accurate for predicting the percent of students that end up attending college or university? We expect the Ridge regression model to produce a higher accuracy than the other machine learning algorithms because we expect all our features to be important in determining the target value. In addition, we can hypertune this algorithm further by changing the alpha parameter value, which will hopefully drive up accurate predictions.  \n",
    "\n",
    "**Hypothesis about machine learning algorithms**:\n",
    "\n",
    "   * Hypothesis 3:\n",
    "       * Null: There will be no significant difference between the accuracy predictions of any of the regression models that we use.\n",
    "       * Alternative: The Ridge regression model will have significantly higher R-squared correlation in predicting our target value."
   ]
  },
  {
   "cell_type": "markdown",
   "metadata": {},
   "source": [
    "<a id=\"2\"></a>\n",
    "<hr style=\"height:2px; border:none; color:black; background-color:black;\">"
   ]
  },
  {
   "cell_type": "markdown",
   "metadata": {},
   "source": [
    "## 2. METHOD"
   ]
  },
  {
   "cell_type": "markdown",
   "metadata": {},
   "source": [
    "### 2.1. Data Acquisition"
   ]
  },
  {
   "cell_type": "markdown",
   "metadata": {},
   "source": [
    "   We obtained our data from the website for the Massachusetts Department of Education. Mass DoE creates detailed state reports of school district data, concerning topics such as student enrollment and educator data. The link to the original source is here: \n",
    "    https://profiles.doe.mass.edu/state_report/\n",
    "    \n",
    "   We chose to use data over five school years (Fall 2013 - Spring 2018) in order to give our machine learning model as much data as possible. We chose to use eight different state reports for each year. Each school district has a unique district code, which is used as the identifier in each report, allowing us to merge these Excel files together on these unique codes. \n",
    "   \n",
    "   Each state report contained many different columns, so we picked columns that we felt would be the most relevant. We also did have to drop some columns due to the availability of what was recorded each year.\n",
    "   \n",
    "   The resulting dataset has 1,174 rows and 31 columns. We later selected eight columns (seven features plus our target) that we wanted to work with for the machine learning portion of the project. This is because we removed the variables that were directly correlated with other variables, in order to reduce repetition in our data. We discuss dropped columns later on in more detail. \n",
    "\n",
    "   #### Reports Chosen and Columns Used\n",
    "   - <a href = https://profiles.doe.mass.edu/statereport/gradsattendingcollege.aspx>Grads Attending Higher Ed</a>: \n",
    "       - Attending College/University (%) (this is the **outcome**): The percentage of high school graduates attending an institution of higher education. The types include private two-year, private four-year, public two-year, and public four year institutions.\n",
    "   - <a href= https://profiles.doe.mass.edu/statereport/enrollmentbyracegender.aspx>Enrollment by Race/Gender</a>: \n",
    "       - Races/Ethnicity (%) (including African-American, Asian, Hispanic, White, Native American, Native American/Pacific Islander, Multi-Race/Non-Hispanic) \n",
    "       - Gender (%) (only Males and Females) *DOE only added non-binary 2018-19* \n",
    "   - <a href = https://profiles.doe.mass.edu/statereport/selectedpopulations.aspx>Selected Populations</a>: \n",
    "       - First Language Not English (%): The percent of students in the district this year whose first language is a language other than English \n",
    "       - English Language Learner (%): The percent of students in the district this year who are English learners, defined as \"a student whose first language is a language other than English who is unable to perform ordinary classroom work in English.”\n",
    "       - Students With Disabilities (%): The percent of students in the district this year who have an Individualized Education Program (IEP)\n",
    "       - High Needs (%): The percent of students in the district this year who are designated as either low income (prior to School Year 2015), economically disadvantaged (starting in School Year 2015), or ELL, or former ELL, or a student with disabilities\n",
    "   - <a href= https://profiles.doe.mass.edu/statereport/teachersalaries.aspx>Teacher Salaries</a>: \n",
    "       - Salary Totals (\\$): The total of teacher salaries for the district this year\n",
    "       - Average Salary (\\$): The average of teacher salaries for the district this year determined as the Salary Totals divided by the number of full-time equivalent teachers\n",
    "       - Full Time Equivalent (FTE) count (#): The count of full-time equivalent teachers for the district this year\n",
    "   - <a href= https://profiles.doe.mass.edu/statereport/ppx.aspx>Per Pupil Expenditures</a>:  \n",
    "       - In-District Expenditures (\\$): All of the district’s operating expenditures for in-district programs this year\n",
    "       - In-District Expenditures per Pupil (\\$): The total in-district expenditures divided by in-district FTE average membership for this year \n",
    "       - Total Expenditures (\\$): All of the district’s operating expenditures for in-district programs and out-of-district placements\n",
    "       - Total Expenditures per Pupil (\\$): The total expenditures divided by total FTE average membership for the district in this year\n",
    "       - Total In-district FTEs (#): The average count of enrollment across this school year, for pupils enrolled at local schools in the district \n",
    "       - Total Pupil FTEs (#): The average count of enrollment across this school year for students enrolled at local schools in the district and those publicly-funded students enrolled at other districts, including charter schools, special education collaboratives, and private special education schools\n",
    "   - <a href= https://profiles.doe.mass.edu/statereport/ssdr.aspx>Student Discipline Data</a>: \n",
    "       - Students (#): The count of students in the district this year\n",
    "       - Students Disciplined (#): The count of students disciplined in the district this year\n",
    "       - In-School Suspension (%): The percent of students disciplined with an in-school suspension \n",
    "       - Out-of-School Suspension (%): The percent of students disciplined with an out-of-school suspension\n",
    "       - Expulsion (%): The percent of students disciplined with an expulsion\n",
    "       - Removed to Alternate Setting (%): The percent of students disciplined with a removal to an alternate setting\n",
    "   - <a href=https://profiles.doe.mass.edu/statereport/ap_part.aspx>Advanced Placement Participation</a>: \n",
    "       - Tests Takers (#): Number of students who took at least one AP test\n",
    "   - <a href=https://profiles.doe.mass.edu/statereport/ap.aspx>Advanced Placement Performance</a>: \n",
    "       - %Score 3-5 (%): Percent of students with passing AP scores"
   ]
  },
  {
   "cell_type": "code",
   "execution_count": 1,
   "metadata": {},
   "outputs": [],
   "source": [
    "import pandas as pd\n",
    "\n",
    "# read in the CSV file from github\n",
    "df = pd.read_csv(\"https://raw.githubusercontent.com/abbycarr/MA-education-machine-learning/main/Database%20Compliling%20Files/education_dataset_new.csv\")"
   ]
  },
  {
   "cell_type": "code",
   "execution_count": 2,
   "metadata": {},
   "outputs": [
    {
     "data": {
      "text/html": [
       "<div>\n",
       "<style scoped>\n",
       "    .dataframe tbody tr th:only-of-type {\n",
       "        vertical-align: middle;\n",
       "    }\n",
       "\n",
       "    .dataframe tbody tr th {\n",
       "        vertical-align: top;\n",
       "    }\n",
       "\n",
       "    .dataframe thead th {\n",
       "        text-align: right;\n",
       "    }\n",
       "</style>\n",
       "<table border=\"1\" class=\"dataframe\">\n",
       "  <thead>\n",
       "    <tr style=\"text-align: right;\">\n",
       "      <th></th>\n",
       "      <th>Attending Coll./Univ. (%)</th>\n",
       "      <th>African American</th>\n",
       "      <th>Asian</th>\n",
       "      <th>Hispanic</th>\n",
       "      <th>White</th>\n",
       "      <th>Native American</th>\n",
       "      <th>Native Hawaiian, Pacific Islander</th>\n",
       "      <th>Multi-Race, Non-Hispanic</th>\n",
       "      <th>Males</th>\n",
       "      <th>Females</th>\n",
       "      <th>...</th>\n",
       "      <th>Total Pupil FTEs</th>\n",
       "      <th>Total Expenditures per Pupil</th>\n",
       "      <th>Students</th>\n",
       "      <th>Students Disciplined</th>\n",
       "      <th>% In-School Suspension</th>\n",
       "      <th>% Out-of-School Suspension</th>\n",
       "      <th>% Expulsion</th>\n",
       "      <th>% Removed to Alternate Setting</th>\n",
       "      <th>Tests Takers</th>\n",
       "      <th>% Score 3-5</th>\n",
       "    </tr>\n",
       "  </thead>\n",
       "  <tbody>\n",
       "    <tr>\n",
       "      <th>0</th>\n",
       "      <td>74.0</td>\n",
       "      <td>3.1</td>\n",
       "      <td>2.0</td>\n",
       "      <td>7.9</td>\n",
       "      <td>85.9</td>\n",
       "      <td>0.3</td>\n",
       "      <td>0.1</td>\n",
       "      <td>0.7</td>\n",
       "      <td>50.5</td>\n",
       "      <td>49.5</td>\n",
       "      <td>...</td>\n",
       "      <td>2,139.6</td>\n",
       "      <td>$14,527.10</td>\n",
       "      <td>2,122</td>\n",
       "      <td>75</td>\n",
       "      <td>2.3</td>\n",
       "      <td>1.7</td>\n",
       "      <td>0.0</td>\n",
       "      <td>0.0</td>\n",
       "      <td>79</td>\n",
       "      <td>69.2</td>\n",
       "    </tr>\n",
       "    <tr>\n",
       "      <th>1</th>\n",
       "      <td>91.8</td>\n",
       "      <td>2.3</td>\n",
       "      <td>32.6</td>\n",
       "      <td>4.5</td>\n",
       "      <td>56.1</td>\n",
       "      <td>0.2</td>\n",
       "      <td>0.1</td>\n",
       "      <td>4.2</td>\n",
       "      <td>51.7</td>\n",
       "      <td>48.3</td>\n",
       "      <td>...</td>\n",
       "      <td>5,761.7</td>\n",
       "      <td>$15,697.78</td>\n",
       "      <td>5,726</td>\n",
       "      <td>43</td>\n",
       "      <td>0.3</td>\n",
       "      <td>0.5</td>\n",
       "      <td>0.0</td>\n",
       "      <td>0.0</td>\n",
       "      <td>518</td>\n",
       "      <td>95.3</td>\n",
       "    </tr>\n",
       "    <tr>\n",
       "      <th>2</th>\n",
       "      <td>66.3</td>\n",
       "      <td>4.4</td>\n",
       "      <td>0.9</td>\n",
       "      <td>2.5</td>\n",
       "      <td>90.3</td>\n",
       "      <td>0.2</td>\n",
       "      <td>0.1</td>\n",
       "      <td>1.6</td>\n",
       "      <td>50.5</td>\n",
       "      <td>49.5</td>\n",
       "      <td>...</td>\n",
       "      <td>1,418.1</td>\n",
       "      <td>$14,871.43</td>\n",
       "      <td>1,282</td>\n",
       "      <td>75</td>\n",
       "      <td>4.1</td>\n",
       "      <td>2.7</td>\n",
       "      <td>0.0</td>\n",
       "      <td>0.0</td>\n",
       "      <td>98</td>\n",
       "      <td>33.3</td>\n",
       "    </tr>\n",
       "    <tr>\n",
       "      <th>3</th>\n",
       "      <td>79.3</td>\n",
       "      <td>2.3</td>\n",
       "      <td>3.0</td>\n",
       "      <td>7.8</td>\n",
       "      <td>84.3</td>\n",
       "      <td>0.0</td>\n",
       "      <td>0.1</td>\n",
       "      <td>2.6</td>\n",
       "      <td>52.1</td>\n",
       "      <td>47.9</td>\n",
       "      <td>...</td>\n",
       "      <td>3,955.6</td>\n",
       "      <td>$16,747.21</td>\n",
       "      <td>4,002</td>\n",
       "      <td>104</td>\n",
       "      <td>1.5</td>\n",
       "      <td>1.3</td>\n",
       "      <td>0.0</td>\n",
       "      <td>0.0</td>\n",
       "      <td>231</td>\n",
       "      <td>58.4</td>\n",
       "    </tr>\n",
       "    <tr>\n",
       "      <th>4</th>\n",
       "      <td>83.2</td>\n",
       "      <td>1.6</td>\n",
       "      <td>1.1</td>\n",
       "      <td>7.2</td>\n",
       "      <td>86.2</td>\n",
       "      <td>0.2</td>\n",
       "      <td>0.1</td>\n",
       "      <td>3.5</td>\n",
       "      <td>53.5</td>\n",
       "      <td>46.5</td>\n",
       "      <td>...</td>\n",
       "      <td>2,268.4</td>\n",
       "      <td>$16,455.64</td>\n",
       "      <td>2,227</td>\n",
       "      <td>45</td>\n",
       "      <td>1.4</td>\n",
       "      <td>0.9</td>\n",
       "      <td>0.0</td>\n",
       "      <td>0.0</td>\n",
       "      <td>84</td>\n",
       "      <td>70.1</td>\n",
       "    </tr>\n",
       "  </tbody>\n",
       "</table>\n",
       "<p>5 rows × 31 columns</p>\n",
       "</div>"
      ],
      "text/plain": [
       "   Attending Coll./Univ. (%)  African American  Asian  Hispanic  White  \\\n",
       "0                       74.0               3.1    2.0       7.9   85.9   \n",
       "1                       91.8               2.3   32.6       4.5   56.1   \n",
       "2                       66.3               4.4    0.9       2.5   90.3   \n",
       "3                       79.3               2.3    3.0       7.8   84.3   \n",
       "4                       83.2               1.6    1.1       7.2   86.2   \n",
       "\n",
       "   Native American  Native Hawaiian, Pacific Islander  \\\n",
       "0              0.3                                0.1   \n",
       "1              0.2                                0.1   \n",
       "2              0.2                                0.1   \n",
       "3              0.0                                0.1   \n",
       "4              0.2                                0.1   \n",
       "\n",
       "   Multi-Race, Non-Hispanic  Males  Females  ...    Total Pupil FTEs  \\\n",
       "0                       0.7   50.5     49.5  ...             2,139.6   \n",
       "1                       4.2   51.7     48.3  ...             5,761.7   \n",
       "2                       1.6   50.5     49.5  ...             1,418.1   \n",
       "3                       2.6   52.1     47.9  ...             3,955.6   \n",
       "4                       3.5   53.5     46.5  ...             2,268.4   \n",
       "\n",
       "   Total Expenditures per Pupil  Students  Students Disciplined  \\\n",
       "0                    $14,527.10     2,122                    75   \n",
       "1                    $15,697.78     5,726                    43   \n",
       "2                    $14,871.43     1,282                    75   \n",
       "3                    $16,747.21     4,002                   104   \n",
       "4                    $16,455.64     2,227                    45   \n",
       "\n",
       "  % In-School Suspension % Out-of-School Suspension % Expulsion  \\\n",
       "0                    2.3                        1.7         0.0   \n",
       "1                    0.3                        0.5         0.0   \n",
       "2                    4.1                        2.7         0.0   \n",
       "3                    1.5                        1.3         0.0   \n",
       "4                    1.4                        0.9         0.0   \n",
       "\n",
       "  % Removed to Alternate Setting Tests Takers % Score 3-5  \n",
       "0                            0.0           79        69.2  \n",
       "1                            0.0          518        95.3  \n",
       "2                            0.0           98        33.3  \n",
       "3                            0.0          231        58.4  \n",
       "4                            0.0           84        70.1  \n",
       "\n",
       "[5 rows x 31 columns]"
      ]
     },
     "execution_count": 2,
     "metadata": {},
     "output_type": "execute_result"
    }
   ],
   "source": [
    "df.head()"
   ]
  },
  {
   "cell_type": "markdown",
   "metadata": {},
   "source": [
    "We will also create a copy of the df for analysis purposes. This copy will allow us to analyze some of the columns we drop and change during the data wrangling process"
   ]
  },
  {
   "cell_type": "code",
   "execution_count": 3,
   "metadata": {},
   "outputs": [],
   "source": [
    "df_for_analysis = df"
   ]
  },
  {
   "cell_type": "markdown",
   "metadata": {},
   "source": [
    "### 2.2. Data Analysis\n",
    "\n",
    "Independent (Feature) Variables we chose to use for predictive machine learning models:\n",
    "\n",
    "   * High Needs (%): Percent of students who are low income, economically disadvantaged, ELL, former ELL, or with disabilities. \n",
    "   * Average Salary: Total teaching salaries / # of full time equivalent teachers\n",
    "   * In-District Expenditures per Pupil: Total In-District Expenditures / District's Average Pupil Membership \t\n",
    "   * Total Expenditures per Pupil: Total In-District + Out-of-District Expenditures / District's Average Pupil Membership\n",
    "   * % Score 3-5: Percent of students who received at least one passing grade on an AP test they took\n",
    "   * Students Disciplined (%): Proportion of students who have been disciplined in some way above detention (for example, suspension or expulsion)\n",
    "   * Tests Takers (%): Percent of Students that took an AP test in District / Total Students in District\n",
    "\n",
    "Dependent (Target) Variable\n",
    "\n",
    "   * Attending Coll./Univ. (%): Percent of students who attend higher education after high school\n",
    "    \n",
    "We believe all seven of these feature variables may be important predictors for determining students' available resources and likelihood for attending higher education. We are using the same feature and target variables for all our models.   \n",
    "    \n",
    "We are using supervised machine learning regression models. All values in our target and feature variables are continuous, and we are using our feature variables to predict outputs for our target variable. This machine learning problem is considered supervised, as we are testing if given inputs will correctly map to provided outputs, based off of a predetermined training set. Our model is learning to make predictions off of this labeled data.\n",
    "\n",
    "We intend to test the following supervised machine learning regression models to determine which will provide the most accurate predictions given our data. \n",
    "\n",
    "Machine Learning Algorithms Used \n",
    "\n",
    "  * Multiple Linear Regression: We chose to use this model because we wanted to account for the possibility that tuning would not be a large factor in the model's success. While this is not a high-dimensional dataset, we believe that the relationships between each of our features and the target could be strong enough to make this a viable model.  \n",
    "  \n",
    "  * Ridge: We chose to test a Ridge model because we wanted an algorithm we could tune, and we suspected that all of our selected features would have some impact on the target.  \n",
    "  \n",
    "  * Lasso: We chose to test a Lasso model to account for the chance that we were incorrect about all of our features being related to our target variable. If there was a feature that was skewing our predictions, Lasso would be able to remove it completely.  \n",
    "  \n",
    "  * K-nearest neighbor: We chose to test the K-Nearest Neighbor model on our data because it is the simplest regression model, and we believed there was a chance that districts with similar feature values would have similar target values, making this a suitable model.  \n",
    "  \n",
    "  * Support Vector Machine: We wanted to test the SVM regressor because it fits potential errors within a certain threshold, being more accurate if many outliers exist within our data.  \n",
    "\n",
    "*Note: We essentially tested all the regressors because we are not certain how the data will behave within the models. We felt it would be very educational to test them all, and we think that each model's results will provide interesting insights.*\n"
   ]
  },
  {
   "cell_type": "markdown",
   "metadata": {},
   "source": [
    "<a id=\"3\"></a>\n",
    "<hr style=\"height:2px; border:none; color:black; background-color:black;\">"
   ]
  },
  {
   "cell_type": "markdown",
   "metadata": {},
   "source": [
    "## 3. RESULTS"
   ]
  },
  {
   "cell_type": "markdown",
   "metadata": {},
   "source": [
    "### 3.1. Data Wrangling"
   ]
  },
  {
   "cell_type": "markdown",
   "metadata": {},
   "source": [
    "#### Cleaning the Data:\n",
    "We first drop Na values, should any of them have remained in the original process of creating the dataframe, and then begin the process of dropping redundant and directly correlated columns."
   ]
  },
  {
   "cell_type": "code",
   "execution_count": 4,
   "metadata": {},
   "outputs": [],
   "source": [
    "# Drop NA values\n",
    "df.dropna(inplace=True)"
   ]
  },
  {
   "cell_type": "markdown",
   "metadata": {},
   "source": [
    "Note: We chose to drop the race columns because we did not want to build racial bias into our machine learning model. However, we did think it would be interesting to use the race data in our data exploration section, as you will see later in the report. We dropped data about gender as well because most schools had a pretty even distribution of males to females, and we didn't think it would be as relevant to or useful for our ML models. "
   ]
  },
  {
   "cell_type": "code",
   "execution_count": 5,
   "metadata": {},
   "outputs": [],
   "source": [
    "# Drop the Gender columns \n",
    "df = df.drop(\"Males\", axis=1)\n",
    "df = df.drop(\"Females\", axis=1)\n",
    "\n",
    "# Drop the Race columns \n",
    "df = df.drop(\"African American\", axis=1)\n",
    "df = df.drop(\"Asian\", axis=1)\n",
    "df = df.drop(\"White\", axis=1)\n",
    "df = df.drop(\"Hispanic\", axis=1)\n",
    "df = df.drop(\"Native American\", axis=1)\n",
    "df = df.drop(\"Native Hawaiian, Pacific Islander\", axis=1)\n",
    "df = df.drop(\"Multi-Race, Non-Hispanic\", axis=1)\n",
    "\n",
    "# Drop columns directly related to High Needs (%)\n",
    "df = df.drop(\"First Language Not English %\", axis=1)\n",
    "df = df.drop(\"English Language Learner %\", axis=1)\n",
    "df = df.drop(\"Students With Disabilities %\", axis=1)\n",
    "\n",
    "# Drop columns directly related to Average Salary\n",
    "df = df.drop(\"Salary Totals\", axis=1)\n",
    "df = df.drop(\"FTE Count\", axis=1)\n",
    "\n",
    "# Drop columns directly related to Expenditures, In-District and Total, per Pupil\n",
    "df = df.drop(\"In-District Expenditures\", axis=1)\n",
    "df = df.drop(\"Total In-district FTEs\", axis=1)\n",
    "df = df.drop(\"Total Expenditures\", axis=1)\n",
    "df = df.drop(\"Total Pupil FTEs\", axis=1)\n",
    "\n",
    "# Drop columns directly related to Students Disciplined (%)\n",
    "df = df.drop(\"% In-School Suspension\", axis=1)\n",
    "df = df.drop(\"% Out-of-School Suspension\", axis=1)\n",
    "df = df.drop(\"% Expulsion\", axis=1)\n",
    "df = df.drop(\"% Removed to Alternate Setting\", axis=1)"
   ]
  },
  {
   "cell_type": "markdown",
   "metadata": {},
   "source": [
    "#### Wrangling the Data:\n",
    "Here we are going to make our data numerical by applying a function that gets rid of excess characters and then applies the pandas function to make the data a numerical value."
   ]
  },
  {
   "cell_type": "code",
   "execution_count": 6,
   "metadata": {},
   "outputs": [],
   "source": [
    "# makes the dataframe numeric\n",
    "def clean_to_numeric(data):\n",
    "    cleaned = data.replace(\",\",\"\",regex=True)\n",
    "    cleaned = cleaned.replace(\"\\$\",\"\",regex=True)\n",
    "    cleaned = cleaned.replace(\" \",\"\",regex=True)\n",
    "    cleaned = pd.to_numeric(cleaned)\n",
    "    return cleaned\n",
    "\n",
    "# clean the dataframe of non-numeric characters\n",
    "df = df.apply(clean_to_numeric)"
   ]
  },
  {
   "cell_type": "markdown",
   "metadata": {},
   "source": [
    "We are going to clean our analysis-only dataset as well"
   ]
  },
  {
   "cell_type": "code",
   "execution_count": 7,
   "metadata": {},
   "outputs": [],
   "source": [
    "# clean and save the dataframe without dropped columns so we can use it for data exploration later\n",
    "df_for_analysis = df_for_analysis.apply(clean_to_numeric)"
   ]
  },
  {
   "cell_type": "markdown",
   "metadata": {},
   "source": [
    "#### Feature Extraction:\n",
    "Our dataframe currently contains three columns that contain a count of students: Students, Tests Takers, and Students Disciplined. These counts will not have significance when comparing the school districts, so instead we will use these three values to create two new columns: Students Disciplined (%) and Tests Takers (%)."
   ]
  },
  {
   "cell_type": "code",
   "execution_count": 8,
   "metadata": {},
   "outputs": [],
   "source": [
    "# Transform 'Students' and 'Students Disciplined' to 'Students Disciplined (%)'\n",
    "df[\"Students Disciplined (%)\"] = df[\"Students Disciplined\"] / df[\"Students\"]\n",
    "\n",
    "# Transform 'Students' and 'Tests Takers' to 'Tests Takers (%)'\n",
    "df[\"Tests Takers (%)\"] = df[\"Tests Takers\"] / df[\"Students\"]\n",
    "\n",
    "# Drop 'Students', 'Students Disciplined', and 'Tests Takers'\n",
    "df = df.drop(\"Students\",axis = 1)\n",
    "df = df.drop(\"Students Disciplined\",axis = 1)\n",
    "df = df.drop(\"Tests Takers\",axis = 1)"
   ]
  },
  {
   "cell_type": "markdown",
   "metadata": {},
   "source": [
    "We are transforming our target value, currently a percentage from 0 to 100, using a logarithmic function. The percent of graduating students that are attending college or university is skewed positively, and it is because of this skew that we are transforming the target column."
   ]
  },
  {
   "cell_type": "code",
   "execution_count": 9,
   "metadata": {},
   "outputs": [],
   "source": [
    "import numpy as np\n",
    "\n",
    "# Transform 'Attending Coll./Univ. (%)' using logarithmic function \n",
    "df[\"Attending Coll./Univ. (%)\"] = np.log(df[\"Attending Coll./Univ. (%)\"])"
   ]
  },
  {
   "cell_type": "markdown",
   "metadata": {},
   "source": [
    "#### Splitting the dataframe into Features and Target:"
   ]
  },
  {
   "cell_type": "code",
   "execution_count": 10,
   "metadata": {},
   "outputs": [
    {
     "data": {
      "text/html": [
       "<div>\n",
       "<style scoped>\n",
       "    .dataframe tbody tr th:only-of-type {\n",
       "        vertical-align: middle;\n",
       "    }\n",
       "\n",
       "    .dataframe tbody tr th {\n",
       "        vertical-align: top;\n",
       "    }\n",
       "\n",
       "    .dataframe thead th {\n",
       "        text-align: right;\n",
       "    }\n",
       "</style>\n",
       "<table border=\"1\" class=\"dataframe\">\n",
       "  <thead>\n",
       "    <tr style=\"text-align: right;\">\n",
       "      <th></th>\n",
       "      <th>High Needs %</th>\n",
       "      <th>Average Salary</th>\n",
       "      <th>In-District Expenditures per Pupil</th>\n",
       "      <th>Total Expenditures per Pupil</th>\n",
       "      <th>% Score 3-5</th>\n",
       "      <th>Students Disciplined (%)</th>\n",
       "      <th>Tests Takers (%)</th>\n",
       "    </tr>\n",
       "  </thead>\n",
       "  <tbody>\n",
       "    <tr>\n",
       "      <th>0</th>\n",
       "      <td>35.5</td>\n",
       "      <td>85917</td>\n",
       "      <td>13461.03</td>\n",
       "      <td>14527.10</td>\n",
       "      <td>69.2</td>\n",
       "      <td>0.035344</td>\n",
       "      <td>0.037229</td>\n",
       "    </tr>\n",
       "    <tr>\n",
       "      <th>1</th>\n",
       "      <td>24.9</td>\n",
       "      <td>84822</td>\n",
       "      <td>14382.42</td>\n",
       "      <td>15697.78</td>\n",
       "      <td>95.3</td>\n",
       "      <td>0.007510</td>\n",
       "      <td>0.090465</td>\n",
       "    </tr>\n",
       "    <tr>\n",
       "      <th>2</th>\n",
       "      <td>57.9</td>\n",
       "      <td>82426</td>\n",
       "      <td>15721.64</td>\n",
       "      <td>14871.43</td>\n",
       "      <td>33.3</td>\n",
       "      <td>0.058502</td>\n",
       "      <td>0.076443</td>\n",
       "    </tr>\n",
       "    <tr>\n",
       "      <th>3</th>\n",
       "      <td>41.9</td>\n",
       "      <td>74116</td>\n",
       "      <td>15902.26</td>\n",
       "      <td>16747.21</td>\n",
       "      <td>58.4</td>\n",
       "      <td>0.025987</td>\n",
       "      <td>0.057721</td>\n",
       "    </tr>\n",
       "    <tr>\n",
       "      <th>4</th>\n",
       "      <td>36.7</td>\n",
       "      <td>76770</td>\n",
       "      <td>15644.74</td>\n",
       "      <td>16455.64</td>\n",
       "      <td>70.1</td>\n",
       "      <td>0.020207</td>\n",
       "      <td>0.037719</td>\n",
       "    </tr>\n",
       "  </tbody>\n",
       "</table>\n",
       "</div>"
      ],
      "text/plain": [
       "   High Needs %  Average Salary  In-District Expenditures per Pupil  \\\n",
       "0          35.5           85917                            13461.03   \n",
       "1          24.9           84822                            14382.42   \n",
       "2          57.9           82426                            15721.64   \n",
       "3          41.9           74116                            15902.26   \n",
       "4          36.7           76770                            15644.74   \n",
       "\n",
       "   Total Expenditures per Pupil  % Score 3-5  Students Disciplined (%)  \\\n",
       "0                      14527.10         69.2                  0.035344   \n",
       "1                      15697.78         95.3                  0.007510   \n",
       "2                      14871.43         33.3                  0.058502   \n",
       "3                      16747.21         58.4                  0.025987   \n",
       "4                      16455.64         70.1                  0.020207   \n",
       "\n",
       "   Tests Takers (%)  \n",
       "0          0.037229  \n",
       "1          0.090465  \n",
       "2          0.076443  \n",
       "3          0.057721  \n",
       "4          0.037719  "
      ]
     },
     "execution_count": 10,
     "metadata": {},
     "output_type": "execute_result"
    }
   ],
   "source": [
    "# Drop the target column\n",
    "features = df.drop(\"Attending Coll./Univ. (%)\",axis=1)\n",
    "features.head()"
   ]
  },
  {
   "cell_type": "code",
   "execution_count": 11,
   "metadata": {},
   "outputs": [
    {
     "data": {
      "text/plain": [
       "0    4.304065\n",
       "1    4.519612\n",
       "2    4.194190\n",
       "3    4.373238\n",
       "4    4.421247\n",
       "Name: Attending Coll./Univ. (%), dtype: float64"
      ]
     },
     "execution_count": 11,
     "metadata": {},
     "output_type": "execute_result"
    }
   ],
   "source": [
    "target = df[\"Attending Coll./Univ. (%)\"]\n",
    "target.head()"
   ]
  },
  {
   "cell_type": "markdown",
   "metadata": {},
   "source": [
    "#### Test and Training Splitting:"
   ]
  },
  {
   "cell_type": "code",
   "execution_count": 12,
   "metadata": {},
   "outputs": [],
   "source": [
    "# Splitting into testing and training sets\n",
    "from sklearn.model_selection import train_test_split\n",
    "X_train, X_test, y_train, y_test = train_test_split(features, target, random_state=3000)"
   ]
  },
  {
   "cell_type": "markdown",
   "metadata": {},
   "source": [
    "#### Preprocessing the data:\n",
    "We are going to use MinMaxScalar to scale our data."
   ]
  },
  {
   "cell_type": "code",
   "execution_count": 13,
   "metadata": {},
   "outputs": [],
   "source": [
    "#create the scaler\n",
    "from sklearn.preprocessing import MinMaxScaler\n",
    "scaler = MinMaxScaler()\n",
    "\n",
    "#fit the scaler to the training data(features only)\n",
    "scaler.fit(X_train) \n",
    "\n",
    "#transform X_train and X_test based on the (same) scaler\n",
    "X_train_scaled = scaler.transform(X_train) \n",
    "X_test_scaled = scaler.transform(X_test) "
   ]
  },
  {
   "cell_type": "markdown",
   "metadata": {},
   "source": [
    "#### Feature Selection:\n",
    "We are running the RFE on our scaled data to select the most important features. Fine tuning by hand allowed us to choose 5 features as the amount to reduce our features to."
   ]
  },
  {
   "cell_type": "code",
   "execution_count": 14,
   "metadata": {},
   "outputs": [
    {
     "name": "stdout",
     "output_type": "stream",
     "text": [
      "Original results:\n",
      "\tR-squared value for training set: 0.6793262060830396\n",
      "\tR-squared value for testing set: 0.6648946555789741\n",
      "\tMean squared error value for training set: 0.009629273463945199\n",
      "\tMean squared error value for testing set: 0.00885761965545433 \n",
      "\n",
      "With selected features:\n",
      "\tR-squared value for training set: 0.6666464074889842\n",
      "\tR-squared value for testing set: 0.6620303285211429\n",
      "\tMean squared error value for training set: 0.010010025650266745\n",
      "\tMean squared error value for testing set: 0.008933330532852987\n"
     ]
    }
   ],
   "source": [
    "from sklearn.feature_selection import RFE\n",
    "from sklearn.tree import DecisionTreeRegressor\n",
    "from sklearn.linear_model import LinearRegression\n",
    "from sklearn.metrics import r2_score, mean_squared_error\n",
    "\n",
    "# create the RFE selector\n",
    "select = RFE(DecisionTreeRegressor(random_state = 3000),n_features_to_select = 5)\n",
    "\n",
    "#fit the RFE selector to the training data\n",
    "select.fit(X_train_scaled, y_train)\n",
    "\n",
    "#transform training and testing sets so only the selected features are retained\n",
    "X_train_selected = select.transform(X_train_scaled)\n",
    "X_test_selected = select.transform(X_test_scaled)\n",
    "\n",
    "model = LinearRegression().fit(X=X_train_scaled, y=y_train)\n",
    "\n",
    "# Original Results\n",
    "print(\"Original results:\")\n",
    "# R2 values\n",
    "print(\"\\tR-squared value for training set:\", r2_score(y_train, model.predict(X_train_scaled)))\n",
    "print(\"\\tR-squared value for testing set:\", r2_score(y_test, model.predict(X_test_scaled)))\n",
    "# MSE values\n",
    "print(\"\\tMean squared error value for training set:\", mean_squared_error(y_train, model.predict(X_train_scaled)))\n",
    "print(\"\\tMean squared error value for testing set:\", mean_squared_error(y_test, model.predict(X_test_scaled)),\"\\n\")\n",
    "\n",
    "\n",
    "model = LinearRegression().fit(X=X_train_selected, y=y_train)\n",
    "\n",
    "# Selected Results\n",
    "print(\"With selected features:\")\n",
    "# R2 values\n",
    "print(\"\\tR-squared value for training set:\", r2_score(y_train, model.predict(X_train_selected)))\n",
    "print(\"\\tR-squared value for testing set:\", r2_score(y_test, model.predict(X_test_selected)))\n",
    "# MSE values\n",
    "print(\"\\tMean squared error value for training set:\", mean_squared_error(y_train, model.predict(X_train_selected)))\n",
    "print(\"\\tMean squared error value for testing set:\", mean_squared_error(y_test, model.predict(X_test_selected)))"
   ]
  },
  {
   "cell_type": "code",
   "execution_count": 15,
   "metadata": {},
   "outputs": [
    {
     "name": "stdout",
     "output_type": "stream",
     "text": [
      "Selected Features:\n",
      "\tHigh Needs %\n",
      "\tTotal Expenditures per Pupil\n",
      "\t% Score 3-5\n",
      "\tStudents Disciplined (%)\n",
      "\tTests Takers (%)\n"
     ]
    }
   ],
   "source": [
    "# Output the chosen features\n",
    "print(\"Selected Features:\")\n",
    "\n",
    "bool_chosen = select.get_support()\n",
    "for i in range(0,len(features.columns)):\n",
    "    if bool_chosen[i]:\n",
    "        print(\"\\t\" + features.columns[i])"
   ]
  },
  {
   "cell_type": "markdown",
   "metadata": {},
   "source": [
    "### 3.2. Data Exploration"
   ]
  },
  {
   "cell_type": "markdown",
   "metadata": {},
   "source": [
    "### Visualization 1"
   ]
  },
  {
   "cell_type": "markdown",
   "metadata": {},
   "source": [
    "For our first visualization, we wanted to see how the variables we saved to use for ML correlated with one another. To do so, we chose to create a heatmap."
   ]
  },
  {
   "cell_type": "code",
   "execution_count": 16,
   "metadata": {
    "scrolled": true
   },
   "outputs": [
    {
     "data": {
      "image/png": "[encoded data removed]",
      "text/plain": [
       "<Figure size 576x576 with 2 Axes>"
      ]
     },
     "metadata": {
      "needs_background": "light"
     },
     "output_type": "display_data"
    }
   ],
   "source": [
    "# Display a heatmap showing the correlation between variables\n",
    "import matplotlib.pyplot as plt\n",
    "import seaborn as sns\n",
    "\n",
    "# create a new figure\n",
    "plt.figure(figsize=(8, 8))\n",
    "# create a heatmap with our df\n",
    "ax = sns.heatmap(df.corr(), square=True, annot=True, cmap=\"Blues\")\n",
    "# add a title and format\n",
    "ax.set_title('Correlations for each variable', fontsize = 29, pad = 20)\n",
    "plt.subplots_adjust(bottom=0.28)\n",
    "plt.show()"
   ]
  },
  {
   "cell_type": "markdown",
   "metadata": {},
   "source": [
    "<img src=\"https://github.com/abbycarr/MA-education-machine-learning/raw/main/V1.png\" />"
   ]
  },
  {
   "cell_type": "markdown",
   "metadata": {},
   "source": [
    "In this heatmap, we can see a variety of important correlations. First, our target variable (Attending Coll/Univ (%)) has a relatively high positive correlation with the percentage of AP test takers who earned a score between 3 and 5. There is a relatively high negative correlation between our target variable and the % of High Needs students in a district, as well as between the target variable and percent of students disciplined in a district. Our target value had moderate correlation with the rest of our feature variables, with the lowest correlation found with Average Salary. We did not expect this last conclusion, given our assumption that better paid teachers would be more likely to prepare and encourage their students to attend higher education.\n",
    "\n",
    "Another interesting observation is the high positive correlation between the percentage of High Needs students in a district and percentage of Students Disciplined. There is an extremely high positive correlation between Total Expenditures per Student and In-District Expenditures per Pupil. We suspected this may be the case, as the variables reflect similar funding data, and it solidified our decision not to use both in a machine learning model, as they would be repetitive."
   ]
  },
  {
   "cell_type": "markdown",
   "metadata": {},
   "source": [
    "### Visualization 2"
   ]
  },
  {
   "cell_type": "markdown",
   "metadata": {},
   "source": [
    "Given that the following three variables (% Score 3-5, High Needs %, and Students Disciplined (%)) were the most correlated with our target variable, we wanted to dive deeper into the distribution of this data one by one, in descending order of how high the variable's correlation with the target is. "
   ]
  },
  {
   "cell_type": "code",
   "execution_count": 17,
   "metadata": {},
   "outputs": [
    {
     "data": {
      "text/plain": [
       "<matplotlib.axes._subplots.AxesSubplot at 0x7ff1e206d8e0>"
      ]
     },
     "execution_count": 17,
     "metadata": {},
     "output_type": "execute_result"
    },
    {
     "data": {
      "image/png": "[encoded data removed]",
      "text/plain": [
       "<Figure size 432x288 with 1 Axes>"
      ]
     },
     "metadata": {
      "needs_background": "light"
     },
     "output_type": "display_data"
    }
   ],
   "source": [
    "sns.scatterplot(data=df, x=\"% Score 3-5\", y=\"Attending Coll./Univ. (%)\")"
   ]
  },
  {
   "cell_type": "markdown",
   "metadata": {},
   "source": [
    "<img src=\"https://github.com/abbycarr/MA-education-machine-learning/raw/main/V2-1.png\"/>"
   ]
  },
  {
   "cell_type": "markdown",
   "metadata": {},
   "source": [
    "By looking at the above scatterplot, it can be discerned that districts where larger portions of students got higher AP test scores had higher rates of students attending higher education. Given that AP courses are typically taught at the same level as college courses, they are often used by universities as a metric of a student's preparedness for college-level material. This correlation was in line with our expectations."
   ]
  },
  {
   "cell_type": "code",
   "execution_count": 18,
   "metadata": {
    "scrolled": true
   },
   "outputs": [
    {
     "data": {
      "text/plain": [
       "<matplotlib.axes._subplots.AxesSubplot at 0x7ff1e22bba30>"
      ]
     },
     "execution_count": 18,
     "metadata": {},
     "output_type": "execute_result"
    },
    {
     "data": {
      "image/png": "[encoded data removed]",
      "text/plain": [
       "<Figure size 432x288 with 1 Axes>"
      ]
     },
     "metadata": {
      "needs_background": "light"
     },
     "output_type": "display_data"
    }
   ],
   "source": [
    "sns.scatterplot(data=df, x=\"High Needs %\", y=\"Attending Coll./Univ. (%)\")"
   ]
  },
  {
   "cell_type": "markdown",
   "metadata": {},
   "source": [
    "<img src=\"https://github.com/abbycarr/MA-education-machine-learning/raw/main/V2-2.png\"/>"
   ]
  },
  {
   "cell_type": "markdown",
   "metadata": {},
   "source": [
    "In the above scatterplot, it is clear that higher proportions of High Needs students in a district are correlated with lower higher education attendance rates. This could be for various reasons, one of them being that high needs students often struggle in school and are less likely to have the ability or desire to attend higher ed. Given that, this correlation didn't surprise us much either. "
   ]
  },
  {
   "cell_type": "code",
   "execution_count": 19,
   "metadata": {
    "scrolled": true
   },
   "outputs": [
    {
     "data": {
      "text/plain": [
       "<matplotlib.axes._subplots.AxesSubplot at 0x7ff1e23795e0>"
      ]
     },
     "execution_count": 19,
     "metadata": {},
     "output_type": "execute_result"
    },
    {
     "data": {
      "image/png": "[encoded data removed]",
      "text/plain": [
       "<Figure size 432x288 with 1 Axes>"
      ]
     },
     "metadata": {
      "needs_background": "light"
     },
     "output_type": "display_data"
    }
   ],
   "source": [
    "sns.scatterplot(data=df, x=\"Students Disciplined (%)\", y=\"Attending Coll./Univ. (%)\")"
   ]
  },
  {
   "cell_type": "markdown",
   "metadata": {},
   "source": [
    "<img src=\"https://github.com/abbycarr/MA-education-machine-learning/raw/main/V2-3.png\"/>"
   ]
  },
  {
   "cell_type": "markdown",
   "metadata": {},
   "source": [
    "In our last correlation plot above, we see that there is an (admittedly less stark) negative correlation between the portion of students disciplined and higher education rate. Students in districts where more disciplinary action is taken seem to be less likely to attend higher education. Perhaps this is because their disciplinary record makes it more difficult for them to get into college, or maybe it is because they have had poor experiences with education and do not have a desire to attend more school. "
   ]
  },
  {
   "cell_type": "markdown",
   "metadata": {},
   "source": [
    "### Visualization 3"
   ]
  },
  {
   "cell_type": "markdown",
   "metadata": {},
   "source": [
    "In addition to analyzing access to higher education, we wanted to better understand the relationship between race and the rate of students disciplined. There is a lot of discussion in the educational community about how Black and Brown students are disciplined more often and harshly than White students, and we wanted to see if our data reflected that. \n",
    "\n",
    "As written by the <a href='https://ra.nea.org/business-item/2016-pol-e01-2/#:~:text=School%2Dto%2DPrison%20Pipeline%20means,and%20surveillance%20that%20create%20prison%2D'>National Education Association</a>: \"The school-to-prison pipeline disproportionately places students of color, including those who identify as LGBTQ, have disabilities, and/or are English Language Learners, into the criminal justice system for minor school infractions and disciplinary matters, subjecting them to harsher punishments than their white peers for the same behaviors. The school-to-prison pipeline diminishes their educational opportunities and life trajectories.\"\n",
    "\n",
    "Below is a heatmap that represents the correlation between racial makeup of a school, percentage of students disciplined, and percentage of students who attend college or university. "
   ]
  },
  {
   "cell_type": "code",
   "execution_count": 20,
   "metadata": {},
   "outputs": [
    {
     "data": {
      "image/png": "[encoded data removed]",
      "text/plain": [
       "<Figure size 576x576 with 2 Axes>"
      ]
     },
     "metadata": {
      "needs_background": "light"
     },
     "output_type": "display_data"
    }
   ],
   "source": [
    "df_for_analysis[\"Students Disciplined (%)\"] = df_for_analysis[\"Students Disciplined\"] / df_for_analysis[\"Students\"]\n",
    "df_for_analysis[\"Tests Takers (%)\"] = df_for_analysis[\"Tests Takers\"] / df_for_analysis[\"Students\"]\n",
    "\n",
    "# make a smaller df to base this heatmap off of\n",
    "race_disc_df = df_for_analysis[[\"White\", \"Asian\", \"African American\", \"Hispanic\", \"Students Disciplined (%)\", \"Attending Coll./Univ. (%)\"]]\n",
    "\n",
    "# create figure\n",
    "plt.figure(figsize=(8, 8))\n",
    "# make heatmap\n",
    "ax = sns.heatmap(race_disc_df.corr(), square=True, annot=True, cmap=\"Greens\")\n",
    "#add title and format\n",
    "ax.set_title('Correlation between race and discipline', fontsize = 29, pad = 20)\n",
    "plt.subplots_adjust(bottom=0.28)\n",
    "plt.savefig(\"V3\", bbox_inches = 'tight')\n",
    "plt.show()"
   ]
  },
  {
   "cell_type": "markdown",
   "metadata": {},
   "source": [
    "<img src=\"https://github.com/abbycarr/MA-education-machine-learning/raw/main/V3.png\" />"
   ]
  },
  {
   "cell_type": "markdown",
   "metadata": {},
   "source": [
    "While this heatmap doesn't show a drastically high positive correlation between percentage of students disciplined and percentage of Black and Brown students in a district, it certainly shows some positive correlation. Districts with higher proportions of White and Asian students are shown here to be likely to have lower percentages of students disciplined and higher percentages of students who attend college or university. Conversely, districts with higher proportions of African American and Hispanic students were likely to see higher disciplinary rates and lower rates of students attending college or university. "
   ]
  },
  {
   "cell_type": "markdown",
   "metadata": {},
   "source": [
    "## 3.3. Model Construction"
   ]
  },
  {
   "cell_type": "markdown",
   "metadata": {},
   "source": [
    "#### Hypothesis Testing"
   ]
  },
  {
   "cell_type": "code",
   "execution_count": 21,
   "metadata": {},
   "outputs": [],
   "source": [
    "#Pearson function to tests hypotheses 1 and 2\n",
    "from scipy.stats import pearsonr \n",
    "need = df['High Needs %']\n",
    "test = df['Tests Takers (%)']\n",
    "total = df['Total Expenditures per Pupil']\n",
    "ind = df['In-District Expenditures per Pupil']\n",
    "\n",
    "def get_pearson(f1, f2):\n",
    "        \n",
    "    f_results = pearsonr(f1, f2)\n",
    "\n",
    "    coeff = format(f_results[0],\".04f\") #pulls/formats pearson correlation coefficient\n",
    "    r2 = format(f_results[0] * f_results[0], \".04f\")\n",
    "    p_val = format(f_results[1], \".04f\") #pulls/formats p val \n",
    "    \n",
    "    print(\"Pearson Correlation Coefficient = %s, R Squared Value = %s,  p = %s\" % (coeff, r2, p_val)) #ftest report"
   ]
  },
  {
   "cell_type": "markdown",
   "metadata": {},
   "source": [
    "#### Testing hypothesis 1: \n",
    "Running a Pearson Correlation between Total Expenditures per Pupil and In-District Expenditures per Pupil"
   ]
  },
  {
   "cell_type": "code",
   "execution_count": 22,
   "metadata": {},
   "outputs": [
    {
     "name": "stdout",
     "output_type": "stream",
     "text": [
      "Pearson Correlation Coefficient = 0.9822, R Squared Value = 0.9648,  p = 0.0000\n"
     ]
    }
   ],
   "source": [
    "get_pearson(total, ind)"
   ]
  },
  {
   "cell_type": "markdown",
   "metadata": {},
   "source": [
    "Null(H0): There is no correlation between the 'Total Expenditures per Pupil' and 'In-District Expenditures per Pupil' features. \n",
    "\n",
    "Alternative(Ha): There is a correlation between the 'Total Expenditures per Pupil' and 'In-District Expenditures per Pupil' features.\n",
    "\n",
    "\n",
    "Evaluation: A Pearson Correlation test was conducted to test the correlation of the 'Total Expenditures per Pupil' and 'In-District Expenditures per Pupil' features. Results revealed a  Correlation Coefficient of 0.9822 and a p value of less than 0.0001 between these two feature variables. Further examination of the two feature variables reveals that the coefficient of determination (r^2) is 0.9648, indicating a strong positive correlation between these two variables. Since the p value is less than 0.05, we can reject the null hypothesis and claim that these results indicate a statistically significant correlation between the 'Total Expenditures per Pupil' and 'In-District Expenditures per Pupil' features in our dataset. "
   ]
  },
  {
   "cell_type": "markdown",
   "metadata": {},
   "source": [
    "#### Testing hypothesis 2:\n",
    "Running a Pearson Correlation between High Needs (%) and Tests Takers (%)"
   ]
  },
  {
   "cell_type": "code",
   "execution_count": 23,
   "metadata": {},
   "outputs": [
    {
     "name": "stdout",
     "output_type": "stream",
     "text": [
      "Pearson Correlation Coefficient = -0.4792, R Squared Value = 0.2296,  p = 0.0000\n"
     ]
    }
   ],
   "source": [
    "get_pearson(need, test)"
   ]
  },
  {
   "cell_type": "markdown",
   "metadata": {},
   "source": [
    "Null(H0): There is no correlation between the 'High Needs (%)' and 'Tests Takers (%)' features.\n",
    "\n",
    "Alternative(Ha): There is a correlation between the 'High Needs (%)' and 'Tests Takers %' features.\n",
    "\n",
    "\n",
    "Evaluation: A Pearson Correlation test was conducted to test the correlation of the 'High Needs (%)' and 'Tests Takers (%)' features. Results revealed a Correlation Coefficient of -0.4792 and a p value of less than 0.0001. Further examination of the two feature variables reveals that the coefficient of determination (r^2) is 0.2296, indicating a weak negative correlation between these two features. Since the p value is less than 0.05, we can reject the null hypothesis and claim that these results indicate a statistically significant correlation between the 'Tests Takers %' and 'High Needs (%)' features in our dataset. \n"
   ]
  },
  {
   "cell_type": "markdown",
   "metadata": {},
   "source": [
    "#### Testing hypothesis 3:\n",
    "\n",
    "The data for hypothesis 3 can be seen in Section 3.6. "
   ]
  },
  {
   "cell_type": "markdown",
   "metadata": {},
   "source": [
    "#### Defining the Estimators\n",
    "\n",
    "We will be applying the Multiple Linear Regression, Ridge, Lasso, k-Nearest Neighbor, and Support Vector Machine algorithms. Below we are building a dictionary of them for later use."
   ]
  },
  {
   "cell_type": "code",
   "execution_count": 24,
   "metadata": {},
   "outputs": [],
   "source": [
    "from sklearn.linear_model import Ridge\n",
    "from sklearn.linear_model import Lasso\n",
    "from sklearn.neighbors import KNeighborsRegressor\n",
    "from sklearn.svm import LinearSVR\n",
    "\n",
    "\n",
    "estimators = {'Multiple Linear Regression': LinearRegression(), 'Ridge': Ridge(), 'Lasso': Lasso(), \n",
    "              'k-Nearest Neighbor': KNeighborsRegressor(), 'Support Vector Machine': LinearSVR(max_iter = 1000000)}"
   ]
  },
  {
   "cell_type": "markdown",
   "metadata": {},
   "source": [
    "#### Training the Models\n",
    "The training_models function fits the selected data from 3.1 to every model in a dictionary to train the models."
   ]
  },
  {
   "cell_type": "code",
   "execution_count": 25,
   "metadata": {},
   "outputs": [],
   "source": [
    "def training_models(models_dict):\n",
    "    \"\"\"Takes in a dictionary of models and fits the selected data to each of them. Returns\n",
    "    a dictionary of the fitted models.\"\"\"\n",
    "    trained_models = {}\n",
    "\n",
    "    # for each model in the given dictionary of models\n",
    "    for name in models_dict:\n",
    "        # fit the selected data to the model\n",
    "        model = models_dict[name].fit(X=X_train_selected, y=y_train)\n",
    "        # store the fitted model\n",
    "        trained_models[name] = model\n",
    "        \n",
    "    return trained_models"
   ]
  },
  {
   "cell_type": "code",
   "execution_count": 26,
   "metadata": {},
   "outputs": [],
   "source": [
    "trained_models = training_models(estimators)"
   ]
  },
  {
   "cell_type": "markdown",
   "metadata": {},
   "source": [
    "## 3.4. Model Evaluation"
   ]
  },
  {
   "cell_type": "markdown",
   "metadata": {},
   "source": [
    "#### Evaluation Metrics\n",
    "In the below section, we are going to find the performance of the trained models on two appropriate evaluation metrics.\n",
    "\n",
    "The two metrics:\n",
    "1. **R-squared value**: This metric is the coefficient determination. It ranges from 1.0, meaning the model perfectly predicts the DV's value given IV values, to 0.0, meaning the model cannot make predictions with any accuracy.\n",
    "2. **Mean squared error value**: This metric is the average of the square of errors where the error is the difference between the observed and predicted values. This value ranges from 1.0 to 0.0 and the closer the value is to 0.0, the closer the fit is to the data."
   ]
  },
  {
   "cell_type": "code",
   "execution_count": 27,
   "metadata": {},
   "outputs": [],
   "source": [
    "def evaluating_models(models_dict):\n",
    "    \"\"\"Takes in a dictionary of fitted models and outputs a textual overview of each model's\n",
    "    R-squared and MSE value for the training and testing sets.\"\"\"\n",
    "    \n",
    "    # for each model in the given dictionary of fitted models\n",
    "    for name in models_dict:\n",
    "        model = models_dict[name]\n",
    "        print(name + \":\")\n",
    "        # R-squared values\n",
    "        print(\"\\tR-squared value for training set: \", r2_score(y_train, model.predict(X_train_selected)))\n",
    "        print(\"\\tR-squared value for testing set: \", r2_score(y_test, model.predict(X_test_selected)))\n",
    "        # MSE values\n",
    "        print(\"\\tMean squared error value for training set: \", mean_squared_error(y_train, model.predict(X_train_selected)))\n",
    "        print(\"\\tMean squared error value for testing set: \", mean_squared_error(y_test, model.predict(X_test_selected)),\"\\n\")"
   ]
  },
  {
   "cell_type": "markdown",
   "metadata": {},
   "source": [
    "#### Results of the Evaluation Metrics"
   ]
  },
  {
   "cell_type": "code",
   "execution_count": 28,
   "metadata": {},
   "outputs": [
    {
     "name": "stdout",
     "output_type": "stream",
     "text": [
      "Multiple Linear Regression:\n",
      "\tR-squared value for training set:  0.6666464074889842\n",
      "\tR-squared value for testing set:  0.6620303285211429\n",
      "\tMean squared error value for training set:  0.010010025650266745\n",
      "\tMean squared error value for testing set:  0.008933330532852987 \n",
      "\n",
      "Ridge:\n",
      "\tR-squared value for training set:  0.6661290013808893\n",
      "\tR-squared value for testing set:  0.6646419822798739\n",
      "\tMean squared error value for training set:  0.010025562451219215\n",
      "\tMean squared error value for testing set:  0.008864298402952029 \n",
      "\n",
      "Lasso:\n",
      "\tR-squared value for training set:  0.0\n",
      "\tR-squared value for testing set:  -0.0002592681257347351\n",
      "\tMean squared error value for training set:  0.03002825190772755\n",
      "\tMean squared error value for testing set:  0.02643919681200095 \n",
      "\n",
      "k-Nearest Neighbor:\n",
      "\tR-squared value for training set:  0.8202295177564348\n",
      "\tR-squared value for testing set:  0.6923886464064757\n",
      "\tMean squared error value for training set:  0.005398193326383438\n",
      "\tMean squared error value for testing set:  0.00813088903890353 \n",
      "\n",
      "Support Vector Machine:\n",
      "\tR-squared value for training set:  0.6287222816535111\n",
      "\tR-squared value for testing set:  0.6545911022254871\n",
      "\tMean squared error value for training set:  0.011148820854234688\n",
      "\tMean squared error value for testing set:  0.009129966719517275 \n",
      "\n"
     ]
    }
   ],
   "source": [
    "evaluating_models(trained_models)"
   ]
  },
  {
   "cell_type": "markdown",
   "metadata": {},
   "source": [
    "**Interpretation:**\n",
    "Three of our five models had similar, positive performances on the testing sets. Below we will discuss our findings with a focus on ranking performance based on the training set values.\n",
    "\n",
    "The k-Nearest Neighbor algorithm scored the best, with a R-squared value of 0.6924 and a Mean Squared Error value of 0.00813. This means that the k-Nearest Neighbors algorithm can account for about 69.24% of the variation in the regression model and has an average squared error of 0.00813. The MSE value specifically indicates that there is a smaller, or often lower, amount of error in the model since this estimator is sensitive to larger error values.\n",
    "\n",
    "Following behind k-Nearest Neighbors, the Multiple Linear Regression and Ridge algorithms have R-squared values of 0.6620 and 0.6646 and Mean Squared Error values of 0.00893 and 0.00886 respectively. Both algorithms had extremely close values and scored close to the top performing algorithm- only about 3% below the R-squared and about .0005 above the Mean Squared Error. \n",
    "\n",
    "Just slightly below in performance lies the Support Vector Machine algorithm with an R-squared value of 0.6558 and a Mean Squared Error value of .00909. These scores are still close to our top performing algorithms but, due to the very close values already between our second two algorithms, we will not continue with this algorithm.\n",
    "\n",
    "The Lasso Regression had a performance resulting in little to no viable results. While poor performance values can sometimes still be valuable, on our model the Lasso Regression algorithm resulted in an approximately 0 R-squared value with the R-squared value on the training set being actually 0. The Mean Squared Error value follows with the poor score of 0.02644. These results were very significant and showed Lasso Regression was a very poor algorithm for our model."
   ]
  },
  {
   "cell_type": "markdown",
   "metadata": {},
   "source": [
    "We chose to continue with the three top performing algorithms: Multiple Linear Regression, Ridge, and k-Nearest Neighbor. We hope to see how tuning might affect the closeness of scores for the second two performing algorithms and how it might reduce the noticeable overfitting to the training set by the k-Nearest Neighbors algorithm."
   ]
  },
  {
   "cell_type": "code",
   "execution_count": 29,
   "metadata": {},
   "outputs": [],
   "source": [
    "chosen_estimators = {'Multiple Linear Regression': LinearRegression(), 'Ridge': Ridge(), 'k-Nearest Neighbor': KNeighborsRegressor()}"
   ]
  },
  {
   "cell_type": "markdown",
   "metadata": {},
   "source": [
    "### 3.5. Model Optimization"
   ]
  },
  {
   "cell_type": "markdown",
   "metadata": {},
   "source": [
    "#### Grid Search Function\n",
    "This function will be used to tune models using the appropriate hyperparameters."
   ]
  },
  {
   "cell_type": "code",
   "execution_count": 30,
   "metadata": {},
   "outputs": [],
   "source": [
    "from sklearn.model_selection import GridSearchCV\n",
    "\n",
    "def grid_search_params(params, model):\n",
    "    \"\"\"Takes in a single model and parameters to test in order to tune the\n",
    "    given model, using the selected training data from 3.1. Returns the\n",
    "    grid_search model for later use in testing.\"\"\"\n",
    "        \n",
    "    # Grid search with the given parameters and a cross validation amount of 5\n",
    "    grid_search = GridSearchCV(model,params,cv=5)\n",
    "    # fits to the training data selected in 3.1\n",
    "    grid_search.fit(X=X_train_selected, y=y_train)\n",
    "    \n",
    "    # outputs results\n",
    "    print(\"\\tBest parameters:\", grid_search.best_params_)\n",
    "    print(\"\\tBest cross-validation score:\", grid_search.best_score_)\n",
    "    \n",
    "    return grid_search.best_estimator_"
   ]
  },
  {
   "cell_type": "markdown",
   "metadata": {},
   "source": [
    "#### Creating Params\n",
    "Below is an overview of which parameters we will be tuning and an overview of our motive\n",
    "\n",
    ">**Multiple Linear Regression**:\n",
    ">We are not going to be creating parameters or hypertuning the Multiple Linear Regression model. This tuning for this model mostly depends on needing our data to be normalized, something that was covered when we preprocessed and feature selected our data.\n",
    "\n",
    ">**Ridge**:\n",
    ">We are going to tune the alpha value for our ridge model in order to determine if the model would benefit from reducing either under or overfitting to the data. The alpha value was originally 1 and we are testing values between 0 and 2. An alpha value lower than 1 would avoid overfitting and reduce the model's complexity while an alpha value over 1 would avoid underfitting and increase the model's complexity.\n",
    "\n",
    ">**k-Nearest Neighbor**:\n",
    ">One of the two parameters we are going to hypertune for the model is the metric of the model. The metric of the model is the distance metric used for the tree. The default is minkowski but we will also be trying out euclidean, manhattan, and chebyshev. If one of these other metrics is selected, we will discuss the difference in how the new distance metric works.\n",
    ">\n",
    ">The other parameter we will hypertune is the n_neighbors value. The default for this value is 5. A higher n_neighbors value would avoid overfitting and reduce the model's complexity while a lower n_neighbors value would avoid underfitting and increase the model's complexity."
   ]
  },
  {
   "cell_type": "code",
   "execution_count": 31,
   "metadata": {},
   "outputs": [],
   "source": [
    "from scipy.stats import uniform\n",
    "# creating 100 alpha values to test from 0 to 2\n",
    "alphas = uniform.rvs(0,2,size=100,random_state=3000)\n",
    "\n",
    "# creating the Ridge parameters\n",
    "ridge_params = {\"alpha\":alphas}\n",
    "\n",
    "# creating the k-Nearest Neighbors parameters\n",
    "kn_params = {\"n_neighbors\":[1,2,3,4,5,6,7,8,9],\n",
    "             \"metric\":[\"euclidean\", \"manhattan\", \"chebyshev\", \"minkowski\"]}"
   ]
  },
  {
   "cell_type": "markdown",
   "metadata": {},
   "source": [
    "#### Model Optimization Results"
   ]
  },
  {
   "cell_type": "code",
   "execution_count": 32,
   "metadata": {},
   "outputs": [
    {
     "name": "stdout",
     "output_type": "stream",
     "text": [
      "Ridge:\n",
      "\tBest parameters: {'alpha': 0.9267214360227443}\n",
      "\tBest cross-validation score: 0.6540130424566305\n",
      "\n",
      "k-Nearest Neighbor:\n",
      "\tBest parameters: {'metric': 'manhattan', 'n_neighbors': 5}\n",
      "\tBest cross-validation score: 0.7250319495111042\n",
      "\n",
      "Multiple Linear Regression (not tuned):\n",
      "\tBest parameters: {}\n",
      "\tBest cross-validation score: 0.6532230496919171\n"
     ]
    }
   ],
   "source": [
    "print(\"Ridge:\")\n",
    "ridge_grid = grid_search_params(ridge_params,chosen_estimators[\"Ridge\"])\n",
    "print(\"\\nk-Nearest Neighbor:\")\n",
    "kn_grid = grid_search_params(kn_params,chosen_estimators[\"k-Nearest Neighbor\"])\n",
    "print(\"\\nMultiple Linear Regression (not tuned):\")\n",
    "ml_grid = grid_search_params({},chosen_estimators[\"Multiple Linear Regression\"])"
   ]
  },
  {
   "cell_type": "markdown",
   "metadata": {},
   "source": [
    "**Ridge**: Our tuned alpha ended up being slightly lowered from the original value of 1, meaning that hypertuning our Ridge model is for the goal of avoiding overfitting our model, though with very little effect.\n",
    "\n",
    "**k-Nearest Neighbor**: Our n_neighbors value stayed optimal at 5 so there was no change to that in the model. Our improved metric ended up being manhattan instead of minkowski. The original minkowski distance metric follows the distance function sum(|x - y|^p)^(1/p) while the manhattan distance metric follows the distance function sum(|x - y|). The manhattan distance metric being chosen means that our hypertuning of the k-Nearest Neighbor model has simplified the model, though it is unlikely this alone will have solved the overfitting by the algorithm."
   ]
  },
  {
   "cell_type": "markdown",
   "metadata": {},
   "source": [
    "### 3.6. Model Testing"
   ]
  },
  {
   "cell_type": "markdown",
   "metadata": {},
   "source": [
    "#### Recreating the Models\n",
    "Using the grid search best estimator models in section 3.5, we have created a dictionary of our three top performing models."
   ]
  },
  {
   "cell_type": "code",
   "execution_count": 33,
   "metadata": {},
   "outputs": [],
   "source": [
    "tuned_models = {'Multiple Linear Regression': ml_grid, 'Ridge': ridge_grid, 'k-Nearest Neighbor': kn_grid}"
   ]
  },
  {
   "cell_type": "markdown",
   "metadata": {},
   "source": [
    "#### Testing the Models\n",
    "To create our final results, we are going to take our tuned models, train them using the function in 3.3, and test them using the function in 3.4. "
   ]
  },
  {
   "cell_type": "code",
   "execution_count": 34,
   "metadata": {},
   "outputs": [
    {
     "name": "stdout",
     "output_type": "stream",
     "text": [
      "Multiple Linear Regression:\n",
      "\tR-squared value for training set:  0.6666464074889842\n",
      "\tR-squared value for testing set:  0.6620303285211429\n",
      "\tMean squared error value for training set:  0.010010025650266745\n",
      "\tMean squared error value for testing set:  0.008933330532852987 \n",
      "\n",
      "Ridge:\n",
      "\tR-squared value for training set:  0.6661958576949683\n",
      "\tR-squared value for testing set:  0.6644948030956868\n",
      "\tMean squared error value for training set:  0.010023554872978428\n",
      "\tMean squared error value for testing set:  0.008868188693740984 \n",
      "\n",
      "k-Nearest Neighbor:\n",
      "\tR-squared value for training set:  0.8264267002746902\n",
      "\tR-squared value for testing set:  0.7107515461181713\n",
      "\tMean squared error value for training set:  0.0052121027686070995\n",
      "\tMean squared error value for testing set:  0.007645514561518008 \n",
      "\n"
     ]
    }
   ],
   "source": [
    "fitted_tuned_models = training_models(tuned_models)\n",
    "evaluating_models(fitted_tuned_models)"
   ]
  },
  {
   "cell_type": "markdown",
   "metadata": {},
   "source": [
    "#### Testing Hypothesis Three:\n",
    "Comparing the R-squared value of Ridge regression against the values for other models.  \n",
    "\n",
    "We tested this Hypothesis by comparing the R-squared values of our top 3 models since Ridge regression managed to be one of the top 3 of the 5 models we began with.\n",
    "Results showed that there was no statistical difference between the Ridge Model and the other two top models. While the Ridge model had a .0017 difference between its testing and training sets when k-Nearest Neighbors showed skewing with a difference of .1157, this was nearly matched by the Multiple Linear Regression model at a .0046. Similarly, the Ridge's R-squared value, when directly matched against the testing values, was not significant. The k-Nearest Neighbors scored a .7108 at the top while Ridge and Multiple Linear Regression scored .6661 and .6666 respectively.\n",
    "\n",
    "These results indicate that the Ridge regression algorithm will not have the best R-squared score numerically in terms of comparing results with other models."
   ]
  },
  {
   "cell_type": "markdown",
   "metadata": {},
   "source": [
    "<a id=\"4\"></a>\n",
    "<hr style=\"height:2px; border:none; color:black; background-color:black;\">"
   ]
  },
  {
   "cell_type": "markdown",
   "metadata": {},
   "source": [
    "## 4. DISCUSSION"
   ]
  },
  {
   "cell_type": "markdown",
   "metadata": {},
   "source": [
    "#### Summary of our Work\n",
    "\n",
    "We began by taking time to clean and alter our large dataset in 3.1. Our dataframe was changed by dropping columns that would negatively impact the ability of our machine learning algorithms- most notably many directly correlated columns- and was then cleaned and transformed into numerical values for use.\n",
    "\n",
    "We analyzed both the original dataset and our dataframe for machine learning with 3 visualizations in 3.2.\n",
    "\n",
    "We analyzed feature and target correlations in 3.3 and trained our models.\n",
    "\n",
    "3.4 covered model evaluations and ended with us selecting the top 3 models to continue with in sections 3.5 and 3.6.\n",
    "\n",
    "In 3.5 we tuned the 3 models we had chosen and subsequently tested the tuned models in section 3.6. Performance after hypertuning resulted in almost no change in the Ridge algorithm but had a small but noticeable improvement on the k-Nearest Neighbors algorithm."
   ]
  },
  {
   "cell_type": "markdown",
   "metadata": {},
   "source": [
    "#### Algorithms Compared:\n",
    "We compared Multiple Linear, Ridge, Lasso, k-Nearest Neighbors, and Support Vector Machine regression algorithms\n",
    "\n",
    "#### Best Algorithm Performances:\n",
    "Multiple Linear Regression Algorithm  \n",
    "R-squared testing value: 0.6620303285211429  \n",
    "Mean Squared Error testing value: 0.008933330532852987  \n",
    "  \n",
    "Ridge Algorithm    \n",
    "R-squared testing value: 0.6644948030956868  \n",
    "Mean Squared Error testing value: 0.008868188693740984  \n",
    "\n",
    "#### Final Performance of the Second Best Algorithm:\n",
    "k-Nearest Neighbor Algorithm    \n",
    "R-squared testing value: 0.7107515461181713  \n",
    "Mean Squared Error testing value: 0.007645514561518008  \n",
    "\n",
    "#### The Algorithm for our Predictive Model:\n",
    "Although we continued with Multiple Linear, Ridge, and k-Nearest Neighbors models, the algorithm we recommend to be used for our predictive model is the Ridge Algorithm.  \n",
    "\n",
    "Originally, we continued with more than 1 model to account for their closeness in value and the potential for them to change in ranking after hyperparameter tuning. We wanted to continue with more than 1 top model to see how tuning might change their testing results and that- along with the incredible closeness of our Multiple Linear Regression and Ridge algorithms- led us to the decision to continue with all 3.  \n",
    "\n",
    "In the end, hyperparameter tuning ended up most positively affecting the k-Nearest Neighbor algorithm but still could not reduce the overfitting to the training data enough for us to consider it as the algorithm to use for our predictive model.\n",
    "\n",
    "Although incredibly close in value, we decided that the Ridge algorithm was the best model to use for our predictive model. Its slight lead over the Multiple Linear Regression performance and our use of hypertuning on the model were two factors that helped us decide on this algorithm.\n",
    "\n",
    "#### Does the Model Work:\n",
    "We can not use the features in our dataset to predict the outcome variable we identified using the algorithms we've applied. There is not enough security in the algorithm we have fine tuned to actually use our predictive model as intended. Although our model would make a good tool to explore and understand the factors that result in attendance of higher education by MA students, it is not accurate enough to be used as a predictive tool.  \n",
    "\n",
    "#### Hypotheses Results:\n",
    "   - Hypothesis 1: Correlation between 'Total Expenditures per Pupil' and 'In-District Expenditures per Pupil'\n",
    "      - Significance: We found that there is a statistically significant correlation between the 'Total Expenditures per Pupil' and 'In-District Expenditures per Pupil' features in our dataset. Having a significant correlation means that the total expenditures per pupil and the in-district expenditures per pupil in a school have a relationship that has importance to our model. In this case, we found this to mean that a school having a higher total expenditures per pupil often had a higher in-district expenditures per pupil.\n",
    "   - Hypothesis 2: Correlation between 'High Needs (%)' and 'Tests Takers (%)'\n",
    "       - Significance: We found that there is a statistically significant correlation between the 'Tests Takers %' and 'High Needs (%)' features in our dataset. Having a significant correlation means that the percent of test takers and the percent of high needs students in a school have a relationship that has importance to our model. In this case, we found this to mean that a school having a higher percentage of  high needs students often had a lower percentage of test takers.\n",
    "   - Hypothesis 3: R-squared of Ridge compared to other models\n",
    "       - Significance: We found that the Ridge model did not perform significantly better than other models. Not having a significant difference from other models means that the Ridge algorithm does not work better for our dataset than other models.\n",
    "   "
   ]
  },
  {
   "cell_type": "markdown",
   "metadata": {},
   "source": [
    "#### Future Work:\n",
    "\n",
    "We would love to continue exploring the issue of access to higher education in Massachusetts. One of our ideas is to collect data about the communities school districts are in and compare that with rates of students attending higher education. For example, can you better predict access to higher education based on a community's average income, average property value, or average number of people living in a home? For data exploration purposes, it would be interesting to break down the Attending Coll./Univ. variable even further, looking at what percentage of students went to community colleges, public colleges, and private institutions. "
   ]
  },
  {
   "cell_type": "markdown",
   "metadata": {},
   "source": [
    "<a id=\"5\"></a>\n",
    "<hr style=\"height:2px; border:none; color:black; background-color:black;\">"
   ]
  },
  {
   "cell_type": "markdown",
   "metadata": {},
   "source": [
    "### CONTRIBUTIONS"
   ]
  },
  {
   "cell_type": "markdown",
   "metadata": {},
   "source": [
    "Much of our work was done collaboratively over Zoom, with one person sharing their screen and all of us working through the code together. While each of us played some role in every portion of the report, below is a more detailed breakdown of who spearheaded which sections:\n",
    "\n",
    "Ysabelle wrote much of the written portions of the project, especially in the introduction. She also completed the Data Exploration section, creating visualizations and drawing insights from them. \n",
    "\n",
    "Abby led us through the Data Wrangling and Model Construction portions of the report, taking the initiative to share her screen as we worked through those sections. She also helped draft up much of the written discussion about the performance of our ML models. \n",
    "\n",
    "Reshan completed a large part of the Method section and worked on our hypotheses tests, as well as spent a significant amount of time working with Abby on model construction."
   ]
  }
 ],
 "metadata": {
  "kernelspec": {
   "display_name": "Python 3",
   "language": "python",
   "name": "python3"
  },
  "language_info": {
   "codemirror_mode": {
    "name": "ipython",
    "version": 3
   },
   "file_extension": ".py",
   "mimetype": "text/x-python",
   "name": "python",
   "nbconvert_exporter": "python",
   "pygments_lexer": "ipython3",
   "version": "3.8.3"
  }
 },
 "nbformat": 4,
 "nbformat_minor": 2
}
