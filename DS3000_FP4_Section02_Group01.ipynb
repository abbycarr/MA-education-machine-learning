{
 "cells": [
  {
   "cell_type": "markdown",
   "metadata": {},
   "source": [
    "<center> <h2> DS 3000 - Fall 2020</h2> </center>\n",
    "<center> <h3> DS Report </h3> </center>\n"
   ]
  },
  {
   "cell_type": "markdown",
   "metadata": {},
   "source": [
    "<center> <h3> Measuring the success of MA public school districts</h3> </center>\n",
    "<center><h4>Ysabelle Kempe, Reshan Fernando, Abby Carr</h4></center>\n"
   ]
  },
  {
   "cell_type": "markdown",
   "metadata": {},
   "source": [
    "  "
   ]
  },
  {
   "cell_type": "markdown",
   "metadata": {},
   "source": [
    "<hr style=\"height:2px; border:none; color:black; background-color:black;\">"
   ]
  },
  {
   "cell_type": "markdown",
   "metadata": {},
   "source": [
    "#### Executive Summary:\n",
    "\n",
    "This project explores how qualities of Massachusetts' school districts impact students' access to higher education. Using data from the state's Department of Elementary and Secondary Education, we will examine district-level data concerning teacher salaries, how students are disciplined, demographics, AP testing, and financial expenditures. Along with visualizing and analyzing the correlations between variables, we tested and tuned multiple machine learning regression models on the data. This led to the following conclusions, which will be explained in further detail throughout this report:\n",
    "INSERT CONCLUSIONS"
   ]
  },
  {
   "cell_type": "markdown",
   "metadata": {},
   "source": [
    "<hr style=\"height:2px; border:none; color:black; background-color:black;\">"
   ]
  },
  {
   "cell_type": "markdown",
   "metadata": {},
   "source": [
    "## Outline\n",
    "1. <a href='#1'>INTRODUCTION</a>\n",
    "2. <a href='#2'>METHOD</a>\n",
    "3. <a href='#3'>RESULTS</a>\n",
    "4. <a href='#4'>DISCUSSION</a>"
   ]
  },
  {
   "cell_type": "markdown",
   "metadata": {},
   "source": [
    "<a id=\"1\"></a>\n",
    "<hr style=\"height:2px; border:none; color:black; background-color:black;\">"
   ]
  },
  {
   "cell_type": "markdown",
   "metadata": {},
   "source": [
    "## 1. INTRODUCTION"
   ]
  },
  {
   "cell_type": "markdown",
   "metadata": {},
   "source": [
    "**Problem Statement:**\n",
    "\n",
    "Our project explores access to higher education for students in Massachusetts public schools. Specifically, we want to better understand what qualities make a school district more likely to have higher rates of students who go on to attend college or university. \n",
    "\n",
    "Our first objective is to better understand the correlation between school district characteristics and access to higher education within that district. We also sought to compare several supervised machine learning regression models on the data to predict the percentage of students in a district who will attend higher education.\n",
    "\n",
    "**Significance of the Problem**\n",
    "\n",
    "Access to higher education is foundational in creating a more equitable society, something our group is quite passionate about. Having a college degree means you have access to a larger number of high-paying jobs and potentially will have a higher quality of life. At the same time, not every public school district is created equal. For example, some may have more funding, better teachers or different disciplinary policies, which could affect students’ likelihood to go to college. \n",
    "\n",
    "The insights from this project can be useful for decision makers who are trying to better equip school districts to send students on to higher education. If these decision makers understand the characteristics that most impact access to higher education, they can form regulations and distribute resources in a way most likely to create more equitable public education systems across the state.\n",
    "\n",
    "**Research Questions**\n",
    "\n",
    "Given the aforementioned problem and its importance, we set out to tackle the following questions:\n",
    "\n",
    "Question about relationship between features: Will similar features have the same impact on the accuracy predictions for the regression models we use?\n",
    "   * **Hypothesis between features:**\n",
    "   * Hypothesis 1: \n",
    "       * Null: There is no correlation between the 'Students Disciplined %' and 'High Needs %' features on the target variable (percent of students attending college or university). \n",
    "       * Alternative: There is a correlation between the 'Students Disciplined %' and 'High Needs %' features on the target variable (percent of students attending college or university). \n",
    "   \n",
    "\n",
    "   * **Hypothesis between features:**\n",
    "   * Hypothesis 2:\n",
    "       * Null: There is no correlation between the 'Students Disciplined %' and 'Test Taker %' features on the target variable (percent of students attending college or university). \n",
    "       * Alternative: There is a correlation between the 'Students Disciplined %' and 'Test Taker %' features on the target variable (percent of students attending college or university). \n",
    "   \n",
    "Question about machine learning algorithms: Which supervised machine learning algorithms will be the most useful and accurate for predicting the percent of students that end up attending college or university? We expect the Ridge regression model to produce a higher accuracy than the other machine learning algorithms, because we believe most of the features in our data will be important in determining the portion of students in a district attending higher education. In part, we expect Ridge to be the best model because we can tune it using the alpha parameter.  \n",
    "   * **Hypothesis about machine learning algorithms**:\n",
    "   * Hypothesis 3:\n",
    "       * Null: There will be no significant difference between the accuracy predictions of any of the regression models that we use.\n",
    "       * Alternative: Out of all of the regressions that we use, the Ridge  regression model will have the highest accuracy."
   ]
  },
  {
   "cell_type": "markdown",
   "metadata": {},
   "source": [
    "<a id=\"2\"></a>\n",
    "<hr style=\"height:2px; border:none; color:black; background-color:black;\">"
   ]
  },
  {
   "cell_type": "markdown",
   "metadata": {},
   "source": [
    "## 2. METHOD"
   ]
  },
  {
   "cell_type": "markdown",
   "metadata": {},
   "source": [
    "### 2.1. Data Acquisition"
   ]
  },
  {
   "cell_type": "markdown",
   "metadata": {},
   "source": [
    "   We obtained our data from the website for the Massachusetts Department of Education. Mass DoE creates detailed state reports of school district data, concerning topics such as student enrollment and educator data. The link to the original source is here: \n",
    "    https://profiles.doe.mass.edu/state_report/\n",
    "    \n",
    "   We chose to use data over five school years (Fall 2013 - Spring 2018) in order to give our machine learning model as much data as possible. We chose to use eight different state reports for each year. Each school district has a unique district code, which is used as the identifier in each report, allowing us to merge these Excel files together on these unique codes. \n",
    "   \n",
    "   Each state report contained many different columns, so we picked columns that we felt would be the most relevant. We also did have to drop some columns due to the availability of what was recorded each year.\n",
    "   \n",
    "   The resulting dataset has 1,174 rows and 31 columns. We later selected eight columns (seven features plus our target) that we wanted to work with for the machine learning portion of the project. This is because we removed the variables that were directly correlated with other variables, in order to reduce repetition in our data. We discuss dropped columns later on in more detail. \n",
    "\n",
    "   #### Reports Chosen and Columns Used\n",
    "   - <a href = https://profiles.doe.mass.edu/statereport/gradsattendingcollege.aspx>Grads Attending Higher Ed</a>: \n",
    "       - Attending College/University (%) (this is the **outcome**): The percentage of high school graduates attending an institution of higher education. The types include private two-year, private four-year, public two-year, and public four year institutions.\n",
    "   - <a href= https://profiles.doe.mass.edu/statereport/enrollmentbyracegender.aspx>Enrollment by Race/Gender</a>: \n",
    "       - Races/Ethnicity (%) (including African-American, Asian, Hispanic, White, Native American, Native American/Pacific Islander, Multi-Race/Non-Hispanic) \n",
    "       - Gender (%) (only Males and Females) *DOE only added non-binary 2018-19 :(((* \n",
    "   - <a href = https://profiles.doe.mass.edu/statereport/selectedpopulations.aspx>Selected Populations</a>: \n",
    "       - First Language Not English (%): The percent of students in the district this year whose first language is a language other than English \n",
    "       - English Language Learner (%): The percent of students in the district this year who are English learners, defined as \"a student whose first language is a language other than English who is unable to perform ordinary classroom work in English.”\n",
    "       - Students With Disabilities (%): The percent of students in the district this year who have an Individualized Education Program (IEP)\n",
    "       - High Needs (%): The percent of students in the district this year who are designated as either low income (prior to School Year 2015), economically disadvantaged (starting in School Year 2015), or ELL, or former ELL, or a student with disabilities\n",
    "   - <a href= https://profiles.doe.mass.edu/statereport/teachersalaries.aspx>Teacher Salaries</a>: \n",
    "       - Salary Totals (\\$): The total of teacher salaries for the district this year\n",
    "       - Average Salary (\\$): The average of teacher salaries for the district this year determined as the Salary Totals divided by the number of full-time equivalent teachers\n",
    "       - Full Time Equivalent (FTE) count (#): The count of full-time equivalent teachers for the district this year\n",
    "   - <a href= https://profiles.doe.mass.edu/statereport/ppx.aspx>Per Pupil Expenditures</a>:  \n",
    "       - In-District Expenditures (\\$): All of the district’s operating expenditures for in-district programs this year\n",
    "       - In-District Expenditures per Pupil (\\$): The total in-district expenditures divided by in-district FTE average membership for this year \n",
    "       - Total Expenditures (\\$): All of the district’s operating expenditures for in-district programs and out-of-district placements\n",
    "       - Total Expenditures per Pupil (\\$): The total expenditures divided by total FTE average membership for the district in this year\n",
    "       - Total In-district FTEs (#): The average count of enrollment across this school year, for pupils enrolled at local schools in the district \n",
    "       - Total Pupil FTEs (#): The average count of enrollment across this school year for students enrolled at local schools in the district and those publicly-funded students enrolled at other districts, including charter schools, special education collaboratives, and private special education schools\n",
    "   - <a href= https://profiles.doe.mass.edu/statereport/ssdr.aspx>Student Discipline Data</a>: \n",
    "       - Students (#): The count of students in the district this year\n",
    "       - Students Diciplined (#): The count of students disciplined in the district this year\n",
    "       - In-School Suspension (%): The percent of students disciplined with an in-school suspension \n",
    "       - Out-of-School Suspension (%): The percent of students disciplined with an out-of-school suspension\n",
    "       - Expulsion (%): The percent of students disciplined with an expulsion\n",
    "       - Removed to Alternate Setting (%): The percent of students disciplined with a removal to an alternate setting\n",
    "   - <a href=https://profiles.doe.mass.edu/statereport/ap_part.aspx>Advanced Placement Participation</a>: \n",
    "       - Tests Takers (#): Number of students who took at least one AP test\n",
    "   - <a href=https://profiles.doe.mass.edu/statereport/ap.aspx>Advanced Placement Performance</a>: \n",
    "       - %Score 3-5 (%): Percent of students with passing AP scores"
   ]
  },
  {
   "cell_type": "code",
   "execution_count": 1,
   "metadata": {},
   "outputs": [],
   "source": [
    "import pandas as pd\n",
    "\n",
    "# read in the CSV file from github\n",
    "df = pd.read_csv(\"https://raw.githubusercontent.com/abbycarr/MA-education-machine-learning/main/Database%20Compliling%20Files/education_dataset_new.csv\")"
   ]
  },
  {
   "cell_type": "code",
   "execution_count": 2,
   "metadata": {},
   "outputs": [
    {
     "data": {
      "text/html": [
       "<div>\n",
       "<style scoped>\n",
       "    .dataframe tbody tr th:only-of-type {\n",
       "        vertical-align: middle;\n",
       "    }\n",
       "\n",
       "    .dataframe tbody tr th {\n",
       "        vertical-align: top;\n",
       "    }\n",
       "\n",
       "    .dataframe thead th {\n",
       "        text-align: right;\n",
       "    }\n",
       "</style>\n",
       "<table border=\"1\" class=\"dataframe\">\n",
       "  <thead>\n",
       "    <tr style=\"text-align: right;\">\n",
       "      <th></th>\n",
       "      <th>Attending Coll./Univ. (%)</th>\n",
       "      <th>African American</th>\n",
       "      <th>Asian</th>\n",
       "      <th>Hispanic</th>\n",
       "      <th>White</th>\n",
       "      <th>Native American</th>\n",
       "      <th>Native Hawaiian, Pacific Islander</th>\n",
       "      <th>Multi-Race, Non-Hispanic</th>\n",
       "      <th>Males</th>\n",
       "      <th>Females</th>\n",
       "      <th>...</th>\n",
       "      <th>Total Pupil FTEs</th>\n",
       "      <th>Total Expenditures per Pupil</th>\n",
       "      <th>Students</th>\n",
       "      <th>Students Disciplined</th>\n",
       "      <th>% In-School Suspension</th>\n",
       "      <th>% Out-of-School Suspension</th>\n",
       "      <th>% Expulsion</th>\n",
       "      <th>% Removed to Alternate Setting</th>\n",
       "      <th>Tests Takers</th>\n",
       "      <th>% Score 3-5</th>\n",
       "    </tr>\n",
       "  </thead>\n",
       "  <tbody>\n",
       "    <tr>\n",
       "      <th>0</th>\n",
       "      <td>74.0</td>\n",
       "      <td>3.1</td>\n",
       "      <td>2.0</td>\n",
       "      <td>7.9</td>\n",
       "      <td>85.9</td>\n",
       "      <td>0.3</td>\n",
       "      <td>0.1</td>\n",
       "      <td>0.7</td>\n",
       "      <td>50.5</td>\n",
       "      <td>49.5</td>\n",
       "      <td>...</td>\n",
       "      <td>2,139.6</td>\n",
       "      <td>$14,527.10</td>\n",
       "      <td>2,122</td>\n",
       "      <td>75</td>\n",
       "      <td>2.3</td>\n",
       "      <td>1.7</td>\n",
       "      <td>0.0</td>\n",
       "      <td>0.0</td>\n",
       "      <td>79</td>\n",
       "      <td>69.2</td>\n",
       "    </tr>\n",
       "    <tr>\n",
       "      <th>1</th>\n",
       "      <td>91.8</td>\n",
       "      <td>2.3</td>\n",
       "      <td>32.6</td>\n",
       "      <td>4.5</td>\n",
       "      <td>56.1</td>\n",
       "      <td>0.2</td>\n",
       "      <td>0.1</td>\n",
       "      <td>4.2</td>\n",
       "      <td>51.7</td>\n",
       "      <td>48.3</td>\n",
       "      <td>...</td>\n",
       "      <td>5,761.7</td>\n",
       "      <td>$15,697.78</td>\n",
       "      <td>5,726</td>\n",
       "      <td>43</td>\n",
       "      <td>0.3</td>\n",
       "      <td>0.5</td>\n",
       "      <td>0.0</td>\n",
       "      <td>0.0</td>\n",
       "      <td>518</td>\n",
       "      <td>95.3</td>\n",
       "    </tr>\n",
       "    <tr>\n",
       "      <th>2</th>\n",
       "      <td>66.3</td>\n",
       "      <td>4.4</td>\n",
       "      <td>0.9</td>\n",
       "      <td>2.5</td>\n",
       "      <td>90.3</td>\n",
       "      <td>0.2</td>\n",
       "      <td>0.1</td>\n",
       "      <td>1.6</td>\n",
       "      <td>50.5</td>\n",
       "      <td>49.5</td>\n",
       "      <td>...</td>\n",
       "      <td>1,418.1</td>\n",
       "      <td>$14,871.43</td>\n",
       "      <td>1,282</td>\n",
       "      <td>75</td>\n",
       "      <td>4.1</td>\n",
       "      <td>2.7</td>\n",
       "      <td>0.0</td>\n",
       "      <td>0.0</td>\n",
       "      <td>98</td>\n",
       "      <td>33.3</td>\n",
       "    </tr>\n",
       "    <tr>\n",
       "      <th>3</th>\n",
       "      <td>79.3</td>\n",
       "      <td>2.3</td>\n",
       "      <td>3.0</td>\n",
       "      <td>7.8</td>\n",
       "      <td>84.3</td>\n",
       "      <td>0.0</td>\n",
       "      <td>0.1</td>\n",
       "      <td>2.6</td>\n",
       "      <td>52.1</td>\n",
       "      <td>47.9</td>\n",
       "      <td>...</td>\n",
       "      <td>3,955.6</td>\n",
       "      <td>$16,747.21</td>\n",
       "      <td>4,002</td>\n",
       "      <td>104</td>\n",
       "      <td>1.5</td>\n",
       "      <td>1.3</td>\n",
       "      <td>0.0</td>\n",
       "      <td>0.0</td>\n",
       "      <td>231</td>\n",
       "      <td>58.4</td>\n",
       "    </tr>\n",
       "    <tr>\n",
       "      <th>4</th>\n",
       "      <td>83.2</td>\n",
       "      <td>1.6</td>\n",
       "      <td>1.1</td>\n",
       "      <td>7.2</td>\n",
       "      <td>86.2</td>\n",
       "      <td>0.2</td>\n",
       "      <td>0.1</td>\n",
       "      <td>3.5</td>\n",
       "      <td>53.5</td>\n",
       "      <td>46.5</td>\n",
       "      <td>...</td>\n",
       "      <td>2,268.4</td>\n",
       "      <td>$16,455.64</td>\n",
       "      <td>2,227</td>\n",
       "      <td>45</td>\n",
       "      <td>1.4</td>\n",
       "      <td>0.9</td>\n",
       "      <td>0.0</td>\n",
       "      <td>0.0</td>\n",
       "      <td>84</td>\n",
       "      <td>70.1</td>\n",
       "    </tr>\n",
       "  </tbody>\n",
       "</table>\n",
       "<p>5 rows × 31 columns</p>\n",
       "</div>"
      ],
      "text/plain": [
       "   Attending Coll./Univ. (%)  African American  Asian  Hispanic  White  \\\n",
       "0                       74.0               3.1    2.0       7.9   85.9   \n",
       "1                       91.8               2.3   32.6       4.5   56.1   \n",
       "2                       66.3               4.4    0.9       2.5   90.3   \n",
       "3                       79.3               2.3    3.0       7.8   84.3   \n",
       "4                       83.2               1.6    1.1       7.2   86.2   \n",
       "\n",
       "   Native American  Native Hawaiian, Pacific Islander  \\\n",
       "0              0.3                                0.1   \n",
       "1              0.2                                0.1   \n",
       "2              0.2                                0.1   \n",
       "3              0.0                                0.1   \n",
       "4              0.2                                0.1   \n",
       "\n",
       "   Multi-Race, Non-Hispanic  Males  Females  ...    Total Pupil FTEs  \\\n",
       "0                       0.7   50.5     49.5  ...             2,139.6   \n",
       "1                       4.2   51.7     48.3  ...             5,761.7   \n",
       "2                       1.6   50.5     49.5  ...             1,418.1   \n",
       "3                       2.6   52.1     47.9  ...             3,955.6   \n",
       "4                       3.5   53.5     46.5  ...             2,268.4   \n",
       "\n",
       "   Total Expenditures per Pupil  Students  Students Disciplined  \\\n",
       "0                    $14,527.10     2,122                    75   \n",
       "1                    $15,697.78     5,726                    43   \n",
       "2                    $14,871.43     1,282                    75   \n",
       "3                    $16,747.21     4,002                   104   \n",
       "4                    $16,455.64     2,227                    45   \n",
       "\n",
       "  % In-School Suspension % Out-of-School Suspension % Expulsion  \\\n",
       "0                    2.3                        1.7         0.0   \n",
       "1                    0.3                        0.5         0.0   \n",
       "2                    4.1                        2.7         0.0   \n",
       "3                    1.5                        1.3         0.0   \n",
       "4                    1.4                        0.9         0.0   \n",
       "\n",
       "  % Removed to Alternate Setting Tests Takers % Score 3-5  \n",
       "0                            0.0           79        69.2  \n",
       "1                            0.0          518        95.3  \n",
       "2                            0.0           98        33.3  \n",
       "3                            0.0          231        58.4  \n",
       "4                            0.0           84        70.1  \n",
       "\n",
       "[5 rows x 31 columns]"
      ]
     },
     "execution_count": 2,
     "metadata": {},
     "output_type": "execute_result"
    }
   ],
   "source": [
    "df.head()"
   ]
  },
  {
   "cell_type": "markdown",
   "metadata": {},
   "source": [
    "We will also create a copy of the df for analysis purposes. This copy will allow us to analyze some of the columns we drop and change during the data wrangling process"
   ]
  },
  {
   "cell_type": "code",
   "execution_count": 3,
   "metadata": {},
   "outputs": [],
   "source": [
    "df_for_analysis = df"
   ]
  },
  {
   "cell_type": "markdown",
   "metadata": {},
   "source": [
    "### 2.2. Data Analysis\n",
    "\n",
    "Independent (Feature) Variables we chose to use for predictive machine learning models:\n",
    "\n",
    "   * High Needs (%): Percent of students who are low income, economically disadvantaged, ELL, former ELL, or with disabilities. \n",
    "   * Average Salary: Total teaching salaries / # of full time equivalent teachers\n",
    "   * In-District Expenditures per Pupil: Total In-District Expenditures / District's Average Pupil Membership \t\n",
    "   * Total Expenditures per Pupil: Total In-District + Out-of-District Expenditures / District's Average Pupil Membership\n",
    "   * % Score 3-5: Percent of students who received at least one passing grade on an AP test they took\n",
    "   * Students Disciplined (%): Proportion of students who have been disciplined in some way above detention (for example, suspension or expulsion)\n",
    "   * Tests Takers (%): Percent of Students that took an AP test in District / Total Students in District\n",
    "\n",
    "Dependent (Target) Variable\n",
    "\n",
    "   * Attending Coll./Univ. (%): Percent of students who attend higher education after high school\n",
    "    \n",
    "We believe all seven of these feature variables may be important predictors for determining students' available resources and likelihood for attending higher education.    \n",
    "    \n",
    "We are using supervised machine learning regression models. All values in our target and feature variables are continuous, and we are using our feature variables to predict outputs for our target variable. This Machine Learning problem is considered supervised, as we are testing if given inputs will correctly map to provided outputs, based off of a pre-determined training set. Our model is learning to make predictions off of this labeled data. \n",
    "\n",
    "We intend to test the following supervised machine learning regression models to determine which will provide the most accurate predictions given our data. \n",
    "   * Multiple Linear Regression: We chose to use this model because we wanted to account for the possibility that tuning would not be a large factor in the model's success. While this is not a high-dimensional dataset, we believe that the relationships between each of our features and the target could be strong enough to make this a viable model\n",
    "   * Ridge: We chose to test a Ridge model because we wanted an algorithm we could tune, and we suspected that all of our selected features would have some impact on the target. \n",
    "   * Lasso: We chose to test a Lasso model to account for the chance that we were incorrect about all of our features being related to our target variable. If there was a feature that was skewing our predictions, Lasso would be able to remove it completely. \n",
    "   * K-nearest neighbor: We chose to test the K-Nearest Neighbor model on our data because it is the simplest regression model, and we believed there was a chance that districts with similar feature values would have similar target values, making this a suitable model.\n",
    "   * Support Vector Machine: We wanted to test the SVM regressor because it fits potential errors within a certain threshold, being more accurate if many outliers exist within our data.\n",
    "   \n",
    "*Note: We essentially tested all the regressors because we are not certain how the data will behave within the models. We felt it would be very educational to test them all, and we think that each models results will provide interesting insights.*"
   ]
  },
  {
   "cell_type": "markdown",
   "metadata": {},
   "source": [
    "<a id=\"3\"></a>\n",
    "<hr style=\"height:2px; border:none; color:black; background-color:black;\">"
   ]
  },
  {
   "cell_type": "markdown",
   "metadata": {},
   "source": [
    "## 3. RESULTS"
   ]
  },
  {
   "cell_type": "markdown",
   "metadata": {},
   "source": [
    "### 3.1. Data Wrangling"
   ]
  },
  {
   "cell_type": "markdown",
   "metadata": {},
   "source": [
    "#### Cleaning the Data:\n",
    "We first drop Na values, should any of them have remained in the original process of creating the dataframe, and then begin the process of dropping redundant and directly correlated columns."
   ]
  },
  {
   "cell_type": "code",
   "execution_count": 6,
   "metadata": {},
   "outputs": [],
   "source": [
    "# Drop NA values\n",
    "df.dropna(inplace=True);"
   ]
  },
  {
   "cell_type": "markdown",
   "metadata": {},
   "source": [
    "Note: We chose to drop the race columns because we did not want to build racial bias into our machine learning model. However, we did think it would be interesting to use the race data in our data exploration section, as you will see later in the report. We dropped data about gender as well because most schools had a pretty even distribution of males to females, and we didn't think it would be as relevant to or useful for our ML models. "
   ]
  },
  {
   "cell_type": "code",
   "execution_count": 7,
   "metadata": {},
   "outputs": [],
   "source": [
    "# Drop the Gender columns \n",
    "df = df.drop(\"Males\", axis=1)\n",
    "df = df.drop(\"Females\", axis=1)\n",
    "\n",
    "# Drop the Race columns \n",
    "df = df.drop(\"African American\", axis=1)\n",
    "df = df.drop(\"Asian\", axis=1)\n",
    "df = df.drop(\"White\", axis=1)\n",
    "df = df.drop(\"Hispanic\", axis=1)\n",
    "df = df.drop(\"Native American\", axis=1)\n",
    "df = df.drop(\"Native Hawaiian, Pacific Islander\", axis=1)\n",
    "df = df.drop(\"Multi-Race, Non-Hispanic\", axis=1)\n",
    "\n",
    "# Drop columns directly related to High Needs (%)\n",
    "df = df.drop(\"First Language Not English %\", axis=1)\n",
    "df = df.drop(\"English Language Learner %\", axis=1)\n",
    "df = df.drop(\"Students With Disabilities %\", axis=1)\n",
    "\n",
    "# Drop columns directly related to Average Salary\n",
    "df = df.drop(\"Salary Totals\", axis=1)\n",
    "df = df.drop(\"FTE Count\", axis=1)\n",
    "\n",
    "# Drop columns directly related to Expenditures, In-District and Total, per Pupil\n",
    "df = df.drop(\"In-District Expenditures\", axis=1)\n",
    "df = df.drop(\"Total In-district FTEs\", axis=1)\n",
    "df = df.drop(\"Total Expenditures\", axis=1)\n",
    "df = df.drop(\"Total Pupil FTEs\", axis=1)\n",
    "\n",
    "# Drop columns directly related to Students Disciplined (%)\n",
    "df = df.drop(\"% In-School Suspension\", axis=1)\n",
    "df = df.drop(\"% Out-of-School Suspension\", axis=1)\n",
    "df = df.drop(\"% Expulsion\", axis=1)\n",
    "df = df.drop(\"% Removed to Alternate Setting\", axis=1)"
   ]
  },
  {
   "cell_type": "markdown",
   "metadata": {},
   "source": [
    "#### Wrangling the Data:\n",
    "Here we are going to make our data numerical by applying a function that gets rid of excess characters and then applies the pandas function to make the data a numerical value."
   ]
  },
  {
   "cell_type": "code",
   "execution_count": 8,
   "metadata": {},
   "outputs": [],
   "source": [
    "# makes the dataframe numeric\n",
    "def clean_to_numeric(data):\n",
    "    cleaned = data.replace(\",\",\"\",regex=True)\n",
    "    cleaned = cleaned.replace(\"\\$\",\"\",regex=True)\n",
    "    cleaned = cleaned.replace(\" \",\"\",regex=True)\n",
    "    cleaned = pd.to_numeric(cleaned)\n",
    "    return cleaned\n",
    "\n",
    "# clean the dataframe of non-numeric characters\n",
    "df = df.apply(clean_to_numeric)"
   ]
  },
  {
   "cell_type": "markdown",
   "metadata": {},
   "source": [
    "We are going to clean our analysis-only dataset as well"
   ]
  },
  {
   "cell_type": "code",
   "execution_count": 9,
   "metadata": {},
   "outputs": [],
   "source": [
    "# clean and save the dataframe without dropped columns so we can use it for data exploration later\n",
    "df_for_analysis = df_for_analysis.apply(clean_to_numeric)"
   ]
  },
  {
   "cell_type": "markdown",
   "metadata": {},
   "source": [
    "#### Feature Extraction:\n",
    "Our dataframe currently contains three columns that contain a count of students: Students, Tests Takes, and Students Disciplined. These counts will not have significance when comparing the school districts so instead we will use these three values to create two new columns: Students Disciplined (%) and Tests Takers (%)."
   ]
  },
  {
   "cell_type": "code",
   "execution_count": 10,
   "metadata": {},
   "outputs": [],
   "source": [
    "# Transform 'Students' and 'Students Disciplined' to 'Students Disciplined (%)'\n",
    "df[\"Students Disciplined (%)\"] = df[\"Students Disciplined\"] / df[\"Students\"]\n",
    "\n",
    "# Transform 'Students' and 'Tests Takers' to 'Tests Takers (%)'\n",
    "df[\"Tests Takers (%)\"] = df[\"Tests Takers\"] / df[\"Students\"]\n",
    "\n",
    "# Drop 'Students', 'Students Disciplined', and 'Tests Takers'\n",
    "df = df.drop(\"Students\",axis = 1)\n",
    "df = df.drop(\"Students Disciplined\",axis = 1)\n",
    "df = df.drop(\"Tests Takers\",axis = 1)"
   ]
  },
  {
   "cell_type": "markdown",
   "metadata": {},
   "source": [
   ]
  },
  {
   "cell_type": "code",
   "execution_count": 11,
   "metadata": {},
   "outputs": [],
   "source": [
    "# Transform 'Attending Coll./Univ. (%)' using logarithmic function \n",
   ]
  },
  {
   "cell_type": "markdown",
   "metadata": {},
   "source": [
    "#### Splitting the dataframe into Features and Target:"
   ]
  },
  {
   "cell_type": "code",
   "execution_count": 12,
   "metadata": {},
   "outputs": [
    {
     "data": {
      "text/html": [
       "<div>\n",
       "<style scoped>\n",
       "    .dataframe tbody tr th:only-of-type {\n",
       "        vertical-align: middle;\n",
       "    }\n",
       "\n",
       "    .dataframe tbody tr th {\n",
       "        vertical-align: top;\n",
       "    }\n",
       "\n",
       "    .dataframe thead th {\n",
       "        text-align: right;\n",
       "    }\n",
       "</style>\n",
       "<table border=\"1\" class=\"dataframe\">\n",
       "  <thead>\n",
       "    <tr style=\"text-align: right;\">\n",
       "      <th></th>\n",
       "      <th>High Needs %</th>\n",
       "      <th>Average Salary</th>\n",
       "      <th>In-District Expenditures per Pupil</th>\n",
       "      <th>Total Expenditures per Pupil</th>\n",
       "      <th>% Score 3-5</th>\n",
       "      <th>Students Disciplined (%)</th>\n",
       "      <th>Tests Takers (%)</th>\n",
       "    </tr>\n",
       "  </thead>\n",
       "  <tbody>\n",
       "    <tr>\n",
       "      <th>0</th>\n",
       "      <td>35.5</td>\n",
       "      <td>85917</td>\n",
       "      <td>13461.03</td>\n",
       "      <td>14527.10</td>\n",
       "      <td>69.2</td>\n",
       "      <td>0.035344</td>\n",
       "      <td>0.037229</td>\n",
       "    </tr>\n",
       "    <tr>\n",
       "      <th>1</th>\n",
       "      <td>24.9</td>\n",
       "      <td>84822</td>\n",
       "      <td>14382.42</td>\n",
       "      <td>15697.78</td>\n",
       "      <td>95.3</td>\n",
       "      <td>0.007510</td>\n",
       "      <td>0.090465</td>\n",
       "    </tr>\n",
       "    <tr>\n",
       "      <th>2</th>\n",
       "      <td>57.9</td>\n",
       "      <td>82426</td>\n",
       "      <td>15721.64</td>\n",
       "      <td>14871.43</td>\n",
       "      <td>33.3</td>\n",
       "      <td>0.058502</td>\n",
       "      <td>0.076443</td>\n",
       "    </tr>\n",
       "    <tr>\n",
       "      <th>3</th>\n",
       "      <td>41.9</td>\n",
       "      <td>74116</td>\n",
       "      <td>15902.26</td>\n",
       "      <td>16747.21</td>\n",
       "      <td>58.4</td>\n",
       "      <td>0.025987</td>\n",
       "      <td>0.057721</td>\n",
       "    </tr>\n",
       "    <tr>\n",
       "      <th>4</th>\n",
       "      <td>36.7</td>\n",
       "      <td>76770</td>\n",
       "      <td>15644.74</td>\n",
       "      <td>16455.64</td>\n",
       "      <td>70.1</td>\n",
       "      <td>0.020207</td>\n",
       "      <td>0.037719</td>\n",
       "    </tr>\n",
       "  </tbody>\n",
       "</table>\n",
       "</div>"
      ],
      "text/plain": [
       "   High Needs %  Average Salary  In-District Expenditures per Pupil  \\\n",
       "0          35.5           85917                            13461.03   \n",
       "1          24.9           84822                            14382.42   \n",
       "2          57.9           82426                            15721.64   \n",
       "3          41.9           74116                            15902.26   \n",
       "4          36.7           76770                            15644.74   \n",
       "\n",
       "   Total Expenditures per Pupil  % Score 3-5  Students Disciplined (%)  \\\n",
       "0                      14527.10         69.2                  0.035344   \n",
       "1                      15697.78         95.3                  0.007510   \n",
       "2                      14871.43         33.3                  0.058502   \n",
       "3                      16747.21         58.4                  0.025987   \n",
       "4                      16455.64         70.1                  0.020207   \n",
       "\n",
       "   Tests Takers (%)  \n",
       "0          0.037229  \n",
       "1          0.090465  \n",
       "2          0.076443  \n",
       "3          0.057721  \n",
       "4          0.037719  "
      ]
     },
     "execution_count": 12,
     "metadata": {},
     "output_type": "execute_result"
    }
   ],
   "source": [
    "# Drop the target column\n",
    "features = df.drop(\"Attending Coll./Univ. (%)\",axis=1)\n",
    "features.head()"
   ]
  },
  {
   "cell_type": "code",
   "metadata": {},
   "outputs": [
    {
     "data": {
      "text/plain": [
       "Name: Attending Coll./Univ. (%), dtype: float64"
      ]
     },
     "metadata": {},
     "output_type": "execute_result"
    }
   ],
   "source": [
    "target = df[\"Attending Coll./Univ. (%)\"]\n",
    "target.head()"
   ]
  },
  {
   "cell_type": "markdown",
   "metadata": {},
   "source": [
    "#### Test and Training Splitting:"
   ]
  },
  {
   "cell_type": "code",
   "metadata": {},
   "outputs": [],
   "source": [
    "# Splitting into testing and training sets\n",
    "from sklearn.model_selection import train_test_split\n",
    "X_train, X_test, y_train, y_test = train_test_split(features, target, random_state=3000)"
   ]
  },
  {
   "cell_type": "markdown",
   "metadata": {},
   "source": [
    "#### Preprocessing the data:\n",
    "We are going to use MinMaxScalar to scale our data."
   ]
  },
  {
   "cell_type": "code",
   "metadata": {},
   "outputs": [],
   "source": [
    "#create the scaler\n",
    "from sklearn.preprocessing import MinMaxScaler\n",
    "scaler = MinMaxScaler()\n",
    "\n",
    "#fit the scaler to the training data(features only)\n",
    "scaler.fit(X_train) \n",
    "\n",
    "#transform X_train and X_test based on the (same) scaler\n",
    "X_train_scaled = scaler.transform(X_train) \n",
    "X_test_scaled = scaler.transform(X_test) "
   ]
  },
  {
   "cell_type": "markdown",
   "metadata": {},
   "source": [
    "#### Feature Selection:\n",
    "We are running the RFE on our scaled data to select the most important features. Fine tuning by hand allowed us to choose 5 features as the amount to reduce our features to."
   ]
  },
  {
   "cell_type": "code",
   "metadata": {},
   "outputs": [
    {
     "name": "stdout",
     "output_type": "stream",
     "text": [
      "Original results:\n",
      "\n",
      "With selected features:\n",
     ]
    }
   ],
   "source": [
    "from sklearn.feature_selection import RFE\n",
    "from sklearn.tree import DecisionTreeRegressor\n",
    "from sklearn.linear_model import LinearRegression\n",
    "from sklearn.metrics import r2_score, mean_squared_error\n",
    "\n",
    "# create the RFE selector\n",
    "select = RFE(DecisionTreeRegressor(random_state = 3000),n_features_to_select = 5)\n",
    "\n",
    "#fit the RFE selector to the training data\n",
    "select.fit(X_train_scaled, y_train)\n",
    "\n",
    "#transform training and testing sets so only the selected features are retained\n",
    "X_train_selected = select.transform(X_train_scaled)\n",
    "X_test_selected = select.transform(X_test_scaled)\n",
    "\n",
    "model = LinearRegression().fit(X=X_train_scaled, y=y_train)\n",
    "\n",
    "# Original Results\n",
    "print(\"Original results:\")\n",
    "# R2 values\n",
    "print(\"\\tR-squared value for training set:\", r2_score(y_train, model.predict(X_train_scaled)))\n",
    "print(\"\\tR-squared value for testing set:\", r2_score(y_test, model.predict(X_test_scaled)))\n",
    "# MSE values\n",
    "print(\"\\tMean squared error value for training set:\", mean_squared_error(y_train, model.predict(X_train_scaled)))\n",
    "print(\"\\tMean squared error value for testing set:\", mean_squared_error(y_test, model.predict(X_test_scaled)),\"\\n\")\n",
    "\n",
    "\n",
    "model = LinearRegression().fit(X=X_train_selected, y=y_train)\n",
    "\n",
    "# Selected Results\n",
    "print(\"With selected features:\")\n",
    "# R2 values\n",
    "print(\"\\tR-squared value for training set:\", r2_score(y_train, model.predict(X_train_selected)))\n",
    "print(\"\\tR-squared value for testing set:\", r2_score(y_test, model.predict(X_test_selected)))\n",
    "# MSE values\n",
    "print(\"\\tMean squared error value for training set:\", mean_squared_error(y_train, model.predict(X_train_selected)))\n",
    "print(\"\\tMean squared error value for testing set:\", mean_squared_error(y_test, model.predict(X_test_selected)))"
   ]
  },
  {
   "cell_type": "code",
   "metadata": {},
   "outputs": [
    {
     "name": "stdout",
     "output_type": "stream",
     "text": [
      "Selected Features:\n",
      "\tHigh Needs %\n",
      "\tTotal Expenditures per Pupil\n",
      "\t% Score 3-5\n",
      "\tStudents Disciplined (%)\n",
      "\tTests Takers (%)\n"
     ]
    }
   ],
   "source": [
    "# Output the chosen features\n",
    "print(\"Selected Features:\")\n",
    "\n",
    "bool_chosen = select.get_support()\n",
    "for i in range(0,len(features.columns)):\n",
    "    if bool_chosen[i]:\n",
    "        print(\"\\t\" + features.columns[i])"
   ]
  },
  {
   "cell_type": "markdown",
   "metadata": {},
   "source": [
    "### 3.2. Data Exploration"
   ]
  },
  {
   "cell_type": "markdown",
   "metadata": {},
   "source": [
    "### Visualization 1"
   ]
  },
  {
   "cell_type": "markdown",
   "metadata": {},
   "source": [
    "For our first visualization, we wanted to see how the variables we saved to use for ML correlated with one another. To do so, we chose to create a heatmap."
   ]
  },
  {
   "cell_type": "code",
   "metadata": {
    "scrolled": true
   },
   "outputs": [
    {
     "data": {
      "text/plain": [
       "<Figure size 576x576 with 2 Axes>"
      ]
     },
     "metadata": {
      "needs_background": "light"
     },
     "output_type": "display_data"
    }
   ],
   "source": [
    "# Display a heatmap showing the correlation between variables\n",
    "import matplotlib.pyplot as plt\n",
    "import seaborn as sns\n",
    "\n",
    "# create a new figure\n",
    "plt.figure(figsize=(8, 8))\n",
    "# create a heatmap with our df\n",
    "ax = sns.heatmap(df.corr(), square=True, annot=True, cmap=\"Blues\")\n",
    "# add a title and format\n",
    "ax.set_title('Correlations for each variable', fontsize = 29, pad = 20)\n",
    "plt.subplots_adjust(bottom=0.28)\n",
    "plt.show()"
   ]
  },
  {
   "cell_type": "markdown",
   "metadata": {},
   "source": [
    "In this heatmap, we can see a variety of important correlations. First, our target variable (Attending Coll/Univ (%)) has a relatively high positive correlation with the percentage of AP test takers who earned a score between 3 and 5. There is a relatively high negative correlation between our target variable and the % of High Needs students in a district, as well as between the target variable and percent of students disciplined in a district. Our target value had moderate correlation with the rest of our feature variables, with the lowest correlation found with Average Salary. We did not expect this last conclusion, given our assumption that better paid teachers would be more likely to prepare and encourage their students to attend higher education.\n",
    "\n",
    "Another interesting observation is the high positive correlation between the percentage of High Needs students in a district and percentage of Students Disciplined. There is an extremely high positive correlation between Total Expenditures per Student and In-District Expenditures per Pupil. We suspected this may be the case, as the variables reflect similar funding data, and it solidified our decision not to use both in a machine learning model, as they would be repetitive."
   ]
  },
  {
   "cell_type": "markdown",
   "metadata": {},
   "source": [
    "### Visualization 2"
   ]
  },
  {
   "cell_type": "markdown",
   "metadata": {},
   "source": [
    "Given that the following three variables (% Score 3-5, High Needs %, and Students Disciplined (%)) were the most correlated with our target variable, we wanted to dive deeper into the distribution of this data one by one, in descending order of how high the variable's correlation with the target is. "
   ]
  },
  {
   "cell_type": "code",
   "metadata": {},
   "outputs": [
    {
     "data": {
      "text/plain": [
      ]
     },
     "metadata": {},
     "output_type": "execute_result"
    },
    {
     "data": {
      "text/plain": [
       "<Figure size 432x288 with 1 Axes>"
      ]
     },
     "metadata": {
      "needs_background": "light"
     },
     "output_type": "display_data"
    }
   ],
   "source": [
    "sns.scatterplot(data=df, x=\"% Score 3-5\", y=\"Attending Coll./Univ. (%)\")"
   ]
  },
  {
   "cell_type": "markdown",
   "metadata": {},
   "source": [
    "By looking at the above scatterplot, it can be discerned that districts where larger portions of students got higher AP test scores had higher rates of students attending higher education. Given that AP courses are typically taught at the same level as college courses, they are often used by universities as a metric of a student's preparedness for college-level material. This correlation was in line with our expectations."
   ]
  },
  {
   "cell_type": "code",
   "metadata": {
    "scrolled": true
   },
   "outputs": [
    {
     "data": {
      "text/plain": [
      ]
     },
     "metadata": {},
     "output_type": "execute_result"
    },
    {
     "data": {
      "text/plain": [
       "<Figure size 432x288 with 1 Axes>"
      ]
     },
     "metadata": {
      "needs_background": "light"
     },
     "output_type": "display_data"
    }
   ],
   "source": [
    "sns.scatterplot(data=df, x=\"High Needs %\", y=\"Attending Coll./Univ. (%)\")"
   ]
  },
  {
   "cell_type": "markdown",
   "metadata": {},
   "source": [
    "In the above scatterplot, it is clear that higher proportions of High Needs students in a district are correlated with lower higher education attendance rates. This could be for various reasons, one of them being that high needs students often struggle in school and are less likely to have the ability or desire to attend higher ed. Given that, this correlation didn't surprise us much either. "
   ]
  },
  {
   "cell_type": "code",
   "metadata": {
    "scrolled": true
   },
   "outputs": [
    {
     "data": {
      "text/plain": [
      ]
     },
     "metadata": {},
     "output_type": "execute_result"
    },
    {
     "data": {
      "text/plain": [
       "<Figure size 432x288 with 1 Axes>"
      ]
     },
     "metadata": {
      "needs_background": "light"
     },
     "output_type": "display_data"
    }
   ],
   "source": [
    "sns.scatterplot(data=df, x=\"Students Disciplined (%)\", y=\"Attending Coll./Univ. (%)\")"
   ]
  },
  {
   "cell_type": "markdown",
   "metadata": {},
   "source": [
    "In our last correlation plot above, we see that there is an (admittedly less stark) negative correlation between the portion of students disciplined and higher education rate. Students in districts where more disciplinary action is taken seem to be less likely to attend higher education. Perhaps this is because their disciplinary record makes it more difficult for them to get into college, or maybe it is because they have had poor experiences with education and do not have a desire to attend more school. "
   ]
  },
  {
   "cell_type": "markdown",
   "metadata": {},
   "source": [
    "### Visualization 3"
   ]
  },
  {
   "cell_type": "markdown",
   "metadata": {},
   "source": [
    "In addition to analyzing access to higher education, we wanted to better understand the relationship between race and the rate of students disciplined. There is a lot of discussion in the educational community about how Black and Brown students are disciplined more often and harshly than White students, and we wanted to see if our data reflected that. \n",
    "\n",
    "As written by the <a href='https://ra.nea.org/business-item/2016-pol-e01-2/#:~:text=School%2Dto%2DPrison%20Pipeline%20means,and%20surveillance%20that%20create%20prison%2D'>National Education Association</a>: \"The school-to-prison pipeline disproportionately places students of color, including those who identify as LGBTQ, have disabilities, and/or are English Language Learners, into the criminal justice system for minor school infractions and disciplinary matters, subjecting them to harsher punishments than their white peers for the same behaviors. The school-to-prison pipeline diminishes their educational opportunities and life trajectories.\"\n",
    "\n",
    "Below is a heatmap that represents the correlation between racial makeup of a school, percentage of students disciplined, and percentage of students who attend college or university. "
   ]
  },
  {
   "cell_type": "code",
   "metadata": {},
   "outputs": [
    {
     "data": {
      "image/png": "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\n",
      "text/plain": [
       "<Figure size 576x576 with 2 Axes>"
      ]
     },
     "metadata": {
      "needs_background": "light"
     },
     "output_type": "display_data"
    }
   ],
   "source": [
    "df_for_analysis[\"Students Disciplined (%)\"] = df_for_analysis[\"Students Disciplined\"] / df_for_analysis[\"Students\"]\n",
    "df_for_analysis[\"Tests Takers (%)\"] = df_for_analysis[\"Tests Takers\"] / df_for_analysis[\"Students\"]\n",
    "\n",
    "# make a smaller df to base this heatmap off of\n",
    "race_disc_df = df_for_analysis[[\"White\", \"Asian\", \"African American\", \"Hispanic\", \"Students Disciplined (%)\", \"Attending Coll./Univ. (%)\"]]\n",
    "\n",
    "# create figure\n",
    "plt.figure(figsize=(8, 8))\n",
    "# make heatmap\n",
    "ax = sns.heatmap(race_disc_df.corr(), square=True, annot=True, cmap=\"Greens\")\n",
    "#add title and format\n",
    "ax.set_title('Correlation between race and discipline', fontsize = 29, pad = 20)\n",
    "plt.subplots_adjust(bottom=0.28)\n",
    "plt.show()\n"
   ]
  },
  {
   "cell_type": "markdown",
   "metadata": {},
   "source": [
    "While this heatmap doesn't show a drastically high positive correlation between percentage of students disciplined and percentage of Black and Brown students in a district, it certainly shows some positive correlation. Districts with higher proportions of White and Asian students are shown here to be likely to have lower percentages of students disciplined and higher percentages of students who attend college or university. Conversely, districts with higher proportions of African American and Hispanic students were likely to see higher disciplinary rates and lower rates of students attending college or university. "
   ]
  },
  {
   "cell_type": "markdown",
   "metadata": {},
   "source": [
    "## 3.3. Model Construction"
   ]
  },
  {
   "cell_type": "markdown",
   "metadata": {},
   "source": [
    "#### Defining the Estimators\n",
    "\n",
    "We will be applying the Multiple Linear Regression, Ridge, Lasso, k-Nearest Neighbor, and Support Vector Machine algorithms. Below we are building a dictionary of them for later use."
   ]
  },
  {
   "cell_type": "code",
   "metadata": {},
   "outputs": [],
   "source": [
    "from sklearn.linear_model import Ridge\n",
    "from sklearn.linear_model import Lasso\n",
    "from sklearn.neighbors import KNeighborsRegressor\n",
    "from sklearn.svm import LinearSVR\n",
    "\n",
    "\n",
    "estimators = {'Multiple Linear Regression': LinearRegression(), 'Ridge': Ridge(), 'Lasso': Lasso(), \n",
    "              'k-Nearest Neighbor': KNeighborsRegressor(), 'Support Vector Machine': LinearSVR(max_iter = 1000000)}"
   ]
  },
  {
   "cell_type": "markdown",
   "metadata": {},
   "source": [
    "#### Training the Models\n",
    "The training_models function fits the selected data from 3.1 to every model in a dictionary to train the models."
   ]
  },
  {
   "cell_type": "code",
   "metadata": {},
   "outputs": [],
   "source": [
    "def training_models(models_dict):\n",
    "    \"\"\"Takes in a dictionary of models and fits the selected data to each of them. Returns\n",
    "    a dictionary of the fitted models.\"\"\"\n",
    "    trained_models = {}\n",
    "\n",
    "    # for each model in the given dictionary of models\n",
    "    for name in models_dict:\n",
    "        # fit the selected data to the model\n",
    "        model = models_dict[name].fit(X=X_train_selected, y=y_train)\n",
    "        # store the fitted model\n",
    "        trained_models[name] = model\n",
    "        \n",
    "    return trained_models"
   ]
  },
  {
   "cell_type": "code",
   "metadata": {},
   "outputs": [],
   "source": [
    "trained_models = training_models(estimators)"
   ]
  },
  {
   "cell_type": "markdown",
   "metadata": {},
   "source": [
    "#### One-way ANOVA/Hypothesis Testing"
   ]
  },
  {
   "cell_type": "code",
   "metadata": {},
   "outputs": [],
   "source": [
    "df_anova = df.copy()\n",
    "df_anova['High Needs %'] = df_anova['High Needs %'] / 100"
   ]
  },
  {
   "cell_type": "code",
   "metadata": {},
   "outputs": [],
   "source": [
    "#ANOVA function to tests hypotheses 1 and 2\n",
    "from scipy import stats\n",
    "\n",
    "def get_onewayANOVA(df, feature1, feature2):\n",
    "    \n",
    "    df1 = 1\n",
    "    df2 = len(feature1)-1\n",
    "    \n",
    "    f_results = stats.f_oneway(df[feature1], df[feature2])\n",
    "\n",
    "    f_stat = format(f_results[0],\".02f\") #pulls/formats f stat from one way\n",
    "    p_val = format(f_results[1], \".04f\") #pulls/formats p val from one way\n",
    "    \n",
    "    print(\"F(%s,%s) = %s, p = %s\" % (df1, df2, f_stat, p_val)) #ftest report\n",
    "    \n",
    "    \n",
    "    descr1 = df[feature1].agg([\"mean\", \"sem\"])\n",
    "    print(feature1, \"mean:\", round(descr1[0],100), \"\\nMSE:\", round(descr1[1],4))\n",
    "    descr2 = df[feature2].agg([\"mean\", \"sem\"])\n",
    "    \n",
    "    print(feature2, \"mean:\", round(descr2[0],100), \"\\nMSE:\", round(descr2[1],4))"
   ]
  },
  {
   "cell_type": "markdown",
   "metadata": {},
   "source": [
    "Testing hypothesis 1: Running an ANOVA between Students Disciplined (%) and High Needs (%)"
   ]
  },
  {
   "cell_type": "code",
   "metadata": {},
   "outputs": [
    {
     "name": "stdout",
     "output_type": "stream",
     "text": [
      "F(1,23) = 6715.07, p = 0.0000\n",
      "Students Disciplined (%) mean: 0.036821062387797594 \n",
      "MSE: 0.0009\n",
      "High Needs % mean: 37.57666098807489 \n",
      "MSE: 0.4581\n"
     ]
    }
   ],
   "source": [
    "get_onewayANOVA(df, 'Students Disciplined (%)', 'High Needs %')"
   ]
  },
  {
   "cell_type": "markdown",
   "metadata": {},
   "source": [
    "Testing hypothesis 2: Running an ANOVA between Students Disciplined (%) and Tests Takers (%)"
   ]
  },
  {
   "cell_type": "code",
   "metadata": {},
   "outputs": [
    {
     "name": "stdout",
     "output_type": "stream",
     "text": [
      "F(1,23) = 361.28, p = 0.0000\n",
      "Students Disciplined (%) mean: 0.036821062387797594 \n",
      "MSE: 0.0009\n",
      "Tests Takers (%) mean: 0.06346464893905682 \n",
      "MSE: 0.0011\n"
     ]
    }
   ],
   "source": [
    "get_onewayANOVA(df, 'Students Disciplined (%)', 'Tests Takers (%)')"
   ]
  },
  {
   "cell_type": "markdown",
   "metadata": {},
   "source": [
    "## 3.4. Model Evaluation"
   ]
  },
  {
   "cell_type": "markdown",
   "metadata": {},
   "source": [
    "#### Evaluation Metrics\n",
    "In the below section, we are going to find the performance of the trained models on two appropriate evaluation metrics.\n",
    "\n",
    "The two metrics:\n",
    "1. **R-squared value**: This metric is the coefficient determination. It ranges from 1.0, meaning the model perfectly predicts the DV's value given IV values, to 0.0, meaning the model cannot make predictions with any accuracy.\n",
    "2. **Mean squared error value**: This metric is the average of the square of errors where the error is the difference between the observed and predicted values. This value ranges from 1.0 to 0.0 and the closer the value is to 0.0, the closer the fit is to the data."
   ]
  },
  {
   "cell_type": "code",
   "metadata": {},
   "outputs": [],
   "source": [
    "def evaluating_models(models_dict):\n",
    "    \"\"\"Takes in a dictionary of fitted models and outputs a textual overview of each model's\n",
    "    R-squared and MSE value for the training and testing sets.\"\"\"\n",
    "    \n",
    "    # for each model in the given dictionary of fitted models\n",
    "    for name in models_dict:\n",
    "        model = models_dict[name]\n",
    "        print(name + \":\")\n",
    "        # R-squared values\n",
    "        print(\"\\tR-squared value for training set: \", r2_score(y_train, model.predict(X_train_selected)))\n",
    "        print(\"\\tR-squared value for testing set: \", r2_score(y_test, model.predict(X_test_selected)))\n",
    "        # MSE values\n",
    "        print(\"\\tMean squared error value for training set: \", mean_squared_error(y_train, model.predict(X_train_selected)))\n",
    "        print(\"\\tMean squared error value for testing set: \", mean_squared_error(y_test, model.predict(X_test_selected)),\"\\n\")"
   ]
  },
  {
   "cell_type": "markdown",
   "metadata": {},
   "source": [
    "#### Results of the Evaluation Metrics"
   ]
  },
  {
   "cell_type": "code",
   "metadata": {},
   "outputs": [
    {
     "name": "stdout",
     "output_type": "stream",
     "text": [
      "Multiple Linear Regression:\n",
      "\n",
      "Ridge:\n",
      "\n",
      "Lasso:\n",
      "\tR-squared value for training set:  0.0\n",
      "\n",
      "k-Nearest Neighbor:\n",
      "\n",
      "Support Vector Machine:\n",
      "\n"
     ]
    }
   ],
   "source": [
    "evaluating_models(trained_models)"
   ]
  },
  {
   "cell_type": "markdown",
   "metadata": {},
   "source": [
    "**Interpretation:**\n",
    "Three of our five models had similar, positive performances on the testing sets. Below we will discuss our findings with a focus on ranking performance based on the training set values.\n",
    "\n",
    "The k-Nearest Neighbor algorithm scored the best, with a R-squared value of 0.7189 and a Mean Squared Error value of 0.00376. This means that the k-Nearest Neighbors algorithm can account for about 71.89% of the variation in the regression model and has an average squared error of 0.00376. The MSE value specifically indicates that there is a smaller, or often lower, amount of error in the model since this estimator is sensitive to larger error values.\n",
    "\n",
    "Following behind k-Nearest Neighbors, the Multiple Linear Regression and Ridge algorithms have R-squared values of 0.6839 and 0.6849 and Mean Squared Error values of 0.00422 and 0.00421 respectively. Both algorithms had extremely close values and scored close to the top performing algorithm- only about 3% below the R-squared and about .001 above the Mean Squared Error. \n",
    "\n",
    "Just slightly below in performance lies the Support Vector Machine algorithm with an R-squared value of 0.6799 and a Mean Squared Error value of .00427. These scores are still close to our top performing algorithms but, due to the very close values between our second two algorithms, we will not continue with this algorithm.\n",
    "\n",
    "The Lasso Regression had a performance resulting in little to no viable results. While poor performance values can sometimes still be valuable, on our model the Lasso Regression algorithm resulted in an approximately 0 R-squared value with the R-squared value on the training set being actually 0. The Mean Squared Error value follows with the poor score of 0.01336. These results were very significant and showed Lasso Regression was a very poor algorithm for our model."
   ]
  },
  {
   "cell_type": "markdown",
   "metadata": {},
   "source": [
    "We chose to continue with the three top performing algorithms: Multiple Linear Regression, Ridge, and k-Nearest Neighbor. We hope to see how tuning might affect the closeness of scores for the second two performing algorithms and how it might reduce any potential overfitting to the training set by the k-Nearest Neighbors algorithm."
   ]
  },
  {
   "cell_type": "code",
   "metadata": {},
   "outputs": [],
   "source": [
    "chosen_estimators = {'Multiple Linear Regression': LinearRegression(), 'Ridge': Ridge(), 'k-Nearest Neighbor': KNeighborsRegressor()}"
   ]
  },
  {
   "cell_type": "markdown",
   "metadata": {},
   "source": [
    "### 3.5. Model Optimization"
   ]
  },
  {
   "cell_type": "markdown",
   "metadata": {},
   "source": [
    "#### Grid Search Function\n",
    "This function will be used to tune models using the appropriate hyperparameters."
   ]
  },
  {
   "cell_type": "code",
   "metadata": {},
   "outputs": [],
   "source": [
    "from sklearn.model_selection import GridSearchCV\n",
    "\n",
    "def grid_search_params(params, model):\n",
    "    \"\"\"Takes in a single model and parameters to test in order to tune the\n",
    "    given model, using the selected training data from 3.1. Returns the\n",
    "    grid_search model for later use in testing.\"\"\"\n",
    "        \n",
    "    # Grid search with the given parameters and a cross validation amount of 5\n",
    "    # fits to the training data selected in 3.1\n",
    "    grid_search.fit(X=X_train_selected, y=y_train)\n",
    "    \n",
    "    # outputs results\n",
    "    print(\"\\tBest cross-validation score:\", grid_search.best_score_)\n",
    "    \n",
    "    return grid_search"
   ]
  },
  {
   "cell_type": "markdown",
   "metadata": {},
   "source": [
    "#### Creating Params\n",
    "Below is an overview of which parameters we will be tuning and an overview of our motive\n",
    "\n",
    ">**Multiple Linear Regression**:\n",
    ">We are not going to be creating parameters or hypertuning the Multiple Linear Regression model. This tuning for this model mostly depends on needing our data to be normalized, something that was covered when we preprocessed and feature selected our data.\n",
    "\n",
    ">**Ridge**:\n",
    ">We are going to tune the alpha value for our ridge model in order to determine if the model would benefit from reducing either under or overfitting to the data. The alpha value was originally 1 and we are testing values between 0 and 2. An alpha value lower than 1 would avoid overfitting and reduce the model's complexity while an alpha value over 1 would avoid underfitting and increase the model's complexity.\n",
    "\n",
    ">**k-Nearest Neighbor**:\n",
    ">One of the two parameters we are going to hypertune for the model is the metric of the model. The metric of the model is the distance metric used for the tree. The default is minkowski but we will also be trying out euclidean, manhattan, and chebyshev. If one of these other metrics is selected, we will discuss the difference in how the new distance metric works.\n",
    ">\n",
    ">The other parameter we will hypertune is the n_neighbors value. The default for this value is 5. A higher n_neighbors value would avoid overfitting and reduce the model's complexity while a lower n_neighbors value would avoid underfitting and increase the model's complexity."
   ]
  },
  {
   "cell_type": "code",
   "metadata": {},
   "outputs": [],
   "source": [
    "from scipy.stats import uniform\n",
    "# creating 100 alpha values to test from 0 to 2\n",
    "alphas = uniform.rvs(0,2,size=100,random_state=3000)\n",
    "\n",
    "# creating the Ridge parameters\n",
    "ridge_params = {\"alpha\":alphas}\n",
    "\n",
    "# creating the k-Nearest Neighbors parameters\n",
    "kn_params = {\"n_neighbors\":[1,2,3,4,5,6,7,8,9],\n",
    "             \"metric\":[\"euclidean\", \"manhattan\", \"chebyshev\", \"minkowski\"]}"
   ]
  },
  {
   "cell_type": "markdown",
   "metadata": {},
   "source": [
    "#### Model Optimization Results"
   ]
  },
  {
   "cell_type": "code",
   "metadata": {},
   "outputs": [
    {
     "name": "stdout",
     "output_type": "stream",
     "text": [
      "Ridge:\n",
      "\n",
      "k-Nearest Neighbor:\n",
      "\n",
      "Multiple Linear Regression (not tuned):\n",
     ]
    }
   ],
   "source": [
    "print(\"Ridge:\")\n",
    "ridge_grid = grid_search_params(ridge_params,chosen_estimators[\"Ridge\"])\n",
    "print(\"\\nk-Nearest Neighbor:\")\n",
    "kn_grid = grid_search_params(kn_params,chosen_estimators[\"k-Nearest Neighbor\"])\n",
    "print(\"\\nMultiple Linear Regression (not tuned):\")\n",
    "ml_grid = grid_search_params({},chosen_estimators[\"Multiple Linear Regression\"])"
   ]
  },
  {
   "cell_type": "markdown",
   "metadata": {},
   "source": [
    "**Ridge**: Our tuned alpha ended up being slightly lowered from the original value of 1, meaning that hypertuning our Ridge model is for the goal of avoiding overfitting our model.\n",
    "\n",
    "**k-Nearest Neighbor**: Our n_neighbors value stayed optimal at 5 so there was no change to that in the model. Our improved metric ended up being manhattan instead of minkowski. The original minkowski distance metric follows the distance function sum(|x - y|^p)^(1/p) while the manhattan distance metric follows the distance function sum(|x - y|). The manhattan distance metric being chosen means that our hypertuning of the k-Nearest Neighbor model has simplified the model."
   ]
  },
  {
   "cell_type": "markdown",
   "metadata": {},
   "source": [
    "### 3.6. Model Testing"
   ]
  },
  {
   "cell_type": "markdown",
   "metadata": {},
   "source": [
    "#### Recreating the Models\n",
    "Using the grid search models in section 3.5, we have created a dictionary of our three top performing models."
   ]
  },
  {
   "cell_type": "code",
   "metadata": {},
   "outputs": [],
   "source": [
    "tuned_grid_models = {'Multiple Linear Regression': ml_grid, 'Ridge': ridge_grid, 'k-Nearest Neighbor': kn_grid}"
   ]
  },
  {
   "cell_type": "markdown",
   "metadata": {},
   "source": [
    "#### Testing the Models\n",
    "To create our final results, we are going to take our tuned models, train them using the function in 3.3, and test them using the function in 3.4. "
   ]
  },
  {
   "cell_type": "code",
   "metadata": {},
   "outputs": [],
   "source": [
    "def testing_models(tuned_models):\n",
    "    \n",
    "    for model_name in tuned_models:\n",
    "        \n",
    "        print(model_name + \":\")\n",
    "        print(\"\\tTraining R-squared Score:\",tuned_models[model_name].score(X_train_selected,y_train))\n",
   ]
  },
  {
   "cell_type": "code",
   "metadata": {},
   "outputs": [
    {
     "name": "stdout",
     "output_type": "stream",
     "text": [
      "Multiple Linear Regression:\n",
      "Ridge:\n",
      "k-Nearest Neighbor:\n",
     ]
    }
   ],
   "source": [
    "testing_models(tuned_grid_models)"
   ]
  },
  {
   "cell_type": "markdown",
   "metadata": {},
   "source": [
    "<a id=\"4\"></a>\n",
    "<hr style=\"height:2px; border:none; color:black; background-color:black;\">"
   ]
  },
  {
   "cell_type": "markdown",
   "metadata": {},
   "source": [
    "## 4. DISCUSSION"
   ]
  },
  {
   "cell_type": "markdown",
   "metadata": {},
   "source": [
    "#### Summary of our Work\n",
    "\n",
    "We began by taking time to clean and alter our large dataset in 3.1. Our dataframe was changed by dropping columns that would negatively impact the ability of our machine learning algorithms- most notably many directly correlated columns- and was then cleaned and transformed into numerical values for use.\n",
    "\n",
    "We analyzed both the original dataset and our dataframe for machine learning with 3 visualizations in 3.2.\n",
    "\n",
    "We analyzed feature and target correlations in 3.3 and trained our models.\n",
    "\n",
    "3.4 covered model evaluations and ended with us selecting the top 3 models to continue with in sections 3.5 and 3.6.\n",
    "\n",
    "In 3.5 we tuned the 3 models we had chosen and subsequently tested the tuned models in section 3.6. Performance after hypertuning resulted in almost no change in the Ridge algorithm but had a small but noticeable improvement on the k-Nearest Neighbors algorithm."
   ]
  },
  {
   "cell_type": "markdown",
   "metadata": {},
   "source": [
    "#### Algorithms Compared:\n",
    "We compared Multiple Linear, Ridge, Lasso, k-Nearest Neighbors, and Support Vector Machine regression algorithms\n",
    "\n",
    "#### Best Algorithm Performance:\n",
    "k-Nearest Neighbor Algorithm  \n",
    "R-squared testing value: 0.7334431388170126  \n",
    "Mean Squared Error testing value: 0.003561269659863945  \n",
    "\n",
    "#### Final Performance of the Second Best Algorithms:\n",
    "Multiple Linear Regression Algorithm  \n",
    "R-squared testing value: 0.6838932866203189  \n",
    "Mean Squared Error testing value: 0.004247001419365564  \n",
    "\n",
    "Ridge Algorithm  \n",
    "R-squared testing value: 0.6848901862897812  \n",
    "Mean Squared Error testing value: 0.004250939728763052  \n",
    "\n",
    "#### The Algorithm for our Predictive Model:\n",
    "Although we continued with Multiple Linear, Ridge, and k-Nearest Neighbors models, the algorithm we recommend to be used for our predictive model is the k-Nearest Neighbors algorithm.  \n",
    "\n",
    "Originally, we continued with more than 1 model to account for their closeness in value and the potential for them to change in ranking after hyperparameter tuning. We wanted to continue with more than 1 top model to see how tuning might change their testing results and that along with the incredible closeness of our Multiple Linear Regression and Ridge algorithms led us to the decision to continue with all 3.  \n",
    "\n",
    "In the end, hyperparameter tuning ended up most positively affecting the k-Nearest Neighbor algorithm- already our top algorithm- and therefore ended up cementing k-Nearest Neighbors as the top algorithm. With the most potential for accurate results and the changes it went under during hyperparameter tuning, our algorithm to use for our predictive model is k-Nearest Neighbors.  \n",
    "\n",
    "#### Does the Model Work:\n",
    "We can not use the features in our dataset to predict the outcome variable we identified using the algorithms we've applied. There is not enough security in the algorithm we have fine tuned to actually use our predictive model as intended. Although our model would make a good tool to explore and understand the factors that result in attendance of higher education by MA students, it is not accurate enough to be used as a predictive tool.  \n",
    "\n",
    "#### Hypotheses Results:\n",
    "   - Hypothesis 1: Relation between 'Students Disciplined' and 'High Needs'\n",
    "       - H0: There is no difference between the 'Students Disciplined %' and 'High Needs %' features on the target variable (percent of students attending college or university). \n",
    "       - Ha: There is a statistically significant difference between the 'Students Disciplined %' and 'High Needs %' features on the target variable (percent of students attending college or university). \n",
    "     - Evaluation: Results revealed a statistically significant difference between these two variables, with F(1,23) = 6715.07 and a p value less than 0.0001. We therefore can reject the null hypothesis. \n",
    "   - Hypothesis 2: Relation between 'Students Disciplined' and 'Tests Takers'\n",
    "       - Null: There is no difference between the 'Students Disciplined %' and 'Test Taker %' features on the target variable (percent of students attending college or university). \n",
    "       - Alternative: There is a statistically significant difference between the 'Students Disciplined %' and 'Test Taker %' features on the target variable (percent of students attending college or university).\n",
    "     - Evaluation:Results revealed no statistically significant difference between these two variables, with F(1,23) = 361.28 and a p value less than 0.0001. We therefore can reject the null hypothesis. \n",
    "   - Hypothesis 3: Lasso Regression\n",
    "       - Null: There will be no significant difference between the accuracy predictions of any of the Lasso Model in comparison to the regression models that we use.\n",
    "       - Alternative: Out of all of the regression models that we use, the Lasso regression model will have the highest accuracy.\n",
    "     - Evaluation: The Lasso regression had a surprisingly poor performance value in our model. The R-Squared value on both the testing and training sets were approximately 0, indicating a lower accuracy with the Lasso regression than any other model used. Thus, we can reject the null hypothesis. We must also reject our original alternative hypothesis, as the end result was that the Lasso regression model resulted in the lowest accuracy out of all regression models used. \n"
   ]
  },
  {
   "cell_type": "markdown",
   "metadata": {},
   "source": [
    "#### Conclusion:\n",
    "\n",
    "paragraph\n",
    "\n",
    "#### Future Work:\n",
    "\n",
    "We would love to continue exploring the issue of access to higher education in Massachusetts. One of our ideas is to collect data about the communities school districts are in and compare that with rates of students attending higher education. For example, can you better predict access to higher education based on a community's average income, average property value, or average number of people living in a home? For data exploration purposes, it would be interesting to break down the Attending Coll./Univ. variable even further, looking at what percentage of students went to community colleges, public colleges, and private institutions. "
   ]
  },
  {
   "cell_type": "markdown",
   "metadata": {},
   "source": [
    "<a id=\"5\"></a>\n",
    "<hr style=\"height:2px; border:none; color:black; background-color:black;\">"
   ]
  },
  {
   "cell_type": "markdown",
   "metadata": {},
   "source": [
    "### CONTRIBUTIONS"
   ]
  },
  {
   "cell_type": "markdown",
   "metadata": {},
   "source": [
    "Much of our work was done collaboratively over Zoom, with one person sharing their screen and all of us working through the code together. While each of us played some role in every portion of the report, below is a more detailed breakdown of who spearheaded which sections:\n",
    "\n",
    "Ysabelle wrote much of the written portions of the project, especially in the introduction. She also completed the Data Exploration section, creating visualizations and drawing insights from them. \n",
    "\n",
    "Abby led us through the Data Wrangling and Model Construction portions of the report, taking the initiative to share her screen as we worked through those sections. She also helped draft up much of the written discussion about the performance of our ML models. \n",
    "\n",
    "Reshan completed a large part of the Method section and worked on our hypotheses tests, as well as spent a significant amount of time working with Abby on model construction."
   ]
  }
 ],
 "metadata": {
  "kernelspec": {
   "display_name": "Python 3",
   "language": "python",
   "name": "python3"
  },
  "language_info": {
   "codemirror_mode": {
    "name": "ipython",
    "version": 3
   },
   "file_extension": ".py",
   "mimetype": "text/x-python",
   "name": "python",
   "nbconvert_exporter": "python",
   "pygments_lexer": "ipython3",
   "version": "3.8.3"
  }
 },
 "nbformat": 4,
 "nbformat_minor": 2
}
